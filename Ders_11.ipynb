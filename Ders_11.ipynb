{
  "nbformat": 4,
  "nbformat_minor": 0,
  "metadata": {
    "colab": {
      "provenance": [],
      "authorship_tag": "ABX9TyNzZdouVSRkqT8/8IoPnwKk",
      "include_colab_link": true
    },
    "kernelspec": {
      "name": "python3",
      "display_name": "Python 3"
    },
    "language_info": {
      "name": "python"
    }
  },
  "cells": [
    {
      "cell_type": "markdown",
      "metadata": {
        "id": "view-in-github",
        "colab_type": "text"
      },
      "source": [
        "<a href=\"https://colab.research.google.com/github/elanozturk/python/blob/main/Ders_11.ipynb\" target=\"_parent\"><img src=\"https://colab.research.google.com/assets/colab-badge.svg\" alt=\"Open In Colab\"/></a>"
      ]
    },
    {
      "cell_type": "code",
      "execution_count": null,
      "metadata": {
        "id": "PlKSP3mv26t5"
      },
      "outputs": [],
      "source": [
        "#Ödevi Listeli Yapalım\n",
        "import requests\n",
        "\n",
        "def coinfiyat(a):\n",
        "  r = requests.get(\"https://api.coincap.io/v2/assets\")\n",
        "  veri = r.json()\n",
        "  veri = veri.get(\"data\")\n",
        "\n",
        "  fiyatlar = {} #sözlük oluşturalım\n",
        "\n",
        "  for coin in veri:\n",
        "    sembol = coin[\"symbol\"]\n",
        "    price = float(coin[\"priceUsd\"])\n",
        "    fiyatlar[sembol]=price #sözlüğe elemanları ekleme\n",
        "  return fiyatlar.get(a)\n"
      ]
    },
    {
      "cell_type": "code",
      "source": [
        "coinfiyat(\"BTC\")"
      ],
      "metadata": {
        "colab": {
          "base_uri": "https://localhost:8080/"
        },
        "id": "Wgpm7Y6E3iPV",
        "outputId": "3dfda6bd-23b0-4974-e9e1-9da686e41ea5"
      },
      "execution_count": null,
      "outputs": [
        {
          "output_type": "execute_result",
          "data": {
            "text/plain": [
              "42481.87037680162"
            ]
          },
          "metadata": {},
          "execution_count": 7
        }
      ]
    },
    {
      "cell_type": "code",
      "source": [
        "coinfiyat(\"ETH\")"
      ],
      "metadata": {
        "colab": {
          "base_uri": "https://localhost:8080/"
        },
        "id": "AVfl9Ena7cTA",
        "outputId": "f917d708-425f-4f5a-abdd-2ace648cf99a"
      },
      "execution_count": null,
      "outputs": [
        {
          "output_type": "execute_result",
          "data": {
            "text/plain": [
              "2195.8139768603446"
            ]
          },
          "metadata": {},
          "execution_count": 8
        }
      ]
    },
    {
      "cell_type": "code",
      "source": [
        "#Ödevi Listesiz Yapalım\n",
        "import requests\n",
        "\n",
        "def coinfiyat(a):\n",
        "  r = requests.get(\"https://api.coincap.io/v2/assets\")\n",
        "  veri = r.json()\n",
        "  veri = veri.get(\"data\")\n",
        "\n",
        "  for i in veri:\n",
        "    if a == i [\"symbol\"]:\n",
        "      price = float(i[\"priceUsd\"])\n",
        "  return price"
      ],
      "metadata": {
        "id": "UDxZFV2q86pp"
      },
      "execution_count": null,
      "outputs": []
    },
    {
      "cell_type": "code",
      "source": [
        "coinfiyat(\"ETH\")"
      ],
      "metadata": {
        "colab": {
          "base_uri": "https://localhost:8080/"
        },
        "id": "xUF828cu9qkK",
        "outputId": "7b5cf0a2-f9ee-4f83-cbf7-97b681fca87f"
      },
      "execution_count": null,
      "outputs": [
        {
          "output_type": "execute_result",
          "data": {
            "text/plain": [
              "2193.3797104997675"
            ]
          },
          "metadata": {},
          "execution_count": 12
        }
      ]
    },
    {
      "cell_type": "markdown",
      "source": [
        "#SQL"
      ],
      "metadata": {
        "id": "JsD04Jbt-R22"
      }
    },
    {
      "cell_type": "code",
      "source": [
        "import sqlite3\n",
        "\n",
        "conn = sqlite3.connect(\"mahmut.sqlite\")  #bu isimde bi db yoksa oluşturup bağlanır, varsa bağlanır.\n",
        "\n",
        "c = conn.cursor()\n",
        "\n"
      ],
      "metadata": {
        "id": "JPxg_gvPAjbG"
      },
      "execution_count": null,
      "outputs": []
    },
    {
      "cell_type": "code",
      "source": [
        "c.execute(\"\"\"CREATE TABLE IF NOT EXISTS cihazlar(\n",
        "  isim TEXT,\n",
        "  personel TEXT,\n",
        "  marka TEXT,\n",
        "  model TEXT,\n",
        "  ssd INTEGER,\n",
        "  ram INTEGER,\n",
        "  fiyat REAL\n",
        ")\"\"\")"
      ],
      "metadata": {
        "colab": {
          "base_uri": "https://localhost:8080/"
        },
        "id": "R-Few9fuIrDr",
        "outputId": "79751b5d-165b-4af7-87c5-1fdd410e695e"
      },
      "execution_count": 19,
      "outputs": [
        {
          "output_type": "execute_result",
          "data": {
            "text/plain": [
              "<sqlite3.Cursor at 0x7f318c6227c0>"
            ]
          },
          "metadata": {},
          "execution_count": 19
        }
      ]
    },
    {
      "cell_type": "code",
      "source": [
        "conn.commit() # yapılan değişiklerin db'de etkili olması için çalıştıracağımız kod."
      ],
      "metadata": {
        "id": "JUTjBnbcLY9z"
      },
      "execution_count": 18,
      "outputs": []
    },
    {
      "cell_type": "code",
      "source": [],
      "metadata": {
        "id": "0VggPiTzLlP4"
      },
      "execution_count": null,
      "outputs": []
    },
    {
      "cell_type": "markdown",
      "source": [
        "CRUD İŞLEMLER\n",
        "create read update delete\n",
        "\n",
        "#INSERT\n",
        "#UPDATE\n",
        "#SELECT\n",
        "#DELETE\n"
      ],
      "metadata": {
        "id": "bz2LBH0kMLCA"
      }
    },
    {
      "cell_type": "code",
      "source": [
        "import sqlite3\n",
        "\n",
        "conn = sqlite3.connect(\"my_db.sqlite\")  #bu isimde bi db yoksa oluşturup bağlanır, varsa bağlanır.\n",
        "\n",
        "c = conn.cursor()\n",
        "\n",
        "c.execute(\"\"\"CREATE TABLE IF NOT EXISTS cihazlar(\n",
        "  isim TEXT,\n",
        "  personel TEXT,\n",
        "  marka TEXT,\n",
        "  model TEXT,\n",
        "  ssd INTEGER,\n",
        "  ram INTEGER,\n",
        "  fiyat REAL\n",
        ")\"\"\")\n",
        "\n",
        "c.execute(\"\"\"INSERT INTO cihazlar VALUES(\n",
        "    'Tarkan Tevetoğlu',\n",
        "    'Furkan Kazan',\n",
        "    'Apple',\n",
        "    'iPhone 15 Pro Max',\n",
        "    256,\n",
        "    16,\n",
        "    99000\n",
        "    )\"\"\")\n",
        "\n",
        "c.execute(\"\"\"INSERT INTO cihazlar VALUES(\n",
        "    'Mahmut Tuncer',\n",
        "    'Furkan Kazan',\n",
        "    'Apple',\n",
        "    'iPhone 13 Pro ',\n",
        "    512,\n",
        "    16,\n",
        "    20000\n",
        "    )\"\"\")\n",
        "\n",
        "conn.commit()"
      ],
      "metadata": {
        "id": "i5EF7vAkOm4A"
      },
      "execution_count": 22,
      "outputs": []
    },
    {
      "cell_type": "code",
      "source": [
        "c.execute(\"SELECT * FROM cihazlar\")\n",
        "sonuc = c.fetchall()\n",
        "sonuc"
      ],
      "metadata": {
        "colab": {
          "base_uri": "https://localhost:8080/"
        },
        "id": "CeGXpHEJU6BU",
        "outputId": "2997f226-4dd8-4311-8152-a03d7e8452c6"
      },
      "execution_count": 26,
      "outputs": [
        {
          "output_type": "execute_result",
          "data": {
            "text/plain": [
              "[('Tarkan Tevetoğlu',\n",
              "  'Furkan Kazan',\n",
              "  'Apple',\n",
              "  'iPhone 15 Pro Max',\n",
              "  256,\n",
              "  16,\n",
              "  99000.0),\n",
              " ('Tarkan Tevetoğlu',\n",
              "  'Furkan Kazan',\n",
              "  'Apple',\n",
              "  'iPhone 15 Pro Max',\n",
              "  256,\n",
              "  16,\n",
              "  99000.0),\n",
              " ('Mahmut Tuncer',\n",
              "  'Furkan Kazan',\n",
              "  'Apple',\n",
              "  'iPhone 13 Pro ',\n",
              "  512,\n",
              "  16,\n",
              "  20000.0),\n",
              " ('Ajdar', 'Gökhan', 'Samsung', 'S24', 256, 16, 12000.0)]"
            ]
          },
          "metadata": {},
          "execution_count": 26
        }
      ]
    },
    {
      "cell_type": "code",
      "source": [
        "def cihazekle(isim,personel,marka,model,ssd,ram,fiyat):\n",
        "  conn = conn = sqlite3.connect(\"my_db.sqlite\")\n",
        "  c = conn.cursor()\n",
        "  c.execute(\"INSERT INTO cihazlar VALUES(?,?,?,?,?,?,?)\",\n",
        "            (isim,personel,marka,model,ssd,ram,fiyat))\n",
        "  conn.commit()"
      ],
      "metadata": {
        "id": "5IyG_2u2Vo5L"
      },
      "execution_count": 24,
      "outputs": []
    },
    {
      "cell_type": "code",
      "source": [
        "cihazekle('Ajdar','Gökhan','Samsung','S24',256,16,12000)"
      ],
      "metadata": {
        "id": "XnKwPFUoWV1i"
      },
      "execution_count": 25,
      "outputs": []
    },
    {
      "cell_type": "code",
      "source": [
        "c.execute(\"SELECT * FROM cihazlar\")\n",
        "sonuc = c.fetchall()\n",
        "sonuc"
      ],
      "metadata": {
        "colab": {
          "base_uri": "https://localhost:8080/"
        },
        "id": "o9255K9KWruP",
        "outputId": "b034cde0-2e48-4a92-d726-20f4be464c68"
      },
      "execution_count": 27,
      "outputs": [
        {
          "output_type": "execute_result",
          "data": {
            "text/plain": [
              "[('Tarkan Tevetoğlu',\n",
              "  'Furkan Kazan',\n",
              "  'Apple',\n",
              "  'iPhone 15 Pro Max',\n",
              "  256,\n",
              "  16,\n",
              "  99000.0),\n",
              " ('Tarkan Tevetoğlu',\n",
              "  'Furkan Kazan',\n",
              "  'Apple',\n",
              "  'iPhone 15 Pro Max',\n",
              "  256,\n",
              "  16,\n",
              "  99000.0),\n",
              " ('Mahmut Tuncer',\n",
              "  'Furkan Kazan',\n",
              "  'Apple',\n",
              "  'iPhone 13 Pro ',\n",
              "  512,\n",
              "  16,\n",
              "  20000.0),\n",
              " ('Ajdar', 'Gökhan', 'Samsung', 'S24', 256, 16, 12000.0)]"
            ]
          },
          "metadata": {},
          "execution_count": 27
        }
      ]
    },
    {
      "cell_type": "code",
      "source": [
        "def verigetir(tabloisim):\n",
        "  conn = sqlite3.connect(\"my_db.sqlite\")\n",
        "  c = conn.cursor()\n",
        "  komut = \"SELECT * FROM \"+tabloisim\n",
        "  c.execute(komut)\n",
        "  return c.fetchall()\n",
        "\n"
      ],
      "metadata": {
        "id": "VvdESBpqW6zf"
      },
      "execution_count": 34,
      "outputs": []
    },
    {
      "cell_type": "code",
      "source": [
        "verigetir(\"cihazlar\")"
      ],
      "metadata": {
        "colab": {
          "base_uri": "https://localhost:8080/"
        },
        "id": "QzKj-_MLXwDY",
        "outputId": "bd2451ef-79f1-4ef8-dfc6-7e1949d35d24"
      },
      "execution_count": 35,
      "outputs": [
        {
          "output_type": "execute_result",
          "data": {
            "text/plain": [
              "[('Tarkan Tevetoğlu',\n",
              "  'Furkan Kazan',\n",
              "  'Apple',\n",
              "  'iPhone 15 Pro Max',\n",
              "  256,\n",
              "  16,\n",
              "  99000.0),\n",
              " ('Tarkan Tevetoğlu',\n",
              "  'Furkan Kazan',\n",
              "  'Apple',\n",
              "  'iPhone 15 Pro Max',\n",
              "  256,\n",
              "  16,\n",
              "  99000.0),\n",
              " ('Mahmut Tuncer',\n",
              "  'Furkan Kazan',\n",
              "  'Apple',\n",
              "  'iPhone 13 Pro ',\n",
              "  512,\n",
              "  16,\n",
              "  20000.0),\n",
              " ('Ajdar', 'Gökhan', 'Samsung', 'S24', 256, 16, 12000.0)]"
            ]
          },
          "metadata": {},
          "execution_count": 35
        }
      ]
    }
  ]
}