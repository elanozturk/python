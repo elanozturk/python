{
  "nbformat": 4,
  "nbformat_minor": 0,
  "metadata": {
    "colab": {
      "provenance": [],
      "include_colab_link": true
    },
    "kernelspec": {
      "name": "python3",
      "display_name": "Python 3"
    },
    "language_info": {
      "name": "python"
    }
  },
  "cells": [
    {
      "cell_type": "markdown",
      "metadata": {
        "id": "view-in-github",
        "colab_type": "text"
      },
      "source": [
        "<a href=\"https://colab.research.google.com/github/elanozturk/python/blob/main/Python_5_Hafta.ipynb\" target=\"_parent\"><img src=\"https://colab.research.google.com/assets/colab-badge.svg\" alt=\"Open In Colab\"/></a>"
      ]
    },
    {
      "cell_type": "code",
      "source": [
        "# Google GEMİNİ yapay zeka https://www.youtube.com/watch?v=0eTgWq_mFeY"
      ],
      "metadata": {
        "id": "OFg7A_Y42Auz"
      },
      "execution_count": null,
      "outputs": []
    },
    {
      "cell_type": "code",
      "execution_count": null,
      "metadata": {
        "id": "H215iIcbynO3"
      },
      "outputs": [],
      "source": [
        "#https://api.coincap.io/v2/assets      Kriptolar\n",
        "#https://www.tcmb.gov.tr/kurlar/today.xml   Dövizler\n",
        "\n",
        "#Streamlitte yaptığımız örnekte sadece dövizler arası değişim oluyordu\n",
        "#Sizden hem döviz hem de kripto paralar arasında dönüşüm yapan\n",
        "#kodu yazmanızı istiyoruz\n"
      ]
    },
    {
      "cell_type": "code",
      "source": [
        "from urllib.request import urlopen\n",
        "import xml.etree.ElementTree as et\n",
        "\n",
        "url = \"https://www.tcmb.gov.tr/kurlar/today.xml\"\n",
        "\n",
        "data =et.ElementTree(file=urlopen(url))\n",
        "\n",
        "root = data.getroot()\n",
        "\n",
        "kurlar= {}\n",
        "\n",
        "for kur in root:\n",
        "  isim=kur[1].text\n",
        "  fiyat=float(kur[3].text)\n",
        "  kurlar[isim]=fiyat"
      ],
      "metadata": {
        "id": "ufPLJ62gBsiT"
      },
      "execution_count": null,
      "outputs": []
    },
    {
      "cell_type": "code",
      "source": [
        "kurlar"
      ],
      "metadata": {
        "colab": {
          "base_uri": "https://localhost:8080/"
        },
        "id": "_Gs7H21hByST",
        "outputId": "c0b968c6-2138-402a-e633-35273d9f9256"
      },
      "execution_count": null,
      "outputs": [
        {
          "output_type": "execute_result",
          "data": {
            "text/plain": [
              "{'ABD DOLARI': 28.9773,\n",
              " 'AVUSTRALYA DOLARI': 19.0531,\n",
              " 'DANİMARKA KRONU': 4.1864,\n",
              " 'EURO': 31.2629,\n",
              " 'İNGİLİZ STERLİNİ': 36.3546,\n",
              " 'İSVİÇRE FRANGI': 32.9848,\n",
              " 'İSVEÇ KRONU': 2.7598,\n",
              " 'KANADA DOLARI': 21.337,\n",
              " 'KUVEYT DİNARI': 93.4495,\n",
              " 'NORVEÇ KRONU': 2.6496,\n",
              " 'SUUDİ ARABİSTAN RİYALİ': 7.7256,\n",
              " 'JAPON YENİ': 19.8845,\n",
              " 'BULGAR LEVASI': 15.8947,\n",
              " 'RUMEN LEYİ': 6.2521,\n",
              " 'RUS RUBLESİ': 0.31924,\n",
              " 'İRAN RİYALİ': 0.06861,\n",
              " 'ÇİN YUANI': 4.0165,\n",
              " 'PAKİSTAN RUPİSİ': 0.10159,\n",
              " 'KATAR RİYALİ': 7.9032,\n",
              " 'GÜNEY KORE WONU': 0.02197,\n",
              " 'AZERBAYCAN YENİ MANATI': 16.9499,\n",
              " 'BİRLEŞİK ARAP EMİRLİKLERİ DİRHEMİ': 7.8464,\n",
              " 'ÖZEL ÇEKME HAKKI (SDR)                            ': 38.5396}"
            ]
          },
          "metadata": {},
          "execution_count": 24
        }
      ]
    },
    {
      "cell_type": "code",
      "source": [
        "dolar_kuru = kurlar[\"ABD DOLARI\"]\n",
        "dolar_kuru"
      ],
      "metadata": {
        "colab": {
          "base_uri": "https://localhost:8080/"
        },
        "id": "0EBZ-STfB6sK",
        "outputId": "e0eac32d-365d-4481-d564-7499864d5ebd"
      },
      "execution_count": null,
      "outputs": [
        {
          "output_type": "execute_result",
          "data": {
            "text/plain": [
              "28.9773"
            ]
          },
          "metadata": {},
          "execution_count": 25
        }
      ]
    },
    {
      "cell_type": "code",
      "source": [
        "import requests\n",
        "\n",
        "response = requests.get(\"https://api.coincap.io/v2/assets\")\n",
        "\n",
        "veri = response.json()\n",
        "veri.get(\"data\")\n",
        "\n",
        "for y in veri[\"data\"]:\n",
        "  isim=y.get(\"name\")\n",
        "  fiyat=float(y.get(\"priceUsd\"))*dolar_kuru\n",
        "  kurlar[isim]=fiyat"
      ],
      "metadata": {
        "id": "w9dezxCJ3bYf"
      },
      "execution_count": null,
      "outputs": []
    },
    {
      "cell_type": "code",
      "source": [
        "kurlar"
      ],
      "metadata": {
        "colab": {
          "base_uri": "https://localhost:8080/"
        },
        "id": "zLeL5kOV7nHX",
        "outputId": "bd5515b2-c081-4cd3-8958-d4edd2198e94"
      },
      "execution_count": null,
      "outputs": [
        {
          "output_type": "execute_result",
          "data": {
            "text/plain": [
              "{'ABD DOLARI': 28.9773,\n",
              " 'AVUSTRALYA DOLARI': 19.0531,\n",
              " 'DANİMARKA KRONU': 4.1864,\n",
              " 'EURO': 31.2629,\n",
              " 'İNGİLİZ STERLİNİ': 36.3546,\n",
              " 'İSVİÇRE FRANGI': 32.9848,\n",
              " 'İSVEÇ KRONU': 2.7598,\n",
              " 'KANADA DOLARI': 21.337,\n",
              " 'KUVEYT DİNARI': 93.4495,\n",
              " 'NORVEÇ KRONU': 2.6496,\n",
              " 'SUUDİ ARABİSTAN RİYALİ': 7.7256,\n",
              " 'JAPON YENİ': 19.8845,\n",
              " 'BULGAR LEVASI': 15.8947,\n",
              " 'RUMEN LEYİ': 6.2521,\n",
              " 'RUS RUBLESİ': 0.31924,\n",
              " 'İRAN RİYALİ': 0.06861,\n",
              " 'ÇİN YUANI': 4.0165,\n",
              " 'PAKİSTAN RUPİSİ': 0.10159,\n",
              " 'KATAR RİYALİ': 7.9032,\n",
              " 'GÜNEY KORE WONU': 0.02197,\n",
              " 'AZERBAYCAN YENİ MANATI': 16.9499,\n",
              " 'BİRLEŞİK ARAP EMİRLİKLERİ DİRHEMİ': 7.8464,\n",
              " 'ÖZEL ÇEKME HAKKI (SDR)                            ': 38.5396,\n",
              " 'Bitcoin': 1193461.0842000195,\n",
              " 'Ethereum': 63290.61157959688,\n",
              " 'Tether': 28.974836766963385,\n",
              " 'BNB': 7308.6360620472215,\n",
              " 'Solana': 1948.4642737749532,\n",
              " 'XRP': 17.730374617278883,\n",
              " 'USDC': 28.984199521177306,\n",
              " 'Cardano': 16.482357025517228,\n",
              " 'Avalanche': 1083.6255377008117,\n",
              " 'Dogecoin': 2.680062718114008,\n",
              " 'TRON': 2.992650741642721,\n",
              " 'Polkadot': 201.65533799024772,\n",
              " 'Polygon': 24.96800912387255,\n",
              " 'Chainlink': 416.08170116537076,\n",
              " 'Wrapped Bitcoin': 1191476.9934207173,\n",
              " 'Shiba Inu': 0.00027315718593216967,\n",
              " 'Multi Collateral DAI': 28.934521281747177,\n",
              " 'Litecoin': 2086.7578230370245,\n",
              " 'Bitcoin Cash': 6654.19992342132,\n",
              " 'Uniswap': 180.19865052906061,\n",
              " 'OKB': 1684.268954246154,\n",
              " 'UNUS SED LEO': 108.34522257070387,\n",
              " 'Stellar': 3.526029929264335,\n",
              " 'Monero': 4924.759562959602,\n",
              " 'Ethereum Classic': 580.1106777960641,\n",
              " 'Cosmos': 337.29803759782817,\n",
              " 'TrueUSD': 28.933150491348094,\n",
              " 'Crypto.com Coin': 2.9174320436691352,\n",
              " 'Internet Computer': 156.12259660332663,\n",
              " 'NEAR Protocol': 66.11089337844007,\n",
              " 'Bitcoin BEP2': 1190135.9685430476,\n",
              " 'Filecoin': 132.20300960404978,\n",
              " 'VeChain': 0.8355717101426144,\n",
              " 'Lido DAO': 64.43550787594394,\n",
              " 'THORChain': 164.89927351118885,\n",
              " 'Injective': 736.616319328126,\n",
              " 'FTX Token': 139.69653648513815,\n",
              " 'Algorand': 5.727467429905159,\n",
              " 'MultiversX': 1793.2463974326247,\n",
              " 'Render Token': 115.66089106171393,\n",
              " 'BUSD': 29.06164302269201,\n",
              " 'The Graph': 4.523826756585525,\n",
              " 'Aave': 2647.688116946638,\n",
              " 'Stacks': 27.015718186432537,\n",
              " 'Quant': 3192.6690103383635,\n",
              " 'WEMIX': 110.53352054822383,\n",
              " 'KuCoin Token': 373.52118478088875,\n",
              " 'Maker': 39058.66577037182,\n",
              " 'Flow': 22.22101088125913,\n",
              " 'Fantom': 11.070104112214006,\n",
              " 'Hedera Hashgraph': 2.0889860166456202,\n",
              " 'The Sandbox': 14.474209798954382,\n",
              " 'THETA': 30.25332176527651,\n",
              " 'Synthetix': 122.12239409658793,\n",
              " 'Bitcoin SV': 1394.6005534045169,\n",
              " 'Axie Infinity': 205.21533996595775,\n",
              " 'Decentraland': 14.035028448721333,\n",
              " 'EOS': 22.313237944050112,\n",
              " 'Tezos': 25.27685302384724,\n",
              " 'Neo': 342.3796211946431,\n",
              " 'Klaytn': 7.147070410533552,\n",
              " 'Kava': 22.892963950420807,\n",
              " 'Gala': 0.874325876206737,\n",
              " 'IOTA': 7.57413359474014,\n",
              " 'Mina': 22.550244157521714,\n",
              " 'Helium': 143.9845530947054,\n",
              " 'eCash': 0.0009669597752188184,\n",
              " 'PancakeSwap': 72.247798671213,\n",
              " 'Frax Share': 249.3006976345093,\n",
              " 'Chiliz': 2.388456035304226,\n",
              " 'Conflux': 4.995351535631863,\n",
              " 'XinFin Network': 1.4153240275425114,\n",
              " 'Curve DAO Token': 18.256597324393578,\n",
              " 'Gnosis': 6547.2186102738515,\n",
              " 'Rocket Pool': 823.1263761279108,\n",
              " 'aelf': 21.915557825467996,\n",
              " 'Oasis Network': 2.3180725163559632,\n",
              " 'Arweave': 234.57420646479818,\n",
              " 'dYdX': 82.45241710549635,\n",
              " 'Zcash': 879.4016422036467,\n",
              " 'Casper': 1.231737223251766,\n",
              " 'Trust Wallet Token': 33.57100698951134,\n",
              " 'WOO Network': 7.815692209138037,\n",
              " 'GateToken': 136.2996928930269,\n",
              " 'Gas': 203.71711854214584,\n",
              " 'Nexo': 23.48843978623174,\n",
              " 'Fetch.ai': 15.738440775320656,\n",
              " 'Huobi Token': 78.48640559836218,\n",
              " 'Pax Dollar': 29.0009021159189,\n",
              " 'Siacoin': 0.21459864946116583,\n",
              " '1inch Network': 10.587763514019917,\n",
              " 'Zilliqa': 0.6792585263360319,\n",
              " 'Compound': 1460.7200403556205,\n",
              " 'Fei Protocol': 27.06313598780606,\n",
              " 'Akash Network': 50.536223555858726,\n",
              " 'Dash': 949.0177006205986,\n",
              " 'SingularityNET': 8.719590583446614,\n",
              " 'Holo': 0.06116567614187004,\n",
              " 'Illuvium': 2776.517984085808,\n",
              " 'Basic Attention Token': 6.745695033966595}"
            ]
          },
          "metadata": {},
          "execution_count": 27
        }
      ]
    },
    {
      "cell_type": "code",
      "source": [
        "\"\"\"\n",
        "import streamlit as st\n",
        "\n",
        "from urllib.request import urlopen\n",
        "import xml.etree.ElementTree as et\n",
        "import requests\n",
        "\n",
        "url = \"https://www.tcmb.gov.tr/kurlar/today.xml\"\n",
        "\n",
        "data = et.ElementTree(file=urlopen(url))\n",
        "\n",
        "root = data.getroot()\n",
        "\n",
        "kurlar ={}\n",
        "\n",
        "for i in root:\n",
        "  isim=i[1].text\n",
        "  fiyat=float(i[3].text)\n",
        "  kurlar[isim]=fiyat\n",
        "\n",
        "kurlar['TÜRK LİRASI']= 1\n",
        "dolar_kuru = kurlar[\"ABD DOLARI\"]\n",
        "\n",
        "response = requests.get(\"https://api.coincap.io/v2/assets\")\n",
        "\n",
        "veri = response.json()\n",
        "veri.get(\"data\")\n",
        "\n",
        "for y in veri[\"data\"]:\n",
        "  isim=y.get(\"name\")\n",
        "  fiyat=float(y.get(\"priceUsd\"))*dolar_kuru\n",
        "  kurlar[isim]=fiyat\n",
        "\n",
        "\n",
        "\n",
        "\n",
        "kur1= st.sidebar.selectbox(\"Mevcut Para Cinsi\", kurlar.keys())\n",
        "kur2= st.sidebar.selectbox(\"İstenen Para Cinsi\", kurlar.keys())\n",
        "tutar= st.sidebar.number_input(\"miktar\")\n",
        "\n",
        "btn =st.sidebar.button(\"Hesapla\")\n",
        "\n",
        "if btn:\n",
        "  sonuc = kurlar.get(kur1)/kurlar.get(kur2)*tutar\n",
        "\n",
        "  st.title(sonuc)\n",
        "\"\"\""
      ],
      "metadata": {
        "id": "r2gJDRV4Ej1w"
      },
      "execution_count": null,
      "outputs": []
    },
    {
      "cell_type": "code",
      "source": [
        "# WHİLE DÖNGÜSÜ\n",
        "\n",
        "sayilar = [2,3,4]\n",
        "\n",
        "for i in sayilar:\n",
        "  print(i**2)\n",
        "  print(i*3)"
      ],
      "metadata": {
        "id": "kcvX1oskGCuq"
      },
      "execution_count": null,
      "outputs": []
    },
    {
      "cell_type": "code",
      "source": [
        "sayi = 5\n",
        "\n",
        "while sayi<10:\n",
        "  print(\"Altar'ın oğlu dünyayı kurtaran adam\")\n",
        "  sayi = sayi+1\n",
        "  if sayi==7:\n",
        "    break"
      ],
      "metadata": {
        "colab": {
          "base_uri": "https://localhost:8080/"
        },
        "id": "F3wGtYKSHHkA",
        "outputId": "255e5741-94f7-4d88-8f14-c2d206d44b62"
      },
      "execution_count": null,
      "outputs": [
        {
          "output_type": "stream",
          "name": "stdout",
          "text": [
            "Altar'ın oğlu dünyayı kurtaran adam\n",
            "Altar'ın oğlu dünyayı kurtaran adam\n"
          ]
        }
      ]
    },
    {
      "cell_type": "code",
      "source": [
        "parola = input(\"Parola Giriniz\")\n",
        "\n",
        "while parola != \"1453\":\n",
        "  print(\"Parola Hatalı\")\n",
        "  parola = input(\"Parola Giriniz\")\n",
        "\n",
        "print(\"Hoşgeldiniz\")\n"
      ],
      "metadata": {
        "id": "5ni2BpYhIEZg"
      },
      "execution_count": null,
      "outputs": []
    },
    {
      "cell_type": "code",
      "source": [
        "# 3 kere şifre hatalı girilise Şifre bloke edildi desin\n",
        "parola = input(\"Parola Giriniz\")\n",
        "deneme = 0\n",
        "while parola != \"1453\":\n",
        "  print(\"Parola Hatalı\")\n",
        "  deneme=deneme+1\n",
        "  if deneme==3:\n",
        "    print(\"Şifreniz bloke edildi\")\n",
        "    break\n",
        "  parola = input(\"Parola Giriniz\")\n",
        "if deneme<3:\n",
        "  print(\"Hoşgeldiniz\")"
      ],
      "metadata": {
        "colab": {
          "base_uri": "https://localhost:8080/"
        },
        "id": "4VpUgT93M1Ol",
        "outputId": "f20d99f1-27ee-433d-9486-436bae0e1739"
      },
      "execution_count": null,
      "outputs": [
        {
          "output_type": "stream",
          "name": "stdout",
          "text": [
            "Parola Giriniz4515\n",
            "Parola Hatalı\n",
            "Parola Giriniz51541\n",
            "Parola Hatalı\n",
            "Parola Giriniz1545\n",
            "Parola Hatalı\n",
            "Şifreniz bloke edildi\n"
          ]
        }
      ]
    },
    {
      "cell_type": "code",
      "source": [
        "# 3 kere hatalı giriş yapılırsa PUK girmemizi istesin\n",
        "#PUK da 3 kere hatalı girilirse Banlandınız desin\n",
        "parola = input(\"Parola Giriniz\")\n",
        "deneme = 0\n",
        "pukdeneme = 0\n",
        "while parola != \"1453\":\n",
        "  print(\"Parola Hatalı\")\n",
        "  deneme=deneme+1\n",
        "  if deneme==3:\n",
        "    print(\"Şifreniz bloke edildi\")\n",
        "    puk = input(\"PUK giriniz\")\n",
        "    while puk != \"1903\":\n",
        "      print(\"PUK hatalı\")\n",
        "      puk = input(\"PUK giriniz\")\n",
        "      pukdeneme=pukdeneme+1\n",
        "      if pukdeneme==2:\n",
        "        print(\"Banladınız\")\n",
        "        break\n",
        "    if pukdeneme<2:\n",
        "      print(\"Hoşgeldiniz\")\n",
        "    break\n",
        "  parola = input(\"Parola Giriniz\")\n",
        "if deneme<3:\n",
        "  print(\"Hoşgeldiniz\")"
      ],
      "metadata": {
        "colab": {
          "base_uri": "https://localhost:8080/"
        },
        "id": "Xhf4GDkaPbJR",
        "outputId": "5df0e514-cc2c-48f5-dd28-627f71a9b721"
      },
      "execution_count": null,
      "outputs": [
        {
          "output_type": "stream",
          "name": "stdout",
          "text": [
            "Parola Giriniz14\n",
            "Parola Hatalı\n",
            "Parola Giriniz14\n",
            "Parola Hatalı\n",
            "Parola Giriniz4\n",
            "Parola Hatalı\n",
            "Şifreniz bloke edildi\n",
            "PUK giriniz14\n",
            "PUK hatalı\n",
            "PUK giriniz14\n",
            "PUK hatalı\n",
            "PUK giriniz14\n",
            "Banladınız\n"
          ]
        }
      ]
    },
    {
      "cell_type": "code",
      "source": [
        "#ÖDEV\n",
        "\n",
        "sözlük = {\n",
        "    \"software\" : \"yazılım\",\n",
        "    \"hardware\" : \"donanım\",\n",
        "    \"input\":\"girdi\",\n",
        "    \"output\":\"çıktı\",\n",
        "    \"average\":\"ortalama\",\n",
        "    \"sum\":\"toplam\"\n",
        "}\n",
        "\n",
        "#Size rastgele bir kelime soracak\n",
        "#Cevabı doğru bilirseniz, bir daha sormayacak\n",
        "#Cevabı yanlışsa, doğrusunu söylecek\n",
        "#o kelimeyi arada tekrar soracak\n",
        "#tüm kelimeler doğru bilinince tebrikler ödev tamamlandı"
      ],
      "metadata": {
        "id": "0_-0tio9Tt8w"
      },
      "execution_count": null,
      "outputs": []
    },
    {
      "cell_type": "code",
      "source": [
        "# BONUS ÖDEV\n",
        "# 3 doğru, 2 yanlış"
      ],
      "metadata": {
        "id": "FpMTA3mfUrb3"
      },
      "execution_count": null,
      "outputs": []
    }
  ]
}