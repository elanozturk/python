{
  "nbformat": 4,
  "nbformat_minor": 0,
  "metadata": {
    "colab": {
      "provenance": [],
      "authorship_tag": "ABX9TyNQbkXkQd8rMlVHd8BTE9BI",
      "include_colab_link": true
    },
    "kernelspec": {
      "name": "python3",
      "display_name": "Python 3"
    },
    "language_info": {
      "name": "python"
    }
  },
  "cells": [
    {
      "cell_type": "markdown",
      "metadata": {
        "id": "view-in-github",
        "colab_type": "text"
      },
      "source": [
        "<a href=\"https://colab.research.google.com/github/elanozturk/python/blob/main/Ders_12.ipynb\" target=\"_parent\"><img src=\"https://colab.research.google.com/assets/colab-badge.svg\" alt=\"Open In Colab\"/></a>"
      ]
    },
    {
      "cell_type": "code",
      "execution_count": 1,
      "metadata": {
        "id": "qafUXnOEJ53p"
      },
      "outputs": [],
      "source": [
        "import sqlite3\n",
        "\n",
        "conn = sqlite3.connect(\"elan.sqlite\")\n",
        "c = conn.cursor()\n",
        "c.execute(\"CREATE TABLE IF NOT EXISTS ozdeyisler(isim TEXT, soz TEXT, yil INTEGER)\")\n",
        "\n",
        "conn.commit()\n"
      ]
    },
    {
      "cell_type": "code",
      "source": [
        "c.execute(\"INSERT INTO ozdeyisler VALUES('Tarkan', 'İşte kuzu kuzu geldim', 2001)\")\n",
        "conn.commit()"
      ],
      "metadata": {
        "id": "iTFOij3bNXqD"
      },
      "execution_count": 25,
      "outputs": []
    },
    {
      "cell_type": "code",
      "source": [
        "c.execute(\"SELECT * FROM ozdeyisler\")\n",
        "c.fetchall()"
      ],
      "metadata": {
        "colab": {
          "base_uri": "https://localhost:8080/"
        },
        "id": "rmvsKWIEN5xO",
        "outputId": "6b324128-ed26-4474-c111-1428d008b816"
      },
      "execution_count": 6,
      "outputs": [
        {
          "output_type": "execute_result",
          "data": {
            "text/plain": [
              "[('Tarkan', 'İşte kuzu kuzu geldim', 2001),\n",
              " ('Tarkan', 'İşte kuzu kuzu geldim', 2001),\n",
              " ('Serdar Ortaç', 'Sen çöpe atacağım poşete yazık', 2001)]"
            ]
          },
          "metadata": {},
          "execution_count": 6
        }
      ]
    },
    {
      "cell_type": "code",
      "source": [
        "c.execute(\"INSERT INTO ozdeyisler VALUES('Serdar Ortaç', 'Sen çöpe atacağım poşete yazık', 2001)\")\n",
        "conn.commit()"
      ],
      "metadata": {
        "id": "FfIyGkAeOT3q"
      },
      "execution_count": 5,
      "outputs": []
    },
    {
      "cell_type": "code",
      "source": [
        "c.execute(\"SELECT * FROM ozdeyisler\")\n",
        "c.fetchall()"
      ],
      "metadata": {
        "colab": {
          "base_uri": "https://localhost:8080/"
        },
        "id": "q3l1ETxQOug4",
        "outputId": "7642d90c-ce9e-496c-fcfe-21a06d75f109"
      },
      "execution_count": 7,
      "outputs": [
        {
          "output_type": "execute_result",
          "data": {
            "text/plain": [
              "[('Tarkan', 'İşte kuzu kuzu geldim', 2001),\n",
              " ('Tarkan', 'İşte kuzu kuzu geldim', 2001),\n",
              " ('Serdar Ortaç', 'Sen çöpe atacağım poşete yazık', 2001)]"
            ]
          },
          "metadata": {},
          "execution_count": 7
        }
      ]
    },
    {
      "cell_type": "code",
      "source": [
        "c.execute(\"INSERT INTO ozdeyisler VALUES(?,?,?)\",('Yaşar', 'Sensiz olmuyor, yerine konmuyor', 2001))\n",
        "conn.commit() # güvenli yöntem"
      ],
      "metadata": {
        "id": "-Wy8AuF0Ov-p"
      },
      "execution_count": 9,
      "outputs": []
    },
    {
      "cell_type": "code",
      "source": [
        "c.execute(\"SELECT * FROM ozdeyisler\")\n",
        "c.fetchall()"
      ],
      "metadata": {
        "colab": {
          "base_uri": "https://localhost:8080/"
        },
        "id": "iiq3ae-_PeIQ",
        "outputId": "9e892f10-5de2-4989-a59f-ba11694ede62"
      },
      "execution_count": 23,
      "outputs": [
        {
          "output_type": "execute_result",
          "data": {
            "text/plain": [
              "[('Serdar Ortaç', 'Sen çöpe atacağım poşete yazık', 2001),\n",
              " ('Yaşar', 'Sensiz olmuyor, yerine konmuyor', 2001),\n",
              " ('Cemal Süreya', 'Adımın bir harfini atıyorum', 1955)]"
            ]
          },
          "metadata": {},
          "execution_count": 23
        }
      ]
    },
    {
      "cell_type": "code",
      "source": [
        "c.execute(\"INSERT INTO ozdeyisler VALUES(?,?,?)\",('Cemal Süreya', 'Adımın bir harfini atıyorum', 1955))\n",
        "conn.commit() # güvenli yöntem"
      ],
      "metadata": {
        "id": "I3pD2emIPrnd"
      },
      "execution_count": 11,
      "outputs": []
    },
    {
      "cell_type": "code",
      "source": [
        "c.execute(\"SELECT * FROM ozdeyisler\")\n",
        "c.fetchmany(3)"
      ],
      "metadata": {
        "colab": {
          "base_uri": "https://localhost:8080/"
        },
        "id": "RZE15_-tP7N_",
        "outputId": "2884d481-d1c6-4469-c890-81b85a360b46"
      },
      "execution_count": 14,
      "outputs": [
        {
          "output_type": "execute_result",
          "data": {
            "text/plain": [
              "[('Tarkan', 'İşte kuzu kuzu geldim', 2001),\n",
              " ('Tarkan', 'İşte kuzu kuzu geldim', 2001),\n",
              " ('Serdar Ortaç', 'Sen çöpe atacağım poşete yazık', 2001)]"
            ]
          },
          "metadata": {},
          "execution_count": 14
        }
      ]
    },
    {
      "cell_type": "code",
      "source": [
        "c.execute(\"SELECT * FROM ozdeyisler\")\n",
        "c.fetchone()"
      ],
      "metadata": {
        "colab": {
          "base_uri": "https://localhost:8080/"
        },
        "id": "v2hUMy7hQADz",
        "outputId": "cecf1981-6928-42ee-9102-f4f491f90691"
      },
      "execution_count": 22,
      "outputs": [
        {
          "output_type": "execute_result",
          "data": {
            "text/plain": [
              "('Serdar Ortaç', 'Sen çöpe atacağım poşete yazık', 2001)"
            ]
          },
          "metadata": {},
          "execution_count": 22
        }
      ]
    },
    {
      "cell_type": "code",
      "source": [
        "c.execute(\"SELECT * FROM ozdeyisler ORDER BY isim\")\n",
        "c.fetchall()"
      ],
      "metadata": {
        "colab": {
          "base_uri": "https://localhost:8080/"
        },
        "id": "znQbrfWzQG5o",
        "outputId": "ac642ff8-f947-47fc-d687-1c47363ac376"
      },
      "execution_count": 17,
      "outputs": [
        {
          "output_type": "execute_result",
          "data": {
            "text/plain": [
              "[('Cemal Süreya', 'Adımın bir harfini atıyorum', 1955),\n",
              " ('Serdar Ortaç', 'Sen çöpe atacağım poşete yazık', 2001),\n",
              " ('Tarkan', 'İşte kuzu kuzu geldim', 2001),\n",
              " ('Tarkan', 'İşte kuzu kuzu geldim', 2001),\n",
              " ('Yaşar', 'Sensiz olmuyor, yerine konmuyor', 2001)]"
            ]
          },
          "metadata": {},
          "execution_count": 17
        }
      ]
    },
    {
      "cell_type": "code",
      "source": [
        "c.execute(\"SELECT * FROM ozdeyisler ORDER BY yil\")\n",
        "c.fetchall()"
      ],
      "metadata": {
        "colab": {
          "base_uri": "https://localhost:8080/"
        },
        "id": "LHykwllzQgn6",
        "outputId": "9af2aa77-7d86-4dd2-bd16-5806e36e6551"
      },
      "execution_count": 18,
      "outputs": [
        {
          "output_type": "execute_result",
          "data": {
            "text/plain": [
              "[('Cemal Süreya', 'Adımın bir harfini atıyorum', 1955),\n",
              " ('Tarkan', 'İşte kuzu kuzu geldim', 2001),\n",
              " ('Tarkan', 'İşte kuzu kuzu geldim', 2001),\n",
              " ('Serdar Ortaç', 'Sen çöpe atacağım poşete yazık', 2001),\n",
              " ('Yaşar', 'Sensiz olmuyor, yerine konmuyor', 2001)]"
            ]
          },
          "metadata": {},
          "execution_count": 18
        }
      ]
    },
    {
      "cell_type": "code",
      "source": [
        "c.execute(\"SELECT * FROM ozdeyisler ORDER BY isim DESC\")\n",
        "c.fetchall()"
      ],
      "metadata": {
        "colab": {
          "base_uri": "https://localhost:8080/"
        },
        "id": "MWylaql6QkUD",
        "outputId": "1cfcf447-8740-4b58-e16c-5be8f6a345b0"
      },
      "execution_count": 19,
      "outputs": [
        {
          "output_type": "execute_result",
          "data": {
            "text/plain": [
              "[('Yaşar', 'Sensiz olmuyor, yerine konmuyor', 2001),\n",
              " ('Tarkan', 'İşte kuzu kuzu geldim', 2001),\n",
              " ('Tarkan', 'İşte kuzu kuzu geldim', 2001),\n",
              " ('Serdar Ortaç', 'Sen çöpe atacağım poşete yazık', 2001),\n",
              " ('Cemal Süreya', 'Adımın bir harfini atıyorum', 1955)]"
            ]
          },
          "metadata": {},
          "execution_count": 19
        }
      ]
    },
    {
      "cell_type": "code",
      "source": [
        "c.execute(\"DELETE FROM ozdeyisler WHERE isim = 'Tarkan'\")\n",
        "conn.commit()"
      ],
      "metadata": {
        "id": "hSClqgJuQ6fL"
      },
      "execution_count": 29,
      "outputs": []
    },
    {
      "cell_type": "code",
      "source": [],
      "metadata": {
        "id": "_rToH9tkRbwR"
      },
      "execution_count": null,
      "outputs": []
    },
    {
      "cell_type": "code",
      "source": [
        "c.execute(\"SELECT * FROM ozdeyisler\")\n",
        "c.fetchall()"
      ],
      "metadata": {
        "colab": {
          "base_uri": "https://localhost:8080/"
        },
        "outputId": "8f6bfb04-52e0-4ad6-fe09-23ec1e9d2fb1",
        "id": "QwHzyd1qRb8n"
      },
      "execution_count": 27,
      "outputs": [
        {
          "output_type": "execute_result",
          "data": {
            "text/plain": [
              "[('Serdar Ortaç', 'Sen çöpe atacağım poşete yazık', 2001),\n",
              " ('Yaşar', 'Sensiz olmuyor, yerine konmuyor', 2001),\n",
              " ('Cemal Süreya', 'Adımın bir harfini atıyorum', 1955),\n",
              " ('Tarkan', 'İşte kuzu kuzu geldim', 2001),\n",
              " ('Tarkan', 'İşte kuzu kuzu geldim', 2001)]"
            ]
          },
          "metadata": {},
          "execution_count": 27
        }
      ]
    },
    {
      "cell_type": "code",
      "source": [],
      "metadata": {
        "id": "utE65_LYRh_w"
      },
      "execution_count": null,
      "outputs": []
    },
    {
      "cell_type": "code",
      "source": [
        "c.execute(\"INSERT INTO ozdeyisler VALUES('Tarkan', 'İşte kuzu kuzu geldim', 2001)\")\n",
        "conn.commit()"
      ],
      "metadata": {
        "id": "i3BMJB6oRkKB"
      },
      "execution_count": 26,
      "outputs": []
    },
    {
      "cell_type": "code",
      "source": [
        "c.execute(\"SELECT * FROM ozdeyisler\")\n",
        "c.fetchall()"
      ],
      "metadata": {
        "colab": {
          "base_uri": "https://localhost:8080/"
        },
        "id": "jgVbCOreRpK1",
        "outputId": "cb8a35c0-883e-4232-8ff5-c268a1847932"
      },
      "execution_count": 28,
      "outputs": [
        {
          "output_type": "execute_result",
          "data": {
            "text/plain": [
              "[('Serdar Ortaç', 'Sen çöpe atacağım poşete yazık', 2001),\n",
              " ('Yaşar', 'Sensiz olmuyor, yerine konmuyor', 2001),\n",
              " ('Cemal Süreya', 'Adımın bir harfini atıyorum', 1955),\n",
              " ('Tarkan', 'İşte kuzu kuzu geldim', 2001),\n",
              " ('Tarkan', 'İşte kuzu kuzu geldim', 2001)]"
            ]
          },
          "metadata": {},
          "execution_count": 28
        }
      ]
    },
    {
      "cell_type": "code",
      "source": [
        "c.execute(\"DELETE FROM ozdeyisler WHERE isim = 'Tarkan'\")\n",
        "conn.commit()"
      ],
      "metadata": {
        "id": "pMeLQDPcRuc3"
      },
      "execution_count": 30,
      "outputs": []
    }
  ]
}