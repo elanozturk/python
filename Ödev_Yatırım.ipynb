{
  "nbformat": 4,
  "nbformat_minor": 0,
  "metadata": {
    "colab": {
      "provenance": [],
      "authorship_tag": "ABX9TyNccBieSNfumUAS41v1s6+9",
      "include_colab_link": true
    },
    "kernelspec": {
      "name": "python3",
      "display_name": "Python 3"
    },
    "language_info": {
      "name": "python"
    }
  },
  "cells": [
    {
      "cell_type": "markdown",
      "metadata": {
        "id": "view-in-github",
        "colab_type": "text"
      },
      "source": [
        "<a href=\"https://colab.research.google.com/github/elanozturk/python/blob/main/%C3%96dev_Yat%C4%B1r%C4%B1m.ipynb\" target=\"_parent\"><img src=\"https://colab.research.google.com/assets/colab-badge.svg\" alt=\"Open In Colab\"/></a>"
      ]
    },
    {
      "cell_type": "code",
      "execution_count": 1,
      "metadata": {
        "colab": {
          "base_uri": "https://localhost:8080/"
        },
        "id": "KorI-OT_idpA",
        "outputId": "bd4ccc98-9f9e-4cf3-9e79-cb4ef0a12a65"
      },
      "outputs": [
        {
          "output_type": "stream",
          "name": "stdout",
          "text": [
            "[*********************100%%**********************]  1 of 1 completed\n",
            "[*********************100%%**********************]  1 of 1 completed\n",
            "[*********************100%%**********************]  1 of 1 completed\n",
            "[*********************100%%**********************]  1 of 1 completed\n",
            "Alım tarihi: 2014-08-15\n",
            "Başlangıç toplam değeri: 10000 TL\n",
            "Güncel toplam değer: 233668.60 TL\n"
          ]
        }
      ],
      "source": [
        "import yfinance as yf\n",
        "\n",
        "# Alım tarihi\n",
        "alim_tarihi = \"2014-08-15\"\n",
        "\n",
        "# Alınan varlıklar ve miktarları\n",
        "varliklar = {\n",
        "    'THY': 10000,  # TL\n",
        "    'BTC-USD': 0.1,  # Bitcoin\n",
        "    'GC=F': 1,  # Altın\n",
        "    'SI=F': 10  # Gümüş\n",
        "}\n",
        "\n",
        "# Varlık fiyatlarını alma\n",
        "fiyatlar = {}\n",
        "for varlik, miktar in varliklar.items():\n",
        "    veri = yf.download(varlik, alim_tarihi)\n",
        "    son_kapanis_fiyati = veri['Close'].iloc[-1]\n",
        "    fiyatlar[varlik] = son_kapanis_fiyati\n",
        "\n",
        "# Toplam değeri hesaplama\n",
        "toplam_deger = sum(miktar * fiyatlar[varlik] for varlik, miktar in varliklar.items())\n",
        "\n",
        "print(f\"Alım tarihi: {alim_tarihi}\")\n",
        "print(f\"Başlangıç toplam değeri: 10000 TL\")\n",
        "print(f\"Güncel toplam değer: {toplam_deger:.2f} TL\")\n"
      ]
    },
    {
      "cell_type": "code",
      "source": [
        "import yfinance as yf\n",
        "\n",
        "# Alım tarihi\n",
        "alim_tarihi = \"2018-08-15\"\n",
        "\n",
        "# Başlangıç sermayesi\n",
        "baslangic_sermayesi = 10000  # TL\n",
        "\n",
        "# Alınan varlıklar ve miktarları\n",
        "varliklar = {\n",
        "    'THY': 'TRY=X',  # TL\n",
        "    'BTC-USD': 'BTC-USD',  # Bitcoin\n",
        "    'GC=F': 'XAUUSD=X',  # Altın\n",
        "    'SI=F': 'XAGUSD=X'  # Gümüş\n",
        "}\n",
        "\n",
        "# Varlık fiyatlarını alma ve alım miktarını hesaplama\n",
        "alinan_miktarlar = {}\n",
        "for varlik, kur in varliklar.items():\n",
        "    veri = yf.download(kur, alim_tarihi)\n",
        "    son_kapanis_fiyati = veri['Close'].iloc[-1]\n",
        "    alinan_miktarlar[varlik] = baslangic_sermayesi / son_kapanis_fiyati\n",
        "\n",
        "# Toplam değeri hesaplama\n",
        "toplam_deger = sum(alinan_miktarlar[varlik] * veri['Close'].iloc[-1] for varlik, veri in alinan_miktarlar.items())\n",
        "\n",
        "print(f\"Alım tarihi: {alim_tarihi}\")\n",
        "print(f\"Başlangıç toplam değeri: {baslangic_sermayesi:.2f} TL\")\n",
        "\n",
        "for varlik, miktar in alinan_miktarlar.items():\n",
        "    print(f\"{varlik} alınan miktar: {miktar:.6f} birim\")\n",
        "\n",
        "print(f\"Güncel toplam değer: {toplam_deger:.2f} TL\")\n"
      ],
      "metadata": {
        "colab": {
          "base_uri": "https://localhost:8080/",
          "height": 507
        },
        "id": "GKYJJuD_i-Z-",
        "outputId": "b0c41734-165f-437a-c32b-1a911e095eca"
      },
      "execution_count": 3,
      "outputs": [
        {
          "output_type": "stream",
          "name": "stdout",
          "text": [
            "[*********************100%%**********************]  1 of 1 completed\n",
            "[*********************100%%**********************]  1 of 1 completed\n",
            "[*********************100%%**********************]  1 of 1 completed"
          ]
        },
        {
          "output_type": "stream",
          "name": "stderr",
          "text": [
            "ERROR:yfinance:\n",
            "1 Failed download:\n",
            "ERROR:yfinance:['XAUUSD=X']: Exception('%ticker%: No timezone found, symbol may be delisted')\n"
          ]
        },
        {
          "output_type": "stream",
          "name": "stdout",
          "text": [
            "\n"
          ]
        },
        {
          "output_type": "error",
          "ename": "IndexError",
          "evalue": "single positional indexer is out-of-bounds",
          "traceback": [
            "\u001b[0;31m---------------------------------------------------------------------------\u001b[0m",
            "\u001b[0;31mIndexError\u001b[0m                                Traceback (most recent call last)",
            "\u001b[0;32m<ipython-input-3-78462949be42>\u001b[0m in \u001b[0;36m<cell line: 19>\u001b[0;34m()\u001b[0m\n\u001b[1;32m     19\u001b[0m \u001b[0;32mfor\u001b[0m \u001b[0mvarlik\u001b[0m\u001b[0;34m,\u001b[0m \u001b[0mkur\u001b[0m \u001b[0;32min\u001b[0m \u001b[0mvarliklar\u001b[0m\u001b[0;34m.\u001b[0m\u001b[0mitems\u001b[0m\u001b[0;34m(\u001b[0m\u001b[0;34m)\u001b[0m\u001b[0;34m:\u001b[0m\u001b[0;34m\u001b[0m\u001b[0;34m\u001b[0m\u001b[0m\n\u001b[1;32m     20\u001b[0m     \u001b[0mveri\u001b[0m \u001b[0;34m=\u001b[0m \u001b[0myf\u001b[0m\u001b[0;34m.\u001b[0m\u001b[0mdownload\u001b[0m\u001b[0;34m(\u001b[0m\u001b[0mkur\u001b[0m\u001b[0;34m,\u001b[0m \u001b[0malim_tarihi\u001b[0m\u001b[0;34m)\u001b[0m\u001b[0;34m\u001b[0m\u001b[0;34m\u001b[0m\u001b[0m\n\u001b[0;32m---> 21\u001b[0;31m     \u001b[0mson_kapanis_fiyati\u001b[0m \u001b[0;34m=\u001b[0m \u001b[0mveri\u001b[0m\u001b[0;34m[\u001b[0m\u001b[0;34m'Close'\u001b[0m\u001b[0;34m]\u001b[0m\u001b[0;34m.\u001b[0m\u001b[0miloc\u001b[0m\u001b[0;34m[\u001b[0m\u001b[0;34m-\u001b[0m\u001b[0;36m1\u001b[0m\u001b[0;34m]\u001b[0m\u001b[0;34m\u001b[0m\u001b[0;34m\u001b[0m\u001b[0m\n\u001b[0m\u001b[1;32m     22\u001b[0m     \u001b[0malinan_miktarlar\u001b[0m\u001b[0;34m[\u001b[0m\u001b[0mvarlik\u001b[0m\u001b[0;34m]\u001b[0m \u001b[0;34m=\u001b[0m \u001b[0mbaslangic_sermayesi\u001b[0m \u001b[0;34m/\u001b[0m \u001b[0mson_kapanis_fiyati\u001b[0m\u001b[0;34m\u001b[0m\u001b[0;34m\u001b[0m\u001b[0m\n\u001b[1;32m     23\u001b[0m \u001b[0;34m\u001b[0m\u001b[0m\n",
            "\u001b[0;32m/usr/local/lib/python3.10/dist-packages/pandas/core/indexing.py\u001b[0m in \u001b[0;36m__getitem__\u001b[0;34m(self, key)\u001b[0m\n\u001b[1;32m   1071\u001b[0m \u001b[0;34m\u001b[0m\u001b[0m\n\u001b[1;32m   1072\u001b[0m             \u001b[0mmaybe_callable\u001b[0m \u001b[0;34m=\u001b[0m \u001b[0mcom\u001b[0m\u001b[0;34m.\u001b[0m\u001b[0mapply_if_callable\u001b[0m\u001b[0;34m(\u001b[0m\u001b[0mkey\u001b[0m\u001b[0;34m,\u001b[0m \u001b[0mself\u001b[0m\u001b[0;34m.\u001b[0m\u001b[0mobj\u001b[0m\u001b[0;34m)\u001b[0m\u001b[0;34m\u001b[0m\u001b[0;34m\u001b[0m\u001b[0m\n\u001b[0;32m-> 1073\u001b[0;31m             \u001b[0;32mreturn\u001b[0m \u001b[0mself\u001b[0m\u001b[0;34m.\u001b[0m\u001b[0m_getitem_axis\u001b[0m\u001b[0;34m(\u001b[0m\u001b[0mmaybe_callable\u001b[0m\u001b[0;34m,\u001b[0m \u001b[0maxis\u001b[0m\u001b[0;34m=\u001b[0m\u001b[0maxis\u001b[0m\u001b[0;34m)\u001b[0m\u001b[0;34m\u001b[0m\u001b[0;34m\u001b[0m\u001b[0m\n\u001b[0m\u001b[1;32m   1074\u001b[0m \u001b[0;34m\u001b[0m\u001b[0m\n\u001b[1;32m   1075\u001b[0m     \u001b[0;32mdef\u001b[0m \u001b[0m_is_scalar_access\u001b[0m\u001b[0;34m(\u001b[0m\u001b[0mself\u001b[0m\u001b[0;34m,\u001b[0m \u001b[0mkey\u001b[0m\u001b[0;34m:\u001b[0m \u001b[0mtuple\u001b[0m\u001b[0;34m)\u001b[0m\u001b[0;34m:\u001b[0m\u001b[0;34m\u001b[0m\u001b[0;34m\u001b[0m\u001b[0m\n",
            "\u001b[0;32m/usr/local/lib/python3.10/dist-packages/pandas/core/indexing.py\u001b[0m in \u001b[0;36m_getitem_axis\u001b[0;34m(self, key, axis)\u001b[0m\n\u001b[1;32m   1623\u001b[0m \u001b[0;34m\u001b[0m\u001b[0m\n\u001b[1;32m   1624\u001b[0m             \u001b[0;31m# validate the location\u001b[0m\u001b[0;34m\u001b[0m\u001b[0;34m\u001b[0m\u001b[0m\n\u001b[0;32m-> 1625\u001b[0;31m             \u001b[0mself\u001b[0m\u001b[0;34m.\u001b[0m\u001b[0m_validate_integer\u001b[0m\u001b[0;34m(\u001b[0m\u001b[0mkey\u001b[0m\u001b[0;34m,\u001b[0m \u001b[0maxis\u001b[0m\u001b[0;34m)\u001b[0m\u001b[0;34m\u001b[0m\u001b[0;34m\u001b[0m\u001b[0m\n\u001b[0m\u001b[1;32m   1626\u001b[0m \u001b[0;34m\u001b[0m\u001b[0m\n\u001b[1;32m   1627\u001b[0m             \u001b[0;32mreturn\u001b[0m \u001b[0mself\u001b[0m\u001b[0;34m.\u001b[0m\u001b[0mobj\u001b[0m\u001b[0;34m.\u001b[0m\u001b[0m_ixs\u001b[0m\u001b[0;34m(\u001b[0m\u001b[0mkey\u001b[0m\u001b[0;34m,\u001b[0m \u001b[0maxis\u001b[0m\u001b[0;34m=\u001b[0m\u001b[0maxis\u001b[0m\u001b[0;34m)\u001b[0m\u001b[0;34m\u001b[0m\u001b[0;34m\u001b[0m\u001b[0m\n",
            "\u001b[0;32m/usr/local/lib/python3.10/dist-packages/pandas/core/indexing.py\u001b[0m in \u001b[0;36m_validate_integer\u001b[0;34m(self, key, axis)\u001b[0m\n\u001b[1;32m   1555\u001b[0m         \u001b[0mlen_axis\u001b[0m \u001b[0;34m=\u001b[0m \u001b[0mlen\u001b[0m\u001b[0;34m(\u001b[0m\u001b[0mself\u001b[0m\u001b[0;34m.\u001b[0m\u001b[0mobj\u001b[0m\u001b[0;34m.\u001b[0m\u001b[0m_get_axis\u001b[0m\u001b[0;34m(\u001b[0m\u001b[0maxis\u001b[0m\u001b[0;34m)\u001b[0m\u001b[0;34m)\u001b[0m\u001b[0;34m\u001b[0m\u001b[0;34m\u001b[0m\u001b[0m\n\u001b[1;32m   1556\u001b[0m         \u001b[0;32mif\u001b[0m \u001b[0mkey\u001b[0m \u001b[0;34m>=\u001b[0m \u001b[0mlen_axis\u001b[0m \u001b[0;32mor\u001b[0m \u001b[0mkey\u001b[0m \u001b[0;34m<\u001b[0m \u001b[0;34m-\u001b[0m\u001b[0mlen_axis\u001b[0m\u001b[0;34m:\u001b[0m\u001b[0;34m\u001b[0m\u001b[0;34m\u001b[0m\u001b[0m\n\u001b[0;32m-> 1557\u001b[0;31m             \u001b[0;32mraise\u001b[0m \u001b[0mIndexError\u001b[0m\u001b[0;34m(\u001b[0m\u001b[0;34m\"single positional indexer is out-of-bounds\"\u001b[0m\u001b[0;34m)\u001b[0m\u001b[0;34m\u001b[0m\u001b[0;34m\u001b[0m\u001b[0m\n\u001b[0m\u001b[1;32m   1558\u001b[0m \u001b[0;34m\u001b[0m\u001b[0m\n\u001b[1;32m   1559\u001b[0m     \u001b[0;31m# -------------------------------------------------------------------\u001b[0m\u001b[0;34m\u001b[0m\u001b[0;34m\u001b[0m\u001b[0m\n",
            "\u001b[0;31mIndexError\u001b[0m: single positional indexer is out-of-bounds"
          ]
        }
      ]
    },
    {
      "cell_type": "code",
      "source": [
        "import yfinance as yf\n",
        "\n",
        "# Alım tarihi\n",
        "alim_tarihi = \"2014-08-15\"\n",
        "\n",
        "# Başlangıç sermayesi\n",
        "baslangic_sermayesi = 10000  # TL\n",
        "\n",
        "# Alınan varlıklar ve simgeleri\n",
        "varliklar = {\n",
        "    'THY': 'THYAO.IS',  # Türk Hava Yolları\n",
        "    'BTC-USD': 'BTC-USD',  # Bitcoin\n",
        "    'GC=F': 'GC=F',  # Altın\n",
        "    'SI=F': 'SI=F'  # Gümüş\n",
        "}\n",
        "\n",
        "# Alınan miktarları ve güncel değeri hesapla\n",
        "alinan_miktarlar = {}\n",
        "toplam_deger = 0\n",
        "\n",
        "for varlik, symbol in varliklar.items():\n",
        "    veri = yf.download(symbol, alim_tarihi)\n",
        "    if len(veri) > 0:\n",
        "        alinan_miktar = baslangic_sermayesi / veri['Close'].iloc[0]\n",
        "        alinan_miktarlar[varlik] = alinan_miktar\n",
        "        toplam_deger += alinan_miktar * veri['Close'].iloc[-1]\n",
        "    else:\n",
        "        print(f\"Uyarı: {varlik} için veri bulunamadı.\")\n",
        "\n",
        "print(f\"Alım tarihi: {alim_tarihi}\")\n",
        "print(f\"Başlangıç toplam değeri: {baslangic_sermayesi:.2f} TL\")\n",
        "\n",
        "for varlik, miktar in alinan_miktarlar.items():\n",
        "    print(f\"{varlik} alınan miktar: {miktar:.6f} birim\")\n",
        "\n",
        "print(f\"Güncel toplam değer: {toplam_deger:.2f} TL\")\n"
      ],
      "metadata": {
        "colab": {
          "base_uri": "https://localhost:8080/"
        },
        "id": "YkQ7emYbjvWy",
        "outputId": "dd6a281e-68c1-4669-833c-59b4aeaeeee6"
      },
      "execution_count": 6,
      "outputs": [
        {
          "output_type": "stream",
          "name": "stdout",
          "text": [
            "[*********************100%%**********************]  1 of 1 completed\n",
            "[*********************100%%**********************]  1 of 1 completed\n",
            "[*********************100%%**********************]  1 of 1 completed\n",
            "[*********************100%%**********************]  1 of 1 completed\n",
            "Alım tarihi: 2014-08-15\n",
            "Başlangıç toplam değeri: 10000.00 TL\n",
            "THY alınan miktar: 1644.736863 birim\n",
            "BTC-USD alınan miktar: 21.865857 birim\n",
            "GC=F alınan miktar: 7.665772 birim\n",
            "SI=F alınan miktar: 513.083639 birim\n",
            "Güncel toplam değer: 1375521.36 TL\n"
          ]
        }
      ]
    },
    {
      "cell_type": "code",
      "source": [
        "import yfinance as yf\n",
        "\n",
        "# Alım tarihi\n",
        "alim_tarihi = \"2014-08-15\"\n",
        "\n",
        "# Başlangıç sermayesi\n",
        "baslangic_sermayesi = 10000  # TL\n",
        "\n",
        "# Alınan varlıklar ve simgeleri\n",
        "varliklar = {\n",
        "    'THY': 'THYAO.IS',  # Türk Hava Yolları\n",
        "    'BTC-USD': 'BTC-USD',  # Bitcoin\n",
        "    'GC=F': 'GC=F',  # Altın\n",
        "    'SI=F': 'SI=F'  # Gümüş\n",
        "}\n",
        "\n",
        "# Alınan miktarları ve güncel değeri hesapla\n",
        "alinan_miktarlar = {}\n",
        "toplam_deger = 0\n",
        "\n",
        "# Her bir varlığa eşit şekilde yatırım yap\n",
        "yatirim_miktari = baslangic_sermayesi / len(varliklar)\n",
        "\n",
        "for varlik, symbol in varliklar.items():\n",
        "    veri = yf.download(symbol, alim_tarihi)\n",
        "    if len(veri) > 0:\n",
        "        alinan_miktar = yatirim_miktari / veri['Close'].iloc[0]\n",
        "        alinan_miktarlar[varlik] = alinan_miktar\n",
        "        toplam_deger += alinan_miktar * veri['Close'].iloc[-1]\n",
        "    else:\n",
        "        print(f\"Uyarı: {varlik} için veri bulunamadı.\")\n",
        "\n",
        "print(f\"Alım tarihi: {alim_tarihi}\")\n",
        "print(f\"Başlangıç toplam değeri: {baslangic_sermayesi:.2f} TL\")\n",
        "\n",
        "for varlik, miktar in alinan_miktarlar.items():\n",
        "    print(f\"{varlik} alınan miktar: {miktar:.6f} birim\")\n",
        "\n",
        "print(f\"Güncel toplam değer: {toplam_deger:.2f} TL\")\n"
      ],
      "metadata": {
        "colab": {
          "base_uri": "https://localhost:8080/"
        },
        "id": "CUd-UPP4krcB",
        "outputId": "e1842388-ebfa-4f52-ee90-4c1d70b60064"
      },
      "execution_count": 7,
      "outputs": [
        {
          "output_type": "stream",
          "name": "stdout",
          "text": [
            "[*********************100%%**********************]  1 of 1 completed\n",
            "[*********************100%%**********************]  1 of 1 completed\n",
            "[*********************100%%**********************]  1 of 1 completed\n",
            "[*********************100%%**********************]  1 of 1 completed\n",
            "Alım tarihi: 2014-08-15\n",
            "Başlangıç toplam değeri: 10000.00 TL\n",
            "THY alınan miktar: 411.184216 birim\n",
            "BTC-USD alınan miktar: 5.466464 birim\n",
            "GC=F alınan miktar: 1.916443 birim\n",
            "SI=F alınan miktar: 128.270910 birim\n",
            "Güncel toplam değer: 344049.09 TL\n"
          ]
        }
      ]
    }
  ]
}