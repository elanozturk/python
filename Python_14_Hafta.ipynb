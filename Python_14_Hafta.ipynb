{
  "nbformat": 4,
  "nbformat_minor": 0,
  "metadata": {
    "colab": {
      "provenance": [],
      "include_colab_link": true
    },
    "kernelspec": {
      "name": "python3",
      "display_name": "Python 3"
    },
    "language_info": {
      "name": "python"
    }
  },
  "cells": [
    {
      "cell_type": "markdown",
      "metadata": {
        "id": "view-in-github",
        "colab_type": "text"
      },
      "source": [
        "<a href=\"https://colab.research.google.com/github/elanozturk/python/blob/main/Python_14_Hafta.ipynb\" target=\"_parent\"><img src=\"https://colab.research.google.com/assets/colab-badge.svg\" alt=\"Open In Colab\"/></a>"
      ]
    },
    {
      "cell_type": "code",
      "execution_count": null,
      "metadata": {
        "id": "0G-2J7zuvsYv"
      },
      "outputs": [],
      "source": [
        "#HTML kodları index.html\n",
        "\"\"\"\n",
        "<h1>Merhaba Dünya</h1> <h1>Merhaba Dünya</h1>\n",
        "\n",
        "<p>Lorem ipsum dolor sit amet consectetur, adipisicing elit. Quasi, tempora.</p> <p>Lorem ipsum dolor sit amet consectetur, adipisicing elit. Quasi, tempora.</p>\n",
        "\n",
        "<button>Hemen Al</button> <button>Hemen Al</button>\n",
        "\n",
        "<hr>\n",
        "\n",
        "<img width=\"500px\" src=\"bmw.jpg\" alt=\"\">\n",
        "<p></p>\n",
        "<a href=\"https://www.trendyol.com\">Trendyol</a>\n",
        "<p></p>\n",
        "\n",
        "<a href=\"https://www.trendyol.com\">Trendyol</a>\n",
        "\n",
        "<div>\n",
        "    <button>Tıkla Hadi</button>\n",
        "</div>\n",
        "\n",
        "<ul>\n",
        "    <li>Halkçılık</li>\n",
        "    <li>Devletçilik</li>\n",
        "    <li>Milliyetçilik</li>\n",
        "\n",
        "</ul>\n",
        "\n",
        "<ol>\n",
        "    <li>Halkçılık</li>\n",
        "    <li>Devletçilik</li>\n",
        "    <li>Milliyetçilik</li>\n",
        "\n",
        "</ol>\n",
        "\n",
        "<table>\n",
        "    <tr>\n",
        "        <th>İsim</th>\n",
        "        <th>Soyisim</th>\n",
        "        <th>Yaş</th>\n",
        "    </tr>\n",
        "    <tr>\n",
        "        <td>Serkan</td>\n",
        "        <td>Öztürk</td>\n",
        "        <td>39</td>\n",
        "    </tr>\n",
        "    <tr>\n",
        "        <td>Gökhan</td>\n",
        "        <td>Kayan</td>\n",
        "        <td>30</td>\n",
        "    </tr>\n",
        "</table>\n",
        "\n",
        "<form action=\"\">\n",
        "    İsim: <input type=\"text\" name=\"\" id=\"\"><br><br>\n",
        "    Yaş: <input type=\"number\" name=\"\" id=\"\"><br><br>\n",
        "    Tarih: <input type=\"date\" name=\"\" id=\"\">\n",
        "</form>\n",
        "\"\"\""
      ]
    },
    {
      "cell_type": "markdown",
      "source": [],
      "metadata": {
        "id": "KJf9UPTuwJYm"
      }
    },
    {
      "cell_type": "code",
      "source": [
        "#cv.hmtl kodları\n",
        "\"\"\"\n",
        "<!DOCTYPE html>\n",
        "<html lang=\"tr\">\n",
        "<head>\n",
        "    <meta charset=\"UTF-8\">\n",
        "    <meta http-equiv=\"X-UA-Compatible\" content=\"IE=edge\">\n",
        "    <meta name=\"viewport\" content=\"width=device-width, initial-scale=1.0\">\n",
        "    <title>Document</title>\n",
        "    <link rel=\"stylesheet\" href=\"style.css\">\n",
        "</head>\n",
        "<body>\n",
        "    <div class=\"wood\">Furkan Kazan\n",
        "    </div>\n",
        "    <div class=\"aqua\">Serkan Öztürk</div>\n",
        "    <div class=\"bmw\">\n",
        "        <img src=\"bmw.jpg\" alt=\"\">\n",
        "    </div>\n",
        "</body>\n",
        "</html>\n",
        "\"\"\""
      ],
      "metadata": {
        "id": "laHNwsQMv4yR"
      },
      "execution_count": null,
      "outputs": []
    },
    {
      "cell_type": "code",
      "source": [
        "#style.css kodları\n",
        "\"\"\"\n",
        ".wood{background-color: burlywood;\n",
        "    color:aquamarine;\n",
        "font-size: 48px;}\n",
        ".aqua{background-color: aquamarine;color:burlywood;\n",
        "font-size: 52px;}\n",
        "\n",
        ".bmw img{\n",
        "    width: 600px;\n",
        "    filter: grayscale(0.9);\n",
        "    border-radius: 30px\n",
        "}\n",
        "\n",
        ".bmw img:hover{\n",
        "    filter:none;\n",
        "    transition: 7s\n",
        "}\n",
        "\"\"\""
      ],
      "metadata": {
        "id": "W0o7YAd2v9C-"
      },
      "execution_count": null,
      "outputs": []
    },
    {
      "cell_type": "code",
      "source": [
        "#ÖDEV Video 30dk'da HTML Çağrı Hoca"
      ],
      "metadata": {
        "id": "wcSjFwyhwVZo"
      },
      "execution_count": null,
      "outputs": []
    }
  ]
}