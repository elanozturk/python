{
  "nbformat": 4,
  "nbformat_minor": 0,
  "metadata": {
    "colab": {
      "provenance": [],
      "include_colab_link": true
    },
    "kernelspec": {
      "name": "python3",
      "display_name": "Python 3"
    },
    "language_info": {
      "name": "python"
    }
  },
  "cells": [
    {
      "cell_type": "markdown",
      "metadata": {
        "id": "view-in-github",
        "colab_type": "text"
      },
      "source": [
        "<a href=\"https://colab.research.google.com/github/elanozturk/python/blob/main/Python_6_hafta_12.ipynb\" target=\"_parent\"><img src=\"https://colab.research.google.com/assets/colab-badge.svg\" alt=\"Open In Colab\"/></a>"
      ]
    },
    {
      "cell_type": "code",
      "execution_count": null,
      "metadata": {
        "id": "GZ9veVllyPEE"
      },
      "outputs": [],
      "source": [
        "#ÖDEV 2\n",
        "#https://api.coincap.io/v2/assets\n",
        "#coinfiyat(\"BTC\") bu fonksiyonda verilen coin parametresine göre usd bazında fiyatı getirsin\n",
        "#Arkadaşlar derste coinfiyat(\"bitcoin\") şeklinde yapalım demiştim ama bu gereksiz zorlayıcı olur diye soruyu düzelttim coininin sembolünü yazmamız yeterli olsun."
      ]
    },
    {
      "cell_type": "code",
      "source": [
        "import requests\n",
        "\n",
        "def coinfiyat(a):\n",
        "  r=requests.get(\"https://api.coincap.io/v2/assets\")\n",
        "  veri= r.json()\n",
        "  veri = veri.get(\"data\")\n",
        "  fiyatlar = {}\n",
        "\n",
        "  for i in veri:\n",
        "    sembol = i[\"symbol\"]\n",
        "    price = float(i[\"priceUsd\"])\n",
        "    fiyatlar[sembol]=price\n",
        "  return fiyatlar.get(a)\n"
      ],
      "metadata": {
        "id": "qrjs2ZF72dY_"
      },
      "execution_count": null,
      "outputs": []
    },
    {
      "cell_type": "code",
      "source": [
        "coinfiyat(\"ETH\")"
      ],
      "metadata": {
        "colab": {
          "base_uri": "https://localhost:8080/"
        },
        "id": "8XA2WqOF7zBs",
        "outputId": "0c641adc-5e9e-4ca0-adcb-80249c2b40e7"
      },
      "execution_count": null,
      "outputs": [
        {
          "output_type": "execute_result",
          "data": {
            "text/plain": [
              "2196.081740835907"
            ]
          },
          "metadata": {},
          "execution_count": 19
        }
      ]
    },
    {
      "cell_type": "code",
      "source": [
        "import requests\n",
        "\n",
        "def coinfiyat(a):\n",
        "  r=requests.get(\"https://api.coincap.io/v2/assets\")\n",
        "  veri= r.json()\n",
        "  veri = veri.get(\"data\")\n",
        "\n",
        "  for i in veri:\n",
        "    if a == i[\"symbol\"]:\n",
        "      price = float(i[\"priceUsd\"])\n",
        "  return price"
      ],
      "metadata": {
        "id": "BnyZGEsC8eYa"
      },
      "execution_count": null,
      "outputs": []
    },
    {
      "cell_type": "code",
      "source": [
        "coinfiyat(\"ETH\")"
      ],
      "metadata": {
        "colab": {
          "base_uri": "https://localhost:8080/"
        },
        "id": "0yjYgPhK8o_K",
        "outputId": "aae35a10-365c-4f24-b9aa-df8c5a0458e2"
      },
      "execution_count": null,
      "outputs": [
        {
          "output_type": "execute_result",
          "data": {
            "text/plain": [
              "2193.42714709864"
            ]
          },
          "metadata": {},
          "execution_count": 23
        }
      ]
    },
    {
      "cell_type": "code",
      "source": [
        "#VERİTABANI SQL\n",
        "\n",
        "import sqlite3\n",
        "\n",
        "conn = sqlite3.connect(\"damla.sqlite\") #bu isimde veritabanı varsa bağlanır yoksa oluşturup bağlanır\n",
        "\n",
        "c = conn.cursor()"
      ],
      "metadata": {
        "id": "Ukuo8Pz9HN6W"
      },
      "execution_count": null,
      "outputs": []
    },
    {
      "cell_type": "code",
      "source": [
        "c.execute(\"\"\"CREATE TABLE IF NOT EXISTS cihazlar(\n",
        "  isim TEXT,\n",
        "  personel TEXT,\n",
        "  marka TEXT,\n",
        "  model TEXT,\n",
        "  ssd INTEGER,\n",
        "  ram INTEGER,\n",
        "  fiyat REAL\n",
        ")\"\"\")\n",
        "\n",
        "conn.commit() #veritabanına kaydetme"
      ],
      "metadata": {
        "id": "Aae1cNGZH8AF"
      },
      "execution_count": null,
      "outputs": []
    },
    {
      "cell_type": "code",
      "source": [
        "# CRUD İşlemleri\n",
        "#CREATE (INSERT)\n",
        "#READ (SELECT)\n",
        "#UPDATE (REPLACE)\n",
        "#DELETE"
      ],
      "metadata": {
        "id": "uDx4uu_cLbUP"
      },
      "execution_count": null,
      "outputs": []
    },
    {
      "cell_type": "code",
      "source": [
        "c.execute(\"\"\"INSERT INTO cihazlar VALUES(\n",
        "    'Mahmut Tuncer',\n",
        "    'Furkan Kazan',\n",
        "    'Apple',\n",
        "    'Iphone 13 Pro Max',\n",
        "    256,\n",
        "    16,\n",
        "   20000\n",
        "    )\"\"\")\n",
        "\n",
        "conn.commit()"
      ],
      "metadata": {
        "id": "eej4tT-9UYRU"
      },
      "execution_count": null,
      "outputs": []
    },
    {
      "cell_type": "code",
      "source": [
        "c.execute(\"\"\"INSERT INTO cihazlar VALUES(\n",
        "    'Tarkan',\n",
        "    'Furkan Kazan',\n",
        "    'Apple',\n",
        "    'Iphone 15 Pro Max',\n",
        "    512,\n",
        "    32,\n",
        "    80000\n",
        "    )\"\"\")\n",
        "\n",
        "conn.commit()"
      ],
      "metadata": {
        "id": "gHtTquDFULJV"
      },
      "execution_count": null,
      "outputs": []
    },
    {
      "cell_type": "code",
      "source": [
        "c.execute(\"SELECT * FROM cihazlar\")\n",
        "\n",
        "sonuc=c.fetchall()\n",
        "\n",
        "sonuc"
      ],
      "metadata": {
        "colab": {
          "base_uri": "https://localhost:8080/"
        },
        "id": "fFIORiGTUcMd",
        "outputId": "e626d7be-4df6-4e21-c606-6cabf6e109e0"
      },
      "execution_count": null,
      "outputs": [
        {
          "output_type": "execute_result",
          "data": {
            "text/plain": [
              "[('Tarkan', 'Furkan Kazan', 'Apple', 'Iphone 15 Pro Max', 512, 32, 80000.0),\n",
              " ('Mahmut Tuncer',\n",
              "  'Furkan Kazan',\n",
              "  'Apple',\n",
              "  'Iphone 13 Pro Max',\n",
              "  256,\n",
              "  16,\n",
              "  20000.0),\n",
              " ('Mahmut Tuncer',\n",
              "  'Furkan Kazan',\n",
              "  'Apple',\n",
              "  'Iphone 13 Pro Max',\n",
              "  256,\n",
              "  16,\n",
              "  20000.0),\n",
              " ('Tarkan', 'Furkan Kazan', 'Apple', 'Iphone 15 Pro Max', 512, 32, 80000.0)]"
            ]
          },
          "metadata": {},
          "execution_count": 46
        }
      ]
    },
    {
      "cell_type": "code",
      "source": [
        "def cihazekle(isim,personel,marka,model,ssd,ram,fiyat):\n",
        "  conn = sqlite3.connect(\"damla.sqlite\") #bu isimde veritabanı varsa bağlanır yoksa oluşturup bağlanır\n",
        "  c = conn.cursor()\n",
        "  c.execute(\"INSERT INTO cihazlar VALUES(?,?,?,?,?,?,?)\",\n",
        "            (isim,personel,marka,model,ssd,ram,fiyat))\n",
        "  conn.commit()"
      ],
      "metadata": {
        "id": "tvVZlasoVOG8"
      },
      "execution_count": null,
      "outputs": []
    },
    {
      "cell_type": "code",
      "source": [
        "cihazekle('Ajdar','Gökhan','Samsung','S24',256,16,10000)"
      ],
      "metadata": {
        "id": "CulzZqGBWMIR"
      },
      "execution_count": null,
      "outputs": []
    },
    {
      "cell_type": "code",
      "source": [
        "c.execute(\"SELECT * FROM cihazlar\")\n",
        "\n",
        "sonuc=c.fetchall()\n",
        "\n",
        "sonuc"
      ],
      "metadata": {
        "colab": {
          "base_uri": "https://localhost:8080/"
        },
        "id": "mAVxUHM_WhaB",
        "outputId": "843129a4-b660-4bd6-9c5e-3fbf0d8a6029"
      },
      "execution_count": null,
      "outputs": [
        {
          "output_type": "execute_result",
          "data": {
            "text/plain": [
              "[('Tarkan', 'Furkan Kazan', 'Apple', 'Iphone 15 Pro Max', 512, 32, 80000.0),\n",
              " ('Mahmut Tuncer',\n",
              "  'Furkan Kazan',\n",
              "  'Apple',\n",
              "  'Iphone 13 Pro Max',\n",
              "  256,\n",
              "  16,\n",
              "  20000.0),\n",
              " ('Mahmut Tuncer',\n",
              "  'Furkan Kazan',\n",
              "  'Apple',\n",
              "  'Iphone 13 Pro Max',\n",
              "  256,\n",
              "  16,\n",
              "  20000.0),\n",
              " ('Tarkan', 'Furkan Kazan', 'Apple', 'Iphone 15 Pro Max', 512, 32, 80000.0),\n",
              " ('Ajdar', 'Gökhan', 'Samsung', 'S24', 256, 16, 10000.0)]"
            ]
          },
          "metadata": {},
          "execution_count": 51
        }
      ]
    },
    {
      "cell_type": "code",
      "source": [
        "def verigetir(tabloisim):\n",
        "  conn = sqlite3.connect(\"damla.sqlite\") #bu isimde veritabanı varsa bağlanır yoksa oluşturup bağlanır\n",
        "  c = conn.cursor()\n",
        "  komut = \"SELECT * FROM \"+tabloisim\n",
        "  c.execute(komut)\n",
        "  return c.fetchall()\n"
      ],
      "metadata": {
        "id": "fbGX71zMWxaf"
      },
      "execution_count": null,
      "outputs": []
    },
    {
      "cell_type": "code",
      "source": [
        "verigetir(\"cihazlar\")"
      ],
      "metadata": {
        "colab": {
          "base_uri": "https://localhost:8080/"
        },
        "id": "DOifWQtcXieX",
        "outputId": "cf3e2ada-2b2d-4425-d175-8168249a17bc"
      },
      "execution_count": null,
      "outputs": [
        {
          "output_type": "execute_result",
          "data": {
            "text/plain": [
              "[('Tarkan', 'Furkan Kazan', 'Apple', 'Iphone 15 Pro Max', 512, 32, 80000.0),\n",
              " ('Mahmut Tuncer',\n",
              "  'Furkan Kazan',\n",
              "  'Apple',\n",
              "  'Iphone 13 Pro Max',\n",
              "  256,\n",
              "  16,\n",
              "  20000.0),\n",
              " ('Mahmut Tuncer',\n",
              "  'Furkan Kazan',\n",
              "  'Apple',\n",
              "  'Iphone 13 Pro Max',\n",
              "  256,\n",
              "  16,\n",
              "  20000.0),\n",
              " ('Tarkan', 'Furkan Kazan', 'Apple', 'Iphone 15 Pro Max', 512, 32, 80000.0),\n",
              " ('Ajdar', 'Gökhan', 'Samsung', 'S24', 256, 16, 10000.0)]"
            ]
          },
          "metadata": {},
          "execution_count": 52
        }
      ]
    },
    {
      "cell_type": "code",
      "source": [
        "# ÖDEV 1\n",
        "#SQL CRUD İşlemleri youtube izleyin\n",
        "#https://www.youtube.com/watch?v=OwJRqwok1gs&t=580s"
      ],
      "metadata": {
        "id": "HosLcSCPYYh1"
      },
      "execution_count": null,
      "outputs": []
    },
    {
      "cell_type": "code",
      "source": [
        "import sqlite3\n",
        "conn = sqlite3.connect(\"doga.sqlite\")\n",
        "c = conn.cursor()\n",
        "\n",
        "c.execute(\"CREATE TABLE IF NOT EXISTS ozdeyisler(isim TEXT, soz TEXT, yil INTEGER)\")\n",
        "conn.commit()"
      ],
      "metadata": {
        "id": "G19mru7mYiy0"
      },
      "execution_count": null,
      "outputs": []
    },
    {
      "cell_type": "code",
      "source": [
        "c.execute(\"INSERT INTO ozdeyisler VALUES('Tarkan', 'İşte kuzu kuzu geldim',2001)\")\n",
        "conn.commit"
      ],
      "metadata": {
        "id": "jp79xW_9NHWD"
      },
      "execution_count": null,
      "outputs": []
    },
    {
      "cell_type": "code",
      "source": [
        "c.execute(\"SELECT * FROM ozdeyisler\")\n",
        "c.fetchall()"
      ],
      "metadata": {
        "colab": {
          "base_uri": "https://localhost:8080/"
        },
        "id": "rO5IYtNqNof5",
        "outputId": "605f33e8-db13-4e1b-93d8-dcdef11f4bf0"
      },
      "execution_count": null,
      "outputs": [
        {
          "output_type": "execute_result",
          "data": {
            "text/plain": [
              "[('Tarkan', 'İşte kuzu kuzu geldim', 2001),\n",
              " ('Serdar Ortaç', 'Seni çöpe atacağım poşete yazık', 2007),\n",
              " ('Serdar Ortaç', 'Seni çöpe atacağım poşete yazık', 2007),\n",
              " ('Serdar Ortaç', 'Seni çöpe atacağım poşete yazık', 2007),\n",
              " ('Serdar Ortaç', 'Seni çöpe atacağım poşete yazık', 2007),\n",
              " ('Cemal Süreya', 'Adımın bir harfini atıyorum', 1956)]"
            ]
          },
          "metadata": {},
          "execution_count": 16
        }
      ]
    },
    {
      "cell_type": "code",
      "source": [
        "c.execute(\"INSERT INTO ozdeyisler VALUES('Serdar Ortaç', 'Seni çöpe atacağım poşete yazık',2007)\")\n",
        "conn.commit()"
      ],
      "metadata": {
        "id": "uwH42cD8NziZ"
      },
      "execution_count": null,
      "outputs": []
    },
    {
      "cell_type": "code",
      "source": [
        "#SQL İnjection'dan kaçınma yöntemi (Daha Güvenli Yöntem)\n",
        "\n",
        "c.execute(\"INSERT INTO ozdeyisler VALUES(?,?,?)\",('Serdar Ortaç', 'Seni çöpe atacağım poşete yazık',2007))\n",
        "conn.commit()"
      ],
      "metadata": {
        "id": "N1g0rLn0OKKA"
      },
      "execution_count": null,
      "outputs": []
    },
    {
      "cell_type": "code",
      "source": [
        "c.execute(\"INSERT INTO ozdeyisler VALUES(?,?,?)\",('Cemal Süreya', 'Adımın bir harfini atıyorum',1956))\n",
        "conn.commit()"
      ],
      "metadata": {
        "id": "S3EQ--iGPXoX"
      },
      "execution_count": null,
      "outputs": []
    },
    {
      "cell_type": "code",
      "source": [
        "c.execute(\"SELECT * FROM ozdeyisler\")\n",
        "c.fetchall()"
      ],
      "metadata": {
        "colab": {
          "base_uri": "https://localhost:8080/"
        },
        "id": "XtMiTIX1PmKd",
        "outputId": "e9075ca1-cedc-41d0-e643-1e2857ad9ec3"
      },
      "execution_count": null,
      "outputs": [
        {
          "output_type": "execute_result",
          "data": {
            "text/plain": [
              "[('Tarkan', 'İşte kuzu kuzu geldim', 2001),\n",
              " ('Serdar Ortaç', 'Seni çöpe atacağım poşete yazık', 2007),\n",
              " ('Serdar Ortaç', 'Seni çöpe atacağım poşete yazık', 2007),\n",
              " ('Serdar Ortaç', 'Seni çöpe atacağım poşete yazık', 2007),\n",
              " ('Serdar Ortaç', 'Seni çöpe atacağım poşete yazık', 2007),\n",
              " ('Cemal Süreya', 'Adımın bir harfini atıyorum', 1956)]"
            ]
          },
          "metadata": {},
          "execution_count": 21
        }
      ]
    },
    {
      "cell_type": "code",
      "source": [
        "c.execute(\"SELECT * FROM ozdeyisler ORDER BY yil DESC\") #Descending\n",
        "c.fetchall()"
      ],
      "metadata": {
        "colab": {
          "base_uri": "https://localhost:8080/"
        },
        "id": "txtFU1AePz-U",
        "outputId": "06879376-59e6-4ded-f2c6-81fa5b89424b"
      },
      "execution_count": null,
      "outputs": [
        {
          "output_type": "execute_result",
          "data": {
            "text/plain": [
              "[('Serdar Ortaç', 'Seni çöpe atacağım poşete yazık', 2007),\n",
              " ('Serdar Ortaç', 'Seni çöpe atacağım poşete yazık', 2007),\n",
              " ('Serdar Ortaç', 'Seni çöpe atacağım poşete yazık', 2007),\n",
              " ('Serdar Ortaç', 'Seni çöpe atacağım poşete yazık', 2007),\n",
              " ('Tarkan', 'İşte kuzu kuzu geldim', 2001),\n",
              " ('Cemal Süreya', 'Adımın bir harfini atıyorum', 1956)]"
            ]
          },
          "metadata": {},
          "execution_count": 24
        }
      ]
    },
    {
      "cell_type": "code",
      "source": [
        "c.execute(\"DELETE FROM ozdeyisler WHERE isim='Tarkan'\")\n",
        "conn.commit()"
      ],
      "metadata": {
        "id": "rTywwm32Qu4D"
      },
      "execution_count": null,
      "outputs": []
    },
    {
      "cell_type": "code",
      "source": [
        "c.execute(\"SELECT * FROM ozdeyisler\")\n",
        "c.fetchall()"
      ],
      "metadata": {
        "colab": {
          "base_uri": "https://localhost:8080/"
        },
        "id": "UjWROB2LREyq",
        "outputId": "236baba6-6c78-4a59-d2ef-957953d113c8"
      },
      "execution_count": null,
      "outputs": [
        {
          "output_type": "execute_result",
          "data": {
            "text/plain": [
              "[('Serdar Ortaç', 'Seni çöpe atacağım poşete yazık', 2007),\n",
              " ('Serdar Ortaç', 'Seni çöpe atacağım poşete yazık', 2007),\n",
              " ('Serdar Ortaç', 'Seni çöpe atacağım poşete yazık', 2007),\n",
              " ('Serdar Ortaç', 'Seni çöpe atacağım poşete yazık', 2007),\n",
              " ('Cemal Süreya', 'Adımın bir harfini atıyorum', 1956)]"
            ]
          },
          "metadata": {},
          "execution_count": 27
        }
      ]
    },
    {
      "cell_type": "code",
      "source": [
        "#Pycharm Demirbaş (main.py sayfası)\n",
        "\"\"\"\n",
        "import streamlit as st\n",
        "import sqlite3\n",
        "\n",
        "conn = sqlite3.connect(\"demirbasveri.sqlite\")\n",
        "c = conn.cursor()\n",
        "\n",
        "st.title(\"Dasboard\")\n",
        "\"\"\""
      ],
      "metadata": {
        "id": "Vjw1HfLUnr0V"
      },
      "execution_count": null,
      "outputs": []
    },
    {
      "cell_type": "code",
      "source": [
        "#Pycharm Demirbaş (demirbasekle.py sayfası)\n",
        "\"\"\"\n",
        "import streamlit as st\n",
        "import sqlite3\n",
        "\n",
        "conn = sqlite3.connect(\"demirbasveri.sqlite\")\n",
        "c = conn.cursor()\n",
        "c.execute(\"\"\"CREATE TABLE IF NOT EXISTS demirbaslar(\n",
        "    isim TEXT,\n",
        "    kod TEXT,\n",
        "    fiyat REAL,\n",
        "    sure INTEGER,\n",
        "    tarih TEXT\n",
        "    )\"\"\")\n",
        "conn.commit()\n",
        "\n",
        "st.title(\"Demirbaş Ekle\")\n",
        "\n",
        "with st.form(\"demirbasekle\",clear_on_submit=True):\n",
        "    isim = st.text_input(\"Demirbaş İsmi\")\n",
        "    kod = st.text_input(\"Demirbaş Kodu\")\n",
        "    fiyat = st.number_input(\"Fiyatı\")\n",
        "    sure =  st.selectbox(\"Amortisman Süresi\",[3,5,10])\n",
        "    tarih = st.date_input(\"Satın Alma Tarihi\")\n",
        "    ekle = st.form_submit_button(\"Demirbaş Ekle\")\n",
        "    if ekle:\n",
        "        c.execute(\"INSERT INTO demirbaslar VALUES(?,?,?,?,?)\",\n",
        "                  (isim,kod,fiyat,sure,tarih))\n",
        "        conn.commit()\n",
        "        st.success(\"Demirbaş Başarıyla Kaydedildi\")\n",
        "\"\"\""
      ],
      "metadata": {
        "id": "PiiT4MR2n-7t"
      },
      "execution_count": null,
      "outputs": []
    },
    {
      "cell_type": "code",
      "source": [
        "#Pycharm Demirbaş (demirbaslar.py sayfası)\n",
        "\"\"\"\n",
        "import streamlit as st\n",
        "import sqlite3\n",
        "import pandas as pd\n",
        "\n",
        "conn = sqlite3.connect(\"demirbasveri.sqlite\")\n",
        "c = conn.cursor()\n",
        "\n",
        "c.execute(\"SELECT * FROM demirbaslar\")\n",
        "sonuc = c.fetchall()\n",
        "\n",
        "tablo = pd.DataFrame(sonuc)\n",
        "tablo.columns = [\"İsim\",\"Kod\",\"Fiyat\",\"Süre\",\"Tarih\"]\n",
        "\n",
        "st.table(tablo)\n",
        "\n",
        "st.snow()\n",
        "\"\"\""
      ],
      "metadata": {
        "id": "bjkKLXwCoLKr"
      },
      "execution_count": null,
      "outputs": []
    },
    {
      "cell_type": "code",
      "source": [
        "#SET (KÜME)\n",
        "\n",
        "sayilar = [1,1,2,3,4,5,5]\n",
        "\n",
        "\n",
        "len(sayilar)"
      ],
      "metadata": {
        "colab": {
          "base_uri": "https://localhost:8080/"
        },
        "id": "VDteMjKWoTRD",
        "outputId": "63546995-0de6-433b-ac55-1802396f7c04"
      },
      "execution_count": null,
      "outputs": [
        {
          "output_type": "execute_result",
          "data": {
            "text/plain": [
              "7"
            ]
          },
          "metadata": {},
          "execution_count": 29
        }
      ]
    },
    {
      "cell_type": "code",
      "source": [
        "sayilar2 = set(sayilar)\n",
        "\n",
        "sayilar2"
      ],
      "metadata": {
        "colab": {
          "base_uri": "https://localhost:8080/"
        },
        "id": "126tPJ-4oqsC",
        "outputId": "b04bf96b-4fa9-478f-9c90-99b4229cf5e6"
      },
      "execution_count": null,
      "outputs": [
        {
          "output_type": "execute_result",
          "data": {
            "text/plain": [
              "{1, 2, 3, 4, 5}"
            ]
          },
          "metadata": {},
          "execution_count": 30
        }
      ]
    },
    {
      "cell_type": "code",
      "source": [
        "dir(set)"
      ],
      "metadata": {
        "colab": {
          "base_uri": "https://localhost:8080/"
        },
        "id": "hXvrwluno8jB",
        "outputId": "05ec0fcc-f34e-44c0-c966-eb73a5d6685d"
      },
      "execution_count": null,
      "outputs": [
        {
          "output_type": "execute_result",
          "data": {
            "text/plain": [
              "['__and__',\n",
              " '__class__',\n",
              " '__class_getitem__',\n",
              " '__contains__',\n",
              " '__delattr__',\n",
              " '__dir__',\n",
              " '__doc__',\n",
              " '__eq__',\n",
              " '__format__',\n",
              " '__ge__',\n",
              " '__getattribute__',\n",
              " '__gt__',\n",
              " '__hash__',\n",
              " '__iand__',\n",
              " '__init__',\n",
              " '__init_subclass__',\n",
              " '__ior__',\n",
              " '__isub__',\n",
              " '__iter__',\n",
              " '__ixor__',\n",
              " '__le__',\n",
              " '__len__',\n",
              " '__lt__',\n",
              " '__ne__',\n",
              " '__new__',\n",
              " '__or__',\n",
              " '__rand__',\n",
              " '__reduce__',\n",
              " '__reduce_ex__',\n",
              " '__repr__',\n",
              " '__ror__',\n",
              " '__rsub__',\n",
              " '__rxor__',\n",
              " '__setattr__',\n",
              " '__sizeof__',\n",
              " '__str__',\n",
              " '__sub__',\n",
              " '__subclasshook__',\n",
              " '__xor__',\n",
              " 'add',\n",
              " 'clear',\n",
              " 'copy',\n",
              " 'difference',\n",
              " 'difference_update',\n",
              " 'discard',\n",
              " 'intersection',\n",
              " 'intersection_update',\n",
              " 'isdisjoint',\n",
              " 'issubset',\n",
              " 'issuperset',\n",
              " 'pop',\n",
              " 'remove',\n",
              " 'symmetric_difference',\n",
              " 'symmetric_difference_update',\n",
              " 'union',\n",
              " 'update']"
            ]
          },
          "metadata": {},
          "execution_count": 31
        }
      ]
    },
    {
      "cell_type": "code",
      "source": [
        "sayilar2.remove(4)\n"
      ],
      "metadata": {
        "id": "YZ821UpHpKA5"
      },
      "execution_count": null,
      "outputs": []
    },
    {
      "cell_type": "code",
      "source": [
        "sayilar2"
      ],
      "metadata": {
        "colab": {
          "base_uri": "https://localhost:8080/"
        },
        "id": "ExQ2iXR2pNix",
        "outputId": "9e5c126b-354e-4a52-b45b-3baa15daff6c"
      },
      "execution_count": null,
      "outputs": [
        {
          "output_type": "execute_result",
          "data": {
            "text/plain": [
              "{3, 5}"
            ]
          },
          "metadata": {},
          "execution_count": 37
        }
      ]
    },
    {
      "cell_type": "code",
      "source": [
        "sayilar = {1,7,9,12,15}\n",
        "sayilar2 = {1,7,9,12,15,18,19}\n",
        "\n",
        "sayilar.issubset(sayilar2)"
      ],
      "metadata": {
        "colab": {
          "base_uri": "https://localhost:8080/"
        },
        "id": "LO5icg99phYQ",
        "outputId": "47d4a8b8-10e3-4ccb-886b-51f7f9e5e31f"
      },
      "execution_count": null,
      "outputs": [
        {
          "output_type": "execute_result",
          "data": {
            "text/plain": [
              "True"
            ]
          },
          "metadata": {},
          "execution_count": 38
        }
      ]
    },
    {
      "cell_type": "code",
      "source": [
        "#ÖDEV Video İzleme\n",
        "\n",
        "#https://www.youtube.com/watch?v=64lQAVfWkwY&list=PL3ED48mWmYxrX1gBE6pz2J0tMkw5lBUQ-"
      ],
      "metadata": {
        "id": "IhlZBMYOp_RH"
      },
      "execution_count": null,
      "outputs": []
    }
  ]
}