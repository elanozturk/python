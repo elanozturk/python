{
  "nbformat": 4,
  "nbformat_minor": 0,
  "metadata": {
    "colab": {
      "provenance": [],
      "authorship_tag": "ABX9TyPQ3hyGnjlVYtKDCBE9VOF9",
      "include_colab_link": true
    },
    "kernelspec": {
      "name": "python3",
      "display_name": "Python 3"
    },
    "language_info": {
      "name": "python"
    }
  },
  "cells": [
    {
      "cell_type": "markdown",
      "metadata": {
        "id": "view-in-github",
        "colab_type": "text"
      },
      "source": [
        "<a href=\"https://colab.research.google.com/github/elanozturk/python/blob/main/Ders_6_.ipynb\" target=\"_parent\"><img src=\"https://colab.research.google.com/assets/colab-badge.svg\" alt=\"Open In Colab\"/></a>"
      ]
    },
    {
      "cell_type": "code",
      "execution_count": 13,
      "metadata": {
        "id": "cMzKa_w8xUAV",
        "colab": {
          "base_uri": "https://localhost:8080/"
        },
        "outputId": "ee8a2b93-b162-438d-9052-b416ff0f12ea"
      },
      "outputs": [
        {
          "output_type": "stream",
          "name": "stdout",
          "text": [
            "['\\\\', 'A', '3', 'G', 'L', '$', 'U', '1']\n",
            "\\-A-3-G-L-$-U-1\n"
          ]
        }
      ],
      "source": [
        "import random\n",
        "import string\n",
        "\n",
        "b = random.sample(string.ascii_uppercase, k=2)\n",
        "k = random.sample(string.ascii_uppercase, k=2)\n",
        "s = random.sample(string.digits, k=2)\n",
        "p = random.sample(string.punctuation, k=2)\n",
        "\n",
        "sifre = b + k + s + p\n",
        "\n",
        "random.shuffle(sifre)\n",
        "\n",
        "print(sifre)\n",
        "\n",
        "sifre = \"-\".join(sifre)\n",
        "\n",
        "print(sifre)"
      ]
    },
    {
      "cell_type": "code",
      "source": [
        "import string\n",
        "b=string.ascii_uppercase\n",
        "k=string.ascii_lowercase\n",
        "s=string.digits\n",
        "p=string.punctuation\n",
        "\n",
        "sifre = \"Gx36*21_ğ\"\n",
        "\n",
        "bsay=0\n",
        "ksay=0\n",
        "ssay=0\n",
        "psay=0\n",
        "\n",
        "for karakter in sifre:\n",
        "  bsay=bsay+b.count(karakter)\n",
        "  ksay=ksay+k.count(karakter)\n",
        "  ssay=ssay+s.count(karakter)\n",
        "  psay=psay+p.count(karakter)\n",
        "#if len(sifre) >= 8 and bsay >0 and ksay>0 and ssay>0 and psay>0:\n",
        "if len(sifre) >= 8 and (bsay*ksay*ssay*psay)>0:\n",
        "  print(\"Şifre güvenilir\")\n",
        "else:\n",
        "  print(\"Şifre güvensiz!\")"
      ],
      "metadata": {
        "colab": {
          "base_uri": "https://localhost:8080/"
        },
        "id": "atUBlVFoEmbe",
        "outputId": "781a2b07-3844-4a64-f989-cd210a1cd81e"
      },
      "execution_count": 26,
      "outputs": [
        {
          "output_type": "stream",
          "name": "stdout",
          "text": [
            "Şifre güvenilir\n"
          ]
        }
      ]
    },
    {
      "cell_type": "code",
      "source": [
        "#SÖZLÜKLER"
      ],
      "metadata": {
        "id": "xX_Yzx44N1cJ"
      },
      "execution_count": null,
      "outputs": []
    },
    {
      "cell_type": "code",
      "source": [
        "markalar = {\n",
        "    \"Ford\":\"USA\",\n",
        "    \"Mustang\":\"USA\",\n",
        "    \"Nissan\":\"Japan\",\n",
        "    \"BMW\":\"Germany\",\n",
        "    \"TOGG\":\"Türkiye\"\n",
        "    }\n",
        "type(markalar)"
      ],
      "metadata": {
        "colab": {
          "base_uri": "https://localhost:8080/"
        },
        "id": "AuB4yExKN4m4",
        "outputId": "c2f0e209-d407-4464-a2d2-aba8b839d914"
      },
      "execution_count": 58,
      "outputs": [
        {
          "output_type": "execute_result",
          "data": {
            "text/plain": [
              "dict"
            ]
          },
          "metadata": {},
          "execution_count": 58
        }
      ]
    },
    {
      "cell_type": "code",
      "source": [
        "len(markalar)"
      ],
      "metadata": {
        "colab": {
          "base_uri": "https://localhost:8080/"
        },
        "id": "n54aqy42OqsA",
        "outputId": "e5b20829-925c-4c22-95fb-297e0fdf5f2e"
      },
      "execution_count": 28,
      "outputs": [
        {
          "output_type": "execute_result",
          "data": {
            "text/plain": [
              "5"
            ]
          },
          "metadata": {},
          "execution_count": 28
        }
      ]
    },
    {
      "cell_type": "code",
      "source": [
        "markalar.get(\"Mustang\")"
      ],
      "metadata": {
        "colab": {
          "base_uri": "https://localhost:8080/",
          "height": 35
        },
        "id": "uFHVBGGpOt26",
        "outputId": "2fad9b9b-951c-4fac-be99-4c5147665db1"
      },
      "execution_count": 29,
      "outputs": [
        {
          "output_type": "execute_result",
          "data": {
            "text/plain": [
              "'USA'"
            ],
            "application/vnd.google.colaboratory.intrinsic+json": {
              "type": "string"
            }
          },
          "metadata": {},
          "execution_count": 29
        }
      ]
    },
    {
      "cell_type": "code",
      "source": [
        "markalar[\"Mustang\"]"
      ],
      "metadata": {
        "colab": {
          "base_uri": "https://localhost:8080/",
          "height": 35
        },
        "id": "n5p9zf-wPEtw",
        "outputId": "2b7949a0-41f5-4e92-ab38-ee3f32e212b8"
      },
      "execution_count": 33,
      "outputs": [
        {
          "output_type": "execute_result",
          "data": {
            "text/plain": [
              "'USA'"
            ],
            "application/vnd.google.colaboratory.intrinsic+json": {
              "type": "string"
            }
          },
          "metadata": {},
          "execution_count": 33
        }
      ]
    },
    {
      "cell_type": "code",
      "source": [
        "markalar"
      ],
      "metadata": {
        "colab": {
          "base_uri": "https://localhost:8080/"
        },
        "id": "2vinw5jvP_FK",
        "outputId": "2b27fce8-6174-48dd-9c1b-282a539a49c4"
      },
      "execution_count": 36,
      "outputs": [
        {
          "output_type": "execute_result",
          "data": {
            "text/plain": [
              "{'Ford': 'USA',\n",
              " 'Mustang': 'USA',\n",
              " 'Nissan': 'Japan',\n",
              " 'BMW': 'Germany',\n",
              " 'TOGG': 'Türkiye'}"
            ]
          },
          "metadata": {},
          "execution_count": 36
        }
      ]
    },
    {
      "cell_type": "code",
      "source": [
        "markalar[\"Lada\"] = \"Russia\""
      ],
      "metadata": {
        "id": "OH2npj9EQak2"
      },
      "execution_count": 59,
      "outputs": []
    },
    {
      "cell_type": "code",
      "source": [
        "markalar"
      ],
      "metadata": {
        "colab": {
          "base_uri": "https://localhost:8080/"
        },
        "id": "PpVJYi_GQhrN",
        "outputId": "e68659aa-1a29-4bd3-d32a-806d94e619f3"
      },
      "execution_count": 57,
      "outputs": [
        {
          "output_type": "execute_result",
          "data": {
            "text/plain": [
              "{'Ford': 'USA',\n",
              " 'Mustang': 'USA',\n",
              " 'Nissan': 'Japan',\n",
              " 'BMW': 'Germany',\n",
              " 'TOGG': 'Türkiye',\n",
              " 'Lada': 'Russia',\n",
              " 'Mercedes': 'Germany',\n",
              " 'Oper': 'Germany',\n",
              " 'Opel': 'Germany'}"
            ]
          },
          "metadata": {},
          "execution_count": 57
        }
      ]
    },
    {
      "cell_type": "code",
      "source": [
        "markalar.keys()\n"
      ],
      "metadata": {
        "colab": {
          "base_uri": "https://localhost:8080/"
        },
        "id": "KqHwKKHsQsc4",
        "outputId": "80727e59-9adb-427d-df36-a459d87988a0"
      },
      "execution_count": 39,
      "outputs": [
        {
          "output_type": "execute_result",
          "data": {
            "text/plain": [
              "dict_keys(['Ford', 'Mustang', 'Nissan', 'BMW', 'TOGG', 'Lada'])"
            ]
          },
          "metadata": {},
          "execution_count": 39
        }
      ]
    },
    {
      "cell_type": "code",
      "source": [
        "markalar.values()"
      ],
      "metadata": {
        "colab": {
          "base_uri": "https://localhost:8080/"
        },
        "id": "NJ8yjYmMREix",
        "outputId": "13d6eb9e-0ced-4776-ebbf-3f776ae67f8b"
      },
      "execution_count": 41,
      "outputs": [
        {
          "output_type": "execute_result",
          "data": {
            "text/plain": [
              "dict_values(['USA', 'USA', 'Japan', 'Germany', 'Türkiye', 'Russia'])"
            ]
          },
          "metadata": {},
          "execution_count": 41
        }
      ]
    },
    {
      "cell_type": "code",
      "source": [
        "markalar.items()"
      ],
      "metadata": {
        "colab": {
          "base_uri": "https://localhost:8080/"
        },
        "id": "74KF5DhPRS70",
        "outputId": "9f54bad2-f221-4a32-8318-5d04eac681a8"
      },
      "execution_count": 42,
      "outputs": [
        {
          "output_type": "execute_result",
          "data": {
            "text/plain": [
              "dict_items([('Ford', 'USA'), ('Mustang', 'USA'), ('Nissan', 'Japan'), ('BMW', 'Germany'), ('TOGG', 'Türkiye'), ('Lada', 'Russia')])"
            ]
          },
          "metadata": {},
          "execution_count": 42
        }
      ]
    },
    {
      "cell_type": "code",
      "source": [
        "list(markalar.keys())"
      ],
      "metadata": {
        "colab": {
          "base_uri": "https://localhost:8080/"
        },
        "id": "PdEFlI0eRXql",
        "outputId": "dbf0c264-9093-4006-daed-c104ac31794b"
      },
      "execution_count": 44,
      "outputs": [
        {
          "output_type": "execute_result",
          "data": {
            "text/plain": [
              "['Ford', 'Mustang', 'Nissan', 'BMW', 'TOGG', 'Lada']"
            ]
          },
          "metadata": {},
          "execution_count": 44
        }
      ]
    },
    {
      "cell_type": "code",
      "source": [
        "markalar[\"Mercedes\"] = \"Germany\"\n",
        "markalar[\"Opel\"] = \"Germany\""
      ],
      "metadata": {
        "id": "CxRKocq2Riu8"
      },
      "execution_count": 60,
      "outputs": []
    },
    {
      "cell_type": "code",
      "source": [
        "markalar"
      ],
      "metadata": {
        "colab": {
          "base_uri": "https://localhost:8080/"
        },
        "id": "3xk3kZmeSLD1",
        "outputId": "7e2416f1-5c71-4186-ec89-bfb00b71aebb"
      },
      "execution_count": 61,
      "outputs": [
        {
          "output_type": "execute_result",
          "data": {
            "text/plain": [
              "{'Ford': 'USA',\n",
              " 'Mustang': 'USA',\n",
              " 'Nissan': 'Japan',\n",
              " 'BMW': 'Germany',\n",
              " 'TOGG': 'Türkiye',\n",
              " 'Lada': 'Russia',\n",
              " 'Mercedes': 'Germany',\n",
              " 'Opel': 'Germany'}"
            ]
          },
          "metadata": {},
          "execution_count": 61
        }
      ]
    },
    {
      "cell_type": "code",
      "source": [
        "alman_markalari = [marka for marka, ulke in markalar.items() if ulke == \"Germany\"]\n",
        "print(alman_markalari)"
      ],
      "metadata": {
        "colab": {
          "base_uri": "https://localhost:8080/"
        },
        "id": "v7HaJw_GSO1U",
        "outputId": "0deb41c0-0cc8-4b1e-aa8e-1d879076a6ad"
      },
      "execution_count": 48,
      "outputs": [
        {
          "output_type": "stream",
          "name": "stdout",
          "text": [
            "['BMW', 'Mercedes']\n"
          ]
        }
      ]
    },
    {
      "cell_type": "code",
      "source": [
        "alman_markalari = []\n",
        "\n",
        "for marka, ulke in markalar.items():\n",
        "    if ulke == \"Germany\":\n",
        "        alman_markalari.append(marka)\n",
        "\n",
        "print(\"Alman markaları:\", alman_markalari)"
      ],
      "metadata": {
        "colab": {
          "base_uri": "https://localhost:8080/"
        },
        "id": "KfnnZsW3SuhS",
        "outputId": "2bdb375a-077e-42d2-92be-166a71334fae"
      },
      "execution_count": 49,
      "outputs": [
        {
          "output_type": "stream",
          "name": "stdout",
          "text": [
            "Alman markaları: ['BMW', 'Mercedes']\n"
          ]
        }
      ]
    },
    {
      "cell_type": "code",
      "source": [
        "for x in markalar.keys():\n",
        "  if markalar[x] ==\"Germany\":\n",
        "    print(x)"
      ],
      "metadata": {
        "colab": {
          "base_uri": "https://localhost:8080/"
        },
        "id": "y9Qd39EeS0o1",
        "outputId": "b61d08ba-a2a6-489a-d4f6-22cbee4a663d"
      },
      "execution_count": 66,
      "outputs": [
        {
          "output_type": "stream",
          "name": "stdout",
          "text": [
            "BMW\n",
            "Mercedes\n",
            "Opel\n"
          ]
        }
      ]
    },
    {
      "cell_type": "code",
      "source": [
        "for x in markalar.keys():\n",
        "  if markalar[x] !=\"Germany\":\n",
        "    print(x)"
      ],
      "metadata": {
        "id": "GhuE3FuDVwAJ"
      },
      "execution_count": null,
      "outputs": []
    },
    {
      "cell_type": "code",
      "source": [
        "markalar[\"Toyota\"] = \"Japan\""
      ],
      "metadata": {
        "id": "DV8YgQgwWSyf"
      },
      "execution_count": 70,
      "outputs": []
    },
    {
      "cell_type": "code",
      "source": [
        "markalar"
      ],
      "metadata": {
        "colab": {
          "base_uri": "https://localhost:8080/"
        },
        "id": "ZhHLpcr5Wf2b",
        "outputId": "a426049e-d284-439e-ec31-b182bb935cd8"
      },
      "execution_count": 72,
      "outputs": [
        {
          "output_type": "execute_result",
          "data": {
            "text/plain": [
              "{'Ford': 'USA',\n",
              " 'Mustang': 'USA',\n",
              " 'Nissan': 'Japan',\n",
              " 'BMW': 'Germany',\n",
              " 'TOGG': 'Türkiye',\n",
              " 'Lada': 'Russia',\n",
              " 'Mercedes': 'Germany',\n",
              " 'Opel': 'Germany',\n",
              " 'Toyota': 'Japan'}"
            ]
          },
          "metadata": {},
          "execution_count": 72
        }
      ]
    },
    {
      "cell_type": "code",
      "source": [
        "markalar.pop(\"Toyota\")"
      ],
      "metadata": {
        "colab": {
          "base_uri": "https://localhost:8080/",
          "height": 35
        },
        "id": "qVySEwdYW8vN",
        "outputId": "49c341fa-3b13-43bc-94ff-7c8673911b0d"
      },
      "execution_count": 73,
      "outputs": [
        {
          "output_type": "execute_result",
          "data": {
            "text/plain": [
              "'Japan'"
            ],
            "application/vnd.google.colaboratory.intrinsic+json": {
              "type": "string"
            }
          },
          "metadata": {},
          "execution_count": 73
        }
      ]
    },
    {
      "cell_type": "code",
      "source": [
        "markalar"
      ],
      "metadata": {
        "colab": {
          "base_uri": "https://localhost:8080/"
        },
        "id": "29MTc5q-XBLG",
        "outputId": "5f69a81e-7367-4d08-ce19-56be01a99787"
      },
      "execution_count": 74,
      "outputs": [
        {
          "output_type": "execute_result",
          "data": {
            "text/plain": [
              "{'Ford': 'USA',\n",
              " 'Mustang': 'USA',\n",
              " 'Nissan': 'Japan',\n",
              " 'BMW': 'Germany',\n",
              " 'TOGG': 'Türkiye',\n",
              " 'Lada': 'Russia',\n",
              " 'Mercedes': 'Germany',\n",
              " 'Opel': 'Germany'}"
            ]
          },
          "metadata": {},
          "execution_count": 74
        }
      ]
    },
    {
      "cell_type": "code",
      "source": [
        "markalar.update({\"Toyota\":\"USA\"})"
      ],
      "metadata": {
        "id": "_ibWrT7KXD11"
      },
      "execution_count": 75,
      "outputs": []
    },
    {
      "cell_type": "code",
      "source": [
        "markalar"
      ],
      "metadata": {
        "colab": {
          "base_uri": "https://localhost:8080/"
        },
        "id": "pEJ4ozOMXQdc",
        "outputId": "a38eb490-7d53-424f-be82-a87ad02e0506"
      },
      "execution_count": 76,
      "outputs": [
        {
          "output_type": "execute_result",
          "data": {
            "text/plain": [
              "{'Ford': 'USA',\n",
              " 'Mustang': 'USA',\n",
              " 'Nissan': 'Japan',\n",
              " 'BMW': 'Germany',\n",
              " 'TOGG': 'Türkiye',\n",
              " 'Lada': 'Russia',\n",
              " 'Mercedes': 'Germany',\n",
              " 'Opel': 'Germany',\n",
              " 'Toyota': 'USA'}"
            ]
          },
          "metadata": {},
          "execution_count": 76
        }
      ]
    },
    {
      "cell_type": "code",
      "source": [
        "dir(markalar)"
      ],
      "metadata": {
        "colab": {
          "base_uri": "https://localhost:8080/"
        },
        "id": "YBkpEd_wXTFW",
        "outputId": "734fd88c-34e7-4aaa-9877-cb8630348c31"
      },
      "execution_count": 77,
      "outputs": [
        {
          "output_type": "execute_result",
          "data": {
            "text/plain": [
              "['__class__',\n",
              " '__class_getitem__',\n",
              " '__contains__',\n",
              " '__delattr__',\n",
              " '__delitem__',\n",
              " '__dir__',\n",
              " '__doc__',\n",
              " '__eq__',\n",
              " '__format__',\n",
              " '__ge__',\n",
              " '__getattribute__',\n",
              " '__getitem__',\n",
              " '__gt__',\n",
              " '__hash__',\n",
              " '__init__',\n",
              " '__init_subclass__',\n",
              " '__ior__',\n",
              " '__iter__',\n",
              " '__le__',\n",
              " '__len__',\n",
              " '__lt__',\n",
              " '__ne__',\n",
              " '__new__',\n",
              " '__or__',\n",
              " '__reduce__',\n",
              " '__reduce_ex__',\n",
              " '__repr__',\n",
              " '__reversed__',\n",
              " '__ror__',\n",
              " '__setattr__',\n",
              " '__setitem__',\n",
              " '__sizeof__',\n",
              " '__str__',\n",
              " '__subclasshook__',\n",
              " 'clear',\n",
              " 'copy',\n",
              " 'fromkeys',\n",
              " 'get',\n",
              " 'items',\n",
              " 'keys',\n",
              " 'pop',\n",
              " 'popitem',\n",
              " 'setdefault',\n",
              " 'update',\n",
              " 'values']"
            ]
          },
          "metadata": {},
          "execution_count": 77
        }
      ]
    },
    {
      "cell_type": "code",
      "source": [
        "kullanicilar = {\n",
        "    \"1026\":[\"Şükrü\",\"Tercan\",1987]\n",
        "}"
      ],
      "metadata": {
        "id": "4ODimHDCbAzR"
      },
      "execution_count": 80,
      "outputs": []
    },
    {
      "cell_type": "code",
      "source": [
        "kullanicilar.get(\"1026\")"
      ],
      "metadata": {
        "colab": {
          "base_uri": "https://localhost:8080/"
        },
        "id": "AGOqPZAlbXF4",
        "outputId": "760cb90b-1791-4692-9dd4-c499fb1db388"
      },
      "execution_count": 81,
      "outputs": [
        {
          "output_type": "execute_result",
          "data": {
            "text/plain": [
              "['Şükrü', 'Tercan', 1987]"
            ]
          },
          "metadata": {},
          "execution_count": 81
        }
      ]
    },
    {
      "cell_type": "code",
      "source": [
        "kullanicilar.get(\"1026\")[2]"
      ],
      "metadata": {
        "colab": {
          "base_uri": "https://localhost:8080/"
        },
        "id": "7jmuBkAXbqFX",
        "outputId": "f14a95ce-4379-4a10-d640-68731e4c646a"
      },
      "execution_count": 82,
      "outputs": [
        {
          "output_type": "execute_result",
          "data": {
            "text/plain": [
              "1987"
            ]
          },
          "metadata": {},
          "execution_count": 82
        }
      ]
    },
    {
      "cell_type": "code",
      "source": [
        "kullanicilar.get(\"1026\")[:2]"
      ],
      "metadata": {
        "colab": {
          "base_uri": "https://localhost:8080/"
        },
        "id": "HgnTI-u0bvqG",
        "outputId": "8f26716a-5199-423c-cf60-36e06698ef6a"
      },
      "execution_count": 83,
      "outputs": [
        {
          "output_type": "execute_result",
          "data": {
            "text/plain": [
              "['Şükrü', 'Tercan']"
            ]
          },
          "metadata": {},
          "execution_count": 83
        }
      ]
    },
    {
      "cell_type": "code",
      "source": [
        "kullanicilar[\"378\"] = [\"Gökhan\",\"Kayan\",1993]"
      ],
      "metadata": {
        "id": "43xEAbCWcZeU"
      },
      "execution_count": 85,
      "outputs": []
    },
    {
      "cell_type": "code",
      "source": [
        "kullanicilar"
      ],
      "metadata": {
        "colab": {
          "base_uri": "https://localhost:8080/"
        },
        "id": "EPHwT49Edk00",
        "outputId": "88716bf4-a809-432e-e0d7-ff47062a5477"
      },
      "execution_count": 86,
      "outputs": [
        {
          "output_type": "execute_result",
          "data": {
            "text/plain": [
              "{'1026': ['Şükrü', 'Tercan', 1987], '378': ['Gökhan', 'Kayan', 1993]}"
            ]
          },
          "metadata": {},
          "execution_count": 86
        }
      ]
    },
    {
      "cell_type": "code",
      "source": [
        "kullanicilar.update({\"378\":[\"Gökhan\",\"Kayan\",1991]})"
      ],
      "metadata": {
        "id": "0xKjSuv-dngc"
      },
      "execution_count": 87,
      "outputs": []
    },
    {
      "cell_type": "code",
      "source": [
        "kullanicilar[\"378\"]"
      ],
      "metadata": {
        "colab": {
          "base_uri": "https://localhost:8080/"
        },
        "id": "fVA3CtQhd4ub",
        "outputId": "b029f9c9-cb0a-4c5c-fbc6-ad536784b011"
      },
      "execution_count": 89,
      "outputs": [
        {
          "output_type": "execute_result",
          "data": {
            "text/plain": [
              "['Gökhan', 'Kayan', 1991]"
            ]
          },
          "metadata": {},
          "execution_count": 89
        }
      ]
    },
    {
      "cell_type": "code",
      "source": [
        "kullanicilar[\"378\"][2] = 1993"
      ],
      "metadata": {
        "id": "Nd9HEqoUeHRB"
      },
      "execution_count": 90,
      "outputs": []
    },
    {
      "cell_type": "code",
      "source": [
        "kullanicilar[\"378\"]"
      ],
      "metadata": {
        "colab": {
          "base_uri": "https://localhost:8080/"
        },
        "id": "hUBGzfORePBA",
        "outputId": "d91be50a-47fd-433d-d3e8-0adea69bef1c"
      },
      "execution_count": 91,
      "outputs": [
        {
          "output_type": "execute_result",
          "data": {
            "text/plain": [
              "['Gökhan', 'Kayan', 1993]"
            ]
          },
          "metadata": {},
          "execution_count": 91
        }
      ]
    },
    {
      "cell_type": "code",
      "source": [
        "users = {\"admin\":\"1234\", \"fatih\":\"1453\",\"selanik\":\"1881\",\"dolmabahce\":\"1903\"}\n",
        "#kullanıcıdan bir kullanıcı adı isteyin, şifre doğru yada yanlış kontrol edelim.\n",
        "#kullanıcı yoksa \"kullanıcı bulunamadı\" desin.\n",
        "#kullanıcı var ama şifre yanlışsa \"şifre yanlış\" desin\n"
      ],
      "metadata": {
        "id": "-D4aUhVxeTHI"
      },
      "execution_count": null,
      "outputs": []
    }
  ]
}