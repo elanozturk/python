{
  "nbformat": 4,
  "nbformat_minor": 0,
  "metadata": {
    "colab": {
      "provenance": [],
      "include_colab_link": true
    },
    "kernelspec": {
      "name": "python3",
      "display_name": "Python 3"
    },
    "language_info": {
      "name": "python"
    }
  },
  "cells": [
    {
      "cell_type": "markdown",
      "metadata": {
        "id": "view-in-github",
        "colab_type": "text"
      },
      "source": [
        "<a href=\"https://colab.research.google.com/github/elanozturk/python/blob/main/Python_6_hafta.ipynb\" target=\"_parent\"><img src=\"https://colab.research.google.com/assets/colab-badge.svg\" alt=\"Open In Colab\"/></a>"
      ]
    },
    {
      "cell_type": "code",
      "execution_count": null,
      "metadata": {
        "id": "GZ9veVllyPEE"
      },
      "outputs": [],
      "source": [
        "#ÖDEV 2\n",
        "#https://api.coincap.io/v2/assets\n",
        "#coinfiyat(\"BTC\") bu fonksiyonda verilen coin parametresine göre usd bazında fiyatı getirsin\n",
        "#Arkadaşlar derste coinfiyat(\"bitcoin\") şeklinde yapalım demiştim ama bu gereksiz zorlayıcı olur diye soruyu düzelttim coininin sembolünü yazmamız yeterli olsun."
      ]
    },
    {
      "cell_type": "code",
      "source": [
        "import requests\n",
        "\n",
        "def coinfiyat(a):\n",
        "  r=requests.get(\"https://api.coincap.io/v2/assets\")\n",
        "  veri= r.json()\n",
        "  veri = veri.get(\"data\")\n",
        "  fiyatlar = {}\n",
        "\n",
        "  for i in veri:\n",
        "    sembol = i[\"symbol\"]\n",
        "    price = float(i[\"priceUsd\"])\n",
        "    fiyatlar[sembol]=price\n",
        "  return fiyatlar.get(a)\n"
      ],
      "metadata": {
        "id": "qrjs2ZF72dY_"
      },
      "execution_count": null,
      "outputs": []
    },
    {
      "cell_type": "code",
      "source": [
        "coinfiyat(\"ETH\")"
      ],
      "metadata": {
        "colab": {
          "base_uri": "https://localhost:8080/"
        },
        "id": "8XA2WqOF7zBs",
        "outputId": "0c641adc-5e9e-4ca0-adcb-80249c2b40e7"
      },
      "execution_count": null,
      "outputs": [
        {
          "output_type": "execute_result",
          "data": {
            "text/plain": [
              "2196.081740835907"
            ]
          },
          "metadata": {},
          "execution_count": 19
        }
      ]
    },
    {
      "cell_type": "code",
      "source": [
        "import requests\n",
        "\n",
        "def coinfiyat(a):\n",
        "  r=requests.get(\"https://api.coincap.io/v2/assets\")\n",
        "  veri= r.json()\n",
        "  veri = veri.get(\"data\")\n",
        "\n",
        "  for i in veri:\n",
        "    if a == i[\"symbol\"]:\n",
        "      price = float(i[\"priceUsd\"])\n",
        "  return price"
      ],
      "metadata": {
        "id": "BnyZGEsC8eYa"
      },
      "execution_count": null,
      "outputs": []
    },
    {
      "cell_type": "code",
      "source": [
        "coinfiyat(\"ETH\")"
      ],
      "metadata": {
        "colab": {
          "base_uri": "https://localhost:8080/"
        },
        "id": "0yjYgPhK8o_K",
        "outputId": "aae35a10-365c-4f24-b9aa-df8c5a0458e2"
      },
      "execution_count": null,
      "outputs": [
        {
          "output_type": "execute_result",
          "data": {
            "text/plain": [
              "2193.42714709864"
            ]
          },
          "metadata": {},
          "execution_count": 23
        }
      ]
    },
    {
      "cell_type": "code",
      "source": [
        "import sqlite3\n",
        "\n",
        "conn = sqlite3.connect(\"damla.sqlite\") #bu isimde veritabanı varsa bağlanır yoksa oluşturup bağlanır\n",
        "\n",
        "c = conn.cursor()"
      ],
      "metadata": {
        "id": "Ukuo8Pz9HN6W"
      },
      "execution_count": null,
      "outputs": []
    },
    {
      "cell_type": "code",
      "source": [
        "c.execute(\"\"\"CREATE TABLE IF NOT EXISTS cihazlar(\n",
        "  isim TEXT,\n",
        "  personel TEXT,\n",
        "  marka TEXT,\n",
        "  model TEXT,\n",
        "  ssd INTEGER,\n",
        "  ram INTEGER,\n",
        "  fiyat REAL\n",
        ")\"\"\")\n",
        "\n",
        "conn.commit() #veritabanına kaydetme"
      ],
      "metadata": {
        "id": "Aae1cNGZH8AF"
      },
      "execution_count": null,
      "outputs": []
    },
    {
      "cell_type": "code",
      "source": [
        "# CRUD İşlemleri\n",
        "#CREATE (INSERT)\n",
        "#READ (SELECT)\n",
        "#UPDATE (REPLACE)\n",
        "#DELETE"
      ],
      "metadata": {
        "id": "uDx4uu_cLbUP"
      },
      "execution_count": null,
      "outputs": []
    },
    {
      "cell_type": "code",
      "source": [
        "c.execute(\"\"\"INSERT INTO cihazlar VALUES(\n",
        "    'Mahmut Tuncer',\n",
        "    'Furkan Kazan',\n",
        "    'Apple',\n",
        "    'Iphone 13 Pro Max',\n",
        "    256,\n",
        "    16,\n",
        "   20000\n",
        "    )\"\"\")\n",
        "\n",
        "conn.commit()"
      ],
      "metadata": {
        "id": "eej4tT-9UYRU"
      },
      "execution_count": null,
      "outputs": []
    },
    {
      "cell_type": "code",
      "source": [
        "c.execute(\"\"\"INSERT INTO cihazlar VALUES(\n",
        "    'Tarkan',\n",
        "    'Furkan Kazan',\n",
        "    'Apple',\n",
        "    'Iphone 15 Pro Max',\n",
        "    512,\n",
        "    32,\n",
        "    80000\n",
        "    )\"\"\")\n",
        "\n",
        "conn.commit()"
      ],
      "metadata": {
        "id": "gHtTquDFULJV"
      },
      "execution_count": null,
      "outputs": []
    },
    {
      "cell_type": "code",
      "source": [
        "c.execute(\"SELECT * FROM cihazlar\")\n",
        "\n",
        "sonuc=c.fetchall()\n",
        "\n",
        "sonuc"
      ],
      "metadata": {
        "colab": {
          "base_uri": "https://localhost:8080/"
        },
        "id": "fFIORiGTUcMd",
        "outputId": "e626d7be-4df6-4e21-c606-6cabf6e109e0"
      },
      "execution_count": null,
      "outputs": [
        {
          "output_type": "execute_result",
          "data": {
            "text/plain": [
              "[('Tarkan', 'Furkan Kazan', 'Apple', 'Iphone 15 Pro Max', 512, 32, 80000.0),\n",
              " ('Mahmut Tuncer',\n",
              "  'Furkan Kazan',\n",
              "  'Apple',\n",
              "  'Iphone 13 Pro Max',\n",
              "  256,\n",
              "  16,\n",
              "  20000.0),\n",
              " ('Mahmut Tuncer',\n",
              "  'Furkan Kazan',\n",
              "  'Apple',\n",
              "  'Iphone 13 Pro Max',\n",
              "  256,\n",
              "  16,\n",
              "  20000.0),\n",
              " ('Tarkan', 'Furkan Kazan', 'Apple', 'Iphone 15 Pro Max', 512, 32, 80000.0)]"
            ]
          },
          "metadata": {},
          "execution_count": 46
        }
      ]
    },
    {
      "cell_type": "code",
      "source": [
        "def cihazekle(isim,personel,marka,model,ssd,ram,fiyat):\n",
        "  conn = sqlite3.connect(\"damla.sqlite\") #bu isimde veritabanı varsa bağlanır yoksa oluşturup bağlanır\n",
        "  c = conn.cursor()\n",
        "  c.execute(\"INSERT INTO cihazlar VALUES(?,?,?,?,?,?,?)\",\n",
        "            (isim,personel,marka,model,ssd,ram,fiyat))\n",
        "  conn.commit()"
      ],
      "metadata": {
        "id": "tvVZlasoVOG8"
      },
      "execution_count": null,
      "outputs": []
    },
    {
      "cell_type": "code",
      "source": [
        "cihazekle('Ajdar','Gökhan','Samsung','S24',256,16,10000)"
      ],
      "metadata": {
        "id": "CulzZqGBWMIR"
      },
      "execution_count": null,
      "outputs": []
    },
    {
      "cell_type": "code",
      "source": [
        "c.execute(\"SELECT * FROM cihazlar\")\n",
        "\n",
        "sonuc=c.fetchall()\n",
        "\n",
        "sonuc"
      ],
      "metadata": {
        "colab": {
          "base_uri": "https://localhost:8080/"
        },
        "id": "mAVxUHM_WhaB",
        "outputId": "843129a4-b660-4bd6-9c5e-3fbf0d8a6029"
      },
      "execution_count": null,
      "outputs": [
        {
          "output_type": "execute_result",
          "data": {
            "text/plain": [
              "[('Tarkan', 'Furkan Kazan', 'Apple', 'Iphone 15 Pro Max', 512, 32, 80000.0),\n",
              " ('Mahmut Tuncer',\n",
              "  'Furkan Kazan',\n",
              "  'Apple',\n",
              "  'Iphone 13 Pro Max',\n",
              "  256,\n",
              "  16,\n",
              "  20000.0),\n",
              " ('Mahmut Tuncer',\n",
              "  'Furkan Kazan',\n",
              "  'Apple',\n",
              "  'Iphone 13 Pro Max',\n",
              "  256,\n",
              "  16,\n",
              "  20000.0),\n",
              " ('Tarkan', 'Furkan Kazan', 'Apple', 'Iphone 15 Pro Max', 512, 32, 80000.0),\n",
              " ('Ajdar', 'Gökhan', 'Samsung', 'S24', 256, 16, 10000.0)]"
            ]
          },
          "metadata": {},
          "execution_count": 51
        }
      ]
    },
    {
      "cell_type": "code",
      "source": [
        "def verigetir(tabloisim):\n",
        "  conn = sqlite3.connect(\"damla.sqlite\") #bu isimde veritabanı varsa bağlanır yoksa oluşturup bağlanır\n",
        "  c = conn.cursor()\n",
        "  komut = \"SELECT * FROM \"+tabloisim\n",
        "  c.execute(komut)\n",
        "  return c.fetchall()\n"
      ],
      "metadata": {
        "id": "fbGX71zMWxaf"
      },
      "execution_count": null,
      "outputs": []
    },
    {
      "cell_type": "code",
      "source": [
        "verigetir(\"cihazlar\")"
      ],
      "metadata": {
        "colab": {
          "base_uri": "https://localhost:8080/"
        },
        "id": "DOifWQtcXieX",
        "outputId": "cf3e2ada-2b2d-4425-d175-8168249a17bc"
      },
      "execution_count": null,
      "outputs": [
        {
          "output_type": "execute_result",
          "data": {
            "text/plain": [
              "[('Tarkan', 'Furkan Kazan', 'Apple', 'Iphone 15 Pro Max', 512, 32, 80000.0),\n",
              " ('Mahmut Tuncer',\n",
              "  'Furkan Kazan',\n",
              "  'Apple',\n",
              "  'Iphone 13 Pro Max',\n",
              "  256,\n",
              "  16,\n",
              "  20000.0),\n",
              " ('Mahmut Tuncer',\n",
              "  'Furkan Kazan',\n",
              "  'Apple',\n",
              "  'Iphone 13 Pro Max',\n",
              "  256,\n",
              "  16,\n",
              "  20000.0),\n",
              " ('Tarkan', 'Furkan Kazan', 'Apple', 'Iphone 15 Pro Max', 512, 32, 80000.0),\n",
              " ('Ajdar', 'Gökhan', 'Samsung', 'S24', 256, 16, 10000.0)]"
            ]
          },
          "metadata": {},
          "execution_count": 52
        }
      ]
    },
    {
      "cell_type": "code",
      "source": [
        "# ÖDEV 1\n",
        "#SQL CRUD İşlemleri youtube izleyin\n",
        "#https://www.youtube.com/watch?v=OwJRqwok1gs&t=580s"
      ],
      "metadata": {
        "id": "HosLcSCPYYh1"
      },
      "execution_count": null,
      "outputs": []
    },
    {
      "cell_type": "code",
      "source": [],
      "metadata": {
        "id": "G19mru7mYiy0"
      },
      "execution_count": null,
      "outputs": []
    }
  ]
}