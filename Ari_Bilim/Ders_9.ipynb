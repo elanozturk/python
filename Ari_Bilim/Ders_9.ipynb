{
  "nbformat": 4,
  "nbformat_minor": 0,
  "metadata": {
    "colab": {
      "provenance": [],
      "toc_visible": true,
      "authorship_tag": "ABX9TyN38aKZM+lyRj7BfFlXvb1U",
      "include_colab_link": true
    },
    "kernelspec": {
      "name": "python3",
      "display_name": "Python 3"
    },
    "language_info": {
      "name": "python"
    }
  },
  "cells": [
    {
      "cell_type": "markdown",
      "metadata": {
        "id": "view-in-github",
        "colab_type": "text"
      },
      "source": [
        "<a href=\"https://colab.research.google.com/github/elanozturk/python/blob/main/Ders_9.ipynb\" target=\"_parent\"><img src=\"https://colab.research.google.com/assets/colab-badge.svg\" alt=\"Open In Colab\"/></a>"
      ]
    },
    {
      "cell_type": "code",
      "execution_count": null,
      "metadata": {
        "id": "dYV5ph6OD2x3"
      },
      "outputs": [],
      "source": [
        "import requests\n",
        "\n",
        "response = requests.get(\"https://api.coincap.io/v2/assets\")\n",
        "\n",
        "veri = response.json()\n",
        "veri.get(\"data\")\n",
        "\n",
        "kurlar = {}\n",
        "\n",
        "dolar_kuru = [\"ABD DOLARI\"]\n",
        "\n",
        "for y in veri[\"data\"]:\n",
        "    isim = y.get(\"name\")\n",
        "    fiyat = float(y.get(\"priceUsd\"))*dolar_kuru\n",
        "    kurlar[isim] = fiyat"
      ]
    },
    {
      "cell_type": "code",
      "source": [
        "kurlar"
      ],
      "metadata": {
        "id": "xkRi79khRny_"
      },
      "execution_count": null,
      "outputs": []
    },
    {
      "cell_type": "code",
      "source": [
        "from urllib.request import urlopen\n",
        "import xml.etree.ElementTree as et\n",
        "\n",
        "url = \"https://www.tcmb.gov.tr/kurlar/today.xml\"\n",
        "\n",
        "data = et.ElementTree(file=urlopen(url))\n",
        "\n",
        "root = data.getroot()\n",
        "\n",
        "for kur in root:\n",
        "  isim = kur[1].text\n",
        "  fiyat = float(kur[3].text)\n",
        "  kurlar[isim] = fiyat"
      ],
      "metadata": {
        "id": "MccxiaHFSsyz"
      },
      "execution_count": 17,
      "outputs": []
    },
    {
      "cell_type": "code",
      "source": [
        "kurlar"
      ],
      "metadata": {
        "id": "nYZhBUx9UGsb"
      },
      "execution_count": null,
      "outputs": []
    },
    {
      "cell_type": "markdown",
      "source": [
        "  # WHILE DÖNGÜSÜ"
      ],
      "metadata": {
        "id": "cl7hBtGYGKpO"
      }
    },
    {
      "cell_type": "code",
      "source": [
        "sayilar = [2,3,4,5]\n",
        "for sayi in sayilar:\n",
        "  print(sayi**4)\n",
        ""
      ],
      "metadata": {
        "colab": {
          "base_uri": "https://localhost:8080/"
        },
        "id": "9PeA_AikGQI5",
        "outputId": "0c8cdf3a-598b-46f0-c6f0-5fc9b260be41"
      },
      "execution_count": 29,
      "outputs": [
        {
          "output_type": "stream",
          "name": "stdout",
          "text": [
            "16\n",
            "81\n",
            "256\n",
            "625\n"
          ]
        }
      ]
    },
    {
      "cell_type": "code",
      "source": [
        "sayi = 5\n",
        "\n",
        "while sayi < 10:\n",
        "  print(\"Altar'ın oğlu\")\n",
        ""
      ],
      "metadata": {
        "id": "igMIuHkeHQXh"
      },
      "execution_count": null,
      "outputs": []
    },
    {
      "cell_type": "code",
      "source": [
        "sayi = 5\n",
        "\n",
        "while sayi < 10:\n",
        "  print(\"Altar'ın oğlu\")\n",
        "  sayi = sayi+1"
      ],
      "metadata": {
        "colab": {
          "base_uri": "https://localhost:8080/"
        },
        "outputId": "d82f12f2-c8bd-41bb-8a97-056b4b8f22c0",
        "id": "jgkF8Y3aIIiI"
      },
      "execution_count": 34,
      "outputs": [
        {
          "output_type": "stream",
          "name": "stdout",
          "text": [
            "Altar'ın oğlu\n",
            "Altar'ın oğlu\n",
            "Altar'ın oğlu\n",
            "Altar'ın oğlu\n",
            "Altar'ın oğlu\n"
          ]
        }
      ]
    },
    {
      "cell_type": "code",
      "source": [
        "parola = input(\"Parola giriniz: \")\n",
        "\n",
        "while parola != \"1453\":\n",
        "  print(\"Parola Hatalı!\")\n",
        "  parola = input(\"Parola giriniz: \")\n",
        "print(\"Hoşgeldiniz!\")"
      ],
      "metadata": {
        "colab": {
          "base_uri": "https://localhost:8080/"
        },
        "outputId": "cbb7a4e3-6aa0-425c-d050-56c94ff54ecd",
        "id": "9QZmbOSbIMXv"
      },
      "execution_count": 37,
      "outputs": [
        {
          "output_type": "stream",
          "name": "stdout",
          "text": [
            "Parola giriniz: 1234\n",
            "Parola Hatalı!\n",
            "Parola giriniz: 12345\n",
            "Parola Hatalı!\n",
            "Parola giriniz: 1453\n",
            "Hoşgeldiniz!\n"
          ]
        }
      ]
    },
    {
      "cell_type": "code",
      "source": [
        "sayi = 1\n",
        "\n",
        "while sayi < 10:\n",
        "  print(\"Altar'ın oğlu\")\n",
        "  sayi = sayi+1\n",
        "  if sayi == 8 :\n",
        "    break"
      ],
      "metadata": {
        "colab": {
          "base_uri": "https://localhost:8080/"
        },
        "id": "8rLRnSbFLnSh",
        "outputId": "07bf1bff-7fe3-4a9d-c611-cd0c39246fb5"
      },
      "execution_count": 38,
      "outputs": [
        {
          "output_type": "stream",
          "name": "stdout",
          "text": [
            "Altar'ın oğlu\n",
            "Altar'ın oğlu\n",
            "Altar'ın oğlu\n",
            "Altar'ın oğlu\n",
            "Altar'ın oğlu\n",
            "Altar'ın oğlu\n",
            "Altar'ın oğlu\n"
          ]
        }
      ]
    },
    {
      "cell_type": "code",
      "source": [],
      "metadata": {
        "id": "R1vYh6-0L9EJ"
      },
      "execution_count": null,
      "outputs": []
    },
    {
      "cell_type": "code",
      "source": [
        "max_deneme = 3\n",
        "deneme = 0\n",
        "password = \"1453\"\n",
        "\n",
        "while deneme < max_deneme:\n",
        "    in_password = input(\"Parola giriniz: \")\n",
        "\n",
        "    if in_password == password:\n",
        "        print(\"Hoşgeldiniz!\")\n",
        "        break\n",
        "    else:\n",
        "        deneme += 1\n",
        "        print(\"Hatalı Şifre\")\n",
        "\n",
        "if deneme == max_deneme:\n",
        "    print(\"Çok fazla hatalı giriş yapıldı. Şifreniz bloke oldu\")"
      ],
      "metadata": {
        "id": "6SlGJPvKIBy-",
        "colab": {
          "base_uri": "https://localhost:8080/"
        },
        "outputId": "1a2c538e-1acf-4fe9-ff9c-d1b2d0c6d6a4"
      },
      "execution_count": 45,
      "outputs": [
        {
          "output_type": "stream",
          "name": "stdout",
          "text": [
            "Parola giriniz: 123\n",
            "Hatalı Şifre\n",
            "Parola giriniz: 1234\n",
            "Hatalı Şifre\n",
            "Parola giriniz: 12345\n",
            "Hatalı Şifre\n",
            "Çok fazla hatalı giriş yapıldı. Şifreniz bloke oldu\n"
          ]
        }
      ]
    },
    {
      "cell_type": "code",
      "source": [
        "parola = input(\"Parola giriniz: \")\n",
        "deneme = 0\n",
        "pukdeneme = 0\n",
        "\n",
        "while parola != \"1453\":\n",
        "    print(\"Parola Hatalı!\")\n",
        "    deneme = deneme + 1\n",
        "    if deneme == 3:\n",
        "        print(\"Şifreniz bloke edildi!\")\n",
        "        puk = input(\"PUK giriniz!\")\n",
        "        while puk != \"1881\":\n",
        "            print(\"PUK Hatalı!\")\n",
        "            pukdeneme = pukdeneme + 1\n",
        "            if pukdeneme == 2:\n",
        "                print(\"Banlandınız!\")\n",
        "                break\n",
        "\n",
        "            print(\"Hoşgeldiniz!\")\n",
        "            puk = input(\"PUK giriniz!\")\n",
        "        break\n",
        "    parola = input(\"Parola giriniz: \")\n",
        "\n",
        "if deneme < 3:\n",
        "    print(\"Parola Hatalı!\")\n"
      ],
      "metadata": {
        "id": "wZ1zqGzqR5c0"
      },
      "execution_count": null,
      "outputs": []
    }
  ]
}