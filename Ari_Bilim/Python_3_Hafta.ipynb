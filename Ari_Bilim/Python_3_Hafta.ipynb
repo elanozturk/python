{
  "nbformat": 4,
  "nbformat_minor": 0,
  "metadata": {
    "colab": {
      "provenance": [],
      "include_colab_link": true
    },
    "kernelspec": {
      "name": "python3",
      "display_name": "Python 3"
    },
    "language_info": {
      "name": "python"
    }
  },
  "cells": [
    {
      "cell_type": "markdown",
      "metadata": {
        "id": "view-in-github",
        "colab_type": "text"
      },
      "source": [
        "<a href=\"https://colab.research.google.com/github/elanozturk/python/blob/main/Python_3_Hafta.ipynb\" target=\"_parent\"><img src=\"https://colab.research.google.com/assets/colab-badge.svg\" alt=\"Open In Colab\"/></a>"
      ]
    },
    {
      "cell_type": "code",
      "execution_count": null,
      "metadata": {
        "id": "9H4xj0XGnzNd"
      },
      "outputs": [],
      "source": [
        "#ÖDEV (BURDA YANİ Google Colab'da yapalım, sonra streamlitte çalışan versiyonunu da yapalım)\n",
        "\n",
        "#streamlitte şifre ve kullanıcı adı alalım girilen bilgilere göre ekrana bişeyler yazdıralım\n",
        "\n",
        "kullaniciadi=\"yönetici\"\n",
        "sifre=\"1903\"\n",
        "\n",
        "\n",
        "#sifre ve kullanıcı adımızın yukarıdaki gibi olduğunu varsayalım. Kullanıcıdan bir kullanıcı adı ve şifre girmesini isteyelim.\n",
        "\n",
        "#Kullanıcı adı hatalıysa kullanıcı bulunamadı\n",
        "#Şifre hatalıysa şifreniz hatalı\n",
        "#İkisi de doğruysa giriş başarılı\n",
        "#İkisi de hatalıysa giriş bilgileri hatalı  şeklinde sonuçlar göstersin"
      ]
    },
    {
      "cell_type": "code",
      "source": [
        "#kullaniciadi=\"yönetici\"\n",
        "#sifre=\"1903\"\n",
        "\n",
        "bilgiler = [\"yönetici\",\"1903\"]\n",
        "\n",
        "kullanici=input(\"Kullanıcı Adı Giriniz\")\n",
        "sifre = input(\"Şifre Giriniz\")\n",
        "\n",
        "if kullanici!=bilgiler[0]:\n",
        "  print(\"Kullanıcı Bulunamadı veya Yanlış\")\n",
        "elif kullanici==bilgiler[0] and sifre!=bilgiler[1]:\n",
        "  print(\"Şifre yanlış\")\n",
        "elif kullanici==bilgiler[0] and sifre==bilgiler[1]:\n",
        "  print(\"Hoşgeldiniz\")\n",
        "else:\n",
        "  print(\"Bilgileri Giriniz\")"
      ],
      "metadata": {
        "colab": {
          "base_uri": "https://localhost:8080/"
        },
        "id": "zIndlW9ks_75",
        "outputId": "acc3c700-32e8-47d5-8167-ddae8db5aa2b"
      },
      "execution_count": null,
      "outputs": [
        {
          "output_type": "stream",
          "name": "stdout",
          "text": [
            "Kullanıcı Adı GirinizYönetici\n",
            "Şifre Giriniz1903\n",
            "Kullanıcı Bulunamadı veya Yanlış\n"
          ]
        }
      ]
    },
    {
      "cell_type": "code",
      "source": [
        "#ÖDEV 2 (BURDA YANİ Google Colab'da yapalım, sonra streamlitte çalışan versiyonunu da yapalım)\n",
        "\n",
        "ogrenciler=[\"Ali\",\"Fatma\",\"Mehmet\",\"Çağrı\"]\n",
        "\n",
        "ogrenci=input(\"Öğrenci Adı Giriniz\")\n",
        "\n",
        "\n",
        "#öğrenci yoksa ekle ve bilgi ver\n",
        "#öğrenci varsa ekleme ve öğrenci zaten var diye bilgi ver\n",
        "#en son öğrencileri yazdır"
      ],
      "metadata": {
        "id": "jD3siCTkwwUS"
      },
      "execution_count": null,
      "outputs": []
    },
    {
      "cell_type": "code",
      "source": [
        "ogrenciler=[\"Ali\",\"Fatma\",\"Mehmet\",\"Çağrı\"]\n",
        "\n",
        "ogrenci=input(\"Öğrenci Adı Giriniz\")\n",
        "\n",
        "if ogrenci in ogrenciler:\n",
        "  print(\"Öğrenci kayıtlı\")\n",
        "else:\n",
        "  ogrenciler.append(ogrenci)\n",
        "  print(ogrenci,\" eklendi\")\n",
        "  print(ogrenciler)\n"
      ],
      "metadata": {
        "colab": {
          "base_uri": "https://localhost:8080/"
        },
        "id": "c68WDcPHwxIp",
        "outputId": "86f715ef-8528-4422-ce9e-fc8e8dec9a4a"
      },
      "execution_count": null,
      "outputs": [
        {
          "output_type": "stream",
          "name": "stdout",
          "text": [
            "Öğrenci Adı GirinizHüseyin\n",
            "Hüseyin  eklendi\n",
            "['Ali', 'Fatma', 'Mehmet', 'Çağrı', 'Hüseyin']\n"
          ]
        }
      ]
    },
    {
      "cell_type": "code",
      "source": [
        "cumle =\"İşim gücüm budur benim. gökyüzünü boyarım her sabah\"\n",
        "\n",
        "cumle.split(\".\") #string ifadeleri ayırma metodu"
      ],
      "metadata": {
        "colab": {
          "base_uri": "https://localhost:8080/"
        },
        "id": "q4rz-LU3xtcY",
        "outputId": "a7fc9007-5bb3-4dcd-e129-ea119564518b"
      },
      "execution_count": null,
      "outputs": [
        {
          "output_type": "execute_result",
          "data": {
            "text/plain": [
              "['İşim gücüm budur benim', ' gökyüzünü boyarım her sabah']"
            ]
          },
          "metadata": {},
          "execution_count": 19
        }
      ]
    },
    {
      "cell_type": "code",
      "source": [],
      "metadata": {
        "id": "YCZSTwRHzxbk"
      },
      "execution_count": null,
      "outputs": []
    },
    {
      "cell_type": "code",
      "source": [
        "cumle =\"İşim gücüm budur benim. gökyüzünü boyarım her sabah\"\n",
        "type(cumle)\n",
        "len(cumle)"
      ],
      "metadata": {
        "colab": {
          "base_uri": "https://localhost:8080/"
        },
        "id": "GLTRVcOPzF92",
        "outputId": "ec8eba0d-0441-4f49-88ec-a3824cdd7a7e"
      },
      "execution_count": null,
      "outputs": [
        {
          "output_type": "execute_result",
          "data": {
            "text/plain": [
              "51"
            ]
          },
          "metadata": {},
          "execution_count": 17
        }
      ]
    },
    {
      "cell_type": "code",
      "source": [
        "type(cumle)"
      ],
      "metadata": {
        "colab": {
          "base_uri": "https://localhost:8080/"
        },
        "id": "nrCV2Bq0yr5X",
        "outputId": "222b5586-63a0-40ad-b690-685ac7df56cc"
      },
      "execution_count": null,
      "outputs": [
        {
          "output_type": "execute_result",
          "data": {
            "text/plain": [
              "str"
            ]
          },
          "metadata": {},
          "execution_count": 10
        }
      ]
    },
    {
      "cell_type": "code",
      "source": [
        "sayilar = [34,26,7,39]"
      ],
      "metadata": {
        "id": "pO3JvUDNz1Ac"
      },
      "execution_count": null,
      "outputs": []
    },
    {
      "cell_type": "code",
      "source": [
        "min(sayilar)"
      ],
      "metadata": {
        "colab": {
          "base_uri": "https://localhost:8080/"
        },
        "id": "8VznbD1hzpDd",
        "outputId": "bd4fd8e3-76df-4680-ca6a-d834ea756176"
      },
      "execution_count": null,
      "outputs": [
        {
          "output_type": "execute_result",
          "data": {
            "text/plain": [
              "7"
            ]
          },
          "metadata": {},
          "execution_count": 29
        }
      ]
    },
    {
      "cell_type": "code",
      "source": [
        "max(sayilar)"
      ],
      "metadata": {
        "colab": {
          "base_uri": "https://localhost:8080/"
        },
        "id": "YNeN4jR50GiU",
        "outputId": "0e8b3389-34db-4250-a6a9-f6be4070cc49"
      },
      "execution_count": null,
      "outputs": [
        {
          "output_type": "execute_result",
          "data": {
            "text/plain": [
              "39"
            ]
          },
          "metadata": {},
          "execution_count": 30
        }
      ]
    },
    {
      "cell_type": "code",
      "source": [
        "sum(sayilar)"
      ],
      "metadata": {
        "colab": {
          "base_uri": "https://localhost:8080/"
        },
        "id": "_AX2CbyA0Jer",
        "outputId": "2185f197-db8f-4af8-814e-979ef9340617"
      },
      "execution_count": null,
      "outputs": [
        {
          "output_type": "execute_result",
          "data": {
            "text/plain": [
              "106"
            ]
          },
          "metadata": {},
          "execution_count": 31
        }
      ]
    },
    {
      "cell_type": "code",
      "source": [
        "sum(sayilar)/len(sayilar)"
      ],
      "metadata": {
        "colab": {
          "base_uri": "https://localhost:8080/"
        },
        "id": "0e1_OMOl0Wck",
        "outputId": "51a549bb-4b93-495b-e1fe-e2cb5e158f90"
      },
      "execution_count": null,
      "outputs": [
        {
          "output_type": "execute_result",
          "data": {
            "text/plain": [
              "26.5"
            ]
          },
          "metadata": {},
          "execution_count": 32
        }
      ]
    },
    {
      "cell_type": "code",
      "source": [
        "isim=[\"f\",\"a\",\"t\",\"m\",\"a\"]\n",
        "\n",
        "isimtam=\"-\".join(isim)  # Liste elemanlarını birleştirir\n",
        "print(isimtam)"
      ],
      "metadata": {
        "colab": {
          "base_uri": "https://localhost:8080/"
        },
        "id": "FAGgFCw10pOd",
        "outputId": "75c333e3-2f70-42db-9e4e-d85d4ecf3a61"
      },
      "execution_count": null,
      "outputs": [
        {
          "output_type": "stream",
          "name": "stdout",
          "text": [
            "f-a-t-m-a\n"
          ]
        }
      ]
    },
    {
      "cell_type": "code",
      "source": [
        "# TUPLE (DEMETLER)\n",
        "\n",
        "defterler = (\"ali\",79,17.2,[23,\"kafa\",15.8])\n",
        "\n",
        "len(defterler)\n",
        "type(defterler)"
      ],
      "metadata": {
        "colab": {
          "base_uri": "https://localhost:8080/"
        },
        "id": "c7faLW7A1GKj",
        "outputId": "33e5d9ae-0ab6-4e11-8ed2-b5ae459f7f41"
      },
      "execution_count": null,
      "outputs": [
        {
          "output_type": "execute_result",
          "data": {
            "text/plain": [
              "tuple"
            ]
          },
          "metadata": {},
          "execution_count": 42
        }
      ]
    },
    {
      "cell_type": "code",
      "source": [
        "defterler[1] = 87   #Tuple verileri değiştirilemez Tuple'ın listelerden farklı özelliği budur."
      ],
      "metadata": {
        "colab": {
          "base_uri": "https://localhost:8080/",
          "height": 175
        },
        "id": "P8fZdAOG2uBY",
        "outputId": "e41b5122-ea26-4877-c038-07cafa6a1036"
      },
      "execution_count": null,
      "outputs": [
        {
          "output_type": "error",
          "ename": "TypeError",
          "evalue": "ignored",
          "traceback": [
            "\u001b[0;31m---------------------------------------------------------------------------\u001b[0m",
            "\u001b[0;31mTypeError\u001b[0m                                 Traceback (most recent call last)",
            "\u001b[0;32m<ipython-input-45-97f05c28bb45>\u001b[0m in \u001b[0;36m<cell line: 1>\u001b[0;34m()\u001b[0m\n\u001b[0;32m----> 1\u001b[0;31m \u001b[0mdefterler\u001b[0m\u001b[0;34m[\u001b[0m\u001b[0;36m1\u001b[0m\u001b[0;34m]\u001b[0m \u001b[0;34m=\u001b[0m \u001b[0;36m87\u001b[0m\u001b[0;34m\u001b[0m\u001b[0;34m\u001b[0m\u001b[0m\n\u001b[0m",
            "\u001b[0;31mTypeError\u001b[0m: 'tuple' object does not support item assignment"
          ]
        }
      ]
    },
    {
      "cell_type": "code",
      "source": [
        "isim=[\"f\",\"a\",\"t\",\"m\",\"a\"]\n",
        "type(isim)"
      ],
      "metadata": {
        "colab": {
          "base_uri": "https://localhost:8080/"
        },
        "id": "LJq56CDk2Xka",
        "outputId": "e9a8ded9-9069-4fed-9749-469733a267d9"
      },
      "execution_count": null,
      "outputs": [
        {
          "output_type": "execute_result",
          "data": {
            "text/plain": [
              "list"
            ]
          },
          "metadata": {},
          "execution_count": 43
        }
      ]
    },
    {
      "cell_type": "code",
      "source": [
        "isim[1] = \"e\"\n",
        "print(isim)"
      ],
      "metadata": {
        "colab": {
          "base_uri": "https://localhost:8080/"
        },
        "id": "M33UKxTK2krk",
        "outputId": "5c18c371-5839-49e6-905a-30e579c70f7c"
      },
      "execution_count": null,
      "outputs": [
        {
          "output_type": "stream",
          "name": "stdout",
          "text": [
            "['f', 'e', 't', 'm', 'a']\n"
          ]
        }
      ]
    },
    {
      "cell_type": "code",
      "source": [
        "#FOR LOOP (FOR DÖNGÜSÜ)\n",
        "\n",
        "sayilar=[3,5,9,11]\n",
        "\n",
        "for x in sayilar:\n",
        "  print(x*2)"
      ],
      "metadata": {
        "colab": {
          "base_uri": "https://localhost:8080/"
        },
        "id": "WcTxdavw2sCx",
        "outputId": "eb8b6061-c516-45ff-c38b-03d735f45107"
      },
      "execution_count": null,
      "outputs": [
        {
          "output_type": "stream",
          "name": "stdout",
          "text": [
            "6\n",
            "10\n",
            "18\n",
            "22\n"
          ]
        }
      ]
    },
    {
      "cell_type": "code",
      "source": [
        "yillar = [1071,1299,1453,1881,1920,1923,1938,2023,2053,2071]\n",
        "\n",
        "\n",
        "#tek yılları getirin\n",
        "# % bölümünden kalanı verir\n",
        "\n",
        "for a in yillar:\n",
        "  if a % 2 ==1:\n",
        "    print(a)\n",
        "  else:\n",
        "    print(a*2)\n"
      ],
      "metadata": {
        "id": "XNACfCfJ6aPD"
      },
      "execution_count": null,
      "outputs": []
    },
    {
      "cell_type": "code",
      "source": [
        "yillar = [1071,1299,1453,1881,1920,1923,1938,2023,2053,2071]\n",
        "\n",
        "#elemanların toplamını bulun\n",
        "sum(yillar)"
      ],
      "metadata": {
        "colab": {
          "base_uri": "https://localhost:8080/"
        },
        "id": "6HytgdMk8png",
        "outputId": "d7301c35-3d16-41af-b431-465690b97830"
      },
      "execution_count": null,
      "outputs": [
        {
          "output_type": "execute_result",
          "data": {
            "text/plain": [
              "17632"
            ]
          },
          "metadata": {},
          "execution_count": 55
        }
      ]
    },
    {
      "cell_type": "code",
      "source": [
        "toplam=0\n",
        "\n",
        "for x in yillar:\n",
        "  toplam=toplam+x\n",
        "\n",
        "print(toplam)"
      ],
      "metadata": {
        "colab": {
          "base_uri": "https://localhost:8080/"
        },
        "id": "v_YEpph_9Maf",
        "outputId": "03f9e03d-d689-469e-9390-bc14fae3d46a"
      },
      "execution_count": null,
      "outputs": [
        {
          "output_type": "stream",
          "name": "stdout",
          "text": [
            "17632\n"
          ]
        }
      ]
    },
    {
      "cell_type": "code",
      "source": [
        "toplam=0\n",
        "tekler=[]\n",
        "\n",
        "for x in yillar:\n",
        "  if x % 2 ==1:\n",
        "    tekler.append(x)\n",
        "\n",
        "print(sum(tekler))"
      ],
      "metadata": {
        "colab": {
          "base_uri": "https://localhost:8080/"
        },
        "id": "_sqWFC7z-nGV",
        "outputId": "862c8a3b-2db4-4c14-93f6-c165eea97a6b"
      },
      "execution_count": null,
      "outputs": [
        {
          "output_type": "stream",
          "name": "stdout",
          "text": [
            "13774\n"
          ]
        }
      ]
    },
    {
      "cell_type": "code",
      "source": [
        "for a in range(20):\n",
        "  print(a)"
      ],
      "metadata": {
        "id": "aAu2r1Xa_wZU"
      },
      "execution_count": null,
      "outputs": []
    },
    {
      "cell_type": "code",
      "source": [
        "toplam=0\n",
        "for i in range(1,100):\n",
        "  toplam=toplam+i\n",
        "print(toplam)"
      ],
      "metadata": {
        "colab": {
          "base_uri": "https://localhost:8080/"
        },
        "id": "kZMBpepM-vxN",
        "outputId": "3a973d70-a287-42ce-f8f3-ce2ed1c8e9b5"
      },
      "execution_count": null,
      "outputs": [
        {
          "output_type": "stream",
          "name": "stdout",
          "text": [
            "4950\n"
          ]
        }
      ]
    },
    {
      "cell_type": "code",
      "source": [
        "#ilk teklif 10000000 USD\n",
        "#ikinci teklif ilk 2 USD, 30 gün boyunca her gün bir önceki günün iki katı USD\n",
        "# 2, 4, 8, 16, 32, 64,\n",
        "# 1, 2, 3, 4 , 5 ,6\n",
        "\n",
        "toplam=0\n",
        "\n",
        "for i in range(1,31):\n",
        "  toplam=toplam+pow(2,i)\n",
        "print(toplam)"
      ],
      "metadata": {
        "colab": {
          "base_uri": "https://localhost:8080/"
        },
        "id": "SIggru_GBGEy",
        "outputId": "a3dd882b-80f3-46a6-8d93-445db595af32"
      },
      "execution_count": null,
      "outputs": [
        {
          "output_type": "stream",
          "name": "stdout",
          "text": [
            "2147483646\n"
          ]
        }
      ]
    },
    {
      "cell_type": "code",
      "source": [
        "toplam=0\n",
        "\n",
        "for i in range(1,31):\n",
        "  toplam=toplam+pow(2,i)\n",
        "  if toplam>10000000:\n",
        "    print(i)\n",
        "    break"
      ],
      "metadata": {
        "id": "XeaTR3EvEYMW"
      },
      "execution_count": null,
      "outputs": []
    },
    {
      "cell_type": "code",
      "source": [
        "import random"
      ],
      "metadata": {
        "id": "eBFc3idUHbxR"
      },
      "execution_count": null,
      "outputs": []
    },
    {
      "cell_type": "code",
      "source": [
        "yillar = [1071,1299,1453,1881,1920,1923,1938,2023,2053,2071]\n",
        "\n",
        "random.choice(yillar) #Listeden rasgele değer seçer"
      ],
      "metadata": {
        "colab": {
          "base_uri": "https://localhost:8080/"
        },
        "id": "Qh3fr7SDHjIw",
        "outputId": "00e56742-ebbb-49cd-e1c5-00a2aa9d3d86"
      },
      "execution_count": null,
      "outputs": [
        {
          "output_type": "execute_result",
          "data": {
            "text/plain": [
              "1881"
            ]
          },
          "metadata": {},
          "execution_count": 94
        }
      ]
    },
    {
      "cell_type": "code",
      "source": [
        "random.choices(yillar,k=3) #Her seçimden sonra seçtiği elemanı torbaya geri atar"
      ],
      "metadata": {
        "colab": {
          "base_uri": "https://localhost:8080/"
        },
        "id": "ITxIK1B-H37D",
        "outputId": "498d6513-036b-47d1-9ca0-93f15fc54919"
      },
      "execution_count": null,
      "outputs": [
        {
          "output_type": "execute_result",
          "data": {
            "text/plain": [
              "[1923, 1923, 1299]"
            ]
          },
          "metadata": {},
          "execution_count": 107
        }
      ]
    },
    {
      "cell_type": "code",
      "source": [
        "random.choices(yillar,weights=[1,1,1,100,1,1,1,1,1,100],k=3)"
      ],
      "metadata": {
        "colab": {
          "base_uri": "https://localhost:8080/"
        },
        "id": "WKtxMB0VIFDY",
        "outputId": "fe97d0e5-8d91-42a4-d3a8-1df122c44162"
      },
      "execution_count": null,
      "outputs": [
        {
          "output_type": "execute_result",
          "data": {
            "text/plain": [
              "[2071, 2071, 2071]"
            ]
          },
          "metadata": {},
          "execution_count": 102
        }
      ]
    },
    {
      "cell_type": "code",
      "source": [
        "random.sample(yillar,k=3) #Her seçimden sonra seçtiği elemanı torbaya geri atmaz"
      ],
      "metadata": {
        "colab": {
          "base_uri": "https://localhost:8080/"
        },
        "id": "MpcGA0OyJOP-",
        "outputId": "413ae8b9-8151-4e4b-b92f-39c31862ad89"
      },
      "execution_count": null,
      "outputs": [
        {
          "output_type": "execute_result",
          "data": {
            "text/plain": [
              "[1938, 1881, 1453]"
            ]
          },
          "metadata": {},
          "execution_count": 109
        }
      ]
    },
    {
      "cell_type": "code",
      "source": [
        "random.shuffle(yillar)\n",
        "yillar"
      ],
      "metadata": {
        "colab": {
          "base_uri": "https://localhost:8080/"
        },
        "id": "ubjCangbJpM_",
        "outputId": "5c0d9efe-face-4c1a-db6b-113bb859552a"
      },
      "execution_count": null,
      "outputs": [
        {
          "output_type": "execute_result",
          "data": {
            "text/plain": [
              "[1938, 1071, 1923, 1881, 1453, 2071, 2053, 2023, 1920, 1299]"
            ]
          },
          "metadata": {},
          "execution_count": 113
        }
      ]
    },
    {
      "cell_type": "code",
      "source": [
        "import string\n",
        "\n",
        "string.ascii_letters"
      ],
      "metadata": {
        "colab": {
          "base_uri": "https://localhost:8080/",
          "height": 36
        },
        "id": "Kh1-JyO1JyP9",
        "outputId": "0bd1edb1-07d8-4d77-819d-9269b0fb6a02"
      },
      "execution_count": null,
      "outputs": [
        {
          "output_type": "execute_result",
          "data": {
            "text/plain": [
              "'abcdefghijklmnopqrstuvwxyzABCDEFGHIJKLMNOPQRSTUVWXYZ'"
            ],
            "application/vnd.google.colaboratory.intrinsic+json": {
              "type": "string"
            }
          },
          "metadata": {},
          "execution_count": 115
        }
      ]
    },
    {
      "cell_type": "code",
      "source": [
        "string.ascii_lowercase"
      ],
      "metadata": {
        "colab": {
          "base_uri": "https://localhost:8080/",
          "height": 36
        },
        "id": "xvP-LT8pJ-Es",
        "outputId": "df59affe-69e7-4ee8-ea82-c37c851bcdf4"
      },
      "execution_count": null,
      "outputs": [
        {
          "output_type": "execute_result",
          "data": {
            "text/plain": [
              "'abcdefghijklmnopqrstuvwxyz'"
            ],
            "application/vnd.google.colaboratory.intrinsic+json": {
              "type": "string"
            }
          },
          "metadata": {},
          "execution_count": 116
        }
      ]
    },
    {
      "cell_type": "code",
      "source": [
        "string.ascii_uppercase"
      ],
      "metadata": {
        "colab": {
          "base_uri": "https://localhost:8080/",
          "height": 36
        },
        "id": "K25QKqKKKBkd",
        "outputId": "a106b632-d307-43e4-e902-07f664e0c16d"
      },
      "execution_count": null,
      "outputs": [
        {
          "output_type": "execute_result",
          "data": {
            "text/plain": [
              "'ABCDEFGHIJKLMNOPQRSTUVWXYZ'"
            ],
            "application/vnd.google.colaboratory.intrinsic+json": {
              "type": "string"
            }
          },
          "metadata": {},
          "execution_count": 117
        }
      ]
    },
    {
      "cell_type": "code",
      "source": [
        "string.digits"
      ],
      "metadata": {
        "colab": {
          "base_uri": "https://localhost:8080/",
          "height": 36
        },
        "id": "PH2SlJ-NKFLl",
        "outputId": "f798a427-6162-441a-99e9-fadb4e1ff092"
      },
      "execution_count": null,
      "outputs": [
        {
          "output_type": "execute_result",
          "data": {
            "text/plain": [
              "'0123456789'"
            ],
            "application/vnd.google.colaboratory.intrinsic+json": {
              "type": "string"
            }
          },
          "metadata": {},
          "execution_count": 118
        }
      ]
    },
    {
      "cell_type": "code",
      "source": [
        "string.punctuation"
      ],
      "metadata": {
        "colab": {
          "base_uri": "https://localhost:8080/",
          "height": 36
        },
        "id": "4yideF5hKKKW",
        "outputId": "1da6bc4f-5c08-450c-8a55-086c83f45a0a"
      },
      "execution_count": null,
      "outputs": [
        {
          "output_type": "execute_result",
          "data": {
            "text/plain": [
              "'!\"#$%&\\'()*+,-./:;<=>?@[\\\\]^_`{|}~'"
            ],
            "application/vnd.google.colaboratory.intrinsic+json": {
              "type": "string"
            }
          },
          "metadata": {},
          "execution_count": 119
        }
      ]
    },
    {
      "cell_type": "code",
      "source": [
        "#ÖDEV 1\n",
        "\n",
        "#Rastgele 8 karakterden oluşan kırılması zor bir şifre oluşturucu yapalım.\n",
        "#En az 2'şer büyük harf, küçük harf, sayı, sembol içersin\n"
      ],
      "metadata": {
        "id": "03cBp9XpKqPN"
      },
      "execution_count": null,
      "outputs": []
    },
    {
      "cell_type": "code",
      "source": [
        "#ÖDEV 2\n",
        "\n",
        "#Kullanının girdiği şifrenin güvenilir olup olmadığını kontrolcü yapalım\n",
        "#büyük harf, küçük harf, sayı, sembol içersin ve 8 karakterden az olmasın"
      ],
      "metadata": {
        "id": "vwurVvUILIjr"
      },
      "execution_count": null,
      "outputs": []
    },
    {
      "cell_type": "code",
      "source": [
        "import hashlib\n",
        "\n",
        "sifre=\"1234\"\n",
        "\n",
        "hashlib.md5(sifre.encode()).hexdigest()"
      ],
      "metadata": {
        "colab": {
          "base_uri": "https://localhost:8080/",
          "height": 36
        },
        "id": "lMLoT6wPLqAy",
        "outputId": "46f04804-40b7-4790-f7a5-ebb266c6c488"
      },
      "execution_count": null,
      "outputs": [
        {
          "output_type": "execute_result",
          "data": {
            "text/plain": [
              "'81dc9bdb52d04dc20036dbd8313ed055'"
            ],
            "application/vnd.google.colaboratory.intrinsic+json": {
              "type": "string"
            }
          },
          "metadata": {},
          "execution_count": 122
        }
      ]
    }
  ]
}