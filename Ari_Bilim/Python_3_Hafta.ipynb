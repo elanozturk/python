{
  "cells": [
    {
      "cell_type": "markdown",
      "metadata": {
        "colab_type": "text",
        "id": "view-in-github"
      },
      "source": [
        "<a href=\"https://colab.research.google.com/github/elanozturk/python/blob/main/Python_3_Hafta.ipynb\" target=\"_parent\"><img src=\"https://colab.research.google.com/assets/colab-badge.svg\" alt=\"Open In Colab\"/></a>"
      ]
    },
    {
      "cell_type": "code",
      "execution_count": null,
      "metadata": {
        "id": "9H4xj0XGnzNd"
      },
      "outputs": [],
      "source": [
        "#ÖDEV (BURDA YANİ Google Colab'da yapalım, sonra streamlitte çalışan versiyonunu da yapalım)\n",
        "\n",
        "#streamlitte şifre ve kullanıcı adı alalım girilen bilgilere göre ekrana bişeyler yazdıralım\n",
        "\n",
        "kullaniciadi=\"yönetici\"\n",
        "sifre=\"1903\"\n",
        "\n",
        "\n",
        "#sifre ve kullanıcı adımızın yukarıdaki gibi olduğunu varsayalım. Kullanıcıdan bir kullanıcı adı ve şifre girmesini isteyelim.\n",
        "\n",
        "#Kullanıcı adı hatalıysa kullanıcı bulunamadı\n",
        "#Şifre hatalıysa şifreniz hatalı\n",
        "#İkisi de doğruysa giriş başarılı\n",
        "#İkisi de hatalıysa giriş bilgileri hatalı  şeklinde sonuçlar göstersin"
      ]
    },
    {
      "cell_type": "code",
      "execution_count": null,
      "metadata": {
        "colab": {
          "base_uri": "https://localhost:8080/"
        },
        "id": "zIndlW9ks_75",
        "outputId": "acc3c700-32e8-47d5-8167-ddae8db5aa2b"
      },
      "outputs": [
        {
          "name": "stdout",
          "output_type": "stream",
          "text": [
            "Kullanıcı Adı GirinizYönetici\n",
            "Şifre Giriniz1903\n",
            "Kullanıcı Bulunamadı veya Yanlış\n"
          ]
        }
      ],
      "source": [
        "#kullaniciadi=\"yönetici\"\n",
        "#sifre=\"1903\"\n",
        "\n",
        "bilgiler = [\"yönetici\",\"1903\"]\n",
        "\n",
        "kullanici=input(\"Kullanıcı Adı Giriniz\")\n",
        "sifre = input(\"Şifre Giriniz\")\n",
        "\n",
        "if kullanici!=bilgiler[0]:\n",
        "  print(\"Kullanıcı Bulunamadı veya Yanlış\")\n",
        "elif kullanici==bilgiler[0] and sifre!=bilgiler[1]:\n",
        "  print(\"Şifre yanlış\")\n",
        "elif kullanici==bilgiler[0] and sifre==bilgiler[1]:\n",
        "  print(\"Hoşgeldiniz\")\n",
        "else:\n",
        "  print(\"Bilgileri Giriniz\")"
      ]
    },
    {
      "cell_type": "code",
      "execution_count": null,
      "metadata": {
        "id": "jD3siCTkwwUS"
      },
      "outputs": [],
      "source": [
        "#ÖDEV 2 (BURDA YANİ Google Colab'da yapalım, sonra streamlitte çalışan versiyonunu da yapalım)\n",
        "\n",
        "ogrenciler=[\"Ali\",\"Fatma\",\"Mehmet\",\"Çağrı\"]\n",
        "\n",
        "ogrenci=input(\"Öğrenci Adı Giriniz\")\n",
        "\n",
        "\n",
        "#öğrenci yoksa ekle ve bilgi ver\n",
        "#öğrenci varsa ekleme ve öğrenci zaten var diye bilgi ver\n",
        "#en son öğrencileri yazdır"
      ]
    },
    {
      "cell_type": "code",
      "execution_count": null,
      "metadata": {
        "colab": {
          "base_uri": "https://localhost:8080/"
        },
        "id": "c68WDcPHwxIp",
        "outputId": "86f715ef-8528-4422-ce9e-fc8e8dec9a4a"
      },
      "outputs": [
        {
          "name": "stdout",
          "output_type": "stream",
          "text": [
            "Öğrenci Adı GirinizHüseyin\n",
            "Hüseyin  eklendi\n",
            "['Ali', 'Fatma', 'Mehmet', 'Çağrı', 'Hüseyin']\n"
          ]
        }
      ],
      "source": [
        "ogrenciler=[\"Ali\",\"Fatma\",\"Mehmet\",\"Çağrı\"]\n",
        "\n",
        "ogrenci=input(\"Öğrenci Adı Giriniz\")\n",
        "\n",
        "if ogrenci in ogrenciler:\n",
        "  print(\"Öğrenci kayıtlı\")\n",
        "else:\n",
        "  ogrenciler.append(ogrenci)\n",
        "  print(ogrenci,\" eklendi\")\n",
        "  print(ogrenciler)\n"
      ]
    },
    {
      "cell_type": "code",
      "execution_count": null,
      "metadata": {
        "colab": {
          "base_uri": "https://localhost:8080/"
        },
        "id": "q4rz-LU3xtcY",
        "outputId": "a7fc9007-5bb3-4dcd-e129-ea119564518b"
      },
      "outputs": [
        {
          "data": {
            "text/plain": [
              "['İşim gücüm budur benim', ' gökyüzünü boyarım her sabah']"
            ]
          },
          "execution_count": 19,
          "metadata": {},
          "output_type": "execute_result"
        }
      ],
      "source": [
        "cumle =\"İşim gücüm budur benim. gökyüzünü boyarım her sabah\"\n",
        "\n",
        "cumle.split(\".\") #string ifadeleri ayırma metodu"
      ]
    },
    {
      "cell_type": "code",
      "execution_count": null,
      "metadata": {
        "id": "YCZSTwRHzxbk"
      },
      "outputs": [],
      "source": []
    },
    {
      "cell_type": "code",
      "execution_count": null,
      "metadata": {
        "colab": {
          "base_uri": "https://localhost:8080/"
        },
        "id": "GLTRVcOPzF92",
        "outputId": "ec8eba0d-0441-4f49-88ec-a3824cdd7a7e"
      },
      "outputs": [
        {
          "data": {
            "text/plain": [
              "51"
            ]
          },
          "execution_count": 17,
          "metadata": {},
          "output_type": "execute_result"
        }
      ],
      "source": [
        "cumle =\"İşim gücüm budur benim. gökyüzünü boyarım her sabah\"\n",
        "type(cumle)\n",
        "len(cumle)"
      ]
    },
    {
      "cell_type": "code",
      "execution_count": null,
      "metadata": {
        "colab": {
          "base_uri": "https://localhost:8080/"
        },
        "id": "nrCV2Bq0yr5X",
        "outputId": "222b5586-63a0-40ad-b690-685ac7df56cc"
      },
      "outputs": [
        {
          "data": {
            "text/plain": [
              "str"
            ]
          },
          "execution_count": 10,
          "metadata": {},
          "output_type": "execute_result"
        }
      ],
      "source": [
        "type(cumle)"
      ]
    },
    {
      "cell_type": "code",
      "execution_count": null,
      "metadata": {
        "id": "pO3JvUDNz1Ac"
      },
      "outputs": [],
      "source": [
        "sayilar = [34,26,7,39]"
      ]
    },
    {
      "cell_type": "code",
      "execution_count": null,
      "metadata": {
        "colab": {
          "base_uri": "https://localhost:8080/"
        },
        "id": "8VznbD1hzpDd",
        "outputId": "bd4fd8e3-76df-4680-ca6a-d834ea756176"
      },
      "outputs": [
        {
          "data": {
            "text/plain": [
              "7"
            ]
          },
          "execution_count": 29,
          "metadata": {},
          "output_type": "execute_result"
        }
      ],
      "source": [
        "min(sayilar)"
      ]
    },
    {
      "cell_type": "code",
      "execution_count": null,
      "metadata": {
        "colab": {
          "base_uri": "https://localhost:8080/"
        },
        "id": "YNeN4jR50GiU",
        "outputId": "0e8b3389-34db-4250-a6a9-f6be4070cc49"
      },
      "outputs": [
        {
          "data": {
            "text/plain": [
              "39"
            ]
          },
          "execution_count": 30,
          "metadata": {},
          "output_type": "execute_result"
        }
      ],
      "source": [
        "max(sayilar)"
      ]
    },
    {
      "cell_type": "code",
      "execution_count": null,
      "metadata": {
        "colab": {
          "base_uri": "https://localhost:8080/"
        },
        "id": "_AX2CbyA0Jer",
        "outputId": "2185f197-db8f-4af8-814e-979ef9340617"
      },
      "outputs": [
        {
          "data": {
            "text/plain": [
              "106"
            ]
          },
          "execution_count": 31,
          "metadata": {},
          "output_type": "execute_result"
        }
      ],
      "source": [
        "sum(sayilar)"
      ]
    },
    {
      "cell_type": "code",
      "execution_count": null,
      "metadata": {
        "colab": {
          "base_uri": "https://localhost:8080/"
        },
        "id": "0e1_OMOl0Wck",
        "outputId": "51a549bb-4b93-495b-e1fe-e2cb5e158f90"
      },
      "outputs": [
        {
          "data": {
            "text/plain": [
              "26.5"
            ]
          },
          "execution_count": 32,
          "metadata": {},
          "output_type": "execute_result"
        }
      ],
      "source": [
        "sum(sayilar)/len(sayilar)"
      ]
    },
    {
      "cell_type": "code",
      "execution_count": null,
      "metadata": {
        "colab": {
          "base_uri": "https://localhost:8080/"
        },
        "id": "FAGgFCw10pOd",
        "outputId": "75c333e3-2f70-42db-9e4e-d85d4ecf3a61"
      },
      "outputs": [
        {
          "name": "stdout",
          "output_type": "stream",
          "text": [
            "f-a-t-m-a\n"
          ]
        }
      ],
      "source": [
        "isim=[\"f\",\"a\",\"t\",\"m\",\"a\"]\n",
        "\n",
        "isimtam=\"-\".join(isim)  # Liste elemanlarını birleştirir\n",
        "print(isimtam)"
      ]
    },
    {
      "cell_type": "code",
      "execution_count": null,
      "metadata": {
        "colab": {
          "base_uri": "https://localhost:8080/"
        },
        "id": "c7faLW7A1GKj",
        "outputId": "33e5d9ae-0ab6-4e11-8ed2-b5ae459f7f41"
      },
      "outputs": [
        {
          "data": {
            "text/plain": [
              "tuple"
            ]
          },
          "execution_count": 42,
          "metadata": {},
          "output_type": "execute_result"
        }
      ],
      "source": [
        "# TUPLE (DEMETLER)\n",
        "\n",
        "defterler = (\"ali\",79,17.2,[23,\"kafa\",15.8])\n",
        "\n",
        "len(defterler)\n",
        "type(defterler)"
      ]
    },
    {
      "cell_type": "code",
      "execution_count": null,
      "metadata": {
        "colab": {
          "base_uri": "https://localhost:8080/",
          "height": 175
        },
        "id": "P8fZdAOG2uBY",
        "outputId": "e41b5122-ea26-4877-c038-07cafa6a1036"
      },
      "outputs": [
        {
          "ename": "TypeError",
          "evalue": "ignored",
          "output_type": "error",
          "traceback": [
            "\u001b[0;31m---------------------------------------------------------------------------\u001b[0m",
            "\u001b[0;31mTypeError\u001b[0m                                 Traceback (most recent call last)",
            "\u001b[0;32m<ipython-input-45-97f05c28bb45>\u001b[0m in \u001b[0;36m<cell line: 1>\u001b[0;34m()\u001b[0m\n\u001b[0;32m----> 1\u001b[0;31m \u001b[0mdefterler\u001b[0m\u001b[0;34m[\u001b[0m\u001b[0;36m1\u001b[0m\u001b[0;34m]\u001b[0m \u001b[0;34m=\u001b[0m \u001b[0;36m87\u001b[0m\u001b[0;34m\u001b[0m\u001b[0;34m\u001b[0m\u001b[0m\n\u001b[0m",
            "\u001b[0;31mTypeError\u001b[0m: 'tuple' object does not support item assignment"
          ]
        }
      ],
      "source": [
        "defterler[1] = 87   #Tuple verileri değiştirilemez Tuple'ın listelerden farklı özelliği budur."
      ]
    },
    {
      "cell_type": "code",
      "execution_count": null,
      "metadata": {
        "colab": {
          "base_uri": "https://localhost:8080/"
        },
        "id": "LJq56CDk2Xka",
        "outputId": "e9a8ded9-9069-4fed-9749-469733a267d9"
      },
      "outputs": [
        {
          "data": {
            "text/plain": [
              "list"
            ]
          },
          "execution_count": 43,
          "metadata": {},
          "output_type": "execute_result"
        }
      ],
      "source": [
        "isim=[\"f\",\"a\",\"t\",\"m\",\"a\"]\n",
        "type(isim)"
      ]
    },
    {
      "cell_type": "code",
      "execution_count": null,
      "metadata": {
        "colab": {
          "base_uri": "https://localhost:8080/"
        },
        "id": "M33UKxTK2krk",
        "outputId": "5c18c371-5839-49e6-905a-30e579c70f7c"
      },
      "outputs": [
        {
          "name": "stdout",
          "output_type": "stream",
          "text": [
            "['f', 'e', 't', 'm', 'a']\n"
          ]
        }
      ],
      "source": [
        "isim[1] = \"e\"\n",
        "print(isim)"
      ]
    },
    {
      "cell_type": "code",
      "execution_count": null,
      "metadata": {
        "colab": {
          "base_uri": "https://localhost:8080/"
        },
        "id": "WcTxdavw2sCx",
        "outputId": "eb8b6061-c516-45ff-c38b-03d735f45107"
      },
      "outputs": [
        {
          "name": "stdout",
          "output_type": "stream",
          "text": [
            "6\n",
            "10\n",
            "18\n",
            "22\n"
          ]
        }
      ],
      "source": [
        "#FOR LOOP (FOR DÖNGÜSÜ)\n",
        "\n",
        "sayilar=[3,5,9,11]\n",
        "\n",
        "for x in sayilar:\n",
        "  print(x*2)"
      ]
    },
    {
      "cell_type": "code",
      "execution_count": null,
      "metadata": {
        "id": "XNACfCfJ6aPD"
      },
      "outputs": [],
      "source": [
        "yillar = [1071,1299,1453,1881,1920,1923,1938,2023,2053,2071]\n",
        "\n",
        "\n",
        "#tek yılları getirin\n",
        "# % bölümünden kalanı verir\n",
        "\n",
        "for a in yillar:\n",
        "  if a % 2 ==1:\n",
        "    print(a)\n",
        "  else:\n",
        "    print(a*2)\n"
      ]
    },
    {
      "cell_type": "code",
      "execution_count": null,
      "metadata": {
        "colab": {
          "base_uri": "https://localhost:8080/"
        },
        "id": "6HytgdMk8png",
        "outputId": "d7301c35-3d16-41af-b431-465690b97830"
      },
      "outputs": [
        {
          "data": {
            "text/plain": [
              "17632"
            ]
          },
          "execution_count": 55,
          "metadata": {},
          "output_type": "execute_result"
        }
      ],
      "source": [
        "yillar = [1071,1299,1453,1881,1920,1923,1938,2023,2053,2071]\n",
        "\n",
        "#elemanların toplamını bulun\n",
        "sum(yillar)"
      ]
    },
    {
      "cell_type": "code",
      "execution_count": null,
      "metadata": {
        "colab": {
          "base_uri": "https://localhost:8080/"
        },
        "id": "v_YEpph_9Maf",
        "outputId": "03f9e03d-d689-469e-9390-bc14fae3d46a"
      },
      "outputs": [
        {
          "name": "stdout",
          "output_type": "stream",
          "text": [
            "17632\n"
          ]
        }
      ],
      "source": [
        "toplam=0\n",
        "\n",
        "for x in yillar:\n",
        "  toplam=toplam+x\n",
        "\n",
        "print(toplam)"
      ]
    },
    {
      "cell_type": "code",
      "execution_count": null,
      "metadata": {
        "colab": {
          "base_uri": "https://localhost:8080/"
        },
        "id": "_sqWFC7z-nGV",
        "outputId": "862c8a3b-2db4-4c14-93f6-c165eea97a6b"
      },
      "outputs": [
        {
          "name": "stdout",
          "output_type": "stream",
          "text": [
            "13774\n"
          ]
        }
      ],
      "source": [
        "toplam=0\n",
        "tekler=[]\n",
        "\n",
        "for x in yillar:\n",
        "  if x % 2 ==1:\n",
        "    tekler.append(x)\n",
        "\n",
        "print(sum(tekler))"
      ]
    },
    {
      "cell_type": "code",
      "execution_count": null,
      "metadata": {
        "id": "aAu2r1Xa_wZU"
      },
      "outputs": [],
      "source": [
        "for a in range(20):\n",
        "  print(a)"
      ]
    },
    {
      "cell_type": "code",
      "execution_count": null,
      "metadata": {
        "colab": {
          "base_uri": "https://localhost:8080/"
        },
        "id": "kZMBpepM-vxN",
        "outputId": "3a973d70-a287-42ce-f8f3-ce2ed1c8e9b5"
      },
      "outputs": [
        {
          "name": "stdout",
          "output_type": "stream",
          "text": [
            "4950\n"
          ]
        }
      ],
      "source": [
        "toplam=0\n",
        "for i in range(1,100):\n",
        "  toplam=toplam+i\n",
        "print(toplam)"
      ]
    },
    {
      "cell_type": "code",
      "execution_count": null,
      "metadata": {
        "colab": {
          "base_uri": "https://localhost:8080/"
        },
        "id": "SIggru_GBGEy",
        "outputId": "a3dd882b-80f3-46a6-8d93-445db595af32"
      },
      "outputs": [
        {
          "name": "stdout",
          "output_type": "stream",
          "text": [
            "2147483646\n"
          ]
        }
      ],
      "source": [
        "#ilk teklif 10000000 USD\n",
        "#ikinci teklif ilk 2 USD, 30 gün boyunca her gün bir önceki günün iki katı USD\n",
        "# 2, 4, 8, 16, 32, 64,\n",
        "# 1, 2, 3, 4 , 5 ,6\n",
        "\n",
        "toplam=0\n",
        "\n",
        "for i in range(1,31):\n",
        "  toplam=toplam+pow(2,i)\n",
        "print(toplam)"
      ]
    },
    {
      "cell_type": "code",
      "execution_count": null,
      "metadata": {
        "id": "XeaTR3EvEYMW"
      },
      "outputs": [],
      "source": [
        "toplam=0\n",
        "\n",
        "for i in range(1,31):\n",
        "  toplam=toplam+pow(2,i)\n",
        "  if toplam>10000000:\n",
        "    print(i)\n",
        "    break"
      ]
    },
    {
      "cell_type": "code",
      "execution_count": null,
      "metadata": {
        "id": "eBFc3idUHbxR"
      },
      "outputs": [],
      "source": [
        "import random"
      ]
    },
    {
      "cell_type": "code",
      "execution_count": null,
      "metadata": {
        "colab": {
          "base_uri": "https://localhost:8080/"
        },
        "id": "Qh3fr7SDHjIw",
        "outputId": "00e56742-ebbb-49cd-e1c5-00a2aa9d3d86"
      },
      "outputs": [
        {
          "data": {
            "text/plain": [
              "1881"
            ]
          },
          "execution_count": 94,
          "metadata": {},
          "output_type": "execute_result"
        }
      ],
      "source": [
        "yillar = [1071,1299,1453,1881,1920,1923,1938,2023,2053,2071]\n",
        "\n",
        "random.choice(yillar) #Listeden rasgele değer seçer"
      ]
    },
    {
      "cell_type": "code",
      "execution_count": null,
      "metadata": {
        "colab": {
          "base_uri": "https://localhost:8080/"
        },
        "id": "ITxIK1B-H37D",
        "outputId": "498d6513-036b-47d1-9ca0-93f15fc54919"
      },
      "outputs": [
        {
          "data": {
            "text/plain": [
              "[1923, 1923, 1299]"
            ]
          },
          "execution_count": 107,
          "metadata": {},
          "output_type": "execute_result"
        }
      ],
      "source": [
        "random.choices(yillar,k=3) #Her seçimden sonra seçtiği elemanı torbaya geri atar"
      ]
    },
    {
      "cell_type": "code",
      "execution_count": null,
      "metadata": {
        "colab": {
          "base_uri": "https://localhost:8080/"
        },
        "id": "WKtxMB0VIFDY",
        "outputId": "fe97d0e5-8d91-42a4-d3a8-1df122c44162"
      },
      "outputs": [
        {
          "data": {
            "text/plain": [
              "[2071, 2071, 2071]"
            ]
          },
          "execution_count": 102,
          "metadata": {},
          "output_type": "execute_result"
        }
      ],
      "source": [
        "random.choices(yillar,weights=[1,1,1,100,1,1,1,1,1,100],k=3)"
      ]
    },
    {
      "cell_type": "code",
      "execution_count": null,
      "metadata": {
        "colab": {
          "base_uri": "https://localhost:8080/"
        },
        "id": "MpcGA0OyJOP-",
        "outputId": "413ae8b9-8151-4e4b-b92f-39c31862ad89"
      },
      "outputs": [
        {
          "data": {
            "text/plain": [
              "[1938, 1881, 1453]"
            ]
          },
          "execution_count": 109,
          "metadata": {},
          "output_type": "execute_result"
        }
      ],
      "source": [
        "random.sample(yillar,k=3) #Her seçimden sonra seçtiği elemanı torbaya geri atmaz"
      ]
    },
    {
      "cell_type": "code",
      "execution_count": null,
      "metadata": {
        "colab": {
          "base_uri": "https://localhost:8080/"
        },
        "id": "ubjCangbJpM_",
        "outputId": "5c0d9efe-face-4c1a-db6b-113bb859552a"
      },
      "outputs": [
        {
          "data": {
            "text/plain": [
              "[1938, 1071, 1923, 1881, 1453, 2071, 2053, 2023, 1920, 1299]"
            ]
          },
          "execution_count": 113,
          "metadata": {},
          "output_type": "execute_result"
        }
      ],
      "source": [
        "random.shuffle(yillar)\n",
        "yillar"
      ]
    },
    {
      "cell_type": "code",
      "execution_count": null,
      "metadata": {
        "colab": {
          "base_uri": "https://localhost:8080/",
          "height": 36
        },
        "id": "Kh1-JyO1JyP9",
        "outputId": "0bd1edb1-07d8-4d77-819d-9269b0fb6a02"
      },
      "outputs": [
        {
          "data": {
            "application/vnd.google.colaboratory.intrinsic+json": {
              "type": "string"
            },
            "text/plain": [
              "'abcdefghijklmnopqrstuvwxyzABCDEFGHIJKLMNOPQRSTUVWXYZ'"
            ]
          },
          "execution_count": 115,
          "metadata": {},
          "output_type": "execute_result"
        }
      ],
      "source": [
        "import string\n",
        "\n",
        "string.ascii_letters"
      ]
    },
    {
      "cell_type": "code",
      "execution_count": null,
      "metadata": {
        "colab": {
          "base_uri": "https://localhost:8080/",
          "height": 36
        },
        "id": "xvP-LT8pJ-Es",
        "outputId": "df59affe-69e7-4ee8-ea82-c37c851bcdf4"
      },
      "outputs": [
        {
          "data": {
            "application/vnd.google.colaboratory.intrinsic+json": {
              "type": "string"
            },
            "text/plain": [
              "'abcdefghijklmnopqrstuvwxyz'"
            ]
          },
          "execution_count": 116,
          "metadata": {},
          "output_type": "execute_result"
        }
      ],
      "source": [
        "string.ascii_lowercase"
      ]
    },
    {
      "cell_type": "code",
      "execution_count": null,
      "metadata": {
        "colab": {
          "base_uri": "https://localhost:8080/",
          "height": 36
        },
        "id": "K25QKqKKKBkd",
        "outputId": "a106b632-d307-43e4-e902-07f664e0c16d"
      },
      "outputs": [
        {
          "data": {
            "application/vnd.google.colaboratory.intrinsic+json": {
              "type": "string"
            },
            "text/plain": [
              "'ABCDEFGHIJKLMNOPQRSTUVWXYZ'"
            ]
          },
          "execution_count": 117,
          "metadata": {},
          "output_type": "execute_result"
        }
      ],
      "source": [
        "string.ascii_uppercase"
      ]
    },
    {
      "cell_type": "code",
      "execution_count": null,
      "metadata": {
        "colab": {
          "base_uri": "https://localhost:8080/",
          "height": 36
        },
        "id": "PH2SlJ-NKFLl",
        "outputId": "f798a427-6162-441a-99e9-fadb4e1ff092"
      },
      "outputs": [
        {
          "data": {
            "application/vnd.google.colaboratory.intrinsic+json": {
              "type": "string"
            },
            "text/plain": [
              "'0123456789'"
            ]
          },
          "execution_count": 118,
          "metadata": {},
          "output_type": "execute_result"
        }
      ],
      "source": [
        "string.digits"
      ]
    },
    {
      "cell_type": "code",
      "execution_count": null,
      "metadata": {
        "colab": {
          "base_uri": "https://localhost:8080/",
          "height": 36
        },
        "id": "4yideF5hKKKW",
        "outputId": "1da6bc4f-5c08-450c-8a55-086c83f45a0a"
      },
      "outputs": [
        {
          "data": {
            "application/vnd.google.colaboratory.intrinsic+json": {
              "type": "string"
            },
            "text/plain": [
              "'!\"#$%&\\'()*+,-./:;<=>?@[\\\\]^_`{|}~'"
            ]
          },
          "execution_count": 119,
          "metadata": {},
          "output_type": "execute_result"
        }
      ],
      "source": [
        "string.punctuation"
      ]
    },
    {
      "cell_type": "code",
      "execution_count": null,
      "metadata": {
        "id": "03cBp9XpKqPN"
      },
      "outputs": [],
      "source": [
        "#ÖDEV 1\n",
        "\n",
        "#Rastgele 8 karakterden oluşan kırılması zor bir şifre oluşturucu yapalım.\n",
        "#En az 2'şer büyük harf, küçük harf, sayı, sembol içersin\n"
      ]
    },
    {
      "cell_type": "code",
      "execution_count": null,
      "metadata": {
        "id": "vwurVvUILIjr"
      },
      "outputs": [],
      "source": [
        "#ÖDEV 2\n",
        "\n",
        "#Kullanının girdiği şifrenin güvenilir olup olmadığını kontrolcü yapalım\n",
        "#büyük harf, küçük harf, sayı, sembol içersin ve 8 karakterden az olmasın"
      ]
    },
    {
      "cell_type": "code",
      "execution_count": null,
      "metadata": {
        "colab": {
          "base_uri": "https://localhost:8080/",
          "height": 36
        },
        "id": "lMLoT6wPLqAy",
        "outputId": "46f04804-40b7-4790-f7a5-ebb266c6c488"
      },
      "outputs": [
        {
          "data": {
            "application/vnd.google.colaboratory.intrinsic+json": {
              "type": "string"
            },
            "text/plain": [
              "'81dc9bdb52d04dc20036dbd8313ed055'"
            ]
          },
          "execution_count": 122,
          "metadata": {},
          "output_type": "execute_result"
        }
      ],
      "source": [
        "import hashlib\n",
        "\n",
        "sifre=\"1234\"\n",
        "\n",
        "hashlib.md5(sifre.encode()).hexdigest()"
      ]
    }
  ],
  "metadata": {
    "colab": {
      "include_colab_link": true,
      "provenance": []
    },
    "kernelspec": {
      "display_name": "Python 3",
      "name": "python3"
    },
    "language_info": {
      "name": "python"
    }
  },
  "nbformat": 4,
  "nbformat_minor": 0
}
