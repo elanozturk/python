{
  "nbformat": 4,
  "nbformat_minor": 0,
  "metadata": {
    "colab": {
      "provenance": [],
      "include_colab_link": true
    },
    "kernelspec": {
      "name": "python3",
      "display_name": "Python 3"
    },
    "language_info": {
      "name": "python"
    }
  },
  "cells": [
    {
      "cell_type": "markdown",
      "metadata": {
        "id": "view-in-github",
        "colab_type": "text"
      },
      "source": [
        "<a href=\"https://colab.research.google.com/github/elanozturk/python/blob/main/Python_4_hafta(8).ipynb\" target=\"_parent\"><img src=\"https://colab.research.google.com/assets/colab-badge.svg\" alt=\"Open In Colab\"/></a>"
      ]
    },
    {
      "cell_type": "code",
      "source": [
        "users = {\n",
        "    \"admin\":\"1234\",\n",
        "    \"fatih\":\"1453\",\n",
        "    \"selanik\":\"1881\",\n",
        "    \"dolmabahce\":\"1903\"\n",
        "}\n",
        "\n",
        "# Kullanıcıdan bir kullanıcı adı ve şifre isteyelim\n",
        "# şifre doğru veya hatalı giriş yaptınız\n",
        "\n",
        "\n",
        "# 2.bölüm\n",
        "# kullanıcı yoksa kullanıcı bulunamadı\n",
        "# kullanıcı var ama şifre yanlışsa şifreniz hatalı\n",
        "#"
      ],
      "metadata": {
        "id": "HbczVMTRv4jt"
      },
      "execution_count": null,
      "outputs": []
    },
    {
      "cell_type": "code",
      "source": [
        "#Cevap 1. bölüm\n",
        "\n",
        "users ={\n",
        "    \"admin\":\"1234\",\n",
        "    \"fatih\":\"1453\",\n",
        "    \"selanik\":\"1881\",\n",
        "    \"dolmabahce\":\"1903\"\n",
        "}\n",
        "\n",
        "username = input(\"Kullanıcı adı giriniz\")\n",
        "password = input(\"Şifrenizi giriniz\")\n",
        "\n",
        "if username in users.keys() and password==users.get(username):\n",
        "  print(\"Bilgileriniz doğru\")\n",
        "else:\n",
        "  print(\"Hatalı bilgi girdiniz\")"
      ],
      "metadata": {
        "colab": {
          "base_uri": "https://localhost:8080/"
        },
        "id": "IAKvrr2_wCNk",
        "outputId": "61aabc45-e21d-4a20-c273-c8572660e884"
      },
      "execution_count": null,
      "outputs": [
        {
          "output_type": "stream",
          "name": "stdout",
          "text": [
            "Kullanıcı adı girinizadmin\n",
            "Şifrenizi giriniz1234\n",
            "Bilgileriniz doğru\n"
          ]
        }
      ]
    },
    {
      "cell_type": "code",
      "source": [
        "#Cevap 2. bölüm\n",
        "\n",
        "users ={\n",
        "    \"admin\":\"1234\",\n",
        "    \"fatih\":\"1453\",\n",
        "    \"selanik\":\"1881\",\n",
        "    \"dolmabahce\":\"1903\"\n",
        "}\n",
        "\n",
        "username = input(\"Kullanıcı adı giriniz\")\n",
        "password = input(\"Şifrenizi giriniz\")\n",
        "\n",
        "if username in users.keys():\n",
        "  if password==users[username]:\n",
        "    print(\"Giriş Başarılı\")\n",
        "  else:\n",
        "    print(\"Şifreniz Hatalı\")\n",
        "else:\n",
        "  print(\"Kullanıcı bulunamadı\")"
      ],
      "metadata": {
        "colab": {
          "base_uri": "https://localhost:8080/"
        },
        "id": "DQ9sO1DQxUcR",
        "outputId": "115171f4-8222-4e8e-d8ae-de4b716da50e"
      },
      "execution_count": null,
      "outputs": [
        {
          "output_type": "stream",
          "name": "stdout",
          "text": [
            "Kullanıcı adı girinizmahmut\n",
            "Şifrenizi giriniz1453\n",
            "Kullanıcı bulunamadı\n",
            "Keşkem bulunsaydı\n",
            "Acaba bulmalı mıydı\n"
          ]
        }
      ]
    },
    {
      "cell_type": "code",
      "source": [
        "data = {\n",
        "\"isim\":\"Şükrü\",\n",
        "\"soyisim\":\"Tercan\",\n",
        "\"dogum yili\":1987,\n",
        "\"departman\":None,\n",
        "\"askerlik\":False,\n",
        "}"
      ],
      "metadata": {
        "id": "RUJ5fCZkzWgu"
      },
      "execution_count": null,
      "outputs": []
    },
    {
      "cell_type": "code",
      "source": [
        "depar = data.get(\"dogum yili\")\n",
        "print(depar)\n",
        "type(depar)"
      ],
      "metadata": {
        "colab": {
          "base_uri": "https://localhost:8080/"
        },
        "id": "mj0Hwxdi-_DT",
        "outputId": "dcb1a096-4519-4341-cd06-8923c925f8bb"
      },
      "execution_count": null,
      "outputs": [
        {
          "output_type": "stream",
          "name": "stdout",
          "text": [
            "1987\n"
          ]
        },
        {
          "output_type": "execute_result",
          "data": {
            "text/plain": [
              "int"
            ]
          },
          "metadata": {},
          "execution_count": 17
        }
      ]
    },
    {
      "cell_type": "markdown",
      "source": [
        "# JSON Notları\n",
        "### JSON javascript tabanlıdır\n",
        "### JSON sözlüklere benzer\n",
        "### JSON None yerine null kullanır\n",
        "### JSON True, False yerine true,false kullanılır\n",
        "### JSON'da son değerden sonra \",\" konulmaz\n",
        "### JSON'da float ve integer yoktur number vardır"
      ],
      "metadata": {
        "id": "IlvX5XjbA5qg"
      }
    },
    {
      "cell_type": "code",
      "source": [
        "import requests"
      ],
      "metadata": {
        "id": "BY7Jz1yZBm_n"
      },
      "execution_count": null,
      "outputs": []
    },
    {
      "cell_type": "code",
      "source": [
        "url=\"https://api.kanye.rest/\"\n",
        "\n",
        "response = requests.get(url)\n",
        "\n",
        "data = response.json()\n",
        "\n",
        "print(data)"
      ],
      "metadata": {
        "colab": {
          "base_uri": "https://localhost:8080/"
        },
        "id": "bLTFFxAMCnUE",
        "outputId": "80083350-2578-47a6-a11e-ef237a7be0c2"
      },
      "execution_count": null,
      "outputs": [
        {
          "output_type": "stream",
          "name": "stdout",
          "text": [
            "{'quote': 'Sometimes I push the door close button on people running towards the elevator. I just need my own elevator sometimes. My sanctuary.'}\n"
          ]
        }
      ]
    },
    {
      "cell_type": "code",
      "source": [
        "type(data)"
      ],
      "metadata": {
        "colab": {
          "base_uri": "https://localhost:8080/"
        },
        "id": "U_2V1POJDGdT",
        "outputId": "73b43538-1210-48c6-daeb-0a06e2c1c14c"
      },
      "execution_count": null,
      "outputs": [
        {
          "output_type": "execute_result",
          "data": {
            "text/plain": [
              "dict"
            ]
          },
          "metadata": {},
          "execution_count": 24
        }
      ]
    },
    {
      "cell_type": "code",
      "source": [
        "data.values()"
      ],
      "metadata": {
        "colab": {
          "base_uri": "https://localhost:8080/"
        },
        "id": "uHgcwIjzEmVI",
        "outputId": "0b258817-1a5d-4154-f3df-34e4179051d5"
      },
      "execution_count": null,
      "outputs": [
        {
          "output_type": "execute_result",
          "data": {
            "text/plain": [
              "dict_values(['Sometimes I push the door close button on people running towards the elevator. I just need my own elevator sometimes. My sanctuary.'])"
            ]
          },
          "metadata": {},
          "execution_count": 26
        }
      ]
    },
    {
      "cell_type": "code",
      "source": [
        "data[\"quote\"]"
      ],
      "metadata": {
        "colab": {
          "base_uri": "https://localhost:8080/",
          "height": 53
        },
        "id": "JTp3_aG9FNrO",
        "outputId": "a10d4273-24ed-4aaa-aba1-ef8ea415964f"
      },
      "execution_count": null,
      "outputs": [
        {
          "output_type": "execute_result",
          "data": {
            "text/plain": [
              "'Sometimes I push the door close button on people running towards the elevator. I just need my own elevator sometimes. My sanctuary.'"
            ],
            "application/vnd.google.colaboratory.intrinsic+json": {
              "type": "string"
            }
          },
          "metadata": {},
          "execution_count": 27
        }
      ]
    },
    {
      "cell_type": "code",
      "source": [
        "import requests\n",
        "\n",
        "sehir = input(\"Şehir Giriniz\")\n",
        "\n",
        "url = \"https://wttr.in/\"+sehir+\"?format=3\"\n",
        "# url = f\"https://wttr.in/{sehir}?format=3\"  üstteki ile aynı sonucu verir\n",
        "\n",
        "rest = requests.get(url)\n",
        "\n",
        "data = rest.text\n",
        "\n",
        "print(data)\n",
        "#Girilen şehrin hava durumunu ekrana yazdırsın"
      ],
      "metadata": {
        "colab": {
          "base_uri": "https://localhost:8080/"
        },
        "id": "z_48jqKGF5kY",
        "outputId": "740ae5a0-266d-4d56-d043-4b8c320e22f7"
      },
      "execution_count": null,
      "outputs": [
        {
          "output_type": "stream",
          "name": "stdout",
          "text": [
            "Şehir Girinizmalatya\n",
            "malatya: 🌦   +41°F\n",
            "\n"
          ]
        }
      ]
    },
    {
      "cell_type": "code",
      "source": [],
      "metadata": {
        "id": "ycLShgDcG9bN"
      },
      "execution_count": null,
      "outputs": []
    },
    {
      "cell_type": "code",
      "source": [
        "import requests\n",
        "\n",
        "url = \"https://api.coindesk.com/v1/bpi/currentprice.json\"\n",
        "\n",
        "response= requests.get(url)\n",
        "data=response.json()\n",
        "print(data)"
      ],
      "metadata": {
        "colab": {
          "base_uri": "https://localhost:8080/"
        },
        "id": "mOzI04tiKfIm",
        "outputId": "d65b56e5-576a-4d7b-b3d8-83af188757f3"
      },
      "execution_count": null,
      "outputs": [
        {
          "output_type": "stream",
          "name": "stdout",
          "text": [
            "{'time': {'updated': 'Dec 5, 2023 18:08:00 UTC', 'updatedISO': '2023-12-05T18:08:00+00:00', 'updateduk': 'Dec 5, 2023 at 18:08 GMT'}, 'disclaimer': 'This data was produced from the CoinDesk Bitcoin Price Index (USD). Non-USD currency data converted using hourly conversion rate from openexchangerates.org', 'chartName': 'Bitcoin', 'bpi': {'USD': {'code': 'USD', 'symbol': '&#36;', 'rate': '43,421.3851', 'description': 'United States Dollar', 'rate_float': 43421.3851}, 'GBP': {'code': 'GBP', 'symbol': '&pound;', 'rate': '36,282.5620', 'description': 'British Pound Sterling', 'rate_float': 36282.562}, 'EUR': {'code': 'EUR', 'symbol': '&euro;', 'rate': '42,298.7686', 'description': 'Euro', 'rate_float': 42298.7686}}}\n"
          ]
        }
      ]
    },
    {
      "cell_type": "code",
      "source": [
        "data[\"bpi\"]"
      ],
      "metadata": {
        "colab": {
          "base_uri": "https://localhost:8080/"
        },
        "id": "Q9-J3IpiLCu-",
        "outputId": "7997ae36-55bd-4c95-812a-c786cfd7c2c9"
      },
      "execution_count": null,
      "outputs": [
        {
          "output_type": "execute_result",
          "data": {
            "text/plain": [
              "{'USD': {'code': 'USD',\n",
              "  'symbol': '&#36;',\n",
              "  'rate': '43,421.3851',\n",
              "  'description': 'United States Dollar',\n",
              "  'rate_float': 43421.3851},\n",
              " 'GBP': {'code': 'GBP',\n",
              "  'symbol': '&pound;',\n",
              "  'rate': '36,282.5620',\n",
              "  'description': 'British Pound Sterling',\n",
              "  'rate_float': 36282.562},\n",
              " 'EUR': {'code': 'EUR',\n",
              "  'symbol': '&euro;',\n",
              "  'rate': '42,298.7686',\n",
              "  'description': 'Euro',\n",
              "  'rate_float': 42298.7686}}"
            ]
          },
          "metadata": {},
          "execution_count": 33
        }
      ]
    },
    {
      "cell_type": "code",
      "source": [
        "data[\"bpi\"][\"USD\"]"
      ],
      "metadata": {
        "colab": {
          "base_uri": "https://localhost:8080/"
        },
        "id": "SIu2L1IeLJ3V",
        "outputId": "53f5bae8-bce4-4341-a61e-f58a03c4ab4f"
      },
      "execution_count": null,
      "outputs": [
        {
          "output_type": "execute_result",
          "data": {
            "text/plain": [
              "{'code': 'USD',\n",
              " 'symbol': '&#36;',\n",
              " 'rate': '43,421.3851',\n",
              " 'description': 'United States Dollar',\n",
              " 'rate_float': 43421.3851}"
            ]
          },
          "metadata": {},
          "execution_count": 34
        }
      ]
    },
    {
      "cell_type": "code",
      "source": [
        "data[\"bpi\"][\"USD\"][\"rate_float\"]"
      ],
      "metadata": {
        "colab": {
          "base_uri": "https://localhost:8080/"
        },
        "id": "EXRcHUNTLWn2",
        "outputId": "c7f6e210-5d9b-42d5-ecdf-a0e7c007ad13"
      },
      "execution_count": null,
      "outputs": [
        {
          "output_type": "execute_result",
          "data": {
            "text/plain": [
              "43421.3851"
            ]
          },
          "metadata": {},
          "execution_count": 41
        }
      ]
    },
    {
      "cell_type": "code",
      "source": [
        "import requests\n",
        "url = \"https://api.coindesk.com/v1/bpi/currentprice.json\"\n",
        "response= requests.get(url)\n",
        "data=response.json()\n",
        "data[\"bpi\"][\"USD\"][\"rate_float\"]"
      ],
      "metadata": {
        "colab": {
          "base_uri": "https://localhost:8080/"
        },
        "id": "sZfJUpokMIZ8",
        "outputId": "99e58b65-7601-4c7a-e3e8-e57937e7df95"
      },
      "execution_count": null,
      "outputs": [
        {
          "output_type": "execute_result",
          "data": {
            "text/plain": [
              "43607.156"
            ]
          },
          "metadata": {},
          "execution_count": 42
        }
      ]
    },
    {
      "cell_type": "code",
      "source": [
        "#ÖDEV\n",
        "\n",
        "\"https://api.nationalize.io/?name=damla\"\n",
        "\n",
        "# Bu api isminizin hangi ülkeye ait olduğu ihtimalini veriyor.\n",
        "# Örnekteki url'nin sonundaki isim değiştirilerek kullanılabiliyor\n",
        "# Bu apiyi kullanarak girilen ismin yüzde cinsinden\n",
        "# kaç ihtimalle hangi ülkeye ait olduğunu getirsin\n",
        "# %75 TR\n",
        "# %23 AT\n",
        "#...."
      ],
      "metadata": {
        "id": "GCqU3EeHOuZY"
      },
      "execution_count": null,
      "outputs": []
    },
    {
      "cell_type": "code",
      "source": [
        "import requests\n",
        "\n",
        "isim = input(\"İsim giriniz\")\n",
        "\n",
        "url = f\"https://api.nationalize.io/?name={isim}\"\n",
        "\n",
        "vespa = requests.get(url)\n",
        "data = vespa.json()\n",
        "prob = data[\"country\"]\n",
        "\n",
        "for i in prob:\n",
        "  print(i['country_id'], i['probability']*100)"
      ],
      "metadata": {
        "colab": {
          "base_uri": "https://localhost:8080/"
        },
        "id": "urWyyalsBwTD",
        "outputId": "faf26cd2-2ae5-4b37-88fe-3cbd3392b750"
      },
      "execution_count": null,
      "outputs": [
        {
          "output_type": "stream",
          "name": "stdout",
          "text": [
            "İsim girinizdamla\n",
            "TR 64.1\n",
            "BG 7.3999999999999995\n",
            "DE 5.1\n",
            "AT 3.9\n",
            "AZ 3.8\n"
          ]
        }
      ]
    },
    {
      "cell_type": "code",
      "source": [
        "from urllib.request import urlopen\n",
        "import xml.etree.ElementTree as et\n",
        "\n",
        "url = \"https://www.tcmb.gov.tr/kurlar/today.xml\"\n",
        "\n",
        "data = et.ElementTree(file=urlopen(url))\n",
        "\n",
        "root = data.getroot()\n",
        "root"
      ],
      "metadata": {
        "colab": {
          "base_uri": "https://localhost:8080/"
        },
        "id": "EGxSavy0GoqT",
        "outputId": "d3fcbc6f-6610-46a4-95b8-1571770e482f"
      },
      "execution_count": null,
      "outputs": [
        {
          "output_type": "execute_result",
          "data": {
            "text/plain": [
              "<Element 'Tarih_Date' at 0x7c2a664ed4e0>"
            ]
          },
          "metadata": {},
          "execution_count": 12
        }
      ]
    },
    {
      "cell_type": "code",
      "source": [
        "root[0][3].text"
      ],
      "metadata": {
        "colab": {
          "base_uri": "https://localhost:8080/",
          "height": 35
        },
        "id": "VvNM42_UWoLS",
        "outputId": "f25892a7-75d7-4c64-87f0-930c78b9659d"
      },
      "execution_count": null,
      "outputs": [
        {
          "output_type": "execute_result",
          "data": {
            "text/plain": [
              "'28.8740'"
            ],
            "application/vnd.google.colaboratory.intrinsic+json": {
              "type": "string"
            }
          },
          "metadata": {},
          "execution_count": 16
        }
      ]
    },
    {
      "cell_type": "code",
      "source": [
        "for i in root:\n",
        "  print(i[1].text) #, i[3].text"
      ],
      "metadata": {
        "colab": {
          "base_uri": "https://localhost:8080/"
        },
        "id": "5WacCJw3XckB",
        "outputId": "782cfd18-d5fd-461f-fe18-a647d2141617"
      },
      "execution_count": null,
      "outputs": [
        {
          "output_type": "stream",
          "name": "stdout",
          "text": [
            "ABD DOLARI\n",
            "AVUSTRALYA DOLARI\n",
            "DANİMARKA KRONU\n",
            "EURO\n",
            "İNGİLİZ STERLİNİ\n",
            "İSVİÇRE FRANGI\n",
            "İSVEÇ KRONU\n",
            "KANADA DOLARI\n",
            "KUVEYT DİNARI\n",
            "NORVEÇ KRONU\n",
            "SUUDİ ARABİSTAN RİYALİ\n",
            "JAPON YENİ\n",
            "BULGAR LEVASI\n",
            "RUMEN LEYİ\n",
            "RUS RUBLESİ\n",
            "İRAN RİYALİ\n",
            "ÇİN YUANI\n",
            "PAKİSTAN RUPİSİ\n",
            "KATAR RİYALİ\n",
            "GÜNEY KORE WONU\n",
            "AZERBAYCAN YENİ MANATI\n",
            "BİRLEŞİK ARAP EMİRLİKLERİ DİRHEMİ\n",
            "ÖZEL ÇEKME HAKKI (SDR)                            \n"
          ]
        }
      ]
    },
    {
      "cell_type": "code",
      "source": [
        "# SORU\n",
        "\n",
        "#Kanada Rusya'dan çelik ithal ediyor. Savaş çıktı ufak bi ödeme kalmış,\n",
        "# Rusya ruble olarak ödemesini istiyor.\n",
        "# 7 milyon ruble ödemen lazım\n",
        "\n",
        "#Kanada kaç Kanada Doları ödemeli\n"
      ],
      "metadata": {
        "id": "hp0UQ4HOYFGp"
      },
      "execution_count": null,
      "outputs": []
    },
    {
      "cell_type": "code",
      "source": [
        "from urllib.request import urlopen\n",
        "import xml.etree.ElementTree as et\n",
        "\n",
        "url = \"https://www.tcmb.gov.tr/kurlar/today.xml\"\n",
        "\n",
        "data = et.ElementTree(file=urlopen(url))\n",
        "\n",
        "root = data.getroot()\n",
        "\n",
        "kurlar ={}\n",
        "\n",
        "for i in root:\n",
        "  isim=i[1].text\n",
        "  fiyat=float(i[3].text)\n",
        "  kurlar[isim]=fiyat\n",
        "\n",
        "\n",
        "kanada = kurlar['KANADA DOLARI'] #kurlar.get('KANADA DOLARI')\n",
        "ruble = kurlar['RUS RUBLESİ']\n",
        "\n",
        "sonuc=ruble/kanada*7000000\n",
        "sonuc"
      ],
      "metadata": {
        "colab": {
          "base_uri": "https://localhost:8080/"
        },
        "id": "FoTjm_6zaqcU",
        "outputId": "d4273f02-6e9a-442b-b01d-2a16e3b1cad5"
      },
      "execution_count": null,
      "outputs": [
        {
          "output_type": "execute_result",
          "data": {
            "text/plain": [
              "102301.80354297673"
            ]
          },
          "metadata": {},
          "execution_count": 36
        }
      ]
    },
    {
      "cell_type": "code",
      "source": [
        "kurlar"
      ],
      "metadata": {
        "colab": {
          "base_uri": "https://localhost:8080/"
        },
        "id": "M5g8sHHOc6fI",
        "outputId": "4a65a62a-d777-4363-be39-1df3d9a52188"
      },
      "execution_count": null,
      "outputs": [
        {
          "output_type": "execute_result",
          "data": {
            "text/plain": [
              "{'ABD DOLARI': 28.874,\n",
              " 'AVUSTRALYA DOLARI': 18.8982,\n",
              " 'DANİMARKA KRONU': 4.1663,\n",
              " 'EURO': 31.1103,\n",
              " 'İNGİLİZ STERLİNİ': 36.2485,\n",
              " 'İSVİÇRE FRANGI': 32.9533,\n",
              " 'İSVEÇ KRONU': 2.7486,\n",
              " 'KANADA DOLARI': 21.2138,\n",
              " 'KUVEYT DİNARI': 93.123,\n",
              " 'NORVEÇ KRONU': 2.6329,\n",
              " 'SUUDİ ARABİSTAN RİYALİ': 7.6983,\n",
              " 'JAPON YENİ': 19.8158,\n",
              " 'BULGAR LEVASI': 15.817,\n",
              " 'RUMEN LEYİ': 6.2273,\n",
              " 'RUS RUBLESİ': 0.31003,\n",
              " 'İRAN RİYALİ': 0.06836,\n",
              " 'ÇİN YUANI': 4.0139,\n",
              " 'PAKİSTAN RUPİSİ': 0.1011,\n",
              " 'KATAR RİYALİ': 7.8744,\n",
              " 'GÜNEY KORE WONU': 0.02174,\n",
              " 'AZERBAYCAN YENİ MANATI': 16.8895,\n",
              " 'BİRLEŞİK ARAP EMİRLİKLERİ DİRHEMİ': 7.8187,\n",
              " 'ÖZEL ÇEKME HAKKI (SDR)                            ': 38.402}"
            ]
          },
          "metadata": {},
          "execution_count": 27
        }
      ]
    },
    {
      "cell_type": "code",
      "source": [],
      "metadata": {
        "colab": {
          "base_uri": "https://localhost:8080/"
        },
        "id": "45OVKqSjcJgp",
        "outputId": "1155849b-8248-480d-8b2e-8d03354410b7"
      },
      "execution_count": null,
      "outputs": [
        {
          "output_type": "execute_result",
          "data": {
            "text/plain": [
              "102301.80354297673"
            ]
          },
          "metadata": {},
          "execution_count": 28
        }
      ]
    },
    {
      "cell_type": "code",
      "source": [
        "kurlar[\"Euro\"]=32.11\n",
        "kurlar"
      ],
      "metadata": {
        "colab": {
          "base_uri": "https://localhost:8080/"
        },
        "id": "Er4S0HjsbiDj",
        "outputId": "63341a24-8871-4e7a-90e7-2fb1a8701598"
      },
      "execution_count": null,
      "outputs": [
        {
          "output_type": "execute_result",
          "data": {
            "text/plain": [
              "{'Euro': 32.11}"
            ]
          },
          "metadata": {},
          "execution_count": 23
        }
      ]
    },
    {
      "cell_type": "code",
      "source": [
        "kanada = float(root[7][3].text)\n",
        "ruble = float(root[14][3].text)\n",
        "\n",
        "sonuc=ruble/kanada*7000000\n",
        "sonuc"
      ],
      "metadata": {
        "colab": {
          "base_uri": "https://localhost:8080/"
        },
        "id": "u29OwrSgdr7Q",
        "outputId": "f92991fb-1b13-4244-d6a9-fc8d02ec3328"
      },
      "execution_count": null,
      "outputs": [
        {
          "output_type": "execute_result",
          "data": {
            "text/plain": [
              "102301.80354297673"
            ]
          },
          "metadata": {},
          "execution_count": 34
        }
      ]
    },
    {
      "cell_type": "code",
      "source": [
        "\"\"\"\n",
        "import streamlit as st\n",
        "\n",
        "from urllib.request import urlopen\n",
        "import xml.etree.ElementTree as et\n",
        "\n",
        "url = \"https://www.tcmb.gov.tr/kurlar/today.xml\"\n",
        "\n",
        "data = et.ElementTree(file=urlopen(url))\n",
        "\n",
        "root = data.getroot()\n",
        "\n",
        "kurlar ={}\n",
        "\n",
        "for i in root:\n",
        "  isim=i[1].text\n",
        "  fiyat=float(i[3].text)\n",
        "  kurlar[isim]=fiyat\n",
        "\n",
        "kurlar['TÜRK LİRASI']= 1\n",
        "\n",
        "kur1= st.sidebar.selectbox(\"Mevcut Para Cinsi\", kurlar.keys())\n",
        "kur2= st.sidebar.selectbox(\"İstenen Para Cinsi\", kurlar.keys())\n",
        "tutar= st.sidebar.number_input(\"miktar\")\n",
        "\n",
        "sonuc = kurlar.get(kur1)/kurlar.get(kur2)*tutar\n",
        "\n",
        "st.title(sonuc)\n",
        "\"\"\""
      ],
      "metadata": {
        "id": "bObKey1cjGfw",
        "colab": {
          "base_uri": "https://localhost:8080/",
          "height": 71
        },
        "outputId": "9d3b18cc-0a32-4cf6-95dd-ff8a522c5c5a"
      },
      "execution_count": null,
      "outputs": [
        {
          "output_type": "execute_result",
          "data": {
            "text/plain": [
              "'\\nimport streamlit as st\\n\\nfrom urllib.request import urlopen\\nimport xml.etree.ElementTree as et\\n\\nurl = \"https://www.tcmb.gov.tr/kurlar/today.xml\"\\n\\ndata = et.ElementTree(file=urlopen(url))\\n\\nroot = data.getroot()\\n\\nkurlar ={}\\n\\nfor i in root:\\n  isim=i[1].text\\n  fiyat=float(i[3].text)\\n  kurlar[isim]=fiyat\\n\\nkurlar[\\'TÜRK LİRASI\\']= 1\\n\\nkur1= st.sidebar.selectbox(\"Mevcut Para Cinsi\", kurlar.keys())\\nkur2= st.sidebar.selectbox(\"İstenen Para Cinsi\", kurlar.keys())\\ntutar= st.sidebar.number_input(\"miktar\")\\n\\nsonuc = kurlar.get(kur1)/kurlar.get(kur2)*tutar\\n\\nst.title(sonuc)\\n'"
            ],
            "application/vnd.google.colaboratory.intrinsic+json": {
              "type": "string"
            }
          },
          "metadata": {},
          "execution_count": 1
        }
      ]
    },
    {
      "cell_type": "code",
      "source": [
        "#https://api.coincap.io/v2/assets      Kriptolar\n",
        "#https://www.tcmb.gov.tr/kurlar/today.xml   Dövizler\n",
        "\n",
        "#Streamlitte yaptığımız örnekte sadece dövizler arası değişim oluyordu\n",
        "#Sizden hem döviz hem de kripto paralar arasında dönüşüm yapan\n",
        "#kodu yazmanızı istiyoruz\n"
      ],
      "metadata": {
        "id": "r4KURokOjJqo"
      },
      "execution_count": null,
      "outputs": []
    },
    {
      "cell_type": "code",
      "source": [],
      "metadata": {
        "id": "Y9ycKX8uc5ca"
      },
      "execution_count": null,
      "outputs": []
    }
  ]
}