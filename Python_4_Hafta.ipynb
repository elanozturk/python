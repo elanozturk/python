{
  "nbformat": 4,
  "nbformat_minor": 0,
  "metadata": {
    "colab": {
      "provenance": [],
      "include_colab_link": true
    },
    "kernelspec": {
      "name": "python3",
      "display_name": "Python 3"
    },
    "language_info": {
      "name": "python"
    }
  },
  "cells": [
    {
      "cell_type": "markdown",
      "metadata": {
        "id": "view-in-github",
        "colab_type": "text"
      },
      "source": [
        "<a href=\"https://colab.research.google.com/github/elanozturk/python/blob/main/Python_4_Hafta.ipynb\" target=\"_parent\"><img src=\"https://colab.research.google.com/assets/colab-badge.svg\" alt=\"Open In Colab\"/></a>"
      ]
    },
    {
      "cell_type": "code",
      "execution_count": null,
      "metadata": {
        "colab": {
          "base_uri": "https://localhost:8080/"
        },
        "id": "SFrJF6FTlVms",
        "outputId": "c6face55-582d-44fc-b237-33159a52f192"
      },
      "outputs": [
        {
          "output_type": "stream",
          "name": "stdout",
          "text": [
            "27.0\n"
          ]
        }
      ],
      "source": [
        "sayi1 = 27\n",
        "sayi2 = 1\n",
        "print(sayi1 / sayi2)"
      ]
    },
    {
      "cell_type": "code",
      "source": [
        "sonuc = sayi1 / sayi2\n",
        "type(sonuc)"
      ],
      "metadata": {
        "colab": {
          "base_uri": "https://localhost:8080/"
        },
        "id": "PR5VNGqdqdCp",
        "outputId": "82b2be2b-ef55-4b12-8c34-61311abb8c1d"
      },
      "execution_count": null,
      "outputs": [
        {
          "output_type": "execute_result",
          "data": {
            "text/plain": [
              "float"
            ]
          },
          "metadata": {},
          "execution_count": 20
        }
      ]
    },
    {
      "cell_type": "code",
      "source": [
        "sayi1 * 3 #çarpım"
      ],
      "metadata": {
        "colab": {
          "base_uri": "https://localhost:8080/"
        },
        "id": "LanXINDQrMxn",
        "outputId": "04da1e87-13f7-49dc-85ec-268b6c382f1d"
      },
      "execution_count": null,
      "outputs": [
        {
          "output_type": "execute_result",
          "data": {
            "text/plain": [
              "66"
            ]
          },
          "metadata": {},
          "execution_count": 21
        }
      ]
    },
    {
      "cell_type": "code",
      "source": [
        "sayi1 // 7 #Bölümün tamsayı kısmını verir"
      ],
      "metadata": {
        "colab": {
          "base_uri": "https://localhost:8080/"
        },
        "id": "TWGT_0p4rUgm",
        "outputId": "8a20e40b-184d-48ee-f5f7-61e6225f72d1"
      },
      "execution_count": null,
      "outputs": [
        {
          "output_type": "execute_result",
          "data": {
            "text/plain": [
              "3"
            ]
          },
          "metadata": {},
          "execution_count": 24
        }
      ]
    },
    {
      "cell_type": "code",
      "source": [
        "2 ** 3 ** 2  # 2 üzeri 3 (üslü ifadeler)"
      ],
      "metadata": {
        "colab": {
          "base_uri": "https://localhost:8080/"
        },
        "id": "dAknB1lhrurF",
        "outputId": "ea78d6cc-65ba-4b92-8709-9e4502b2c6a7"
      },
      "execution_count": null,
      "outputs": [
        {
          "output_type": "execute_result",
          "data": {
            "text/plain": [
              "512"
            ]
          },
          "metadata": {},
          "execution_count": 33
        }
      ]
    },
    {
      "cell_type": "code",
      "source": [
        "pow(2,5) #Kuvvet alma"
      ],
      "metadata": {
        "colab": {
          "base_uri": "https://localhost:8080/"
        },
        "id": "n9wIeyqcp6WY",
        "outputId": "a5356b4b-72c2-4e4f-9c2a-7df51ccb752f"
      },
      "execution_count": null,
      "outputs": [
        {
          "output_type": "execute_result",
          "data": {
            "text/plain": [
              "32"
            ]
          },
          "metadata": {},
          "execution_count": 34
        }
      ]
    },
    {
      "cell_type": "code",
      "source": [
        "106 % 5 #Bölümünden kalan sayı"
      ],
      "metadata": {
        "colab": {
          "base_uri": "https://localhost:8080/"
        },
        "id": "gB2WOS7asXwc",
        "outputId": "95bf0fc7-a3ce-44a7-ebc5-a7baeec35225"
      },
      "execution_count": null,
      "outputs": [
        {
          "output_type": "execute_result",
          "data": {
            "text/plain": [
              "1"
            ]
          },
          "metadata": {},
          "execution_count": 38
        }
      ]
    },
    {
      "cell_type": "code",
      "source": [
        "#KOŞUL YAPILARI\n",
        "\n",
        "7 < 5   #Küçük mü?"
      ],
      "metadata": {
        "colab": {
          "base_uri": "https://localhost:8080/"
        },
        "id": "Mjg47APeppgC",
        "outputId": "c801c572-9391-4b55-aae4-b845e3af6449"
      },
      "execution_count": null,
      "outputs": [
        {
          "output_type": "execute_result",
          "data": {
            "text/plain": [
              "False"
            ]
          },
          "metadata": {},
          "execution_count": 39
        }
      ]
    },
    {
      "cell_type": "code",
      "source": [
        "9 > 6   #Büyük mü?"
      ],
      "metadata": {
        "colab": {
          "base_uri": "https://localhost:8080/"
        },
        "id": "IegJn7lUt2k5",
        "outputId": "f4f36dbf-0e04-4932-9653-77da0f4f1e0a"
      },
      "execution_count": null,
      "outputs": [
        {
          "output_type": "execute_result",
          "data": {
            "text/plain": [
              "True"
            ]
          },
          "metadata": {},
          "execution_count": 40
        }
      ]
    },
    {
      "cell_type": "code",
      "source": [
        "\"Y\" in \"Kadıköy\" #İçinde var mı?"
      ],
      "metadata": {
        "colab": {
          "base_uri": "https://localhost:8080/"
        },
        "id": "kuI1k8jYt5rA",
        "outputId": "dca8f86f-3d84-4eb5-8e15-c16dec0bab2c"
      },
      "execution_count": null,
      "outputs": [
        {
          "output_type": "execute_result",
          "data": {
            "text/plain": [
              "False"
            ]
          },
          "metadata": {},
          "execution_count": 42
        }
      ]
    },
    {
      "cell_type": "code",
      "source": [
        "# IF (Eğer koşulu)"
      ],
      "metadata": {
        "id": "ZwfibWgkuSB5"
      },
      "execution_count": null,
      "outputs": []
    },
    {
      "cell_type": "code",
      "source": [
        "sayi = 25\n",
        "\n",
        "if sayi > 50:\n",
        "  print(\"sayımız 50'den büyüktür\")\n",
        "elif sayi > 30:\n",
        "  print(\"sayımız 30'dan büyüktür\")\n",
        "elif sayi >= 20:\n",
        "  print(\"sayımız 20'den büyüktür\")\n",
        "else:\n",
        "  print(\"sayımız 50'den büyük değildir\")\n"
      ],
      "metadata": {
        "colab": {
          "base_uri": "https://localhost:8080/"
        },
        "id": "WB-SFYODuizA",
        "outputId": "847b371a-6a74-404d-d92d-a68873ac4841"
      },
      "execution_count": null,
      "outputs": [
        {
          "output_type": "stream",
          "name": "stdout",
          "text": [
            "sayımız 20'den büyüktür\n"
          ]
        }
      ]
    },
    {
      "cell_type": "code",
      "source": [
        "uyari1 = \"Lütfen sarı çizgiyi geçmeyiniz\"\n",
        "uyari2 = \"Gelecek trenimiz 8 vagunludur peronun boş alanlarına ilerleyiniz\"\n",
        "\n",
        "\n",
        "if len(uyari2) > len(uyari1):\n",
        "  print(\"2. uyarı daha uzun\")\n",
        "else:\n",
        "  print(\"İlk uyarı daha uzun\")"
      ],
      "metadata": {
        "colab": {
          "base_uri": "https://localhost:8080/"
        },
        "id": "CDbTbKrWxojy",
        "outputId": "69fe0b3c-1a65-4d4c-c0a8-3f2f13c71b43"
      },
      "execution_count": null,
      "outputs": [
        {
          "output_type": "stream",
          "name": "stdout",
          "text": [
            "2. uyarı daha uzun\n"
          ]
        }
      ]
    },
    {
      "cell_type": "code",
      "source": [
        "# Kullanıcıdan bir sayı girmesini isteyelim\n",
        "# Girilen sayının çift mi tek mi olduğunu bulup yazdırsın\n",
        "# Girilen sayı çifttir veya tektir."
      ],
      "metadata": {
        "id": "bbt1Ds4NycCA"
      },
      "execution_count": null,
      "outputs": []
    },
    {
      "cell_type": "code",
      "source": [
        "sayi = input(\"Bir tamsayı Giriniz\")\n",
        "sayi = int(sayi)\n",
        "kalan = sayi % 2\n",
        "if kalan != 0:\n",
        "  print(\"Sayı Tektir\")\n",
        "else:\n",
        "  print(\"Sayı Çifttir\")\n"
      ],
      "metadata": {
        "colab": {
          "base_uri": "https://localhost:8080/"
        },
        "id": "Q3jKGh5i0rlV",
        "outputId": "1897bb7d-c55d-4073-aa25-7b5e130540e2"
      },
      "execution_count": null,
      "outputs": [
        {
          "output_type": "stream",
          "name": "stdout",
          "text": [
            "Bir tamsayı Giriniz0\n",
            "Sayı Çifttir\n"
          ]
        }
      ]
    },
    {
      "cell_type": "code",
      "source": [
        "# Email girmesini istiyoruz. Bu mailin okul maili olup olmadığını\n",
        "# Ekrana yazdırsın\n",
        "# @\n",
        "# edu.tr\n",
        "# sukru.tercan@itu.edu.tr"
      ],
      "metadata": {
        "id": "Gj951ENx3alI"
      },
      "execution_count": null,
      "outputs": []
    },
    {
      "cell_type": "code",
      "source": [
        "mail = input(\"Lütfen mail giriniz\")\n",
        "\n",
        "if \"@\" in mail:\n",
        "  if \"edu.tr\" in mail:\n",
        "    print(\"Bu mail okul mailidir\")\n",
        "  else:\n",
        "    print(\"Okul maili değildir\")\n",
        "else:\n",
        "    print(\"Okul maili değildir\")"
      ],
      "metadata": {
        "colab": {
          "base_uri": "https://localhost:8080/"
        },
        "id": "zz4vzdft5_8j",
        "outputId": "8293c1d2-37ca-47a0-a043-eac67827d287"
      },
      "execution_count": null,
      "outputs": [
        {
          "name": "stdout",
          "output_type": "stream",
          "text": [
            "Lütfen mail girinizjskslk\n"
          ]
        }
      ]
    },
    {
      "cell_type": "code",
      "source": [
        "mail = input(\"Lütfen mail giriniz\")\n",
        "\n",
        "if (\"@\" in mail) and (\"edu.tr\" in mail):\n",
        "  print(\"Bu mail okul mailidir\")\n",
        "else:\n",
        "  print(\"Bu mail okul maili değildir\")"
      ],
      "metadata": {
        "colab": {
          "base_uri": "https://localhost:8080/"
        },
        "id": "z6Kj7v92740X",
        "outputId": "c33bfd64-d5f3-450c-ef53-de34bb6d710c"
      },
      "execution_count": null,
      "outputs": [
        {
          "output_type": "stream",
          "name": "stdout",
          "text": [
            "Lütfen mail giriniz@google.com\n",
            "Bu mail okul maili değildir\n"
          ]
        }
      ]
    },
    {
      "cell_type": "code",
      "source": [
        "mail = input(\"Lütfen mail giriniz\")\n",
        "\n",
        "if (\"@\" in mail) and (\"edu.tr\" not in mail):\n",
        "  print(\"Bu bir maildir, ancak okul maili değildir\")\n",
        "elif (\"@\" in mail) and (\"edu.tr\" in mail):\n",
        "  print(\"Bu mail okul mailidir\")\n",
        "else:\n",
        "  print(\"Bu mail değildir\")"
      ],
      "metadata": {
        "id": "gyfpYfUx808t"
      },
      "execution_count": null,
      "outputs": []
    },
    {
      "cell_type": "code",
      "source": [
        "mail = input(\"Lütfen mail giriniz\")\n",
        "\n",
        "if (\"@\" in mail) or (\"edu.tr\" in mail):\n",
        "  print(\"Bu \")\n"
      ],
      "metadata": {
        "id": "LdsMpALu9jej"
      },
      "execution_count": null,
      "outputs": []
    },
    {
      "cell_type": "code",
      "source": [
        "#Kullanıcıdan yaşını girmesini isteyelim\n",
        "#yaş değerine göre <16 yaşından küçükse ehliyet alamaz\n",
        "#16-18 motor ehliyeti alabilir\n",
        "#19-25 yaşına kadar motor ve oto ehliyeti alabilir\n",
        "#26-64 yaşına kadar motor,oto ve otobüs ehliyeti\n",
        "#>65 yaşından büyükse doktor kontrolünde alabilir"
      ],
      "metadata": {
        "id": "goHfRo8N6w55"
      },
      "execution_count": null,
      "outputs": []
    },
    {
      "cell_type": "code",
      "source": [
        "yas= int(input(\"Yaşınızı Giriniz\"))\n",
        "\n",
        "if yas < 16:\n",
        "  print(\"Ehliyet Alamaz\")\n",
        "elif yas < 18:\n",
        "  print(\"Motor ehliyeti alabilir\")\n",
        "elif yas < 25:\n",
        "  print(\"Motor ve oto ehliyeti alabilir\")\n",
        "elif yas < 65:\n",
        "  print(\"Motor, oto ve otobüs ehliyeti alabilir\")\n",
        "else:\n",
        "  print(\"Doktor kontrolünde ehliyet alabilir\")"
      ],
      "metadata": {
        "colab": {
          "base_uri": "https://localhost:8080/"
        },
        "id": "UGMoipwiA6tW",
        "outputId": "f88d491d-0d48-432f-e8ce-f942dab84902"
      },
      "execution_count": null,
      "outputs": [
        {
          "output_type": "stream",
          "name": "stdout",
          "text": [
            "Yaşınızı Giriniz26\n",
            "Motor, oto ve otobüs ehliyeti alabilir\n"
          ]
        }
      ]
    },
    {
      "cell_type": "code",
      "source": [
        "yas=15\n",
        "\n",
        "if yas < 16:\n",
        "  print(\"Ehliyet Alamaz\")\n",
        "\n",
        "\n",
        "if yas < 18:\n",
        "  print(\"Ehliyet Alamaz\")"
      ],
      "metadata": {
        "colab": {
          "base_uri": "https://localhost:8080/"
        },
        "id": "KUdDdI2GCCUU",
        "outputId": "f413d3f3-7be3-4d0c-b1c8-c0d788a80d7a"
      },
      "execution_count": null,
      "outputs": [
        {
          "output_type": "stream",
          "name": "stdout",
          "text": [
            "Ehliyet Alamaz\n",
            "Ehliyet Alamaz\n"
          ]
        }
      ]
    },
    {
      "cell_type": "code",
      "source": [
        "#ÖDEV 1\n",
        "\n",
        "#Motor hacmi ve gümrük giriş (matrahı) fiyatı girilen bir aracın\n",
        "#%20 bayi karı, %18 KDV dahil, vergi dilimine uygun ÖTV dahil satış fiyatını bulan bir yazılım\n",
        "# https://www.generali.com.tr/arac-otv-ve-kdv-hesaplama"
      ],
      "metadata": {
        "id": "uec_3FBHJkwB"
      },
      "execution_count": null,
      "outputs": []
    },
    {
      "cell_type": "code",
      "source": [
        "#ÖDEV 1 CEVABI\n",
        "\n",
        "vergisiz= int(input(\"Gümrük Fiyatını Giriniz:\"))\n",
        "motorhacmi = int(input(\"Motor Hacmini Giriniz:\"))\n",
        "kdv=1.18\n",
        "bayi=1.20\n",
        "\n",
        "if motorhacmi<1600:\n",
        "  if vergisiz<184000:\n",
        "    otv=1.45\n",
        "  elif vergisiz<220000:\n",
        "    otv=1.50\n",
        "  elif vergisiz<250000:\n",
        "    otv=1.60\n",
        "  elif vergisiz<280000:\n",
        "    otv=1.70\n",
        "  else:\n",
        "    otv=1.80\n",
        "elif motorhacmi<2000:\n",
        "  if vergisiz<170000:\n",
        "    otv=2.30\n",
        "  else:\n",
        "    otv=2.50\n",
        "else:\n",
        "  otv=3.20\n",
        "\n",
        "satis = vergisiz*otv*kdv*bayi\n",
        "\n",
        "print(satis)\n",
        "\n",
        "\n",
        "\n",
        "\n"
      ],
      "metadata": {
        "colab": {
          "base_uri": "https://localhost:8080/"
        },
        "id": "m1xK9eGQ81z9",
        "outputId": "45af9ee3-5403-4693-b11f-015c80e7bedd"
      },
      "execution_count": null,
      "outputs": [
        {
          "output_type": "stream",
          "name": "stdout",
          "text": [
            "Gümrük Fiyatını Giriniz:250000\n",
            "Motor Hacmini Giriniz:2000\n",
            "1132800.0\n"
          ]
        }
      ]
    },
    {
      "cell_type": "code",
      "source": [
        "#ÖDEV 2\n",
        "#Girilen bir kelimenin büyük ünlü uyumuna uyup uymadığını gösteren bir kod\n",
        "#aıou ve eiöü\n"
      ],
      "metadata": {
        "id": "y_4aNNG_LDTD"
      },
      "execution_count": null,
      "outputs": []
    },
    {
      "cell_type": "code",
      "source": [
        "#ÖDEV 2 CEVABI\n",
        "\n",
        "kelime = input(\"Bir kelime giriniz:\")\n",
        "\n",
        "kelime = kelime.lower()\n",
        "\n",
        "inceler=kelime.count(\"e\")+kelime.count(\"i\")+kelime.count(\"ö\")+kelime.count(\"ü\")\n",
        "kalinlar=kelime.count(\"a\")+kelime.count(\"ı\")+kelime.count(\"o\")+kelime.count(\"u\")\n",
        "\n",
        "\n",
        "if kalinlar+inceler==1:\n",
        "  print(\"Büyük ünlü uyumu aranmaz\")\n",
        "elif kalinlar>0 and inceler==0:\n",
        "  print(\"Büyük ünlü uyumuna uygundur.\")\n",
        "elif kalinlar==0 and inceler>0:\n",
        "  print(\"Büyük ünlü uyumuna uygundur.\")\n",
        "else:\n",
        "  print(\"Büyük ünlü uyumuna uygun değildir.\")\n",
        "\n"
      ],
      "metadata": {
        "colab": {
          "base_uri": "https://localhost:8080/"
        },
        "id": "IqltxiRiA2Mo",
        "outputId": "bca0c01f-df35-4186-d973-a4e4d5f3898b"
      },
      "execution_count": null,
      "outputs": [
        {
          "output_type": "stream",
          "name": "stdout",
          "text": [
            "Bir kelime giriniz:Kamil\n",
            "1\n",
            "1\n",
            "Büyük ünlü uyumuna uygun değildir.\n"
          ]
        }
      ]
    },
    {
      "cell_type": "code",
      "source": [
        "#LİSTELER\n",
        "\n",
        "isimler=[\"Furkan\",\"Coşkun\",\"Gökhan\",\"Bahadır\",\"Serkan\",\"Büşra\",25]\n",
        "\n",
        "print(isimler)"
      ],
      "metadata": {
        "colab": {
          "base_uri": "https://localhost:8080/"
        },
        "id": "vHNAwg1sF_Sc",
        "outputId": "85ecb610-b903-493c-e12b-c5fe8b4d207d"
      },
      "execution_count": null,
      "outputs": [
        {
          "output_type": "stream",
          "name": "stdout",
          "text": [
            "['Furkan', 'Coşkun', 'Gökhan', 'Bahadır', 'Serkan', 'Büşra', 25]\n"
          ]
        }
      ]
    },
    {
      "cell_type": "code",
      "source": [
        "len(isimler)"
      ],
      "metadata": {
        "colab": {
          "base_uri": "https://localhost:8080/"
        },
        "id": "MOE2zjylKPOV",
        "outputId": "3ba70b53-ec40-4f70-d6e7-a9c7ef1ab9e7"
      },
      "execution_count": null,
      "outputs": [
        {
          "output_type": "execute_result",
          "data": {
            "text/plain": [
              "7"
            ]
          },
          "metadata": {},
          "execution_count": 18
        }
      ]
    },
    {
      "cell_type": "code",
      "source": [
        "type(isimler)"
      ],
      "metadata": {
        "colab": {
          "base_uri": "https://localhost:8080/"
        },
        "id": "SqFnSPL4Khha",
        "outputId": "f20edb7f-d896-4b7e-8918-cfa07059a8bb"
      },
      "execution_count": null,
      "outputs": [
        {
          "output_type": "execute_result",
          "data": {
            "text/plain": [
              "list"
            ]
          },
          "metadata": {},
          "execution_count": 19
        }
      ]
    },
    {
      "cell_type": "code",
      "source": [
        "isimler.append(\"Doğa\")  #Listeye eleman ekleme metodu\n",
        "print(isimler)"
      ],
      "metadata": {
        "colab": {
          "base_uri": "https://localhost:8080/"
        },
        "id": "ZVnfKBMwKsdy",
        "outputId": "32b97c9b-5157-427f-d74e-d8a0f9558ddf"
      },
      "execution_count": null,
      "outputs": [
        {
          "output_type": "stream",
          "name": "stdout",
          "text": [
            "['Furkan', 'Coşkun', 'Gökhan', 'Bahadır', 'Serkan', 'Büşra', 25, 'Doğa']\n"
          ]
        }
      ]
    },
    {
      "cell_type": "code",
      "source": [
        "isimler.pop() #son elemanı siler\n",
        "\n",
        "print(isimler)"
      ],
      "metadata": {
        "colab": {
          "base_uri": "https://localhost:8080/"
        },
        "id": "zrlvPMI0K74x",
        "outputId": "2b5e4887-ef52-49ed-a13c-f9e28775d7de"
      },
      "execution_count": null,
      "outputs": [
        {
          "output_type": "stream",
          "name": "stdout",
          "text": [
            "['Furkan', 'Coşkun', 'Gökhan']\n"
          ]
        }
      ]
    },
    {
      "cell_type": "code",
      "source": [
        "isimler.insert(2,\"Gökhan\") #İstenen sıraya eleman ekleme\n",
        "print(isimler)"
      ],
      "metadata": {
        "colab": {
          "base_uri": "https://localhost:8080/"
        },
        "id": "sxpUBw-mLOdh",
        "outputId": "bfbc306b-9df5-4c71-d52a-a9df701fe03d"
      },
      "execution_count": null,
      "outputs": [
        {
          "output_type": "stream",
          "name": "stdout",
          "text": [
            "['Furkan', 'Coşkun', 'Gökhan', 'Gökhan', 'Büşra', 'Büşra', 'Gökhan']\n"
          ]
        }
      ]
    },
    {
      "cell_type": "code",
      "source": [
        "isimler.remove(\"Gökhan\") #İlk bulduğu elemanı siler\n",
        "print(isimler)"
      ],
      "metadata": {
        "colab": {
          "base_uri": "https://localhost:8080/"
        },
        "id": "KPxTTvKQLiOI",
        "outputId": "d471ea07-ae16-4077-d0c8-c9e50478fe53"
      },
      "execution_count": null,
      "outputs": [
        {
          "output_type": "stream",
          "name": "stdout",
          "text": [
            "['Furkan', 'Coşkun', 'Gökhan', 'Büşra', 'Büşra', 'Gökhan']\n"
          ]
        }
      ]
    },
    {
      "cell_type": "code",
      "source": [
        "isimler.count(\"Gökhan\") #Listedeki elemanın sayısını verir\n"
      ],
      "metadata": {
        "colab": {
          "base_uri": "https://localhost:8080/"
        },
        "id": "rcH-JyVTMTfP",
        "outputId": "21687bb2-be77-471a-8973-92012b844dd1"
      },
      "execution_count": null,
      "outputs": [
        {
          "output_type": "execute_result",
          "data": {
            "text/plain": [
              "2"
            ]
          },
          "metadata": {},
          "execution_count": 39
        }
      ]
    },
    {
      "cell_type": "code",
      "source": [
        "isimler.reverse() #Listeyi tersten sıralar\n",
        "print(isimler)"
      ],
      "metadata": {
        "colab": {
          "base_uri": "https://localhost:8080/"
        },
        "id": "NLsoM6AUMe72",
        "outputId": "91370f4c-3a3b-44ae-89a2-dd4f7c0d3908"
      },
      "execution_count": null,
      "outputs": [
        {
          "output_type": "stream",
          "name": "stdout",
          "text": [
            "['Gökhan', 'Büşra', 'Büşra', 'Gökhan', 'Coşkun', 'Furkan']\n"
          ]
        }
      ]
    },
    {
      "cell_type": "code",
      "source": [
        "isimler=[\"Furkan\",\"Coşkun\",\"Gökhan\",\"Bahadır\",\"Serkan\",\"Büşra\"]\n",
        "x=isimler\n",
        "x.append(\"Doğa\")\n",
        "print(x)\n",
        "print(isimler)\n",
        "\n",
        "#Listelerde bir liste başka bir liste olarak tanımlanırsa, yeni listede\n",
        "#yapılacak tüm değişiklikler ilk listeyede yansır bu durumun önüne geçmek için\n",
        "#aşağıdaki örnekte işlem uygulanır\n"
      ],
      "metadata": {
        "colab": {
          "base_uri": "https://localhost:8080/",
          "height": 87
        },
        "id": "WQr2kNMKMrGu",
        "outputId": "4bb49857-5271-407d-cd9d-c8dc2176bd51"
      },
      "execution_count": null,
      "outputs": [
        {
          "output_type": "stream",
          "name": "stdout",
          "text": [
            "['Furkan', 'Coşkun', 'Gökhan', 'Bahadır', 'Serkan', 'Büşra', 'Doğa']\n",
            "['Furkan', 'Coşkun', 'Gökhan', 'Bahadır', 'Serkan', 'Büşra', 'Doğa']\n"
          ]
        },
        {
          "output_type": "execute_result",
          "data": {
            "text/plain": [
              "' Listelerde bir liste başka bir liste olarak tanımlanırsa, yeni listede \\nyapılacak tüm değişiklikler ilk listeyede yansır bu durumun önüne geçmek için \\naşağıdaki örnekte işlem uygulanır\\n'"
            ],
            "application/vnd.google.colaboratory.intrinsic+json": {
              "type": "string"
            }
          },
          "metadata": {},
          "execution_count": 62
        }
      ]
    },
    {
      "cell_type": "code",
      "source": [
        "isimler=[\"Furkan\",\"Coşkun\",\"Gökhan\",\"Bahadır\",\"Serkan\",\"Büşra\"]\n",
        "x=isimler.copy()\n",
        "x.append(\"Doğa\")\n",
        "print(x)\n",
        "print(isimler)"
      ],
      "metadata": {
        "colab": {
          "base_uri": "https://localhost:8080/"
        },
        "id": "LDsMnWNmQY72",
        "outputId": "386d6dab-fe05-469a-e22e-e4da3a3ff081"
      },
      "execution_count": null,
      "outputs": [
        {
          "output_type": "stream",
          "name": "stdout",
          "text": [
            "['Furkan', 'Coşkun', 'Gökhan', 'Bahadır', 'Serkan', 'Büşra', 'Doğa']\n",
            "['Furkan', 'Coşkun', 'Gökhan', 'Bahadır', 'Serkan', 'Büşra']\n"
          ]
        }
      ]
    },
    {
      "cell_type": "code",
      "source": [
        "x.append(\"Bahadır\")\n",
        "print(x)"
      ],
      "metadata": {
        "colab": {
          "base_uri": "https://localhost:8080/"
        },
        "id": "Ln0ZLyP9NDIE",
        "outputId": "08d5326a-442e-4ba8-e4bc-f2ab33361baf"
      },
      "execution_count": null,
      "outputs": [
        {
          "output_type": "stream",
          "name": "stdout",
          "text": [
            "['Gökhan', 'Büşra', 'Büşra', 'Gökhan', 'Coşkun', 'Furkan', 'Bahadır']\n"
          ]
        }
      ]
    },
    {
      "cell_type": "code",
      "source": [
        "print(isimler)"
      ],
      "metadata": {
        "colab": {
          "base_uri": "https://localhost:8080/"
        },
        "id": "uhoWcYLSNPws",
        "outputId": "22f08a1d-52cd-4769-d9c8-201a6a3f0132"
      },
      "execution_count": null,
      "outputs": [
        {
          "output_type": "stream",
          "name": "stdout",
          "text": [
            "['Gökhan', 'Büşra', 'Büşra', 'Gökhan', 'Coşkun', 'Furkan', 'Bahadır']\n"
          ]
        }
      ]
    },
    {
      "cell_type": "code",
      "source": [
        "x=isimler.copy()\n",
        "x.append(\"Serkan\")\n",
        "print(x)\n",
        "print(isimler)"
      ],
      "metadata": {
        "colab": {
          "base_uri": "https://localhost:8080/"
        },
        "id": "qHMlnt69N5VC",
        "outputId": "ae0c871a-20e0-4747-8dc8-0693e0b059a5"
      },
      "execution_count": null,
      "outputs": [
        {
          "output_type": "stream",
          "name": "stdout",
          "text": [
            "['Gökhan', 'Büşra', 'Büşra', 'Gökhan', 'Coşkun', 'Furkan', 'Bahadır', 'Serkan']\n",
            "['Gökhan', 'Büşra', 'Büşra', 'Gökhan', 'Coşkun', 'Furkan', 'Bahadır']\n"
          ]
        }
      ]
    },
    {
      "cell_type": "code",
      "source": [
        "isimler.clear() #Listeyi temizler\n",
        "print(isimler)"
      ],
      "metadata": {
        "colab": {
          "base_uri": "https://localhost:8080/"
        },
        "id": "OVrO7tnZNsFe",
        "outputId": "223bc1b9-17d2-4b5c-e5c8-54fa662a5c4e"
      },
      "execution_count": null,
      "outputs": [
        {
          "output_type": "stream",
          "name": "stdout",
          "text": [
            "[]\n"
          ]
        }
      ]
    },
    {
      "cell_type": "code",
      "source": [
        "print(x)\n",
        "print(y)"
      ],
      "metadata": {
        "colab": {
          "base_uri": "https://localhost:8080/"
        },
        "id": "mOYcfocyPKSQ",
        "outputId": "b2872b72-64d5-475c-81e0-a19695ee76cd"
      },
      "execution_count": null,
      "outputs": [
        {
          "output_type": "stream",
          "name": "stdout",
          "text": [
            "['Furkan', 'Coşkun', 'Gökhan', 'Bahadır', 'Serkan', 'Büşra', 'Doğa']\n",
            "['Doğa', 'Damla']\n"
          ]
        }
      ]
    },
    {
      "cell_type": "code",
      "source": [
        "y=[\"Doğa\",\"Damla\"]\n",
        "\n",
        "print(x+y) #listeleri \"+\" ile birleştirelebilir.\n",
        "\n"
      ],
      "metadata": {
        "colab": {
          "base_uri": "https://localhost:8080/"
        },
        "id": "yl76XP2lOlOZ",
        "outputId": "26b8b435-9a5b-48f8-c91f-eed135cba6da"
      },
      "execution_count": null,
      "outputs": [
        {
          "output_type": "stream",
          "name": "stdout",
          "text": [
            "['Furkan', 'Coşkun', 'Gökhan', 'Bahadır', 'Serkan', 'Büşra', 'Doğa', 'Doğa', 'Damla']\n"
          ]
        }
      ]
    },
    {
      "cell_type": "code",
      "source": [
        "x=[\"Furkan\",\"Coşkun\",\"Gökhan\",\"Bahadır\",\"Serkan\",\"Büşra\",\"25\",\"metin\"]\n",
        "\n",
        "x.sort()\n",
        "print(x)\n",
        "print(x[:2])"
      ],
      "metadata": {
        "colab": {
          "base_uri": "https://localhost:8080/"
        },
        "id": "Nma1WKj2Q-Qr",
        "outputId": "b0497389-ab27-42cc-8bb7-07caac09213d"
      },
      "execution_count": null,
      "outputs": [
        {
          "output_type": "stream",
          "name": "stdout",
          "text": [
            "['25', 'Bahadır', 'Büşra', 'Coşkun', 'Furkan', 'Gökhan', 'Serkan', 'metin']\n",
            "['25', 'Bahadır']\n"
          ]
        }
      ]
    },
    {
      "cell_type": "code",
      "source": [
        "#PYCHARMDA ÇALIŞAN STREAMLİT KODLARI\n",
        "\n",
        "\"\"\"\n",
        "import streamlit as st\n",
        "\n",
        "\n",
        "st.title(\"Matraf Hesabı\")\n",
        "\n",
        "\n",
        "vergisiz=st.number_input(\"Gümrük Giriş Fİyatını Giriniz:\")\n",
        "motorhacmi=st.number_input(\"Motor Hacmini Giriniz:\")\n",
        "\n",
        "\n",
        "kdv=1.20\n",
        "bayi=1.20\n",
        "\n",
        "\n",
        "if motorhacmi<1600:\n",
        " if vergisiz<184000:\n",
        "   otv=1.45\n",
        " elif vergisiz<220000:\n",
        "   otv=1.50\n",
        " elif vergisiz<250000:\n",
        "   otv=1.60\n",
        " elif vergisiz<280000:\n",
        "   otv=1.70\n",
        " else:\n",
        "   otv=1.80\n",
        "elif motorhacmi<2000:\n",
        " if vergisiz<170000:\n",
        "   otv=2.30\n",
        " else:\n",
        "   otv=2.50\n",
        "else:\n",
        " otv=3.20\n",
        "\n",
        "\n",
        "satis=vergisiz*otv*kdv*bayi\n",
        "\n",
        "\n",
        "st.write(satis)\n",
        "\"\"\""
      ],
      "metadata": {
        "id": "rJygs2_VWYEK"
      },
      "execution_count": null,
      "outputs": []
    },
    {
      "cell_type": "code",
      "source": [
        "#PYCHARMDA ÇALIŞAN STREAMLİT KODLARI\n",
        "\n",
        "\"\"\"\n",
        "import streamlit as st\n",
        "\n",
        "st.title(\"Büyük Ünlü Uyumu\")\n",
        "\n",
        "kelime=st.text_input(\"Kelime Giriniz\")\n",
        "\n",
        "kelime = kelime.lower()\n",
        "\n",
        "inceler=kelime.count(\"e\")+kelime.count(\"i\")+kelime.count(\"ö\")+kelime.count(\"ü\")\n",
        "kalinlar=kelime.count(\"a\")+kelime.count(\"ı\")+kelime.count(\"o\")+kelime.count(\"u\")\n",
        "\n",
        "if kalinlar+inceler==1:    #Tek heceli ise\n",
        "  st.write(\"Büyük ünlü uyumu aranmaz\")\n",
        "elif (kalinlar!=0 and inceler==0) or (kalinlar==0 and inceler!=0):\n",
        "  st.write(\"Büyük ünlü uyumu vardır\")\n",
        "else:\n",
        "  st.write(\"Büyük ünlü uyumu yoktur\")\n",
        "\"\"\""
      ],
      "metadata": {
        "id": "NhpQLrDlWi7t"
      },
      "execution_count": null,
      "outputs": []
    },
    {
      "cell_type": "code",
      "source": [
        "#ÖDEV (BURDA YANİ Google Colab'da yapalım, sonra streamlitte çalışan versiyonunu da yapalım)\n",
        "\n",
        "#streamlitte şifre ve kullanıcı adı alalım girilen bilgilere göre ekrana bişeyler yazdıralım\n",
        "\n",
        "kullaniciadi=\"yönetici\"\n",
        "sifre=\"1903\"\n",
        "\n",
        "\n",
        "#sifre ve kullanıcı adımızın yukarıdaki gibi olduğunu varsayalım. Kullanıcıdan bir kullanıcı adı ve şifre girmesini isteyelim.\n",
        "\n",
        "#Kullanıcı adı hatalıysa kullanıcı bulunamadı\n",
        "#Şifre hatalıysa şifreniz hatalı\n",
        "#İkisi de doğruysa giriş başarılı\n",
        "#İkisi de hatalıysa giriş bilgileri hatalı  şeklinde sonuçlar göstersin"
      ],
      "metadata": {
        "id": "R-lqTFiPRsdQ"
      },
      "execution_count": null,
      "outputs": []
    },
    {
      "cell_type": "code",
      "source": [
        "#ÖDEV 2 (BURDA YANİ Google Colab'da yapalım, sonra streamlitte çalışan versiyonunu da yapalım)\n",
        "\n",
        "ogrenciler=[\"Ali\",\"Fatma\",\"Mehmet\",\"Çağrı\"]\n",
        "\n",
        "ogrenci=input(\"Öğrenci Adı Giriniz\")\n",
        "\n",
        "\n",
        "#öğrenci yoksa ekle ve bilgi ver\n",
        "#öğrenci varsa ekleme ve öğrenci zaten var diye bilgi ver\n",
        "#en son öğrencileri yazdır\n"
      ],
      "metadata": {
        "id": "P86F2rkdSVay"
      },
      "execution_count": null,
      "outputs": []
    }
  ]
}