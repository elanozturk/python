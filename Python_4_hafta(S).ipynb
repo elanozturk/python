{
  "nbformat": 4,
  "nbformat_minor": 0,
  "metadata": {
    "colab": {
      "provenance": [],
      "include_colab_link": true
    },
    "kernelspec": {
      "name": "python3",
      "display_name": "Python 3"
    },
    "language_info": {
      "name": "python"
    }
  },
  "cells": [
    {
      "cell_type": "markdown",
      "metadata": {
        "id": "view-in-github",
        "colab_type": "text"
      },
      "source": [
        "<a href=\"https://colab.research.google.com/github/elanozturk/python/blob/main/Python_4_hafta(S).ipynb\" target=\"_parent\"><img src=\"https://colab.research.google.com/assets/colab-badge.svg\" alt=\"Open In Colab\"/></a>"
      ]
    },
    {
      "cell_type": "code",
      "source": [
        "users ={\n",
        "    \"admin\":\"1234\",\n",
        "    \"fatih\":\"1453\",\n",
        "    \"selanik\":\"1881\",\n",
        "    \"dolmabahce\":\"1903\"\n",
        "}\n",
        "\n",
        "# Kullanıcıdan bir kullanıcı adı ve şifre isteyelim\n",
        "# şifre doğru veya hatalı giriş yaptınız\n",
        "\n",
        "\n",
        "# 2.bölüm\n",
        "# kullanıcı yoksa kullanıcı bulunamadı\n",
        "# kullanıcı var ama şifre yanlışsa şifreniz hatalı\n",
        "#"
      ],
      "metadata": {
        "id": "HbczVMTRv4jt"
      },
      "execution_count": null,
      "outputs": []
    },
    {
      "cell_type": "code",
      "source": [
        "#Cevap 1. bölüm\n",
        "\n",
        "users ={\n",
        "    \"admin\":\"1234\",\n",
        "    \"fatih\":\"1453\",\n",
        "    \"selanik\":\"1881\",\n",
        "    \"dolmabahce\":\"1903\"\n",
        "}\n",
        "\n",
        "username = input(\"Kullanıcı adı giriniz\")\n",
        "password = input(\"Şifrenizi giriniz\")\n",
        "\n",
        "if username in users.keys() and password==users.get(username):\n",
        "  print(\"Bilgileriniz doğru\")\n",
        "else:\n",
        "  print(\"Hatalı bilgi girdiniz\")"
      ],
      "metadata": {
        "colab": {
          "base_uri": "https://localhost:8080/"
        },
        "id": "IAKvrr2_wCNk",
        "outputId": "61aabc45-e21d-4a20-c273-c8572660e884"
      },
      "execution_count": null,
      "outputs": [
        {
          "output_type": "stream",
          "name": "stdout",
          "text": [
            "Kullanıcı adı girinizadmin\n",
            "Şifrenizi giriniz1234\n",
            "Bilgileriniz doğru\n"
          ]
        }
      ]
    },
    {
      "cell_type": "code",
      "source": [
        "#Cevap 2. bölüm\n",
        "\n",
        "users ={\n",
        "    \"admin\":\"1234\",\n",
        "    \"fatih\":\"1453\",\n",
        "    \"selanik\":\"1881\",\n",
        "    \"dolmabahce\":\"1903\"\n",
        "}\n",
        "\n",
        "username = input(\"Kullanıcı adı giriniz\")\n",
        "password = input(\"Şifrenizi giriniz\")\n",
        "\n",
        "if username in users.keys():\n",
        "  if password==users[username]:\n",
        "    print(\"Giriş Başarılı\")\n",
        "  else:\n",
        "    print(\"Şifreniz Hatalı\")\n",
        "else:\n",
        "  print(\"Kullanıcı bulunamadı\")"
      ],
      "metadata": {
        "colab": {
          "base_uri": "https://localhost:8080/"
        },
        "id": "DQ9sO1DQxUcR",
        "outputId": "115171f4-8222-4e8e-d8ae-de4b716da50e"
      },
      "execution_count": null,
      "outputs": [
        {
          "output_type": "stream",
          "name": "stdout",
          "text": [
            "Kullanıcı adı girinizmahmut\n",
            "Şifrenizi giriniz1453\n",
            "Kullanıcı bulunamadı\n",
            "Keşkem bulunsaydı\n",
            "Acaba bulmalı mıydı\n"
          ]
        }
      ]
    },
    {
      "cell_type": "code",
      "source": [
        "data = {\n",
        "\"isim\":\"Şükrü\",\n",
        "\"soyisim\":\"Tercan\",\n",
        "\"dogum yili\":1987,\n",
        "\"departman\":None,\n",
        "\"askerlik\":False,\n",
        "}"
      ],
      "metadata": {
        "id": "RUJ5fCZkzWgu"
      },
      "execution_count": null,
      "outputs": []
    },
    {
      "cell_type": "code",
      "source": [
        "depar = data.get(\"dogum yili\")\n",
        "print(depar)\n",
        "type(depar)"
      ],
      "metadata": {
        "colab": {
          "base_uri": "https://localhost:8080/"
        },
        "id": "mj0Hwxdi-_DT",
        "outputId": "dcb1a096-4519-4341-cd06-8923c925f8bb"
      },
      "execution_count": null,
      "outputs": [
        {
          "output_type": "stream",
          "name": "stdout",
          "text": [
            "1987\n"
          ]
        },
        {
          "output_type": "execute_result",
          "data": {
            "text/plain": [
              "int"
            ]
          },
          "metadata": {},
          "execution_count": 17
        }
      ]
    },
    {
      "cell_type": "markdown",
      "source": [
        "# JSON Notları\n",
        "### JSON javascript tabanlıdır\n",
        "### JSON sözlüklere benzer\n",
        "### JSON None yerine null kullanır\n",
        "### JSON True, False yerine true,false kullanılır\n",
        "### JSON'da son değerden sonra \",\" konulmaz\n",
        "### JSON'da float ve integer yoktur number vardır"
      ],
      "metadata": {
        "id": "IlvX5XjbA5qg"
      }
    },
    {
      "cell_type": "code",
      "source": [
        "import requests"
      ],
      "metadata": {
        "id": "BY7Jz1yZBm_n"
      },
      "execution_count": null,
      "outputs": []
    },
    {
      "cell_type": "code",
      "source": [
        "url=\"https://api.kanye.rest/\"\n",
        "\n",
        "response = requests.get(url)\n",
        "\n",
        "data = response.json()\n",
        "\n",
        "print(data)"
      ],
      "metadata": {
        "colab": {
          "base_uri": "https://localhost:8080/"
        },
        "id": "bLTFFxAMCnUE",
        "outputId": "80083350-2578-47a6-a11e-ef237a7be0c2"
      },
      "execution_count": null,
      "outputs": [
        {
          "output_type": "stream",
          "name": "stdout",
          "text": [
            "{'quote': 'Sometimes I push the door close button on people running towards the elevator. I just need my own elevator sometimes. My sanctuary.'}\n"
          ]
        }
      ]
    },
    {
      "cell_type": "code",
      "source": [
        "type(data)"
      ],
      "metadata": {
        "colab": {
          "base_uri": "https://localhost:8080/"
        },
        "id": "U_2V1POJDGdT",
        "outputId": "73b43538-1210-48c6-daeb-0a06e2c1c14c"
      },
      "execution_count": null,
      "outputs": [
        {
          "output_type": "execute_result",
          "data": {
            "text/plain": [
              "dict"
            ]
          },
          "metadata": {},
          "execution_count": 24
        }
      ]
    },
    {
      "cell_type": "code",
      "source": [
        "data.values()"
      ],
      "metadata": {
        "colab": {
          "base_uri": "https://localhost:8080/"
        },
        "id": "uHgcwIjzEmVI",
        "outputId": "0b258817-1a5d-4154-f3df-34e4179051d5"
      },
      "execution_count": null,
      "outputs": [
        {
          "output_type": "execute_result",
          "data": {
            "text/plain": [
              "dict_values(['Sometimes I push the door close button on people running towards the elevator. I just need my own elevator sometimes. My sanctuary.'])"
            ]
          },
          "metadata": {},
          "execution_count": 26
        }
      ]
    },
    {
      "cell_type": "code",
      "source": [
        "data[\"quote\"]"
      ],
      "metadata": {
        "colab": {
          "base_uri": "https://localhost:8080/",
          "height": 53
        },
        "id": "JTp3_aG9FNrO",
        "outputId": "a10d4273-24ed-4aaa-aba1-ef8ea415964f"
      },
      "execution_count": null,
      "outputs": [
        {
          "output_type": "execute_result",
          "data": {
            "text/plain": [
              "'Sometimes I push the door close button on people running towards the elevator. I just need my own elevator sometimes. My sanctuary.'"
            ],
            "application/vnd.google.colaboratory.intrinsic+json": {
              "type": "string"
            }
          },
          "metadata": {},
          "execution_count": 27
        }
      ]
    },
    {
      "cell_type": "code",
      "source": [
        "import requests\n",
        "\n",
        "sehir = input(\"Şehir Giriniz\")\n",
        "\n",
        "url = \"https://wttr.in/\"+sehir+\"?format=3\"\n",
        "# url = f\"https://wttr.in/{sehir}?format=3\"  üstteki ile aynı sonucu verir\n",
        "\n",
        "rest = requests.get(url)\n",
        "\n",
        "data = rest.text\n",
        "\n",
        "print(data)\n",
        "#Girilen şehrin hava durumunu ekrana yazdırsın"
      ],
      "metadata": {
        "colab": {
          "base_uri": "https://localhost:8080/"
        },
        "id": "z_48jqKGF5kY",
        "outputId": "740ae5a0-266d-4d56-d043-4b8c320e22f7"
      },
      "execution_count": null,
      "outputs": [
        {
          "output_type": "stream",
          "name": "stdout",
          "text": [
            "Şehir Girinizmalatya\n",
            "malatya: 🌦   +41°F\n",
            "\n"
          ]
        }
      ]
    },
    {
      "cell_type": "code",
      "source": [],
      "metadata": {
        "id": "ycLShgDcG9bN"
      },
      "execution_count": null,
      "outputs": []
    },
    {
      "cell_type": "code",
      "source": [
        "import requests\n",
        "\n",
        "url = \"https://api.coindesk.com/v1/bpi/currentprice.json\"\n",
        "\n",
        "response= requests.get(url)\n",
        "data=response.json()\n",
        "print(data)"
      ],
      "metadata": {
        "colab": {
          "base_uri": "https://localhost:8080/"
        },
        "id": "mOzI04tiKfIm",
        "outputId": "d65b56e5-576a-4d7b-b3d8-83af188757f3"
      },
      "execution_count": null,
      "outputs": [
        {
          "output_type": "stream",
          "name": "stdout",
          "text": [
            "{'time': {'updated': 'Dec 5, 2023 18:08:00 UTC', 'updatedISO': '2023-12-05T18:08:00+00:00', 'updateduk': 'Dec 5, 2023 at 18:08 GMT'}, 'disclaimer': 'This data was produced from the CoinDesk Bitcoin Price Index (USD). Non-USD currency data converted using hourly conversion rate from openexchangerates.org', 'chartName': 'Bitcoin', 'bpi': {'USD': {'code': 'USD', 'symbol': '&#36;', 'rate': '43,421.3851', 'description': 'United States Dollar', 'rate_float': 43421.3851}, 'GBP': {'code': 'GBP', 'symbol': '&pound;', 'rate': '36,282.5620', 'description': 'British Pound Sterling', 'rate_float': 36282.562}, 'EUR': {'code': 'EUR', 'symbol': '&euro;', 'rate': '42,298.7686', 'description': 'Euro', 'rate_float': 42298.7686}}}\n"
          ]
        }
      ]
    },
    {
      "cell_type": "code",
      "source": [
        "data[\"bpi\"]"
      ],
      "metadata": {
        "colab": {
          "base_uri": "https://localhost:8080/"
        },
        "id": "Q9-J3IpiLCu-",
        "outputId": "7997ae36-55bd-4c95-812a-c786cfd7c2c9"
      },
      "execution_count": null,
      "outputs": [
        {
          "output_type": "execute_result",
          "data": {
            "text/plain": [
              "{'USD': {'code': 'USD',\n",
              "  'symbol': '&#36;',\n",
              "  'rate': '43,421.3851',\n",
              "  'description': 'United States Dollar',\n",
              "  'rate_float': 43421.3851},\n",
              " 'GBP': {'code': 'GBP',\n",
              "  'symbol': '&pound;',\n",
              "  'rate': '36,282.5620',\n",
              "  'description': 'British Pound Sterling',\n",
              "  'rate_float': 36282.562},\n",
              " 'EUR': {'code': 'EUR',\n",
              "  'symbol': '&euro;',\n",
              "  'rate': '42,298.7686',\n",
              "  'description': 'Euro',\n",
              "  'rate_float': 42298.7686}}"
            ]
          },
          "metadata": {},
          "execution_count": 33
        }
      ]
    },
    {
      "cell_type": "code",
      "source": [
        "data[\"bpi\"][\"USD\"]"
      ],
      "metadata": {
        "colab": {
          "base_uri": "https://localhost:8080/"
        },
        "id": "SIu2L1IeLJ3V",
        "outputId": "53f5bae8-bce4-4341-a61e-f58a03c4ab4f"
      },
      "execution_count": null,
      "outputs": [
        {
          "output_type": "execute_result",
          "data": {
            "text/plain": [
              "{'code': 'USD',\n",
              " 'symbol': '&#36;',\n",
              " 'rate': '43,421.3851',\n",
              " 'description': 'United States Dollar',\n",
              " 'rate_float': 43421.3851}"
            ]
          },
          "metadata": {},
          "execution_count": 34
        }
      ]
    },
    {
      "cell_type": "code",
      "source": [
        "data[\"bpi\"][\"USD\"][\"rate_float\"]"
      ],
      "metadata": {
        "colab": {
          "base_uri": "https://localhost:8080/"
        },
        "id": "EXRcHUNTLWn2",
        "outputId": "c7f6e210-5d9b-42d5-ecdf-a0e7c007ad13"
      },
      "execution_count": null,
      "outputs": [
        {
          "output_type": "execute_result",
          "data": {
            "text/plain": [
              "43421.3851"
            ]
          },
          "metadata": {},
          "execution_count": 41
        }
      ]
    },
    {
      "cell_type": "code",
      "source": [
        "import requests\n",
        "url = \"https://api.coindesk.com/v1/bpi/currentprice.json\"\n",
        "response= requests.get(url)\n",
        "data=response.json()\n",
        "data[\"bpi\"][\"USD\"][\"rate_float\"]"
      ],
      "metadata": {
        "colab": {
          "base_uri": "https://localhost:8080/"
        },
        "id": "sZfJUpokMIZ8",
        "outputId": "99e58b65-7601-4c7a-e3e8-e57937e7df95"
      },
      "execution_count": null,
      "outputs": [
        {
          "output_type": "execute_result",
          "data": {
            "text/plain": [
              "43607.156"
            ]
          },
          "metadata": {},
          "execution_count": 42
        }
      ]
    },
    {
      "cell_type": "code",
      "source": [
        "#ÖDEV\n",
        "\n",
        "\"https://api.nationalize.io/?name=damla\"\n",
        "\n",
        "# Bu api isminizin hangi ülkeye ait olduğu ihtimalini veriyor.\n",
        "# Örnekteki url'nin sonundaki isim değiştirilerek kullanılabiliyor\n",
        "# Bu apiyi kullanarak girilen ismin yüzde cinsinden\n",
        "# kaç ihtimalle hangi ülkeye ait olduğunu getirsin\n",
        "# %75 TR\n",
        "# %23 AT\n",
        "#...."
      ],
      "metadata": {
        "id": "GCqU3EeHOuZY"
      },
      "execution_count": null,
      "outputs": []
    }
  ]
}