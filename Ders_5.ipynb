{
  "nbformat": 4,
  "nbformat_minor": 0,
  "metadata": {
    "colab": {
      "provenance": [],
      "authorship_tag": "ABX9TyN7LrX/DLGGU3e+a1IlHmmk",
      "include_colab_link": true
    },
    "kernelspec": {
      "name": "python3",
      "display_name": "Python 3"
    },
    "language_info": {
      "name": "python"
    }
  },
  "cells": [
    {
      "cell_type": "markdown",
      "metadata": {
        "id": "view-in-github",
        "colab_type": "text"
      },
      "source": [
        "<a href=\"https://colab.research.google.com/github/elanozturk/python/blob/main/Ders_5.ipynb\" target=\"_parent\"><img src=\"https://colab.research.google.com/assets/colab-badge.svg\" alt=\"Open In Colab\"/></a>"
      ]
    },
    {
      "cell_type": "code",
      "execution_count": 3,
      "metadata": {
        "colab": {
          "base_uri": "https://localhost:8080/"
        },
        "id": "q8lg3Y7PEfx-",
        "outputId": "4457d226-e133-4e05-b855-03023e61a2ad"
      },
      "outputs": [
        {
          "output_type": "stream",
          "name": "stdout",
          "text": [
            "Kullanıcı adı giriniz: yonetici\n",
            "Şifre giriniz: 1903\n",
            "Bilgileri giriniz.\n"
          ]
        }
      ],
      "source": [
        "#kullaniciadi = yonetici\n",
        "#sifre = 1903\n",
        "\n",
        "bilgiler = [\"yonetici\",\"1903\"]\n",
        "\n",
        "kullaniciadi = input(\"Kullanıcı adı giriniz: \")\n",
        "sifre = input(\"Şifre giriniz: \")\n",
        "\n",
        "if kullaniciadi != bilgiler[0]: # Listedeki ilk değere eşit değilse\n",
        "  print(\"Kullanıcı bununamadı veya Yanlış!\")\n",
        "elif kullaniciadi == bilgiler[1]:\n",
        "  print(\"Hoşgeldiniz!\")\n",
        "else:\n",
        "  print(\"Bilgileri giriniz.\")\n",
        "\n",
        "\n",
        "\n",
        "\n"
      ]
    },
    {
      "cell_type": "code",
      "source": [
        "ogrenciler = [\"Ali\", \"Fatma\", \"Mehmet\", \"Çağrı\"]\n",
        "ogrenci = input(\"Öğrenci adı giriniz.\")"
      ],
      "metadata": {
        "id": "a7BzjygMH7_m"
      },
      "execution_count": null,
      "outputs": []
    },
    {
      "cell_type": "code",
      "source": [
        "cumle = \"İşim gücüm budur benim, gökyüzünü boyarım her sabah.\"\n",
        "#cumle_list = list(\"İşim gücüm budur benim, gökyüzünü boyarım her sabah.\")\n",
        "kayit = list(cumle.split(\" \"))\n",
        "print(kayit)\n",
        "print(cumle)\n",
        "type(cumle), type(kayit)"
      ],
      "metadata": {
        "colab": {
          "base_uri": "https://localhost:8080/"
        },
        "id": "C46oiYw3Iqyx",
        "outputId": "c65751d7-98ab-49b3-8b48-8b2c7923a211"
      },
      "execution_count": 15,
      "outputs": [
        {
          "output_type": "stream",
          "name": "stdout",
          "text": [
            "['İşim', 'gücüm', 'budur', 'benim,', 'gökyüzünü', 'boyarım', 'her', 'sabah.']\n",
            "İşim gücüm budur benim, gökyüzünü boyarım her sabah.\n"
          ]
        },
        {
          "output_type": "execute_result",
          "data": {
            "text/plain": [
              "(str, list)"
            ]
          },
          "metadata": {},
          "execution_count": 15
        }
      ]
    },
    {
      "cell_type": "code",
      "source": [
        "sayilar = [34,26,7,39]\n",
        "min(sayilar)\n"
      ],
      "metadata": {
        "colab": {
          "base_uri": "https://localhost:8080/"
        },
        "id": "JvAL48Q3K02j",
        "outputId": "854fe001-e84e-4926-9d47-02f321d10f6e"
      },
      "execution_count": 19,
      "outputs": [
        {
          "output_type": "execute_result",
          "data": {
            "text/plain": [
              "7"
            ]
          },
          "metadata": {},
          "execution_count": 19
        }
      ]
    },
    {
      "cell_type": "code",
      "source": [
        "sum(sayilar)"
      ],
      "metadata": {
        "colab": {
          "base_uri": "https://localhost:8080/"
        },
        "id": "bU6A3n71Llrv",
        "outputId": "777b8d2e-14eb-47f3-f53d-317d1bc955b8"
      },
      "execution_count": 20,
      "outputs": [
        {
          "output_type": "execute_result",
          "data": {
            "text/plain": [
              "106"
            ]
          },
          "metadata": {},
          "execution_count": 20
        }
      ]
    },
    {
      "cell_type": "code",
      "source": [
        "sum(sayilar)/len(sayilar)"
      ],
      "metadata": {
        "colab": {
          "base_uri": "https://localhost:8080/"
        },
        "id": "nt4-suMuLowh",
        "outputId": "56d1a070-ee5a-445a-e921-a17e87f34dd2"
      },
      "execution_count": 21,
      "outputs": [
        {
          "output_type": "execute_result",
          "data": {
            "text/plain": [
              "26.5"
            ]
          },
          "metadata": {},
          "execution_count": 21
        }
      ]
    },
    {
      "cell_type": "code",
      "source": [
        "isim = [\"f\",\"a\",\"t\",\"m\",\"a\"]\n",
        "isim_tam = \"\".join(isim)\n",
        "print(isim_tam)"
      ],
      "metadata": {
        "colab": {
          "base_uri": "https://localhost:8080/"
        },
        "id": "y60PHN2nLtkn",
        "outputId": "ee08434c-de6c-4443-ba36-d949023e48a1"
      },
      "execution_count": 25,
      "outputs": [
        {
          "output_type": "stream",
          "name": "stdout",
          "text": [
            "fatma\n"
          ]
        }
      ]
    },
    {
      "cell_type": "code",
      "source": [
        "isim_tam_2 = \"-\".join(isim)\n",
        "print(isim_tam)"
      ],
      "metadata": {
        "colab": {
          "base_uri": "https://localhost:8080/"
        },
        "id": "Pygos8mPMYC-",
        "outputId": "5b6d9b9c-cd2a-4c7e-f743-d4b030fb1929"
      },
      "execution_count": 26,
      "outputs": [
        {
          "output_type": "stream",
          "name": "stdout",
          "text": [
            "fatma\n"
          ]
        }
      ]
    },
    {
      "cell_type": "markdown",
      "source": [
        "# TUPLE (DEMETLER)"
      ],
      "metadata": {
        "id": "yw77waH3MdWo"
      }
    },
    {
      "cell_type": "code",
      "source": [
        "defterler = (\"ali\",79,17.2,[23,\"kafa\",15.8])\n",
        "len(defterler)"
      ],
      "metadata": {
        "colab": {
          "base_uri": "https://localhost:8080/"
        },
        "id": "EK9l3-RoMmR5",
        "outputId": "f70a6923-f501-494d-bb7a-e615ebc0c9f2"
      },
      "execution_count": 30,
      "outputs": [
        {
          "output_type": "execute_result",
          "data": {
            "text/plain": [
              "4"
            ]
          },
          "metadata": {},
          "execution_count": 30
        }
      ]
    },
    {
      "cell_type": "code",
      "source": [
        "type(defterler)"
      ],
      "metadata": {
        "colab": {
          "base_uri": "https://localhost:8080/"
        },
        "id": "qVuw4tKhNF42",
        "outputId": "b52c2ccc-b681-4c6a-829d-8f974d2276c2"
      },
      "execution_count": 28,
      "outputs": [
        {
          "output_type": "execute_result",
          "data": {
            "text/plain": [
              "tuple"
            ]
          },
          "metadata": {},
          "execution_count": 28
        }
      ]
    },
    {
      "cell_type": "code",
      "source": [
        "isim = [\"f\",\"a\",\"t\",\"m\",\"a\"]\n",
        "isim[1] = \"e\"\n",
        "print(isim)"
      ],
      "metadata": {
        "colab": {
          "base_uri": "https://localhost:8080/"
        },
        "id": "X6gq-iJlNpOS",
        "outputId": "5d14cd02-0a5d-4300-a63a-4b4434599b5d"
      },
      "execution_count": 29,
      "outputs": [
        {
          "output_type": "stream",
          "name": "stdout",
          "text": [
            "['f', 'e', 't', 'm', 'a']\n"
          ]
        }
      ]
    },
    {
      "cell_type": "code",
      "source": [
        "defterler = (\"ali\",79,17.2,[23,\"kafa\",15.8])\n",
        "defterler[1] = 87"
      ],
      "metadata": {
        "id": "Hk70LwVLN2af"
      },
      "execution_count": null,
      "outputs": []
    },
    {
      "cell_type": "markdown",
      "source": [
        "#FOR DÖNGÜSÜ"
      ],
      "metadata": {
        "id": "QgDYM_PzQS1-"
      }
    },
    {
      "cell_type": "code",
      "source": [
        "sayilar = [3,5,9,11]\n",
        "\n",
        "for eleman in sayilar:\n",
        "  print(eleman)"
      ],
      "metadata": {
        "colab": {
          "base_uri": "https://localhost:8080/"
        },
        "id": "fUyOPp-MQXub",
        "outputId": "b0a09401-3822-433f-eaee-846deb281278"
      },
      "execution_count": 33,
      "outputs": [
        {
          "output_type": "stream",
          "name": "stdout",
          "text": [
            "3\n",
            "5\n",
            "9\n",
            "11\n"
          ]
        }
      ]
    },
    {
      "cell_type": "code",
      "source": [],
      "metadata": {
        "id": "_sEmlzX2Q5qo"
      },
      "execution_count": null,
      "outputs": []
    },
    {
      "cell_type": "code",
      "source": [
        "for x in sayilar:\n",
        "  print(x*2)"
      ],
      "metadata": {
        "colab": {
          "base_uri": "https://localhost:8080/"
        },
        "outputId": "06c764fb-63be-4dbf-e3d8-a62d5c154ab9",
        "id": "IVHtPNJrQ6Es"
      },
      "execution_count": 36,
      "outputs": [
        {
          "output_type": "stream",
          "name": "stdout",
          "text": [
            "6\n",
            "10\n",
            "18\n",
            "22\n"
          ]
        }
      ]
    },
    {
      "cell_type": "code",
      "source": [
        "#Tek yılları getirin\n",
        "yillar = [1071,1299,1453,1881,1920,1923,1938,2023,2053,2071]\n",
        "for tek in yillar:\n",
        "\n",
        " if tek % 2 != 0: # if tek % 2==1:\n",
        "    print(tek)"
      ],
      "metadata": {
        "colab": {
          "base_uri": "https://localhost:8080/"
        },
        "id": "hYxOZklhRjAp",
        "outputId": "0df914b9-25ac-4dfb-c35c-4f38256563ad"
      },
      "execution_count": 45,
      "outputs": [
        {
          "output_type": "stream",
          "name": "stdout",
          "text": [
            "1071\n",
            "1299\n",
            "1453\n",
            "1881\n",
            "1923\n",
            "2023\n",
            "2053\n",
            "2071\n"
          ]
        }
      ]
    },
    {
      "cell_type": "code",
      "source": [
        "#Elamanların toplamını bulun\n",
        "yillar = [1071,1299,1453,1881,1920,1923,1938,2023,2053,2071]\n",
        "sum = 0\n",
        "\n",
        "for x in yillar:\n",
        "  sum = sum+x\n",
        "print(sum)\n"
      ],
      "metadata": {
        "colab": {
          "base_uri": "https://localhost:8080/"
        },
        "id": "OIC4ES0e8zsb",
        "outputId": "46cc8aa4-19f6-4e86-d640-bb2dfa427993"
      },
      "execution_count": 54,
      "outputs": [
        {
          "output_type": "stream",
          "name": "stdout",
          "text": [
            "17632\n"
          ]
        }
      ]
    },
    {
      "cell_type": "code",
      "source": [
        "#Tek sayıları liste olarak tutup, toplamını yazdır.\n",
        "yillar = [1071,1299,1453,1881,1920,1923,1938,2023,2053,2071]\n",
        "\n",
        "toplam = 0\n",
        "tekler = []\n",
        "\n",
        "for x in yillar:\n",
        "  if x % 2 ==1:\n",
        "    tekler.append(x)\n",
        "print(sum(tekler))"
      ],
      "metadata": {
        "id": "um4p97BJ_HRO"
      },
      "execution_count": null,
      "outputs": []
    },
    {
      "cell_type": "code",
      "source": [
        "for i in range(5,20):\n",
        "  print(i,end=\"-\")"
      ],
      "metadata": {
        "colab": {
          "base_uri": "https://localhost:8080/"
        },
        "id": "4kfT-2WwAGAx",
        "outputId": "9af0bf49-e76b-4d17-baf8-ec02a720f1f3"
      },
      "execution_count": 62,
      "outputs": [
        {
          "output_type": "stream",
          "name": "stdout",
          "text": [
            "5-6-7-8-9-10-11-12-13-14-15-16-17-18-19-"
          ]
        }
      ]
    },
    {
      "cell_type": "code",
      "source": [
        "toplam = 0\n",
        "\n",
        "for i in range(1, 100):\n",
        "    toplam += i\n",
        "\n",
        "print(\"1'den 100'e kadar olan sayıların toplamı:\", toplam)\n",
        "\n"
      ],
      "metadata": {
        "colab": {
          "base_uri": "https://localhost:8080/"
        },
        "id": "4iodS3FYBWc4",
        "outputId": "65c79e6f-cd6d-4cc7-d716-ce6e31c09e67"
      },
      "execution_count": 69,
      "outputs": [
        {
          "output_type": "stream",
          "name": "stdout",
          "text": [
            "1'den 100'e kadar olan sayıların toplamı: 4950\n"
          ]
        }
      ]
    },
    {
      "cell_type": "code",
      "source": [
        "# 1 Milyar Dolar ilk teklif\n",
        "# İkinci teklif ilk gün 2 dolar, 30 gün boyunca her gün bir önceki günün iki katı USD"
      ],
      "metadata": {
        "id": "M9CyW_sQCZO_"
      },
      "execution_count": null,
      "outputs": []
    },
    {
      "cell_type": "code",
      "source": [
        "toplam = 0\n",
        "\n",
        "for i in range(1,31):\n",
        "  toplam = toplam + pow(2, i)\n",
        "print(toplam)"
      ],
      "metadata": {
        "colab": {
          "base_uri": "https://localhost:8080/"
        },
        "id": "jCUrxZpmC4zn",
        "outputId": "11bfb51d-a549-449c-d29b-bb22b94c432a"
      },
      "execution_count": 72,
      "outputs": [
        {
          "output_type": "stream",
          "name": "stdout",
          "text": [
            "2147483646\n"
          ]
        }
      ]
    },
    {
      "cell_type": "code",
      "source": [
        "#Ne zaman kara geçtik, hangi gün?\n",
        "toplam = 0\n",
        "\n",
        "for i in range(1, 31):\n",
        "    toplam = toplam + pow(2, i)\n",
        "    if toplam > 1000000000:\n",
        "        print(i)\n",
        "        break\n"
      ],
      "metadata": {
        "colab": {
          "base_uri": "https://localhost:8080/"
        },
        "id": "b6w8V4rLDpW_",
        "outputId": "f4bebdd9-1c09-499d-c15d-30bf53ae56a4"
      },
      "execution_count": 77,
      "outputs": [
        {
          "output_type": "stream",
          "name": "stdout",
          "text": [
            "29\n"
          ]
        }
      ]
    },
    {
      "cell_type": "code",
      "source": [
        "import random\n",
        "yillar = [1071,1299,1453,1881,1920,1923,1938,2023,2053,2071]\n",
        "random.choice(yillar)\n"
      ],
      "metadata": {
        "colab": {
          "base_uri": "https://localhost:8080/"
        },
        "id": "n_Y9HP3vHkIH",
        "outputId": "bd943b7c-0d23-4369-89a9-5eb0e5ac494b"
      },
      "execution_count": 82,
      "outputs": [
        {
          "output_type": "execute_result",
          "data": {
            "text/plain": [
              "1299"
            ]
          },
          "metadata": {},
          "execution_count": 82
        }
      ]
    },
    {
      "cell_type": "code",
      "source": [
        "random.choices(yillar, k=3)"
      ],
      "metadata": {
        "colab": {
          "base_uri": "https://localhost:8080/"
        },
        "id": "xXlTeb1XISDM",
        "outputId": "e3403139-246a-446d-fdb6-02bae7f76b1d"
      },
      "execution_count": 83,
      "outputs": [
        {
          "output_type": "execute_result",
          "data": {
            "text/plain": [
              "[1881, 1299, 2053]"
            ]
          },
          "metadata": {},
          "execution_count": 83
        }
      ]
    },
    {
      "cell_type": "code",
      "source": [
        "random.choices(yillar,weights=[1,1,1,1,1,1,1,1,1,100],k=3)"
      ],
      "metadata": {
        "colab": {
          "base_uri": "https://localhost:8080/"
        },
        "id": "NcG7dDEuITwF",
        "outputId": "5a20e28b-e807-4509-a849-be13b7c15bbb"
      },
      "execution_count": 86,
      "outputs": [
        {
          "output_type": "execute_result",
          "data": {
            "text/plain": [
              "[2071, 2071, 2071]"
            ]
          },
          "metadata": {},
          "execution_count": 86
        }
      ]
    },
    {
      "cell_type": "code",
      "source": [
        "random.sample(yillar,k=3)"
      ],
      "metadata": {
        "colab": {
          "base_uri": "https://localhost:8080/"
        },
        "id": "HGJ3KeDCJWmx",
        "outputId": "dd858e9b-41fa-49d9-b518-5dd34875cf54"
      },
      "execution_count": 87,
      "outputs": [
        {
          "output_type": "execute_result",
          "data": {
            "text/plain": [
              "[1071, 1453, 1938]"
            ]
          },
          "metadata": {},
          "execution_count": 87
        }
      ]
    },
    {
      "cell_type": "code",
      "source": [
        "random.shuffle(yillar)\n",
        "print(yillar)"
      ],
      "metadata": {
        "colab": {
          "base_uri": "https://localhost:8080/"
        },
        "id": "UHfDnOp_JzWr",
        "outputId": "f2a31770-1a38-4e24-f5be-0c192c6048b9"
      },
      "execution_count": 88,
      "outputs": [
        {
          "output_type": "stream",
          "name": "stdout",
          "text": [
            "[1938, 2023, 2053, 1299, 2071, 1881, 1071, 1920, 1923, 1453]\n"
          ]
        }
      ]
    },
    {
      "cell_type": "code",
      "source": [
        "import string\n",
        "string.ascii_letters"
      ],
      "metadata": {
        "colab": {
          "base_uri": "https://localhost:8080/",
          "height": 35
        },
        "id": "yZe_g-MtKA2I",
        "outputId": "adcb661e-9047-4571-b679-c10a3eee516e"
      },
      "execution_count": 89,
      "outputs": [
        {
          "output_type": "execute_result",
          "data": {
            "text/plain": [
              "'abcdefghijklmnopqrstuvwxyzABCDEFGHIJKLMNOPQRSTUVWXYZ'"
            ],
            "application/vnd.google.colaboratory.intrinsic+json": {
              "type": "string"
            }
          },
          "metadata": {},
          "execution_count": 89
        }
      ]
    },
    {
      "cell_type": "code",
      "source": [
        "string.ascii_lowercase"
      ],
      "metadata": {
        "colab": {
          "base_uri": "https://localhost:8080/",
          "height": 35
        },
        "id": "7xHAtI7DKId7",
        "outputId": "b55aea24-3d1b-411b-c66b-85bb0dd5f5d1"
      },
      "execution_count": 90,
      "outputs": [
        {
          "output_type": "execute_result",
          "data": {
            "text/plain": [
              "'abcdefghijklmnopqrstuvwxyz'"
            ],
            "application/vnd.google.colaboratory.intrinsic+json": {
              "type": "string"
            }
          },
          "metadata": {},
          "execution_count": 90
        }
      ]
    },
    {
      "cell_type": "code",
      "source": [
        "string.ascii_uppercase"
      ],
      "metadata": {
        "colab": {
          "base_uri": "https://localhost:8080/",
          "height": 35
        },
        "id": "fxptraUoKNBs",
        "outputId": "c8dd142f-c7b0-4390-c9f6-c6f7e88dcfba"
      },
      "execution_count": 91,
      "outputs": [
        {
          "output_type": "execute_result",
          "data": {
            "text/plain": [
              "'ABCDEFGHIJKLMNOPQRSTUVWXYZ'"
            ],
            "application/vnd.google.colaboratory.intrinsic+json": {
              "type": "string"
            }
          },
          "metadata": {},
          "execution_count": 91
        }
      ]
    },
    {
      "cell_type": "code",
      "source": [
        "string.digits"
      ],
      "metadata": {
        "colab": {
          "base_uri": "https://localhost:8080/",
          "height": 35
        },
        "id": "sn25s0xBKQ3A",
        "outputId": "5525c97a-0555-4c40-820d-8364070f2ce8"
      },
      "execution_count": 92,
      "outputs": [
        {
          "output_type": "execute_result",
          "data": {
            "text/plain": [
              "'0123456789'"
            ],
            "application/vnd.google.colaboratory.intrinsic+json": {
              "type": "string"
            }
          },
          "metadata": {},
          "execution_count": 92
        }
      ]
    },
    {
      "cell_type": "code",
      "source": [
        "string.punctuation"
      ],
      "metadata": {
        "colab": {
          "base_uri": "https://localhost:8080/",
          "height": 35
        },
        "id": "Rtpl-g6gKWBJ",
        "outputId": "6ff14af7-34a1-40e4-fcb6-11bfadc62f89"
      },
      "execution_count": 93,
      "outputs": [
        {
          "output_type": "execute_result",
          "data": {
            "text/plain": [
              "'!\"#$%&\\'()*+,-./:;<=>?@[\\\\]^_`{|}~'"
            ],
            "application/vnd.google.colaboratory.intrinsic+json": {
              "type": "string"
            }
          },
          "metadata": {},
          "execution_count": 93
        }
      ]
    },
    {
      "cell_type": "code",
      "source": [],
      "metadata": {
        "id": "pWpcIvO8Kavd"
      },
      "execution_count": null,
      "outputs": []
    }
  ]
}