{
  "nbformat": 4,
  "nbformat_minor": 0,
  "metadata": {
    "colab": {
      "provenance": [],
      "include_colab_link": true
    },
    "kernelspec": {
      "name": "python3",
      "display_name": "Python 3"
    },
    "language_info": {
      "name": "python"
    }
  },
  "cells": [
    {
      "cell_type": "markdown",
      "metadata": {
        "id": "view-in-github",
        "colab_type": "text"
      },
      "source": [
        "<a href=\"https://colab.research.google.com/github/elanozturk/python/blob/main/Python_7_Hafta_13.ipynb\" target=\"_parent\"><img src=\"https://colab.research.google.com/assets/colab-badge.svg\" alt=\"Open In Colab\"/></a>"
      ]
    },
    {
      "cell_type": "code",
      "source": [
        "import datetime"
      ],
      "metadata": {
        "id": "yF13W3UL58TA"
      },
      "execution_count": null,
      "outputs": []
    },
    {
      "cell_type": "code",
      "source": [
        "dir(datetime)\n",
        "\n",
        "datetime.datetime.now()"
      ],
      "metadata": {
        "colab": {
          "base_uri": "https://localhost:8080/"
        },
        "id": "1EzJqXbX54Jh",
        "outputId": "1513bb0a-c593-44e6-bb1f-40f751d93b92"
      },
      "execution_count": null,
      "outputs": [
        {
          "output_type": "execute_result",
          "data": {
            "text/plain": [
              "datetime.datetime(2023, 12, 26, 16, 45, 55, 670744)"
            ]
          },
          "metadata": {},
          "execution_count": 34
        }
      ]
    },
    {
      "cell_type": "code",
      "source": [
        "datetime.datetime.today()"
      ],
      "metadata": {
        "colab": {
          "base_uri": "https://localhost:8080/"
        },
        "id": "XtwwwU32-HPS",
        "outputId": "50ea4ca4-b0ba-45f3-8f17-05f9e9fd1398"
      },
      "execution_count": null,
      "outputs": [
        {
          "output_type": "execute_result",
          "data": {
            "text/plain": [
              "datetime.datetime(2023, 12, 26, 16, 33, 17, 923108)"
            ]
          },
          "metadata": {},
          "execution_count": 6
        }
      ]
    },
    {
      "cell_type": "code",
      "source": [
        "datetime.datetime.now().hour # anlık saati verir."
      ],
      "metadata": {
        "colab": {
          "base_uri": "https://localhost:8080/"
        },
        "id": "4m69tJ12-Oe7",
        "outputId": "c57a94ae-bc67-48be-8890-67704a91578c"
      },
      "execution_count": null,
      "outputs": [
        {
          "output_type": "execute_result",
          "data": {
            "text/plain": [
              "16"
            ]
          },
          "metadata": {},
          "execution_count": 7
        }
      ]
    },
    {
      "cell_type": "code",
      "source": [
        "datetime.datetime.now().day  # anlık günü yani ayın kaçı olduğunu verir"
      ],
      "metadata": {
        "colab": {
          "base_uri": "https://localhost:8080/"
        },
        "id": "sThbOD-X-UNw",
        "outputId": "5f470ccb-8277-4cb3-8e31-80a904681eba"
      },
      "execution_count": null,
      "outputs": [
        {
          "output_type": "execute_result",
          "data": {
            "text/plain": [
              "26"
            ]
          },
          "metadata": {},
          "execution_count": 12
        }
      ]
    },
    {
      "cell_type": "code",
      "source": [
        "import datetime"
      ],
      "metadata": {
        "id": "hcdwUOy8-4lg"
      },
      "execution_count": null,
      "outputs": []
    },
    {
      "cell_type": "code",
      "source": [
        "datetime.datetime(2019,3,4)"
      ],
      "metadata": {
        "colab": {
          "base_uri": "https://localhost:8080/"
        },
        "id": "pOToSQUt-tCJ",
        "outputId": "eb118752-2d1a-4cb8-dcc8-9528c48e12d5"
      },
      "execution_count": null,
      "outputs": [
        {
          "output_type": "execute_result",
          "data": {
            "text/plain": [
              "datetime.datetime(2019, 3, 4, 0, 0)"
            ]
          },
          "metadata": {},
          "execution_count": 18
        }
      ]
    },
    {
      "cell_type": "code",
      "source": [
        "datetime.date.today()"
      ],
      "metadata": {
        "colab": {
          "base_uri": "https://localhost:8080/"
        },
        "id": "JT8LV4aD_DQg",
        "outputId": "96b1285e-7e5c-4d14-eae9-95aaad523887"
      },
      "execution_count": null,
      "outputs": [
        {
          "output_type": "execute_result",
          "data": {
            "text/plain": [
              "datetime.date(2023, 12, 26)"
            ]
          },
          "metadata": {},
          "execution_count": 19
        }
      ]
    },
    {
      "cell_type": "code",
      "source": [
        "serkan = datetime.date(1984,7,12)\n",
        "gokhan = datetime.date(1993,5,1)"
      ],
      "metadata": {
        "id": "dyUzh5xv_Zb4"
      },
      "execution_count": null,
      "outputs": []
    },
    {
      "cell_type": "code",
      "source": [
        "bugun = datetime.date.today()"
      ],
      "metadata": {
        "id": "4olMRTgk_mSW"
      },
      "execution_count": null,
      "outputs": []
    },
    {
      "cell_type": "code",
      "source": [
        "bugun - serkan"
      ],
      "metadata": {
        "colab": {
          "base_uri": "https://localhost:8080/"
        },
        "id": "GaU0PA7P_s9Y",
        "outputId": "be0e724a-727e-40f9-b327-fd123d9ad869"
      },
      "execution_count": null,
      "outputs": [
        {
          "output_type": "execute_result",
          "data": {
            "text/plain": [
              "datetime.timedelta(days=14411)"
            ]
          },
          "metadata": {},
          "execution_count": 26
        }
      ]
    },
    {
      "cell_type": "code",
      "source": [
        "gokhan - serkan"
      ],
      "metadata": {
        "colab": {
          "base_uri": "https://localhost:8080/"
        },
        "id": "SjlDE7Dz_2BO",
        "outputId": "b32ededc-7acf-4d9a-c24c-64d0f340b40f"
      },
      "execution_count": null,
      "outputs": [
        {
          "output_type": "execute_result",
          "data": {
            "text/plain": [
              "datetime.timedelta(days=3215)"
            ]
          },
          "metadata": {},
          "execution_count": 27
        }
      ]
    },
    {
      "cell_type": "code",
      "source": [
        "serkan.weekday()"
      ],
      "metadata": {
        "colab": {
          "base_uri": "https://localhost:8080/"
        },
        "id": "8xJte_XSAEbf",
        "outputId": "3476a424-0eba-42ed-e80a-9f5e3e5aa507"
      },
      "execution_count": null,
      "outputs": [
        {
          "output_type": "execute_result",
          "data": {
            "text/plain": [
              "3"
            ]
          },
          "metadata": {},
          "execution_count": 31
        }
      ]
    },
    {
      "cell_type": "code",
      "source": [
        "gokhan.isoweekday()"
      ],
      "metadata": {
        "colab": {
          "base_uri": "https://localhost:8080/"
        },
        "id": "VXkMz5CwAPxB",
        "outputId": "db14292e-43b0-4ae8-996c-ce16ed8f43cd"
      },
      "execution_count": null,
      "outputs": [
        {
          "output_type": "execute_result",
          "data": {
            "text/plain": [
              "6"
            ]
          },
          "metadata": {},
          "execution_count": 29
        }
      ]
    },
    {
      "cell_type": "code",
      "source": [
        "gun50 = datetime.timedelta(days=50)\n",
        "bugun+gun50"
      ],
      "metadata": {
        "colab": {
          "base_uri": "https://localhost:8080/"
        },
        "id": "zPXtKmSuAqLh",
        "outputId": "cff2d98e-8374-40a8-c205-e6fac3b44960"
      },
      "execution_count": null,
      "outputs": [
        {
          "output_type": "execute_result",
          "data": {
            "text/plain": [
              "datetime.date(2024, 2, 14)"
            ]
          },
          "metadata": {},
          "execution_count": 35
        }
      ]
    },
    {
      "cell_type": "code",
      "source": [
        "# 01.04.2023\n",
        "# 01.07.2023\n",
        "# 01.10.2023\n",
        "# 31.12.2023"
      ],
      "metadata": {
        "id": "lAsEmwGfBMMu"
      },
      "execution_count": null,
      "outputs": []
    },
    {
      "cell_type": "code",
      "source": [
        "aranan = datetime.date(2021,3,15)\n",
        "yil = aranan.year"
      ],
      "metadata": {
        "id": "jsNU7edXD02h"
      },
      "execution_count": null,
      "outputs": []
    },
    {
      "cell_type": "code",
      "source": [
        "donem1 = datetime.date(yil,4,1)\n",
        "donem2 = datetime.date(yil,7,1)\n",
        "donem3 = datetime.date(yil,10,1)\n",
        "donem4 = datetime.date(yil,12,31)\n",
        "\n",
        "if aranan<donem1:\n",
        "  aktif=donem1\n",
        "elif aranan<donem2:\n",
        "  aktif=donem2\n",
        "elif aranan<donem3:\n",
        "  aktif=donem3\n",
        "else:\n",
        "  aktif=donem4\n",
        "\n",
        "aktif\n"
      ],
      "metadata": {
        "colab": {
          "base_uri": "https://localhost:8080/"
        },
        "id": "l_iTq__6Eypv",
        "outputId": "d068ce37-c20e-46f6-cbf0-abdb6fa5cf5e"
      },
      "execution_count": null,
      "outputs": [
        {
          "output_type": "execute_result",
          "data": {
            "text/plain": [
              "datetime.date(2021, 4, 1)"
            ]
          },
          "metadata": {},
          "execution_count": 43
        }
      ]
    },
    {
      "cell_type": "code",
      "source": [
        "liste = []\n",
        "\n",
        "for i in range(20):\n",
        "  liste.append(aktif)\n",
        "  yil = aktif.year\n",
        "  ay = aktif.month\n",
        "  gun = aktif.day\n",
        "  if ay==10:\n",
        "    ay=12\n",
        "    gun=31\n",
        "  elif ay==12:\n",
        "    yil = yil+1\n",
        "    ay=4\n",
        "    gun=1\n",
        "  else:\n",
        "    ay=ay+3\n",
        "  aktif=datetime.date(yil,ay,gun)"
      ],
      "metadata": {
        "id": "DkutMHtIFsjG"
      },
      "execution_count": null,
      "outputs": []
    },
    {
      "cell_type": "code",
      "source": [
        "liste"
      ],
      "metadata": {
        "colab": {
          "base_uri": "https://localhost:8080/"
        },
        "id": "wu8uyr_7HqPj",
        "outputId": "44e57305-d968-4f9d-c973-6448bdfe1442"
      },
      "execution_count": null,
      "outputs": [
        {
          "output_type": "execute_result",
          "data": {
            "text/plain": [
              "[datetime.date(2021, 4, 1),\n",
              " datetime.date(2021, 7, 1),\n",
              " datetime.date(2021, 10, 1),\n",
              " datetime.date(2021, 12, 31),\n",
              " datetime.date(2022, 4, 1),\n",
              " datetime.date(2022, 7, 1),\n",
              " datetime.date(2022, 10, 1),\n",
              " datetime.date(2022, 12, 31),\n",
              " datetime.date(2023, 4, 1),\n",
              " datetime.date(2023, 7, 1),\n",
              " datetime.date(2023, 10, 1),\n",
              " datetime.date(2023, 12, 31),\n",
              " datetime.date(2024, 4, 1),\n",
              " datetime.date(2024, 7, 1),\n",
              " datetime.date(2024, 10, 1),\n",
              " datetime.date(2024, 12, 31),\n",
              " datetime.date(2025, 4, 1),\n",
              " datetime.date(2025, 7, 1),\n",
              " datetime.date(2025, 10, 1),\n",
              " datetime.date(2025, 12, 31)]"
            ]
          },
          "metadata": {},
          "execution_count": 46
        }
      ]
    },
    {
      "cell_type": "code",
      "source": [
        "import datetime\n",
        "\n",
        "def setdonem(fyil,fay,fgun,ayil):\n",
        "  yil=fyil\n",
        "  donem1 = datetime.date(yil,4,1)\n",
        "  donem2 = datetime.date(yil,7,1)\n",
        "  donem3 = datetime.date(yil,10,1)\n",
        "  donem4 = datetime.date(yil,12,31)\n",
        "\n",
        "  aranan=datetime.date(fyil,fay,fgun)\n",
        "\n",
        "  if aranan<donem1:\n",
        "    aktif=donem1\n",
        "  elif aranan<donem2:\n",
        "    aktif=donem2\n",
        "  elif aranan<donem3:\n",
        "    aktif=donem3\n",
        "  else:\n",
        "    aktif=donem4\n",
        "\n",
        "  liste = []\n",
        "\n",
        "  for i in range(ayil*4):\n",
        "    liste.append(aktif)\n",
        "    yil = aktif.year\n",
        "    ay = aktif.month\n",
        "    gun = aktif.day\n",
        "    if ay==10:\n",
        "      ay=12\n",
        "      gun=31\n",
        "    elif ay==12:\n",
        "      yil = yil+1\n",
        "      ay=4\n",
        "      gun=1\n",
        "    else:\n",
        "      ay=ay+3\n",
        "    aktif=datetime.date(yil,ay,gun)\n",
        "\n",
        "  return liste"
      ],
      "metadata": {
        "id": "YT3kU4ghJU9R"
      },
      "execution_count": null,
      "outputs": []
    },
    {
      "cell_type": "code",
      "source": [
        "setdonem(2011,8,15,5)"
      ],
      "metadata": {
        "colab": {
          "base_uri": "https://localhost:8080/"
        },
        "id": "siN1p4yqKigO",
        "outputId": "ce95e7b0-b231-4077-90ee-4882a226cf66"
      },
      "execution_count": null,
      "outputs": [
        {
          "output_type": "execute_result",
          "data": {
            "text/plain": [
              "[datetime.date(2011, 10, 1),\n",
              " datetime.date(2011, 12, 31),\n",
              " datetime.date(2012, 4, 1),\n",
              " datetime.date(2012, 7, 1),\n",
              " datetime.date(2012, 10, 1),\n",
              " datetime.date(2012, 12, 31),\n",
              " datetime.date(2013, 4, 1),\n",
              " datetime.date(2013, 7, 1),\n",
              " datetime.date(2013, 10, 1),\n",
              " datetime.date(2013, 12, 31),\n",
              " datetime.date(2014, 4, 1),\n",
              " datetime.date(2014, 7, 1),\n",
              " datetime.date(2014, 10, 1),\n",
              " datetime.date(2014, 12, 31),\n",
              " datetime.date(2015, 4, 1),\n",
              " datetime.date(2015, 7, 1),\n",
              " datetime.date(2015, 10, 1),\n",
              " datetime.date(2015, 12, 31),\n",
              " datetime.date(2016, 4, 1),\n",
              " datetime.date(2016, 7, 1)]"
            ]
          },
          "metadata": {},
          "execution_count": 52
        }
      ]
    },
    {
      "cell_type": "code",
      "source": [
        "#Demirbaşekle sayfası\n",
        "\"\"\"\n",
        "import streamlit as st\n",
        "import sqlite3\n",
        "import fonksiyonlar as fk\n",
        "\n",
        "conn = sqlite3.connect(\"demirbasveri.sqlite\")\n",
        "c = conn.cursor()\n",
        "c.execute(\"\"\"CREATE TABLE IF NOT EXISTS demirbaslar(\n",
        "    isim TEXT,\n",
        "    kod TEXT,\n",
        "    fiyat REAL,\n",
        "    sure INTEGER,\n",
        "    tarih TEXT\n",
        "    )\"\"\")\n",
        "conn.commit()\n",
        "\n",
        "c.execute(\"\"\"CREATE TABLE IF NOT EXISTS amortismandonemler(\n",
        "    isim TEXT,\n",
        "    kod TEXT,\n",
        "    donem INTEGER,\n",
        "    donem_ucret REAL,\n",
        "    donem_tarihi TEXT,\n",
        "    odeme_durumu TEXT\n",
        "    )\"\"\")\n",
        "conn.commit()\n",
        "\n",
        "st.title(\"Demirbaş Ekle\")\n",
        "\n",
        "with st.form(\"demirbasekle\",clear_on_submit=True):\n",
        "    isim = st.text_input(\"Demirbaş İsmi\")\n",
        "    kod = st.text_input(\"Demirbaş Kodu\")\n",
        "    fiyat = st.number_input(\"Fiyatı\")\n",
        "    sure =  st.selectbox(\"Amortisman Süresi\",[3,5,10])\n",
        "    tarih = st.date_input(\"Satın Alma Tarihi\")\n",
        "    ekle = st.form_submit_button(\"Demirbaş Ekle\")\n",
        "    if ekle:\n",
        "        c.execute(\"INSERT INTO demirbaslar VALUES(?,?,?,?,?)\",\n",
        "                  (isim,kod,fiyat,sure,tarih))\n",
        "        conn.commit()\n",
        "        donemler=fk.setdonem(tarih.year, tarih.month, tarih.day, sure)\n",
        "        donem_ucret = fiyat/(sure*4)\n",
        "        for donem in range(sure*4):\n",
        "            donem_tarih = donemler[donem]\n",
        "            c.execute(\"INSERT INTO amortismandonemler VALUES(?,?,?,?,?,?)\",\n",
        "                  (isim,kod,donem+1,donem_ucret,donem_tarih, \"Ödenmedi\"))\n",
        "            conn.commit()\n",
        "        st.success(\"Demirbaş Başarıyla Kaydedildi\")\n",
        "\n",
        "\"\"\""
      ],
      "metadata": {
        "id": "_E2cEsEvVyxt"
      },
      "execution_count": null,
      "outputs": []
    },
    {
      "cell_type": "code",
      "source": [
        "#Fonksiyonlar sayfası\n",
        "\"\"\"\n",
        "import datetime\n",
        "\n",
        "def setdonem(fyil, fay, fgun, ayil):\n",
        "    yil = fyil\n",
        "    donem1 = datetime.date(yil, 4, 1)\n",
        "    donem2 = datetime.date(yil, 7, 1)\n",
        "    donem3 = datetime.date(yil, 10, 1)\n",
        "    donem4 = datetime.date(yil, 12, 31)\n",
        "\n",
        "    aranan = datetime.date(fyil, fay, fgun)\n",
        "\n",
        "    if aranan < donem1:\n",
        "        aktif = donem1\n",
        "    elif aranan < donem2:\n",
        "        aktif = donem2\n",
        "    elif aranan < donem3:\n",
        "        aktif = donem3\n",
        "    else:\n",
        "        aktif = donem4\n",
        "\n",
        "    liste = []\n",
        "\n",
        "    for i in range(ayil * 4):\n",
        "        liste.append(aktif)\n",
        "        yil = aktif.year\n",
        "        ay = aktif.month\n",
        "        gun = aktif.day\n",
        "        if ay == 10:\n",
        "            ay = 12\n",
        "            gun = 31\n",
        "        elif ay == 12:\n",
        "            yil = yil + 1\n",
        "            ay = 4\n",
        "            gun = 1\n",
        "        else:\n",
        "            ay = ay + 3\n",
        "        aktif = datetime.date(yil, ay, gun)\n",
        "\n",
        "    return liste\n",
        "\"\"\""
      ],
      "metadata": {
        "id": "jMiJKKB_WSSc"
      },
      "execution_count": null,
      "outputs": []
    },
    {
      "cell_type": "code",
      "source": [
        "#Dönemler sayfası\n",
        "\"\"\"\n",
        "import streamlit as st\n",
        "import sqlite3\n",
        "import pandas as pd\n",
        "\n",
        "conn = sqlite3.connect(\"demirbasveri.sqlite\")\n",
        "c = conn.cursor()\n",
        "\n",
        "c.execute(\"SELECT * FROM amortismandonemler\")\n",
        "sonuc = c.fetchall()\n",
        "\n",
        "df=pd.DataFrame(sonuc)\n",
        "df.columns=[\"İsim\",\"Kod\",\"Dönem\",\"Dönem Ücreti\",\"Dönem Tarihi\",\"Ödeme Durumu\"]\n",
        "st.dataframe(df)\n",
        "\"\"\""
      ],
      "metadata": {
        "id": "JvGTZ4UUWdIj"
      },
      "execution_count": null,
      "outputs": []
    }
  ]
}