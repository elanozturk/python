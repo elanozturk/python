{
  "nbformat": 4,
  "nbformat_minor": 0,
  "metadata": {
    "colab": {
      "provenance": [],
      "include_colab_link": true
    },
    "kernelspec": {
      "name": "python3",
      "display_name": "Python 3"
    },
    "language_info": {
      "name": "python"
    }
  },
  "cells": [
    {
      "cell_type": "markdown",
      "metadata": {
        "id": "view-in-github",
        "colab_type": "text"
      },
      "source": [
        "<a href=\"https://colab.research.google.com/github/elanozturk/python/blob/main/Python_12_Hafta_22.ipynb\" target=\"_parent\"><img src=\"https://colab.research.google.com/assets/colab-badge.svg\" alt=\"Open In Colab\"/></a>"
      ]
    },
    {
      "cell_type": "code",
      "execution_count": null,
      "metadata": {
        "id": "QD6uC4_XIioi"
      },
      "outputs": [],
      "source": [
        "import numpy as np #Matematiksel\n",
        "import pandas as pd #tablolar\n",
        "from sklearn.linear_model import LogisticRegression   #Sınıflandırma O'mu bu mu?\n",
        "from sklearn.tree import DecisionTreeClassifier       #Karar ağacı\n",
        "from sklearn.ensemble import RandomForestClassifier   #Rastgele Orman\n",
        "from xgboost import XGBClassifier                     #Boosting algoritması\n",
        "from sklearn.model_selection import train_test_split  #Train-test verisi ayırma"
      ]
    },
    {
      "cell_type": "code",
      "source": [
        "df = pd.read_csv(\"heart.csv\")\n",
        "df.head(3)"
      ],
      "metadata": {
        "colab": {
          "base_uri": "https://localhost:8080/",
          "height": 143
        },
        "id": "z6E-UrKzLZey",
        "outputId": "430c5838-0dcd-435a-8b4f-4ba857fa6705"
      },
      "execution_count": null,
      "outputs": [
        {
          "output_type": "execute_result",
          "data": {
            "text/plain": [
              "   age  sex  cp  trtbps  chol  fbs  restecg  thalachh  exng  oldpeak  slp  \\\n",
              "0   63    1   3     145   233    1        0       150     0      2.3    0   \n",
              "1   37    1   2     130   250    0        1       187     0      3.5    0   \n",
              "2   41    0   1     130   204    0        0       172     0      1.4    2   \n",
              "\n",
              "   caa  thall  output  \n",
              "0    0      1       1  \n",
              "1    0      2       1  \n",
              "2    0      2       1  "
            ],
            "text/html": [
              "\n",
              "  <div id=\"df-f498f26f-e0b6-4cf3-b733-b3dfa357a41b\" class=\"colab-df-container\">\n",
              "    <div>\n",
              "<style scoped>\n",
              "    .dataframe tbody tr th:only-of-type {\n",
              "        vertical-align: middle;\n",
              "    }\n",
              "\n",
              "    .dataframe tbody tr th {\n",
              "        vertical-align: top;\n",
              "    }\n",
              "\n",
              "    .dataframe thead th {\n",
              "        text-align: right;\n",
              "    }\n",
              "</style>\n",
              "<table border=\"1\" class=\"dataframe\">\n",
              "  <thead>\n",
              "    <tr style=\"text-align: right;\">\n",
              "      <th></th>\n",
              "      <th>age</th>\n",
              "      <th>sex</th>\n",
              "      <th>cp</th>\n",
              "      <th>trtbps</th>\n",
              "      <th>chol</th>\n",
              "      <th>fbs</th>\n",
              "      <th>restecg</th>\n",
              "      <th>thalachh</th>\n",
              "      <th>exng</th>\n",
              "      <th>oldpeak</th>\n",
              "      <th>slp</th>\n",
              "      <th>caa</th>\n",
              "      <th>thall</th>\n",
              "      <th>output</th>\n",
              "    </tr>\n",
              "  </thead>\n",
              "  <tbody>\n",
              "    <tr>\n",
              "      <th>0</th>\n",
              "      <td>63</td>\n",
              "      <td>1</td>\n",
              "      <td>3</td>\n",
              "      <td>145</td>\n",
              "      <td>233</td>\n",
              "      <td>1</td>\n",
              "      <td>0</td>\n",
              "      <td>150</td>\n",
              "      <td>0</td>\n",
              "      <td>2.3</td>\n",
              "      <td>0</td>\n",
              "      <td>0</td>\n",
              "      <td>1</td>\n",
              "      <td>1</td>\n",
              "    </tr>\n",
              "    <tr>\n",
              "      <th>1</th>\n",
              "      <td>37</td>\n",
              "      <td>1</td>\n",
              "      <td>2</td>\n",
              "      <td>130</td>\n",
              "      <td>250</td>\n",
              "      <td>0</td>\n",
              "      <td>1</td>\n",
              "      <td>187</td>\n",
              "      <td>0</td>\n",
              "      <td>3.5</td>\n",
              "      <td>0</td>\n",
              "      <td>0</td>\n",
              "      <td>2</td>\n",
              "      <td>1</td>\n",
              "    </tr>\n",
              "    <tr>\n",
              "      <th>2</th>\n",
              "      <td>41</td>\n",
              "      <td>0</td>\n",
              "      <td>1</td>\n",
              "      <td>130</td>\n",
              "      <td>204</td>\n",
              "      <td>0</td>\n",
              "      <td>0</td>\n",
              "      <td>172</td>\n",
              "      <td>0</td>\n",
              "      <td>1.4</td>\n",
              "      <td>2</td>\n",
              "      <td>0</td>\n",
              "      <td>2</td>\n",
              "      <td>1</td>\n",
              "    </tr>\n",
              "  </tbody>\n",
              "</table>\n",
              "</div>\n",
              "    <div class=\"colab-df-buttons\">\n",
              "\n",
              "  <div class=\"colab-df-container\">\n",
              "    <button class=\"colab-df-convert\" onclick=\"convertToInteractive('df-f498f26f-e0b6-4cf3-b733-b3dfa357a41b')\"\n",
              "            title=\"Convert this dataframe to an interactive table.\"\n",
              "            style=\"display:none;\">\n",
              "\n",
              "  <svg xmlns=\"http://www.w3.org/2000/svg\" height=\"24px\" viewBox=\"0 -960 960 960\">\n",
              "    <path d=\"M120-120v-720h720v720H120Zm60-500h600v-160H180v160Zm220 220h160v-160H400v160Zm0 220h160v-160H400v160ZM180-400h160v-160H180v160Zm440 0h160v-160H620v160ZM180-180h160v-160H180v160Zm440 0h160v-160H620v160Z\"/>\n",
              "  </svg>\n",
              "    </button>\n",
              "\n",
              "  <style>\n",
              "    .colab-df-container {\n",
              "      display:flex;\n",
              "      gap: 12px;\n",
              "    }\n",
              "\n",
              "    .colab-df-convert {\n",
              "      background-color: #E8F0FE;\n",
              "      border: none;\n",
              "      border-radius: 50%;\n",
              "      cursor: pointer;\n",
              "      display: none;\n",
              "      fill: #1967D2;\n",
              "      height: 32px;\n",
              "      padding: 0 0 0 0;\n",
              "      width: 32px;\n",
              "    }\n",
              "\n",
              "    .colab-df-convert:hover {\n",
              "      background-color: #E2EBFA;\n",
              "      box-shadow: 0px 1px 2px rgba(60, 64, 67, 0.3), 0px 1px 3px 1px rgba(60, 64, 67, 0.15);\n",
              "      fill: #174EA6;\n",
              "    }\n",
              "\n",
              "    .colab-df-buttons div {\n",
              "      margin-bottom: 4px;\n",
              "    }\n",
              "\n",
              "    [theme=dark] .colab-df-convert {\n",
              "      background-color: #3B4455;\n",
              "      fill: #D2E3FC;\n",
              "    }\n",
              "\n",
              "    [theme=dark] .colab-df-convert:hover {\n",
              "      background-color: #434B5C;\n",
              "      box-shadow: 0px 1px 3px 1px rgba(0, 0, 0, 0.15);\n",
              "      filter: drop-shadow(0px 1px 2px rgba(0, 0, 0, 0.3));\n",
              "      fill: #FFFFFF;\n",
              "    }\n",
              "  </style>\n",
              "\n",
              "    <script>\n",
              "      const buttonEl =\n",
              "        document.querySelector('#df-f498f26f-e0b6-4cf3-b733-b3dfa357a41b button.colab-df-convert');\n",
              "      buttonEl.style.display =\n",
              "        google.colab.kernel.accessAllowed ? 'block' : 'none';\n",
              "\n",
              "      async function convertToInteractive(key) {\n",
              "        const element = document.querySelector('#df-f498f26f-e0b6-4cf3-b733-b3dfa357a41b');\n",
              "        const dataTable =\n",
              "          await google.colab.kernel.invokeFunction('convertToInteractive',\n",
              "                                                    [key], {});\n",
              "        if (!dataTable) return;\n",
              "\n",
              "        const docLinkHtml = 'Like what you see? Visit the ' +\n",
              "          '<a target=\"_blank\" href=https://colab.research.google.com/notebooks/data_table.ipynb>data table notebook</a>'\n",
              "          + ' to learn more about interactive tables.';\n",
              "        element.innerHTML = '';\n",
              "        dataTable['output_type'] = 'display_data';\n",
              "        await google.colab.output.renderOutput(dataTable, element);\n",
              "        const docLink = document.createElement('div');\n",
              "        docLink.innerHTML = docLinkHtml;\n",
              "        element.appendChild(docLink);\n",
              "      }\n",
              "    </script>\n",
              "  </div>\n",
              "\n",
              "\n",
              "<div id=\"df-870b2e49-f617-442a-afc6-1729d094aff8\">\n",
              "  <button class=\"colab-df-quickchart\" onclick=\"quickchart('df-870b2e49-f617-442a-afc6-1729d094aff8')\"\n",
              "            title=\"Suggest charts\"\n",
              "            style=\"display:none;\">\n",
              "\n",
              "<svg xmlns=\"http://www.w3.org/2000/svg\" height=\"24px\"viewBox=\"0 0 24 24\"\n",
              "     width=\"24px\">\n",
              "    <g>\n",
              "        <path d=\"M19 3H5c-1.1 0-2 .9-2 2v14c0 1.1.9 2 2 2h14c1.1 0 2-.9 2-2V5c0-1.1-.9-2-2-2zM9 17H7v-7h2v7zm4 0h-2V7h2v10zm4 0h-2v-4h2v4z\"/>\n",
              "    </g>\n",
              "</svg>\n",
              "  </button>\n",
              "\n",
              "<style>\n",
              "  .colab-df-quickchart {\n",
              "      --bg-color: #E8F0FE;\n",
              "      --fill-color: #1967D2;\n",
              "      --hover-bg-color: #E2EBFA;\n",
              "      --hover-fill-color: #174EA6;\n",
              "      --disabled-fill-color: #AAA;\n",
              "      --disabled-bg-color: #DDD;\n",
              "  }\n",
              "\n",
              "  [theme=dark] .colab-df-quickchart {\n",
              "      --bg-color: #3B4455;\n",
              "      --fill-color: #D2E3FC;\n",
              "      --hover-bg-color: #434B5C;\n",
              "      --hover-fill-color: #FFFFFF;\n",
              "      --disabled-bg-color: #3B4455;\n",
              "      --disabled-fill-color: #666;\n",
              "  }\n",
              "\n",
              "  .colab-df-quickchart {\n",
              "    background-color: var(--bg-color);\n",
              "    border: none;\n",
              "    border-radius: 50%;\n",
              "    cursor: pointer;\n",
              "    display: none;\n",
              "    fill: var(--fill-color);\n",
              "    height: 32px;\n",
              "    padding: 0;\n",
              "    width: 32px;\n",
              "  }\n",
              "\n",
              "  .colab-df-quickchart:hover {\n",
              "    background-color: var(--hover-bg-color);\n",
              "    box-shadow: 0 1px 2px rgba(60, 64, 67, 0.3), 0 1px 3px 1px rgba(60, 64, 67, 0.15);\n",
              "    fill: var(--button-hover-fill-color);\n",
              "  }\n",
              "\n",
              "  .colab-df-quickchart-complete:disabled,\n",
              "  .colab-df-quickchart-complete:disabled:hover {\n",
              "    background-color: var(--disabled-bg-color);\n",
              "    fill: var(--disabled-fill-color);\n",
              "    box-shadow: none;\n",
              "  }\n",
              "\n",
              "  .colab-df-spinner {\n",
              "    border: 2px solid var(--fill-color);\n",
              "    border-color: transparent;\n",
              "    border-bottom-color: var(--fill-color);\n",
              "    animation:\n",
              "      spin 1s steps(1) infinite;\n",
              "  }\n",
              "\n",
              "  @keyframes spin {\n",
              "    0% {\n",
              "      border-color: transparent;\n",
              "      border-bottom-color: var(--fill-color);\n",
              "      border-left-color: var(--fill-color);\n",
              "    }\n",
              "    20% {\n",
              "      border-color: transparent;\n",
              "      border-left-color: var(--fill-color);\n",
              "      border-top-color: var(--fill-color);\n",
              "    }\n",
              "    30% {\n",
              "      border-color: transparent;\n",
              "      border-left-color: var(--fill-color);\n",
              "      border-top-color: var(--fill-color);\n",
              "      border-right-color: var(--fill-color);\n",
              "    }\n",
              "    40% {\n",
              "      border-color: transparent;\n",
              "      border-right-color: var(--fill-color);\n",
              "      border-top-color: var(--fill-color);\n",
              "    }\n",
              "    60% {\n",
              "      border-color: transparent;\n",
              "      border-right-color: var(--fill-color);\n",
              "    }\n",
              "    80% {\n",
              "      border-color: transparent;\n",
              "      border-right-color: var(--fill-color);\n",
              "      border-bottom-color: var(--fill-color);\n",
              "    }\n",
              "    90% {\n",
              "      border-color: transparent;\n",
              "      border-bottom-color: var(--fill-color);\n",
              "    }\n",
              "  }\n",
              "</style>\n",
              "\n",
              "  <script>\n",
              "    async function quickchart(key) {\n",
              "      const quickchartButtonEl =\n",
              "        document.querySelector('#' + key + ' button');\n",
              "      quickchartButtonEl.disabled = true;  // To prevent multiple clicks.\n",
              "      quickchartButtonEl.classList.add('colab-df-spinner');\n",
              "      try {\n",
              "        const charts = await google.colab.kernel.invokeFunction(\n",
              "            'suggestCharts', [key], {});\n",
              "      } catch (error) {\n",
              "        console.error('Error during call to suggestCharts:', error);\n",
              "      }\n",
              "      quickchartButtonEl.classList.remove('colab-df-spinner');\n",
              "      quickchartButtonEl.classList.add('colab-df-quickchart-complete');\n",
              "    }\n",
              "    (() => {\n",
              "      let quickchartButtonEl =\n",
              "        document.querySelector('#df-870b2e49-f617-442a-afc6-1729d094aff8 button');\n",
              "      quickchartButtonEl.style.display =\n",
              "        google.colab.kernel.accessAllowed ? 'block' : 'none';\n",
              "    })();\n",
              "  </script>\n",
              "</div>\n",
              "\n",
              "    </div>\n",
              "  </div>\n"
            ]
          },
          "metadata": {},
          "execution_count": 4
        }
      ]
    },
    {
      "cell_type": "code",
      "source": [
        "x = df.drop(\"output\",axis=1)\n",
        "y = df[\"output\"]"
      ],
      "metadata": {
        "id": "-yLPvAsWNvyH"
      },
      "execution_count": null,
      "outputs": []
    },
    {
      "cell_type": "code",
      "source": [
        "x_train, x_test, y_train, y_test = train_test_split(x,y,train_size=0.80,random_state=26)"
      ],
      "metadata": {
        "id": "4i2QcxIyPAyU"
      },
      "execution_count": null,
      "outputs": []
    },
    {
      "cell_type": "code",
      "source": [
        "#Logistic Regresyon\n",
        "lr = LogisticRegression(solver=\"lbfgs\",max_iter=100)\n",
        "lrmodel = lr.fit(x_train,y_train)\n",
        "lrscore = lrmodel.score(x_test,y_test)\n",
        "lrscore"
      ],
      "metadata": {
        "colab": {
          "base_uri": "https://localhost:8080/"
        },
        "id": "DFZNaH8bOa-M",
        "outputId": "8d4b39dd-1137-4078-a067-00861b72e64d"
      },
      "execution_count": null,
      "outputs": [
        {
          "output_type": "stream",
          "name": "stderr",
          "text": [
            "/usr/local/lib/python3.10/dist-packages/sklearn/linear_model/_logistic.py:458: ConvergenceWarning: lbfgs failed to converge (status=1):\n",
            "STOP: TOTAL NO. of ITERATIONS REACHED LIMIT.\n",
            "\n",
            "Increase the number of iterations (max_iter) or scale the data as shown in:\n",
            "    https://scikit-learn.org/stable/modules/preprocessing.html\n",
            "Please also refer to the documentation for alternative solver options:\n",
            "    https://scikit-learn.org/stable/modules/linear_model.html#logistic-regression\n",
            "  n_iter_i = _check_optimize_result(\n"
          ]
        },
        {
          "output_type": "execute_result",
          "data": {
            "text/plain": [
              "0.8360655737704918"
            ]
          },
          "metadata": {},
          "execution_count": 14
        }
      ]
    },
    {
      "cell_type": "code",
      "source": [
        "#Decision Tree\n",
        "tree = DecisionTreeClassifier()\n",
        "treemodel = tree.fit(x_train,y_train)\n",
        "treescore = treemodel.score(x_test,y_test)\n",
        "treescore"
      ],
      "metadata": {
        "colab": {
          "base_uri": "https://localhost:8080/"
        },
        "id": "ynQmYQXGRrFe",
        "outputId": "0a08003b-0de1-4a92-a59a-aef92716097e"
      },
      "execution_count": null,
      "outputs": [
        {
          "output_type": "execute_result",
          "data": {
            "text/plain": [
              "0.639344262295082"
            ]
          },
          "metadata": {},
          "execution_count": 30
        }
      ]
    },
    {
      "cell_type": "code",
      "source": [
        "#Random Forest\n",
        "rf = RandomForestClassifier(n_estimators=100)\n",
        "rfmodel = rf.fit(x_train,y_train)\n",
        "rfscore = rfmodel.score(x_test,y_test)\n",
        "rfscore"
      ],
      "metadata": {
        "colab": {
          "base_uri": "https://localhost:8080/"
        },
        "id": "iFfdTR5uV1in",
        "outputId": "bceee37f-9183-4198-bc33-0ed0ff9db40c"
      },
      "execution_count": null,
      "outputs": [
        {
          "output_type": "execute_result",
          "data": {
            "text/plain": [
              "0.8032786885245902"
            ]
          },
          "metadata": {},
          "execution_count": 39
        }
      ]
    },
    {
      "cell_type": "code",
      "source": [
        "#XGBoost\n",
        "xgb = XGBClassifier()\n",
        "xgbmodel =xgb.fit(x_train,y_train)\n",
        "xgbscore = xgbmodel.score(x_test,y_test)\n",
        "xgbscore"
      ],
      "metadata": {
        "colab": {
          "base_uri": "https://localhost:8080/"
        },
        "id": "xmDQAtfAWS35",
        "outputId": "f4140321-03db-44de-8037-d93d3208601d"
      },
      "execution_count": null,
      "outputs": [
        {
          "output_type": "execute_result",
          "data": {
            "text/plain": [
              "0.7213114754098361"
            ]
          },
          "metadata": {},
          "execution_count": 40
        }
      ]
    },
    {
      "cell_type": "code",
      "source": [
        "print(\"Logistic Regresyon Başarısı:\",lrscore)\n",
        "print(\"Decision Tree Başarısı:\",treescore)\n",
        "print(\"Random Forest Başarısı\",rfscore)\n",
        "print(\"XGBoost Başarısı\",xgbscore)"
      ],
      "metadata": {
        "colab": {
          "base_uri": "https://localhost:8080/"
        },
        "id": "HuPVQVFPWm3u",
        "outputId": "91f5cf9c-8e76-4480-eb89-c9e8f65023f8"
      },
      "execution_count": null,
      "outputs": [
        {
          "output_type": "stream",
          "name": "stdout",
          "text": [
            "Logistic Regresyon Başarısı: 0.8360655737704918\n",
            "Decision Tree Başarısı: 0.639344262295082\n",
            "Random Forest Başarısı 0.8032786885245902\n",
            "XGBoost Başarısı 0.7213114754098361\n"
          ]
        }
      ]
    },
    {
      "cell_type": "code",
      "source": [
        "\"\"\"\n",
        "# pip install streamlit\n",
        "# pip install -U scikit-learn\n",
        "# pip install xgboost\n",
        "import streamlit as st\n",
        "import numpy as np #Matematiksel\n",
        "import pandas as pd #tablolar\n",
        "from sklearn.linear_model import LogisticRegression   #Sınıflandırma O'mu bu mu?\n",
        "from sklearn.tree import DecisionTreeClassifier       #Karar ağacı\n",
        "from sklearn.ensemble import RandomForestClassifier   #Rastgele Orman\n",
        "from xgboost import XGBClassifier                     #Boosting algoritması\n",
        "from sklearn.model_selection import train_test_split  #Train-test verisi ayırma\n",
        "\n",
        "df = pd.read_csv(\"heart.csv\")\n",
        "x = df.drop(\"output\",axis=1)\n",
        "y = df[\"output\"]\n",
        "\n",
        "\n",
        "\n",
        "\n",
        "with st.sidebar.form(\"Bilgi\"):\n",
        "    age = st.number_input(\"Yaş\",value=35,step=1)\n",
        "    sex = st.selectbox(\"Cinsiyet\",['Kadın',\"Erkek\"])\n",
        "    cp = st.number_input(\"Ağrı Cinsi\",value=2,min_value=1,max_value=4,step=1)\n",
        "    trtbps = st.number_input(\"Dinlenme Halinde Kan Basıncı\",value=120)\n",
        "    chol = st.number_input(\"Kolesterol\",value=250)\n",
        "    fbs = st.selectbox(\"Şeker Hastası mı?\",[\"Evet\",\"Hayır\"])\n",
        "    restecg = st.number_input(\"EKG\",min_value=0,max_value=2,step=1)\n",
        "    thalachh = st.number_input(\"Thalachh\",value=160)\n",
        "    exng = st.selectbox(\"Egzersiz Sırasında Ağrı\",[\"Var\",\"Yok\"])\n",
        "    oldpeak = st.number_input(\"ST Depresyonu\",min_value=0.0,max_value=6.2,step=0.1)\n",
        "    slope = st.number_input(\"Sloper\",min_value=0,max_value=2,step=1)\n",
        "    caa = st.number_input(\"Caa\",min_value=0,max_value=3,step=1)\n",
        "    thall = st.number_input(\"Thall\",min_value=0,max_value=3,step=1)\n",
        "    modelsec = st.selectbox(\"Model Seç\",[\"Logistic Regression\",\"Decision Tree\",\n",
        "                                         \"Random Forest\",\"XGBoost\"])\n",
        "    train = st.slider(\"Train Boyutu\",min_value=0.0,max_value=1.0,value=0.7)\n",
        "    getir = st.form_submit_button(\"Getir\")\n",
        "\n",
        "    if getir:\n",
        "        if sex==\"Kadın\":\n",
        "            sex=1\n",
        "        else:\n",
        "            sex=0\n",
        "        if fbs==\"Evet\":\n",
        "            fbs=1\n",
        "        else:\n",
        "            fbs=0\n",
        "        if exng==\"Var\":\n",
        "            exng=1\n",
        "        else:\n",
        "            exng=0\n",
        "\n",
        "        x_train, x_test, y_train, y_test = train_test_split(x, y, train_size=train, random_state=26)\n",
        "\n",
        "        # Logistic Regresyon\n",
        "        lr = LogisticRegression(solver=\"lbfgs\", max_iter=100)\n",
        "        lrmodel = lr.fit(x_train, y_train)\n",
        "        lrscore = lrmodel.score(x_test, y_test)\n",
        "\n",
        "        # Decision Tree\n",
        "        tree = DecisionTreeClassifier()\n",
        "        treemodel = tree.fit(x_train, y_train)\n",
        "        treescore = treemodel.score(x_test, y_test)\n",
        "\n",
        "        # Random Forest\n",
        "        rf = RandomForestClassifier(n_estimators=100)\n",
        "        rfmodel = rf.fit(x_train, y_train)\n",
        "        rfscore = rfmodel.score(x_test, y_test)\n",
        "\n",
        "        # XGBoost\n",
        "        xgb = XGBClassifier()\n",
        "        xgbmodel = xgb.fit(x_train, y_train)\n",
        "        xgbscore = xgbmodel.score(x_test, y_test)\n",
        "\n",
        "\n",
        "        if modelsec==\"Logistic Regression\":\n",
        "            model = lrmodel\n",
        "        elif modelsec==\"Decision Tree\":\n",
        "            model = treemodel\n",
        "        elif modelsec==\"Random Forest\":\n",
        "            model = rfmodel\n",
        "        else:\n",
        "            model = xgbmodel\n",
        "\n",
        "        sonuc = model.predict([[age,sex,cp,trtbps,chol,fbs,restecg,thalachh,exng,oldpeak,slope,caa,thall]])\n",
        "    else:\n",
        "        st.stop()\n",
        "\n",
        "if sonuc[0]==0:\n",
        "    st.title(\"Kalp Krizi Riski Düşük\")\n",
        "    st.image(\"https://media1.giphy.com/media/v1.Y2lkPTc5MGI3NjExNThnb3llZzBjeW95ZmlpaG94N3A2NmRudXNwbDRkbnVtYWhkYm1vbyZlcD12MV9pbnRlcm5hbF9naWZfYnlfaWQmY3Q9Zw/26BRv0ThflsHCqDrG/giphy.gif\")\n",
        "else:\n",
        "    st.title(\"Kalp Krizi Riski Yüksek\")\n",
        "    st.image(\"https://media1.giphy.com/media/v1.Y2lkPTc5MGI3NjExbXVsN3I1aWU0cWI3cGkyNmJzZTg5dWxnbHUxY2dzY21jcnRtbnJoOSZlcD12MV9pbnRlcm5hbF9naWZfYnlfaWQmY3Q9Zw/ftdjO4qK3toNIsIynN/giphy.gif\")\n",
        "\n",
        "st.write(sonuc)\n",
        "\n",
        "\"\"\""
      ],
      "metadata": {
        "id": "g9fuMofJXEgd"
      },
      "execution_count": null,
      "outputs": []
    }
  ]
}