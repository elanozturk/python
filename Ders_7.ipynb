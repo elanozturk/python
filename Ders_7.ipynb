{
  "nbformat": 4,
  "nbformat_minor": 0,
  "metadata": {
    "colab": {
      "provenance": [],
      "authorship_tag": "ABX9TyOPVPz9SsunO/4i8dXDyKv2",
      "include_colab_link": true
    },
    "kernelspec": {
      "name": "python3",
      "display_name": "Python 3"
    },
    "language_info": {
      "name": "python"
    }
  },
  "cells": [
    {
      "cell_type": "markdown",
      "metadata": {
        "id": "view-in-github",
        "colab_type": "text"
      },
      "source": [
        "<a href=\"https://colab.research.google.com/github/elanozturk/python/blob/main/Ders_7.ipynb\" target=\"_parent\"><img src=\"https://colab.research.google.com/assets/colab-badge.svg\" alt=\"Open In Colab\"/></a>"
      ]
    },
    {
      "cell_type": "code",
      "source": [
        "users = {\"admin\": \"1234\", \"fatih\": \"1453\", \"selanik\": \"1881\", \"dolmabahce\": \"1903\"}\n",
        "\n",
        "username = input(\"Kullanıcı adı giriniz: \")\n",
        "password = input(\"Şifre giriniz: \")\n",
        "\n",
        "if username in users.keys() and password == users.get(username):\n",
        "    print(\"Bilgileriniz doğru.\")\n",
        "else:\n",
        "    print(\"Bilgileriniz doğru değil.\")\n"
      ],
      "metadata": {
        "colab": {
          "base_uri": "https://localhost:8080/"
        },
        "id": "obVCg3z2wTkp",
        "outputId": "6785f81e-3f71-474c-eb7d-aabd36833778"
      },
      "execution_count": 9,
      "outputs": [
        {
          "output_type": "stream",
          "name": "stdout",
          "text": [
            "Kullanıcı adı giriniz: fatih\n",
            "Şifre giriniz: 1453\n",
            "Bilgileriniz doğru.\n"
          ]
        }
      ]
    },
    {
      "cell_type": "code",
      "execution_count": 10,
      "metadata": {
        "colab": {
          "base_uri": "https://localhost:8080/"
        },
        "id": "V9jyah0QwQAV",
        "outputId": "124d10d1-f2bf-48ec-d23c-c98600a98ddf"
      },
      "outputs": [
        {
          "output_type": "stream",
          "name": "stdout",
          "text": [
            "Merhaba kullanıcı\n",
            "Nasılsın?\n",
            "Acaba bulmalı mıydı?\n"
          ]
        }
      ],
      "source": [
        "if username in users.keys():\n",
        "  print(\"Merhaba kullanıcı\")\n",
        "  print(\"Nasılsın?\")\n",
        "else:\n",
        "  print(\"Kullanıcı bulunamadı.\")\n",
        "  print(\"Keşke bulunsaydı\")\n",
        "\n",
        "print(\"Acaba bulmalı mıydı?\") #Koşuldan bağımsız kod.\n"
      ]
    },
    {
      "cell_type": "code",
      "source": [
        "if username in users.keys():\n",
        "  if password == users[username]:\n",
        "    print(\"Giriş başarılı\")\n",
        "else:\n",
        "  print(\"Kullanıcı bulunamadı.\")\n",
        "  print(\"Keşke bulunsaydı\")\n",
        "\n",
        "print(\"Acaba bulmalı mıydı?\") #Koşuldan bağımsız kod."
      ],
      "metadata": {
        "colab": {
          "base_uri": "https://localhost:8080/"
        },
        "id": "sj8Ms1pa1NIN",
        "outputId": "cf0f7671-cee5-452d-ff22-37945eabaf3e"
      },
      "execution_count": 13,
      "outputs": [
        {
          "output_type": "stream",
          "name": "stdout",
          "text": [
            "Giriş başarılı\n",
            "Acaba bulmalı mıydı?\n"
          ]
        }
      ]
    },
    {
      "cell_type": "code",
      "source": [
        "data = {\n",
        "\"isim\":\"Şükrü\",\"soyisim\":\"Tercan\",\n",
        "\"dogum yili\":1987,\n",
        "\"departman\": None\n",
        "}"
      ],
      "metadata": {
        "id": "-1MSzFWJ-l1V"
      },
      "execution_count": 17,
      "outputs": []
    },
    {
      "cell_type": "code",
      "source": [
        "depar =data.get(\"departman\")\n",
        "print(depar)\n",
        "type(depar)"
      ],
      "metadata": {
        "colab": {
          "base_uri": "https://localhost:8080/"
        },
        "id": "MvrI-Eq4_JKz",
        "outputId": "dc5d31ce-5d56-47fa-8643-9927eb246b79"
      },
      "execution_count": 18,
      "outputs": [
        {
          "output_type": "stream",
          "name": "stdout",
          "text": [
            "None\n"
          ]
        },
        {
          "output_type": "execute_result",
          "data": {
            "text/plain": [
              "NoneType"
            ]
          },
          "metadata": {},
          "execution_count": 18
        }
      ]
    },
    {
      "cell_type": "markdown",
      "source": [
        "**JSON**"
      ],
      "metadata": {
        "id": "DJnyh9Mf2LZa"
      }
    },
    {
      "cell_type": "markdown",
      "source": [
        "Json javascript tabanlıdır.\n",
        "Json Python'daki sözlüklere benzer.\n",
        "Json None yerine null kullanır.\n",
        "Json True, False yerine true, false kullanır.\n",
        "Json'da son değerden sonra virgül \",\" kullanılmaz.\n",
        "Json'da float ve integer yok, number var.\n"
      ],
      "metadata": {
        "id": "vE658NulBKtV"
      }
    },
    {
      "cell_type": "code",
      "source": [],
      "metadata": {
        "id": "2y-eqnXO2PBo"
      },
      "execution_count": null,
      "outputs": []
    },
    {
      "cell_type": "code",
      "source": [
        "import requests\n",
        "\n",
        "url = \"https://api.kanye.rest\"\n",
        "response = requests.get(url)\n",
        "data = response.json()\n",
        "print(data)\n",
        "\n",
        "\n"
      ],
      "metadata": {
        "colab": {
          "base_uri": "https://localhost:8080/"
        },
        "id": "B5dkRbc_CnoX",
        "outputId": "369d796c-e169-4519-bf6a-63087906be99"
      },
      "execution_count": 23,
      "outputs": [
        {
          "output_type": "stream",
          "name": "stdout",
          "text": [
            "{'quote': \"We're going to move the entire music industry into the 21st Century\"}\n"
          ]
        }
      ]
    },
    {
      "cell_type": "code",
      "source": [
        "type(data)"
      ],
      "metadata": {
        "colab": {
          "base_uri": "https://localhost:8080/"
        },
        "id": "Q-67Ze4AEyVY",
        "outputId": "7131c68c-cb28-48d4-b155-6229c0869ba5"
      },
      "execution_count": 24,
      "outputs": [
        {
          "output_type": "execute_result",
          "data": {
            "text/plain": [
              "dict"
            ]
          },
          "metadata": {},
          "execution_count": 24
        }
      ]
    },
    {
      "cell_type": "code",
      "source": [
        "data.values()"
      ],
      "metadata": {
        "colab": {
          "base_uri": "https://localhost:8080/"
        },
        "id": "77fpqCmSE3vF",
        "outputId": "b5902c8d-3eba-4926-cd12-19d5ca2d9ac7"
      },
      "execution_count": 25,
      "outputs": [
        {
          "output_type": "execute_result",
          "data": {
            "text/plain": [
              "dict_values([\"We're going to move the entire music industry into the 21st Century\"])"
            ]
          },
          "metadata": {},
          "execution_count": 25
        }
      ]
    },
    {
      "cell_type": "code",
      "source": [
        "data.keys()"
      ],
      "metadata": {
        "colab": {
          "base_uri": "https://localhost:8080/"
        },
        "id": "6iL0fBIBFbgO",
        "outputId": "4f583308-3756-4405-e614-1c84d879c587"
      },
      "execution_count": 26,
      "outputs": [
        {
          "output_type": "execute_result",
          "data": {
            "text/plain": [
              "dict_keys(['quote'])"
            ]
          },
          "metadata": {},
          "execution_count": 26
        }
      ]
    },
    {
      "cell_type": "code",
      "source": [
        "import requests\n",
        "\n",
        "# url = https://wttr.in/Istanbul?format=4\n",
        "\n",
        "#Girilen şehrin hava durumunu ekrana yazdırsın.\n",
        "sehir = input(\"Şehrinizi giriniz: \")\n",
        "url = \"https://wttr.in/+sehir+?format=2\"\n",
        "url = f\"https://wttr.in/{sehir}?format=2\"\n",
        "\n",
        "rest = requests.get(url)\n",
        "data = rest.text\n",
        "print(data)\n",
        "\n"
      ],
      "metadata": {
        "id": "LlUH0qU9FeL4"
      },
      "execution_count": null,
      "outputs": []
    },
    {
      "cell_type": "code",
      "source": [
        "import requests\n",
        "url = \"https://api.coindesk.com/v1/bpi/currentprice.json\"\n",
        "response = requests.get(url)\n",
        "data = response.json()\n",
        "print(data)\n",
        "\n"
      ],
      "metadata": {
        "colab": {
          "base_uri": "https://localhost:8080/"
        },
        "id": "zoq5Wd5YJJKh",
        "outputId": "7cf34810-6372-4163-f11b-4d16d3b16b9e"
      },
      "execution_count": 40,
      "outputs": [
        {
          "output_type": "stream",
          "name": "stdout",
          "text": [
            "{'time': {'updated': 'Dec 5, 2023 18:11:00 UTC', 'updatedISO': '2023-12-05T18:11:00+00:00', 'updateduk': 'Dec 5, 2023 at 18:11 GMT'}, 'disclaimer': 'This data was produced from the CoinDesk Bitcoin Price Index (USD). Non-USD currency data converted using hourly conversion rate from openexchangerates.org', 'chartName': 'Bitcoin', 'bpi': {'USD': {'code': 'USD', 'symbol': '&#36;', 'rate': '43,470.3586', 'description': 'United States Dollar', 'rate_float': 43470.3586}, 'GBP': {'code': 'GBP', 'symbol': '&pound;', 'rate': '36,323.4838', 'description': 'British Pound Sterling', 'rate_float': 36323.4838}, 'EUR': {'code': 'EUR', 'symbol': '&euro;', 'rate': '42,346.4759', 'description': 'Euro', 'rate_float': 42346.4759}}}\n"
          ]
        }
      ]
    },
    {
      "cell_type": "code",
      "source": [
        "data[\"bpi\"][]"
      ],
      "metadata": {
        "colab": {
          "base_uri": "https://localhost:8080/"
        },
        "id": "r1-d0X-fK2A2",
        "outputId": "836d96f0-734c-44bd-88cf-4263dfee6360"
      },
      "execution_count": 42,
      "outputs": [
        {
          "output_type": "execute_result",
          "data": {
            "text/plain": [
              "{'USD': {'code': 'USD',\n",
              "  'symbol': '&#36;',\n",
              "  'rate': '43,470.3586',\n",
              "  'description': 'United States Dollar',\n",
              "  'rate_float': 43470.3586},\n",
              " 'GBP': {'code': 'GBP',\n",
              "  'symbol': '&pound;',\n",
              "  'rate': '36,323.4838',\n",
              "  'description': 'British Pound Sterling',\n",
              "  'rate_float': 36323.4838},\n",
              " 'EUR': {'code': 'EUR',\n",
              "  'symbol': '&euro;',\n",
              "  'rate': '42,346.4759',\n",
              "  'description': 'Euro',\n",
              "  'rate_float': 42346.4759}}"
            ]
          },
          "metadata": {},
          "execution_count": 42
        }
      ]
    },
    {
      "cell_type": "code",
      "source": [],
      "metadata": {
        "id": "X2hOlf0NMAAh"
      },
      "execution_count": null,
      "outputs": []
    }
  ]
}