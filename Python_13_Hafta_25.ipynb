{
  "nbformat": 4,
  "nbformat_minor": 0,
  "metadata": {
    "colab": {
      "provenance": [],
      "include_colab_link": true
    },
    "kernelspec": {
      "name": "python3",
      "display_name": "Python 3"
    },
    "language_info": {
      "name": "python"
    }
  },
  "cells": [
    {
      "cell_type": "markdown",
      "metadata": {
        "id": "view-in-github",
        "colab_type": "text"
      },
      "source": [
        "<a href=\"https://colab.research.google.com/github/elanozturk/python/blob/main/Python_13_Hafta_25.ipynb\" target=\"_parent\"><img src=\"https://colab.research.google.com/assets/colab-badge.svg\" alt=\"Open In Colab\"/></a>"
      ]
    },
    {
      "cell_type": "code",
      "execution_count": null,
      "metadata": {
        "id": "miO8OLu2gZYF"
      },
      "outputs": [],
      "source": [
        "#NESNE YÖNELİMLİ PROGRAMLAMA\n",
        "class Asker:\n",
        "  can = 100 #Normalde değişken ataması yapar ama class içinde attribution (özellik)\n",
        "  saldiri = 20"
      ]
    },
    {
      "cell_type": "code",
      "source": [
        "yeniceri = Asker()\n",
        "coni = Asker()\n",
        "samuray = Asker()"
      ],
      "metadata": {
        "id": "KyUAMPzbijv8"
      },
      "execution_count": null,
      "outputs": []
    },
    {
      "cell_type": "code",
      "source": [
        "yeniceri.can"
      ],
      "metadata": {
        "colab": {
          "base_uri": "https://localhost:8080/"
        },
        "id": "MH3s7mtIi2IA",
        "outputId": "44e29d43-c2db-492d-d186-c4d7c6c6f8bc"
      },
      "execution_count": null,
      "outputs": [
        {
          "output_type": "execute_result",
          "data": {
            "text/plain": [
              "100"
            ]
          },
          "metadata": {},
          "execution_count": 7
        }
      ]
    },
    {
      "cell_type": "code",
      "source": [
        "coni.saldiri"
      ],
      "metadata": {
        "colab": {
          "base_uri": "https://localhost:8080/"
        },
        "id": "o8NP5BHfjKqw",
        "outputId": "30f291e6-5dba-490d-8c43-9529ee5c446f"
      },
      "execution_count": null,
      "outputs": [
        {
          "output_type": "execute_result",
          "data": {
            "text/plain": [
              "20"
            ]
          },
          "metadata": {},
          "execution_count": 8
        }
      ]
    },
    {
      "cell_type": "code",
      "source": [
        "class Asker:\n",
        "  can = 100 #Normalde değişken ataması yapar ama class içinde attribution (özellik)\n",
        "  saldiri = 20\n",
        "  silahlar = {\"ok\":30,\n",
        "              \"tüfek\":90,\n",
        "              \"kılıç\":50,\n",
        "              \"bıçak\":25}\n",
        "  def silahver(self,silah):\n",
        "    silahlistesi=self.silahlar\n",
        "    self.saldiri= silahlistesi.get(silah)"
      ],
      "metadata": {
        "id": "rsh2xGrgjXdH"
      },
      "execution_count": null,
      "outputs": []
    },
    {
      "cell_type": "code",
      "source": [
        "yeniceri = Asker()\n",
        "coni = Asker()\n",
        "samuray = Asker()"
      ],
      "metadata": {
        "id": "Q8z54JjPlS-z"
      },
      "execution_count": null,
      "outputs": []
    },
    {
      "cell_type": "code",
      "source": [
        "yeniceri.saldiri"
      ],
      "metadata": {
        "colab": {
          "base_uri": "https://localhost:8080/"
        },
        "id": "0IoJ7903lZeq",
        "outputId": "7a0bcea0-0907-450f-d97f-3515a990dbca"
      },
      "execution_count": null,
      "outputs": [
        {
          "output_type": "execute_result",
          "data": {
            "text/plain": [
              "20"
            ]
          },
          "metadata": {},
          "execution_count": 28
        }
      ]
    },
    {
      "cell_type": "code",
      "source": [
        "yeniceri.silahver(\"bıçak\")"
      ],
      "metadata": {
        "id": "RgooHIK1lezb"
      },
      "execution_count": null,
      "outputs": []
    },
    {
      "cell_type": "code",
      "source": [
        "yeniceri.saldiri"
      ],
      "metadata": {
        "colab": {
          "base_uri": "https://localhost:8080/"
        },
        "id": "_XJivd1yllXR",
        "outputId": "8de4f483-262f-4648-e770-63db4903dc74"
      },
      "execution_count": null,
      "outputs": [
        {
          "output_type": "execute_result",
          "data": {
            "text/plain": [
              "25"
            ]
          },
          "metadata": {},
          "execution_count": 30
        }
      ]
    },
    {
      "cell_type": "code",
      "source": [
        "coni.silahver(\"tüfek\")"
      ],
      "metadata": {
        "id": "kdCDDYI_lrSZ"
      },
      "execution_count": null,
      "outputs": []
    },
    {
      "cell_type": "code",
      "source": [
        "coni.saldiri"
      ],
      "metadata": {
        "colab": {
          "base_uri": "https://localhost:8080/"
        },
        "id": "b8R1msQKlvf6",
        "outputId": "3db004d8-3947-4d86-925d-8972d61c41d3"
      },
      "execution_count": null,
      "outputs": [
        {
          "output_type": "execute_result",
          "data": {
            "text/plain": [
              "90"
            ]
          },
          "metadata": {},
          "execution_count": 32
        }
      ]
    },
    {
      "cell_type": "code",
      "source": [
        "class Asker:\n",
        "  can = 100 #Normalde değişken ataması yapar ama class içinde attribution (özellik)\n",
        "  saldiri = 20\n",
        "  silahlar = {\"ok\":30,\n",
        "              \"tüfek\":90,\n",
        "              \"kılıç\":50,\n",
        "              \"bıçak\":25}\n",
        "  def __init__(self,isim,ulke,dogum):\n",
        "    self.isim=isim\n",
        "    self.ulke=ulke\n",
        "    self.dogum=dogum\n",
        "  def silahver(self,silah):\n",
        "    silahlistesi=self.silahlar\n",
        "    self.saldiri= silahlistesi.get(silah)"
      ],
      "metadata": {
        "id": "FZGCB-Idnpys"
      },
      "execution_count": null,
      "outputs": []
    },
    {
      "cell_type": "code",
      "source": [
        "yeniceri=Asker(\"Osman\",\"TR\",1453)"
      ],
      "metadata": {
        "id": "qMzZk9xHoUwc"
      },
      "execution_count": null,
      "outputs": []
    },
    {
      "cell_type": "code",
      "source": [
        "yeniceri.dogum"
      ],
      "metadata": {
        "colab": {
          "base_uri": "https://localhost:8080/"
        },
        "id": "OMkcJHbforoJ",
        "outputId": "df76bcab-c7c6-49ad-d897-4056b6f05d0c"
      },
      "execution_count": null,
      "outputs": [
        {
          "output_type": "execute_result",
          "data": {
            "text/plain": [
              "1453"
            ]
          },
          "metadata": {},
          "execution_count": 38
        }
      ]
    },
    {
      "cell_type": "code",
      "source": [
        "samuray=Asker(\"Haşimato\",\"JPN\",1675)"
      ],
      "metadata": {
        "id": "IRFppNu9o1ih"
      },
      "execution_count": null,
      "outputs": []
    },
    {
      "cell_type": "code",
      "source": [
        "samuray.saldiri"
      ],
      "metadata": {
        "colab": {
          "base_uri": "https://localhost:8080/"
        },
        "id": "7o4rln59pH_Z",
        "outputId": "6f0427a0-378b-416c-dcee-d4aac484a6be"
      },
      "execution_count": null,
      "outputs": [
        {
          "output_type": "execute_result",
          "data": {
            "text/plain": [
              "20"
            ]
          },
          "metadata": {},
          "execution_count": 41
        }
      ]
    },
    {
      "cell_type": "code",
      "source": [
        "samuray.silahver(\"kılıç\")"
      ],
      "metadata": {
        "id": "eWrWOJ-HpMF4"
      },
      "execution_count": null,
      "outputs": []
    },
    {
      "cell_type": "code",
      "source": [
        "samuray.saldiri"
      ],
      "metadata": {
        "colab": {
          "base_uri": "https://localhost:8080/"
        },
        "id": "ARIpcWS-pP0Y",
        "outputId": "7d30a9d8-e171-47c5-d187-3dad227ae1d0"
      },
      "execution_count": null,
      "outputs": [
        {
          "output_type": "execute_result",
          "data": {
            "text/plain": [
              "50"
            ]
          },
          "metadata": {},
          "execution_count": 43
        }
      ]
    },
    {
      "cell_type": "code",
      "source": [
        "class Asker:\n",
        "  can = 100 #Normalde değişken ataması yapar ama class içinde attribution (özellik)\n",
        "  saldiri = 20\n",
        "  silahlar = {\"ok\":30,\n",
        "              \"tüfek\":90,\n",
        "              \"kılıç\":50,\n",
        "              \"bıçak\":25}\n",
        "  id=0\n",
        "  def __init__(self,isim,ulke,dogum):\n",
        "    Asker.id=Asker.id+1\n",
        "    self.id=Asker.id\n",
        "    self.isim=isim\n",
        "    self.ulke=ulke\n",
        "    self.dogum=dogum\n",
        "  def silahver(self,silah):\n",
        "    silahlistesi=self.silahlar\n",
        "    self.saldiri= silahlistesi.get(silah)"
      ],
      "metadata": {
        "id": "mjA3hiVqsiSA"
      },
      "execution_count": null,
      "outputs": []
    },
    {
      "cell_type": "code",
      "source": [
        "yeniceri=Asker(\"Osman\",\"TR\",1453)"
      ],
      "metadata": {
        "id": "4LRjgEEetuXm"
      },
      "execution_count": null,
      "outputs": []
    },
    {
      "cell_type": "code",
      "source": [
        "yeniceri.id"
      ],
      "metadata": {
        "colab": {
          "base_uri": "https://localhost:8080/"
        },
        "id": "5jDDt85Ut1L-",
        "outputId": "93a166aa-260d-4431-c3b9-12f481535997"
      },
      "execution_count": null,
      "outputs": [
        {
          "output_type": "execute_result",
          "data": {
            "text/plain": [
              "1"
            ]
          },
          "metadata": {},
          "execution_count": 46
        }
      ]
    },
    {
      "cell_type": "code",
      "source": [
        "samuray=Asker(\"Nagato\",\"JPN\",1578)"
      ],
      "metadata": {
        "id": "TZIIez51t251"
      },
      "execution_count": null,
      "outputs": []
    },
    {
      "cell_type": "code",
      "source": [
        "samuray.id"
      ],
      "metadata": {
        "colab": {
          "base_uri": "https://localhost:8080/"
        },
        "id": "qGO2I83vt9a9",
        "outputId": "d244ba08-8ac9-410c-fadb-bf42f24af5f2"
      },
      "execution_count": null,
      "outputs": [
        {
          "output_type": "execute_result",
          "data": {
            "text/plain": [
              "3"
            ]
          },
          "metadata": {},
          "execution_count": 50
        }
      ]
    },
    {
      "cell_type": "code",
      "source": [
        "type(samuray)"
      ],
      "metadata": {
        "colab": {
          "base_uri": "https://localhost:8080/"
        },
        "id": "yAMwTrUfuUsE",
        "outputId": "da205450-8dbd-403d-9c24-ca2136bbac06"
      },
      "execution_count": null,
      "outputs": [
        {
          "output_type": "execute_result",
          "data": {
            "text/plain": [
              "__main__.Asker"
            ]
          },
          "metadata": {},
          "execution_count": 52
        }
      ]
    },
    {
      "cell_type": "code",
      "source": [
        "samuray"
      ],
      "metadata": {
        "colab": {
          "base_uri": "https://localhost:8080/"
        },
        "id": "ODAjX-7yvMu9",
        "outputId": "52284337-9dc2-4b50-fe36-57af2bd41047"
      },
      "execution_count": null,
      "outputs": [
        {
          "output_type": "execute_result",
          "data": {
            "text/plain": [
              "<__main__.Asker at 0x7dc98de0f790>"
            ]
          },
          "metadata": {},
          "execution_count": 54
        }
      ]
    },
    {
      "cell_type": "code",
      "source": [
        "class Asker:\n",
        "  can = 100 #Normalde değişken ataması yapar ama class içinde attribution (özellik)\n",
        "  saldiri = 20\n",
        "  silahlar = {\"ok\":30,\n",
        "              \"tüfek\":90,\n",
        "              \"kılıç\":50,\n",
        "              \"bıçak\":25}\n",
        "  id=0\n",
        "  def __init__(self,isim,ulke,dogum):\n",
        "    Asker.id=Asker.id+1\n",
        "    self.id=Asker.id\n",
        "    self.isim=isim\n",
        "    self.ulke=ulke\n",
        "    self.dogum=dogum\n",
        "  def __repr__(self):      #kendisini yazdığımızda getireceği değer\n",
        "    return self.isim\n",
        "  def __str__(self):        #print fonksiyonu ile ekrana yazdıracağı\n",
        "    return self.ulke\n",
        "  def silahver(self,silah):\n",
        "    silahlistesi=self.silahlar\n",
        "    self.saldiri= silahlistesi.get(silah)"
      ],
      "metadata": {
        "id": "n7qCiZsxvZly"
      },
      "execution_count": null,
      "outputs": []
    },
    {
      "cell_type": "code",
      "source": [
        "samuray=Asker(\"Nagato\",\"JPN\",1578)"
      ],
      "metadata": {
        "id": "DV0YtTCNvkPp"
      },
      "execution_count": null,
      "outputs": []
    },
    {
      "cell_type": "code",
      "source": [
        "samuray=Asker(\"Mahmuroto\",\"JPN\",1578)"
      ],
      "metadata": {
        "id": "iwONZJRbvo4o"
      },
      "execution_count": null,
      "outputs": []
    },
    {
      "cell_type": "code",
      "source": [
        "samuray.id"
      ],
      "metadata": {
        "colab": {
          "base_uri": "https://localhost:8080/"
        },
        "id": "xCavaDHevxZT",
        "outputId": "0337c5ee-281d-4ae5-a604-592841065b18"
      },
      "execution_count": null,
      "outputs": [
        {
          "output_type": "execute_result",
          "data": {
            "text/plain": [
              "2"
            ]
          },
          "metadata": {},
          "execution_count": 70
        }
      ]
    },
    {
      "cell_type": "code",
      "source": [
        "samuray"
      ],
      "metadata": {
        "colab": {
          "base_uri": "https://localhost:8080/"
        },
        "id": "Jy042klUvlCg",
        "outputId": "1a245c9f-1b74-4983-8f34-bd9ade91a9db"
      },
      "execution_count": null,
      "outputs": [
        {
          "output_type": "execute_result",
          "data": {
            "text/plain": [
              "Mahmuroto"
            ]
          },
          "metadata": {},
          "execution_count": 71
        }
      ]
    },
    {
      "cell_type": "code",
      "source": [
        "print(samuray)"
      ],
      "metadata": {
        "colab": {
          "base_uri": "https://localhost:8080/"
        },
        "id": "uRjtVG0Mvnup",
        "outputId": "2db5fb49-2ad9-4cef-8f17-5f0dd2c07b12"
      },
      "execution_count": null,
      "outputs": [
        {
          "output_type": "stream",
          "name": "stdout",
          "text": [
            "JPN\n"
          ]
        }
      ]
    },
    {
      "cell_type": "code",
      "source": [
        "liste = [2,5,7]\n",
        "isim = \"Damla\""
      ],
      "metadata": {
        "id": "06_kTW8TwR4g"
      },
      "execution_count": null,
      "outputs": []
    },
    {
      "cell_type": "code",
      "source": [
        "len(liste)"
      ],
      "metadata": {
        "colab": {
          "base_uri": "https://localhost:8080/"
        },
        "id": "d-Zg4_7ZxBDV",
        "outputId": "6f3066f0-0cb3-4d5b-ea75-415b03f2e63f"
      },
      "execution_count": null,
      "outputs": [
        {
          "output_type": "execute_result",
          "data": {
            "text/plain": [
              "3"
            ]
          },
          "metadata": {},
          "execution_count": 74
        }
      ]
    },
    {
      "cell_type": "code",
      "source": [
        "len(isim)"
      ],
      "metadata": {
        "colab": {
          "base_uri": "https://localhost:8080/"
        },
        "id": "imD6hC8NxDem",
        "outputId": "e9b91e85-77f2-4de2-dc36-c6e67fa8b0e3"
      },
      "execution_count": null,
      "outputs": [
        {
          "output_type": "execute_result",
          "data": {
            "text/plain": [
              "5"
            ]
          },
          "metadata": {},
          "execution_count": 75
        }
      ]
    },
    {
      "cell_type": "code",
      "source": [
        "import datetime\n",
        "class Asker:\n",
        "  can = 100 #Normalde değişken ataması yapar ama class içinde attribution (özellik)\n",
        "  saldiri = 20\n",
        "  silahlar = {\"ok\":30,\n",
        "              \"tüfek\":90,\n",
        "              \"kılıç\":50,\n",
        "              \"bıçak\":25,\n",
        "              \"kurt\":200}\n",
        "  id=0\n",
        "  def __init__(self,isim,ulke,dogum):\n",
        "    Asker.id=Asker.id+1\n",
        "    self.id=Asker.id\n",
        "    self.isim=isim\n",
        "    self.ulke=ulke\n",
        "    self.dogum=dogum\n",
        "  def __repr__(self):      #kendisini yazdığımızda getireceği değer\n",
        "    return self.isim\n",
        "  def __str__(self):        #print fonksiyonu ile ekrana yazdıracağı\n",
        "    return self.ulke\n",
        "  def __len__(self):\n",
        "    buyil=datetime.date.today().year\n",
        "    yas = buyil - self.dogum\n",
        "    return yas\n",
        "  def silahver(self,silah):\n",
        "    silahlistesi=self.silahlar\n",
        "    self.saldiri= silahlistesi.get(silah)\n",
        "  def ilacver(self):\n",
        "    self.can=self.can+50\n"
      ],
      "metadata": {
        "id": "OZBOfNX_xNId"
      },
      "execution_count": null,
      "outputs": []
    },
    {
      "cell_type": "code",
      "source": [
        "samuray=Asker(\"Mahmuroto\",\"JPN\",1578)"
      ],
      "metadata": {
        "id": "wbtgxnvtyKPr"
      },
      "execution_count": null,
      "outputs": []
    },
    {
      "cell_type": "code",
      "source": [
        "len(samuray)"
      ],
      "metadata": {
        "colab": {
          "base_uri": "https://localhost:8080/"
        },
        "id": "tEzw-fVNyLLS",
        "outputId": "f5e69cb1-74a7-41ce-b119-17c01013e38c"
      },
      "execution_count": null,
      "outputs": [
        {
          "output_type": "execute_result",
          "data": {
            "text/plain": [
              "446"
            ]
          },
          "metadata": {},
          "execution_count": 81
        }
      ]
    },
    {
      "cell_type": "code",
      "source": [
        "len(\"mahmut\")"
      ],
      "metadata": {
        "colab": {
          "base_uri": "https://localhost:8080/"
        },
        "id": "wolWCUqyyUuT",
        "outputId": "c2884e79-cd3b-46df-de98-d01459c8fcbf"
      },
      "execution_count": null,
      "outputs": [
        {
          "output_type": "execute_result",
          "data": {
            "text/plain": [
              "6"
            ]
          },
          "metadata": {},
          "execution_count": 82
        }
      ]
    },
    {
      "cell_type": "code",
      "source": [
        "len(liste)"
      ],
      "metadata": {
        "colab": {
          "base_uri": "https://localhost:8080/"
        },
        "id": "lDgiLfbPyYJC",
        "outputId": "9bc79162-2cf8-4ebb-d0a8-fdd39a788228"
      },
      "execution_count": null,
      "outputs": [
        {
          "output_type": "execute_result",
          "data": {
            "text/plain": [
              "3"
            ]
          },
          "metadata": {},
          "execution_count": 83
        }
      ]
    },
    {
      "cell_type": "code",
      "source": [
        "tarkan = Asker(\"Altarın Oğlu Tarkan\",\"Büyük Hun İmaparatorluğu\",360)\n",
        "kostok = Asker(\"Hain Kostok\",\"Viking\",340)\n",
        "\n",
        "\n"
      ],
      "metadata": {
        "id": "i2pWsdMuy5ja"
      },
      "execution_count": null,
      "outputs": []
    },
    {
      "cell_type": "code",
      "source": [
        "tarkan.can"
      ],
      "metadata": {
        "colab": {
          "base_uri": "https://localhost:8080/"
        },
        "id": "QmfPfTmj1Pt0",
        "outputId": "c3ef1fa6-2bd2-4ba8-b925-4827224a52a1"
      },
      "execution_count": null,
      "outputs": [
        {
          "output_type": "execute_result",
          "data": {
            "text/plain": [
              "100"
            ]
          },
          "metadata": {},
          "execution_count": 88
        }
      ]
    },
    {
      "cell_type": "code",
      "source": [
        "tarkan.ilacver()"
      ],
      "metadata": {
        "id": "w_Fu5Vef0vkc"
      },
      "execution_count": null,
      "outputs": []
    },
    {
      "cell_type": "code",
      "source": [
        "tarkan.can"
      ],
      "metadata": {
        "colab": {
          "base_uri": "https://localhost:8080/"
        },
        "id": "5cWmTpyi1R0U",
        "outputId": "751a6ff7-a718-46b8-a6d6-e951c5492068"
      },
      "execution_count": null,
      "outputs": [
        {
          "output_type": "execute_result",
          "data": {
            "text/plain": [
              "150"
            ]
          },
          "metadata": {},
          "execution_count": 90
        }
      ]
    },
    {
      "cell_type": "code",
      "source": [
        "class Hesap:\n",
        "  kredi_karti=None,\n",
        "  bireysel_emeklilik=None,\n",
        "  hesapno=0\n",
        "  def __init__(self,ad,soyad,tc,telefon):\n",
        "    Hesap.hesapno=Hesap.hesapno+1\n",
        "    self.hesapno=Hesap.hesapno\n",
        "    self.ad=ad\n",
        "    self.soyad=soyad\n",
        "    self.tc=tc\n",
        "    self.telefon=telefon\n",
        "    uzanti = self.hesapno\n",
        "    sifirmiktari = 16 - len(str(uzanti))\n",
        "    iban = \"TR33000610\" + (sifirmiktari*\"0\") + str(uzanti)\n",
        "    self.iban=iban\n"
      ],
      "metadata": {
        "id": "Y_f4hqbb1e5S"
      },
      "execution_count": null,
      "outputs": []
    },
    {
      "cell_type": "code",
      "source": [
        "damla = Hesap(\"Damla\",\"Şenbabaoğlu\",15478754542,57887545121)"
      ],
      "metadata": {
        "id": "nW2Z2egQ7lhu"
      },
      "execution_count": null,
      "outputs": []
    },
    {
      "cell_type": "code",
      "source": [
        "damla.iban"
      ],
      "metadata": {
        "colab": {
          "base_uri": "https://localhost:8080/",
          "height": 35
        },
        "id": "07qbytVm7tbO",
        "outputId": "94ef79e7-d641-474c-e664-ae7e0da34dae"
      },
      "execution_count": null,
      "outputs": [
        {
          "output_type": "execute_result",
          "data": {
            "text/plain": [
              "'TR330006100000000000000001'"
            ],
            "application/vnd.google.colaboratory.intrinsic+json": {
              "type": "string"
            }
          },
          "metadata": {},
          "execution_count": 99
        }
      ]
    },
    {
      "cell_type": "code",
      "source": [
        "bahadir = Hesap(\"Bahadır\",\"Güney\",156548761465,5788417845)"
      ],
      "metadata": {
        "id": "SzgPlFx48zMg"
      },
      "execution_count": null,
      "outputs": []
    },
    {
      "cell_type": "code",
      "source": [
        "bahadir.iban"
      ],
      "metadata": {
        "colab": {
          "base_uri": "https://localhost:8080/",
          "height": 35
        },
        "id": "WQ0NkAxz8_6P",
        "outputId": "a98c56c8-fa85-434e-f1dd-1a7b95a3e5de"
      },
      "execution_count": null,
      "outputs": [
        {
          "output_type": "execute_result",
          "data": {
            "text/plain": [
              "'TR330006100000000000000002'"
            ],
            "application/vnd.google.colaboratory.intrinsic+json": {
              "type": "string"
            }
          },
          "metadata": {},
          "execution_count": 102
        }
      ]
    },
    {
      "cell_type": "code",
      "source": [
        "class Hesap:\n",
        "  kredi_karti=None,\n",
        "  bireysel_emeklilik=None,\n",
        "  hesapno=0\n",
        "  def __init__(self,ad,soyad,tc,telefon):\n",
        "    Hesap.hesapno=Hesap.hesapno+1\n",
        "    self.hesapno=Hesap.hesapno\n",
        "    self.ad=ad\n",
        "    self.soyad=soyad\n",
        "    self.tc=tc\n",
        "    self.telefon=telefon\n",
        "    uzanti = self.hesapno\n",
        "    sifirmiktari = 16 - len(str(uzanti))\n",
        "    iban = \"TR33000610\" + (sifirmiktari*\"0\") + str(uzanti)\n",
        "    self.iban=iban\n",
        "  def kartbasvuru(self,aylikgelir,karttipi):\n",
        "    self.kredi_karti=True\n",
        "    self.kart_limit= aylikgelir*3\n",
        "    self.kartno = \"3400 0001\" + self.iban[18:]\n"
      ],
      "metadata": {
        "id": "3Hcgrtxn9K4a"
      },
      "execution_count": null,
      "outputs": []
    },
    {
      "cell_type": "code",
      "source": [
        "damla.kredi_karti"
      ],
      "metadata": {
        "colab": {
          "base_uri": "https://localhost:8080/"
        },
        "id": "QuoxaLyA93oV",
        "outputId": "43ef860d-8fe8-4a31-dbca-0c9d2f7af6cd"
      },
      "execution_count": null,
      "outputs": [
        {
          "output_type": "execute_result",
          "data": {
            "text/plain": [
              "(None,)"
            ]
          },
          "metadata": {},
          "execution_count": 103
        }
      ]
    },
    {
      "cell_type": "code",
      "source": [
        "damla = Hesap(\"Damla\",\"Şenbabaoğlu\",15478754542,57887545121)"
      ],
      "metadata": {
        "id": "g9pHX21q-5jj"
      },
      "execution_count": null,
      "outputs": []
    },
    {
      "cell_type": "code",
      "source": [
        "damla.kredi_karti"
      ],
      "metadata": {
        "colab": {
          "base_uri": "https://localhost:8080/"
        },
        "id": "jMvNj2G--66T",
        "outputId": "3fc65cce-091c-4b22-ca2c-17fced08df38"
      },
      "execution_count": null,
      "outputs": [
        {
          "output_type": "execute_result",
          "data": {
            "text/plain": [
              "(None,)"
            ]
          },
          "metadata": {},
          "execution_count": 106
        }
      ]
    },
    {
      "cell_type": "code",
      "source": [
        "damla.kartbasvuru(45000,\"Gold\")"
      ],
      "metadata": {
        "id": "ZbDrJKY--82L"
      },
      "execution_count": null,
      "outputs": []
    },
    {
      "cell_type": "code",
      "source": [
        "damla.kredi_karti"
      ],
      "metadata": {
        "colab": {
          "base_uri": "https://localhost:8080/"
        },
        "id": "ByYAbqsh_MVq",
        "outputId": "24aa6833-c214-4d86-eaf9-b02ed7ab1cff"
      },
      "execution_count": null,
      "outputs": [
        {
          "output_type": "execute_result",
          "data": {
            "text/plain": [
              "True"
            ]
          },
          "metadata": {},
          "execution_count": 108
        }
      ]
    },
    {
      "cell_type": "code",
      "source": [
        "damla.kart_limit"
      ],
      "metadata": {
        "colab": {
          "base_uri": "https://localhost:8080/"
        },
        "id": "o_8TiR1D_Nnb",
        "outputId": "5720f615-7e95-4b8d-8177-50e81c126304"
      },
      "execution_count": null,
      "outputs": [
        {
          "output_type": "execute_result",
          "data": {
            "text/plain": [
              "135000"
            ]
          },
          "metadata": {},
          "execution_count": 109
        }
      ]
    }
  ]
}