{
  "nbformat": 4,
  "nbformat_minor": 0,
  "metadata": {
    "colab": {
      "provenance": [],
      "authorship_tag": "ABX9TyMHQN6QJcBgrGrT5z7i+Guw",
      "include_colab_link": true
    },
    "kernelspec": {
      "name": "python3",
      "display_name": "Python 3"
    },
    "language_info": {
      "name": "python"
    }
  },
  "cells": [
    {
      "cell_type": "markdown",
      "metadata": {
        "id": "view-in-github",
        "colab_type": "text"
      },
      "source": [
        "<a href=\"https://colab.research.google.com/github/elanozturk/python/blob/main/Ders_2.ipynb\" target=\"_parent\"><img src=\"https://colab.research.google.com/assets/colab-badge.svg\" alt=\"Open In Colab\"/></a>"
      ]
    },
    {
      "cell_type": "code",
      "execution_count": 16,
      "metadata": {
        "colab": {
          "base_uri": "https://localhost:8080/",
          "height": 35
        },
        "id": "psN2Zo6487gy",
        "outputId": "dd63615f-8cfe-4e81-975c-3bd081043bae"
      },
      "outputs": [
        {
          "output_type": "execute_result",
          "data": {
            "text/plain": [
              "'serkan öztürk'"
            ],
            "application/vnd.google.colaboratory.intrinsic+json": {
              "type": "string"
            }
          },
          "metadata": {},
          "execution_count": 16
        }
      ],
      "source": [
        "isim = (\"Serkan Öztürk\")\n",
        "isim.lower()\n"
      ]
    },
    {
      "cell_type": "code",
      "source": [
        "isim.upper()\n"
      ],
      "metadata": {
        "colab": {
          "base_uri": "https://localhost:8080/",
          "height": 35
        },
        "id": "AOlD6q9v9mTu",
        "outputId": "a79b08bf-2e96-4407-a27f-4ec741735a1b"
      },
      "execution_count": 17,
      "outputs": [
        {
          "output_type": "execute_result",
          "data": {
            "text/plain": [
              "'SERKAN ÖZTÜRK'"
            ],
            "application/vnd.google.colaboratory.intrinsic+json": {
              "type": "string"
            }
          },
          "metadata": {},
          "execution_count": 17
        }
      ]
    },
    {
      "cell_type": "code",
      "source": [
        "len(isim)"
      ],
      "metadata": {
        "colab": {
          "base_uri": "https://localhost:8080/"
        },
        "id": "j0_SAViQGGGT",
        "outputId": "2ff47fb2-08ab-41a2-cf29-62ff82cc58ad"
      },
      "execution_count": 18,
      "outputs": [
        {
          "output_type": "execute_result",
          "data": {
            "text/plain": [
              "13"
            ]
          },
          "metadata": {},
          "execution_count": 18
        }
      ]
    },
    {
      "cell_type": "code",
      "source": [
        "isim.title()"
      ],
      "metadata": {
        "colab": {
          "base_uri": "https://localhost:8080/",
          "height": 35
        },
        "id": "VVQvXrMiAGlU",
        "outputId": "660c2432-0a79-4393-dc75-01e2875845c3"
      },
      "execution_count": null,
      "outputs": [
        {
          "output_type": "execute_result",
          "data": {
            "text/plain": [
              "'Serkan Öztürk'"
            ],
            "application/vnd.google.colaboratory.intrinsic+json": {
              "type": "string"
            }
          },
          "metadata": {},
          "execution_count": 15
        }
      ]
    },
    {
      "cell_type": "code",
      "source": [
        "isim3 = input(\"isminizi giriniz:\")"
      ],
      "metadata": {
        "colab": {
          "base_uri": "https://localhost:8080/"
        },
        "id": "rQEb-DPDAdmN",
        "outputId": "b957e87c-cfc3-410c-9d43-a1a85c2485aa"
      },
      "execution_count": null,
      "outputs": [
        {
          "name": "stdout",
          "output_type": "stream",
          "text": [
            "isminizi giriniz:serdar\n"
          ]
        }
      ]
    },
    {
      "cell_type": "code",
      "source": [
        "print(isim3)"
      ],
      "metadata": {
        "colab": {
          "base_uri": "https://localhost:8080/"
        },
        "id": "dZzm2WNyA1Db",
        "outputId": "386f149d-5ddf-4db0-c0a4-f228bfc86a71"
      },
      "execution_count": null,
      "outputs": [
        {
          "output_type": "stream",
          "name": "stdout",
          "text": [
            "serdar\n"
          ]
        }
      ]
    },
    {
      "cell_type": "code",
      "source": [
        "type(isim3)"
      ],
      "metadata": {
        "id": "jnVXetFqB-xj"
      },
      "execution_count": null,
      "outputs": []
    },
    {
      "cell_type": "code",
      "source": [
        "isim = int(isim)"
      ],
      "metadata": {
        "id": "YMADJ0VABa-k"
      },
      "execution_count": null,
      "outputs": []
    },
    {
      "cell_type": "code",
      "source": [
        "cagri = \"20:00 İstanbul uçağı kalkmak üzeredir!\"\n",
        "print(cagri)"
      ],
      "metadata": {
        "colab": {
          "base_uri": "https://localhost:8080/"
        },
        "id": "CGa4kLWhCmZT",
        "outputId": "8d0ac505-f1cd-4a96-d1e7-977169bd8f05"
      },
      "execution_count": 13,
      "outputs": [
        {
          "output_type": "stream",
          "name": "stdout",
          "text": [
            "20:00 İstanbul uçağı kalkmak üzeredir!\n"
          ]
        }
      ]
    },
    {
      "cell_type": "code",
      "source": [],
      "metadata": {
        "id": "3QvaVx8QD7Lx"
      },
      "execution_count": 13,
      "outputs": []
    },
    {
      "cell_type": "code",
      "source": [
        "degisiklik = input(\"yeni varış noktasını girin\")\n",
        "cagri = cagri.replace(\"İstanbul\",degisiklik)\n",
        "print(cagri)"
      ],
      "metadata": {
        "colab": {
          "base_uri": "https://localhost:8080/"
        },
        "outputId": "47245877-4e49-4167-e34a-5eff17edbe11",
        "id": "GZNPYG1JD9Kp"
      },
      "execution_count": 14,
      "outputs": [
        {
          "output_type": "stream",
          "name": "stdout",
          "text": [
            "yeni varış noktasını girinmalatya\n",
            "20:00 malatya uçağı kalkmak üzeredir!\n"
          ]
        }
      ]
    },
    {
      "cell_type": "code",
      "source": [],
      "metadata": {
        "id": "Lmw5JPllDxii"
      },
      "execution_count": null,
      "outputs": []
    }
  ]
}