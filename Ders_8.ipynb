{
  "nbformat": 4,
  "nbformat_minor": 0,
  "metadata": {
    "colab": {
      "provenance": [],
      "authorship_tag": "ABX9TyOC5ZZauQ33FjR+jaYwwcVO",
      "include_colab_link": true
    },
    "kernelspec": {
      "name": "python3",
      "display_name": "Python 3"
    },
    "language_info": {
      "name": "python"
    }
  },
  "cells": [
    {
      "cell_type": "markdown",
      "metadata": {
        "id": "view-in-github",
        "colab_type": "text"
      },
      "source": [
        "<a href=\"https://colab.research.google.com/github/elanozturk/python/blob/main/Ders_8.ipynb\" target=\"_parent\"><img src=\"https://colab.research.google.com/assets/colab-badge.svg\" alt=\"Open In Colab\"/></a>"
      ]
    },
    {
      "cell_type": "code",
      "execution_count": 10,
      "metadata": {
        "colab": {
          "base_uri": "https://localhost:8080/"
        },
        "id": "qtREv5qkBcCA",
        "outputId": "37759644-1cba-4079-f6b9-ee9c52c3455e"
      },
      "outputs": [
        {
          "output_type": "stream",
          "name": "stdout",
          "text": [
            "İsim giriniz: anil\n",
            "IN 29.799999999999997\n",
            "NP 12.4\n",
            "AE 11.3\n",
            "QA 3.5000000000000004\n",
            "LK 3.5000000000000004\n"
          ]
        }
      ],
      "source": [
        "import requests\n",
        "\n",
        "isim = input(\"İsim giriniz: \")\n",
        "\n",
        "url = f\"https://api.nationalize.io/?name={isim}\"\n",
        "\n",
        "rest =  requests.get(url)\n",
        "\n",
        "data = rest.json()\n",
        "\n",
        "data[\"country\"]\n",
        "\n",
        "prob = data[\"country\"]\n",
        "\n",
        "for i in prob:\n",
        "  print(i[\"country_id\"], i[\"probability\"]*100)"
      ]
    },
    {
      "cell_type": "code",
      "source": [
        "from urllib.request import urlopen\n",
        "import xml.etree.ElementTree as et\n",
        "\n",
        "url = \"https://www.tcmb.gov.tr/kurlar/today.xml\"\n",
        "\n",
        "data = et.ElementTree(file=urlopen(url))\n",
        "\n",
        "root = data.getroot()\n",
        "\n",
        "root[0][3].text"
      ],
      "metadata": {
        "colab": {
          "base_uri": "https://localhost:8080/",
          "height": 35
        },
        "id": "Bcbx9BZDEoPd",
        "outputId": "6dc136eb-c314-4afa-80d9-dac5d81bc936"
      },
      "execution_count": 24,
      "outputs": [
        {
          "output_type": "execute_result",
          "data": {
            "text/plain": [
              "'28.8740'"
            ],
            "application/vnd.google.colaboratory.intrinsic+json": {
              "type": "string"
            }
          },
          "metadata": {},
          "execution_count": 24
        }
      ]
    },
    {
      "cell_type": "code",
      "source": [
        "for i in root:\n",
        "  print(i[1].text, i[3].text)"
      ],
      "metadata": {
        "colab": {
          "base_uri": "https://localhost:8080/"
        },
        "id": "Bm8k-MuvXv7I",
        "outputId": "c2ae2b5a-bdd9-4904-f6b8-32a95548d531"
      },
      "execution_count": 27,
      "outputs": [
        {
          "output_type": "stream",
          "name": "stdout",
          "text": [
            "ABD DOLARI 28.8740\n",
            "AVUSTRALYA DOLARI 18.8982\n",
            "DANİMARKA KRONU 4.1663\n",
            "EURO 31.1103\n",
            "İNGİLİZ STERLİNİ 36.2485\n",
            "İSVİÇRE FRANGI 32.9533\n",
            "İSVEÇ KRONU 2.7486\n",
            "KANADA DOLARI 21.2138\n",
            "KUVEYT DİNARI 93.1230\n",
            "NORVEÇ KRONU 2.6329\n",
            "SUUDİ ARABİSTAN RİYALİ 7.6983\n",
            "JAPON YENİ 19.8158\n",
            "BULGAR LEVASI 15.8170\n",
            "RUMEN LEYİ 6.2273\n",
            "RUS RUBLESİ 0.31003\n",
            "İRAN RİYALİ 0.06836\n",
            "ÇİN YUANI 4.0139\n",
            "PAKİSTAN RUPİSİ 0.10110\n",
            "KATAR RİYALİ 7.8744\n",
            "GÜNEY KORE WONU 0.02174\n",
            "AZERBAYCAN YENİ MANATI 16.8895\n",
            "BİRLEŞİK ARAP EMİRLİKLERİ DİRHEMİ 7.8187\n",
            "ÖZEL ÇEKME HAKKI (SDR)                             38.4020\n"
          ]
        }
      ]
    },
    {
      "cell_type": "code",
      "source": [
        "# kanada rusya'dan çelik ithal ediyor. Savaş çıktı, ufak bi ödeme kalmış,\n",
        "# Rusya şimdi Kanada'dan alacağını ruble ile istiyor.\n",
        "# 7 milyon ruble ödemesi lazım.\n",
        "# Kanada kaç Kanada Doları ödemeli."
      ],
      "metadata": {
        "id": "jr9sjZ4zYR1c"
      },
      "execution_count": null,
      "outputs": []
    },
    {
      "cell_type": "code",
      "source": [
        "from urllib.request import urlopen\n",
        "import xml.etree.ElementTree as et\n",
        "\n",
        "url = \"https://www.tcmb.gov.tr/kurlar/today.xml\"\n",
        "\n",
        "data = et.ElementTree(file=urlopen(url))\n",
        "\n",
        "data = data.getroot()\n",
        "\n",
        "print(\"data\"), ruble[14][3].text\n"
      ],
      "metadata": {
        "colab": {
          "base_uri": "https://localhost:8080/"
        },
        "id": "3cIRcqEAY3D_",
        "outputId": "d8abb120-f649-4c94-bf78-efab3d24a687"
      },
      "execution_count": 36,
      "outputs": [
        {
          "output_type": "stream",
          "name": "stdout",
          "text": [
            "data\n"
          ]
        },
        {
          "output_type": "execute_result",
          "data": {
            "text/plain": [
              "(None, '0.31003')"
            ]
          },
          "metadata": {},
          "execution_count": 36
        }
      ]
    },
    {
      "cell_type": "code",
      "source": [
        "from urllib.request import urlopen\n",
        "import xml.etree.ElementTree as et\n",
        "\n",
        "url = \"https://www.tcmb.gov.tr/kurlar/today.xml\"\n",
        "\n",
        "data = et.ElementTree(file=urlopen(url))\n",
        "\n",
        "data = data.getroot()\n",
        "\n",
        "kurlar ={}\n",
        "\n",
        "for i in root:\n",
        "  isim = i[1].text\n",
        "  fiyat = float(i[3].text)\n",
        "  kurlar[isim]=fiyat\n"
      ],
      "metadata": {
        "id": "DHIqZoyHbZD4"
      },
      "execution_count": 39,
      "outputs": []
    },
    {
      "cell_type": "code",
      "source": [
        "kurlar"
      ],
      "metadata": {
        "colab": {
          "base_uri": "https://localhost:8080/"
        },
        "id": "AokBGPhrcXMl",
        "outputId": "5d580e4a-0de3-4244-8718-82125cb9edb0"
      },
      "execution_count": 40,
      "outputs": [
        {
          "output_type": "execute_result",
          "data": {
            "text/plain": [
              "{'ABD DOLARI': 28.874,\n",
              " 'AVUSTRALYA DOLARI': 18.8982,\n",
              " 'DANİMARKA KRONU': 4.1663,\n",
              " 'EURO': 31.1103,\n",
              " 'İNGİLİZ STERLİNİ': 36.2485,\n",
              " 'İSVİÇRE FRANGI': 32.9533,\n",
              " 'İSVEÇ KRONU': 2.7486,\n",
              " 'KANADA DOLARI': 21.2138,\n",
              " 'KUVEYT DİNARI': 93.123,\n",
              " 'NORVEÇ KRONU': 2.6329,\n",
              " 'SUUDİ ARABİSTAN RİYALİ': 7.6983,\n",
              " 'JAPON YENİ': 19.8158,\n",
              " 'BULGAR LEVASI': 15.817,\n",
              " 'RUMEN LEYİ': 6.2273,\n",
              " 'RUS RUBLESİ': 0.31003,\n",
              " 'İRAN RİYALİ': 0.06836,\n",
              " 'ÇİN YUANI': 4.0139,\n",
              " 'PAKİSTAN RUPİSİ': 0.1011,\n",
              " 'KATAR RİYALİ': 7.8744,\n",
              " 'GÜNEY KORE WONU': 0.02174,\n",
              " 'AZERBAYCAN YENİ MANATI': 16.8895,\n",
              " 'BİRLEŞİK ARAP EMİRLİKLERİ DİRHEMİ': 7.8187,\n",
              " 'ÖZEL ÇEKME HAKKI (SDR)                            ': 38.402}"
            ]
          },
          "metadata": {},
          "execution_count": 40
        }
      ]
    },
    {
      "cell_type": "code",
      "source": [
        "kanada = kurlar['KANADA DOLARI'] #kurlar.get('KANADA DOLARI')\n",
        "ruble = kurlar['RUS RUBLESİ']\n",
        "kurdegeri = ruble/kanada\n",
        "sonuc = kurdegeri*7000000\n",
        "print(sonuc)"
      ],
      "metadata": {
        "colab": {
          "base_uri": "https://localhost:8080/"
        },
        "id": "Rrpktj-XcfX-",
        "outputId": "7ec89f3a-7c8a-4a4c-8f3a-0a7df9bd6300"
      },
      "execution_count": 43,
      "outputs": [
        {
          "output_type": "stream",
          "name": "stdout",
          "text": [
            "102301.80354297673\n"
          ]
        }
      ]
    },
    {
      "cell_type": "code",
      "source": [
        "kanada = float(root[7][3].text)\n",
        "ruble = float(root[14][3].text)\n",
        "kurdegeri = ruble/kanada\n",
        "sonuc = kurdegeri*7000000\n",
        "print(sonuc)\n"
      ],
      "metadata": {
        "colab": {
          "base_uri": "https://localhost:8080/"
        },
        "id": "mgI8I5qKd54h",
        "outputId": "6bce2724-9fe8-41ab-c6af-d5e24702a795"
      },
      "execution_count": 47,
      "outputs": [
        {
          "output_type": "stream",
          "name": "stdout",
          "text": [
            "102301.80354297673\n"
          ]
        }
      ]
    }
  ]
}