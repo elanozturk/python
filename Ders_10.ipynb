{
  "nbformat": 4,
  "nbformat_minor": 0,
  "metadata": {
    "colab": {
      "provenance": [],
      "authorship_tag": "ABX9TyOltSMbt73hPkHwWABfgZOc",
      "include_colab_link": true
    },
    "kernelspec": {
      "name": "python3",
      "display_name": "Python 3"
    },
    "language_info": {
      "name": "python"
    }
  },
  "cells": [
    {
      "cell_type": "markdown",
      "metadata": {
        "id": "view-in-github",
        "colab_type": "text"
      },
      "source": [
        "<a href=\"https://colab.research.google.com/github/elanozturk/python/blob/main/Ders_10.ipynb\" target=\"_parent\"><img src=\"https://colab.research.google.com/assets/colab-badge.svg\" alt=\"Open In Colab\"/></a>"
      ]
    },
    {
      "cell_type": "markdown",
      "source": [
        "#FONKSİYONLAR"
      ],
      "metadata": {
        "id": "h5Cxw8GPVB_O"
      }
    },
    {
      "cell_type": "code",
      "source": [
        "def selamlama():\n",
        "  print(\"Merabayın\")"
      ],
      "metadata": {
        "id": "JksnTZG-VFxh"
      },
      "execution_count": 5,
      "outputs": []
    },
    {
      "cell_type": "code",
      "source": [
        "selamlama()"
      ],
      "metadata": {
        "colab": {
          "base_uri": "https://localhost:8080/"
        },
        "id": "M5JqBoJ2WRH4",
        "outputId": "c86f79e7-60e1-490b-e484-1c66f7223db1"
      },
      "execution_count": 2,
      "outputs": [
        {
          "output_type": "stream",
          "name": "stdout",
          "text": [
            "Merabayın\n"
          ]
        }
      ]
    },
    {
      "cell_type": "code",
      "source": [
        "a = selamlama()"
      ],
      "metadata": {
        "id": "xxBJrTskWoI2"
      },
      "execution_count": 7,
      "outputs": []
    },
    {
      "cell_type": "code",
      "source": [
        "a"
      ],
      "metadata": {
        "id": "KHqhwydaWrbs"
      },
      "execution_count": 4,
      "outputs": []
    },
    {
      "cell_type": "code",
      "source": [
        "def selamlama():\n",
        "  return \"Merabayın\""
      ],
      "metadata": {
        "id": "E38a7hpVWtq0"
      },
      "execution_count": 6,
      "outputs": []
    },
    {
      "cell_type": "code",
      "source": [
        "a = selamlama()"
      ],
      "metadata": {
        "id": "ErvGysCyWzlX"
      },
      "execution_count": 8,
      "outputs": []
    },
    {
      "cell_type": "code",
      "source": [
        "a"
      ],
      "metadata": {
        "colab": {
          "base_uri": "https://localhost:8080/",
          "height": 35
        },
        "id": "YlV39XbCW12y",
        "outputId": "5901ceee-2d1e-4198-cdea-5d6571ab2d56"
      },
      "execution_count": 9,
      "outputs": [
        {
          "output_type": "execute_result",
          "data": {
            "text/plain": [
              "'Merabayın'"
            ],
            "application/vnd.google.colaboratory.intrinsic+json": {
              "type": "string"
            }
          },
          "metadata": {},
          "execution_count": 9
        }
      ]
    },
    {
      "cell_type": "code",
      "source": [
        "print(a)"
      ],
      "metadata": {
        "colab": {
          "base_uri": "https://localhost:8080/"
        },
        "id": "VXLyOOc0W9ew",
        "outputId": "e17874e8-fd3d-4ed1-8b6c-69b2a99c48b5"
      },
      "execution_count": 10,
      "outputs": [
        {
          "output_type": "stream",
          "name": "stdout",
          "text": [
            "Merabayın\n"
          ]
        }
      ]
    },
    {
      "cell_type": "code",
      "source": [
        "def kelimesay(metin):\n",
        "  liste = metin.split(\" \")\n",
        "  sayi = len(liste)\n",
        "  return sayi"
      ],
      "metadata": {
        "id": "Rvhs_8lmW_0H"
      },
      "execution_count": 13,
      "outputs": []
    },
    {
      "cell_type": "code",
      "source": [
        "kelimesay(\"ışık ilik süt içme\")"
      ],
      "metadata": {
        "colab": {
          "base_uri": "https://localhost:8080/"
        },
        "id": "Ks3m2Rc3Xnym",
        "outputId": "e4583a7c-a9f4-4f95-f6cc-a29964e3ad5f"
      },
      "execution_count": 14,
      "outputs": [
        {
          "output_type": "execute_result",
          "data": {
            "text/plain": [
              "4"
            ]
          },
          "metadata": {},
          "execution_count": 14
        }
      ]
    },
    {
      "cell_type": "code",
      "source": [
        "def kelime_say(metin):\n",
        "  return len(metin.split(\" \"))"
      ],
      "metadata": {
        "id": "KuNbavqMYokQ"
      },
      "execution_count": 15,
      "outputs": []
    },
    {
      "cell_type": "code",
      "source": [
        "kelime_say(\"merhaba dünyalı, nasılsın?\")"
      ],
      "metadata": {
        "colab": {
          "base_uri": "https://localhost:8080/"
        },
        "id": "-7fr7h24Y2uv",
        "outputId": "84889eed-857f-4547-c894-e8024602fa0f"
      },
      "execution_count": 16,
      "outputs": [
        {
          "output_type": "execute_result",
          "data": {
            "text/plain": [
              "3"
            ]
          },
          "metadata": {},
          "execution_count": 16
        }
      ]
    },
    {
      "cell_type": "code",
      "source": [
        "def kdvdahil(fiyat,oran):\n",
        "#ilk argümana araç fiyatını, ikinci argümana vergi oranı yazıldığında bana kdv dahil fiyatı veren fonksiyon yazın\n",
        "  vergi = fiyat*oran/100\n",
        "  sonuc= vergi+fiyat\n",
        "  return sonuc"
      ],
      "metadata": {
        "id": "l801q9PYY835"
      },
      "execution_count": 22,
      "outputs": []
    },
    {
      "cell_type": "code",
      "source": [
        "kdvdahil(523000,20)"
      ],
      "metadata": {
        "colab": {
          "base_uri": "https://localhost:8080/"
        },
        "id": "-18Ca_D9atMR",
        "outputId": "f4e85093-9595-4dd7-dda9-53133aa96960"
      },
      "execution_count": 23,
      "outputs": [
        {
          "output_type": "execute_result",
          "data": {
            "text/plain": [
              "627600.0"
            ]
          },
          "metadata": {},
          "execution_count": 23
        }
      ]
    },
    {
      "cell_type": "code",
      "source": [
        "# mailyap(\"Oğuz Serkan, Öztürk, aribilgi.com\")\n",
        "def mailyap(ad,soyad,adres):\n",
        "    mail = soyad[0]+\".\"+ad+\"@\"+ adres\n",
        "    mail = mail.lower()\n",
        "    mail = mail.replace(\" \",\"\")\n",
        "    mail = mail.replace(\"ğ\",\"g\")\n",
        "    mail = mail.replace(\"ç\",\"c\")\n",
        "    mail = mail.replace(\"ş\",\"s\")\n",
        "    mail = mail.replace(\"ı\",\"i\")\n",
        "    mail = mail.replace(\"ö\",\"o\")\n",
        "    mail = mail.replace(\"ü\",\"u\")\n",
        "    return mail\n",
        "\n"
      ],
      "metadata": {
        "id": "HYc2umABaxtX"
      },
      "execution_count": 32,
      "outputs": []
    },
    {
      "cell_type": "code",
      "source": [
        "mailyap(\"Oğuz Serkan\",\"Öztürk\",\"bilgi.com\")"
      ],
      "metadata": {
        "colab": {
          "base_uri": "https://localhost:8080/",
          "height": 35
        },
        "id": "5pkd_bGveHCK",
        "outputId": "bb8f1d58-ee89-4cd0-aaea-0a8a6b5c0449"
      },
      "execution_count": 34,
      "outputs": [
        {
          "output_type": "execute_result",
          "data": {
            "text/plain": [
              "'o.oguzserkan@bilgi.com'"
            ],
            "application/vnd.google.colaboratory.intrinsic+json": {
              "type": "string"
            }
          },
          "metadata": {},
          "execution_count": 34
        }
      ]
    },
    {
      "cell_type": "code",
      "source": [
        "def toplam(x,y):\n",
        "  return x+y"
      ],
      "metadata": {
        "id": "8EfRJtA_gkXh"
      },
      "execution_count": 35,
      "outputs": []
    },
    {
      "cell_type": "code",
      "source": [
        "toplam(1,3)"
      ],
      "metadata": {
        "colab": {
          "base_uri": "https://localhost:8080/"
        },
        "id": "f3ciF3CNgtA_",
        "outputId": "1d446b5f-fcdd-4e5d-d976-848787b75949"
      },
      "execution_count": 36,
      "outputs": [
        {
          "output_type": "execute_result",
          "data": {
            "text/plain": [
              "4"
            ]
          },
          "metadata": {},
          "execution_count": 36
        }
      ]
    },
    {
      "cell_type": "code",
      "source": [
        "def toplam2(*sayilar):\n",
        "   return sayilar"
      ],
      "metadata": {
        "id": "2qH7o0KzgwUX"
      },
      "execution_count": 40,
      "outputs": []
    },
    {
      "cell_type": "code",
      "source": [
        "toplam2(4,5,6,1,2,)"
      ],
      "metadata": {
        "colab": {
          "base_uri": "https://localhost:8080/"
        },
        "id": "Qu3NTWVghByE",
        "outputId": "d743e763-d3da-4fe1-9f23-3e3e32f0b5cc"
      },
      "execution_count": 39,
      "outputs": [
        {
          "output_type": "execute_result",
          "data": {
            "text/plain": [
              "(4, 5, 6, 1, 2)"
            ]
          },
          "metadata": {},
          "execution_count": 39
        }
      ]
    },
    {
      "cell_type": "code",
      "source": [
        "def toplam2(*sayilar):\n",
        "  toplam=0\n",
        "  for i in sayilar:\n",
        "    toplam=toplam+i\n",
        "  return toplam"
      ],
      "metadata": {
        "id": "ygtUJX4_hG79"
      },
      "execution_count": 45,
      "outputs": []
    },
    {
      "cell_type": "code",
      "source": [
        "toplam2(2,3,4,5,6,7,8)"
      ],
      "metadata": {
        "colab": {
          "base_uri": "https://localhost:8080/"
        },
        "id": "esxUCR6GhSll",
        "outputId": "8bcc2d9c-84c3-4b08-963d-17056e0007c9"
      },
      "execution_count": 46,
      "outputs": [
        {
          "output_type": "execute_result",
          "data": {
            "text/plain": [
              "35"
            ]
          },
          "metadata": {},
          "execution_count": 46
        }
      ]
    },
    {
      "cell_type": "code",
      "source": [
        "def cifttopla(*ciftler):\n",
        "    toplama = 0\n",
        "    for i in ciftler:\n",
        "        if i % 2 == 0:\n",
        "            toplama = toplama +i #toplama += i\n",
        "    return toplama\n"
      ],
      "metadata": {
        "id": "fw1QcKM9hsV2"
      },
      "execution_count": 52,
      "outputs": []
    },
    {
      "cell_type": "code",
      "source": [
        "cifttopla(2,5,546,7,23,6,8,346,65)"
      ],
      "metadata": {
        "colab": {
          "base_uri": "https://localhost:8080/"
        },
        "id": "jDKvbGvSiqHf",
        "outputId": "ae72b4d5-1d94-423a-e3c8-f23c7a1aa24a"
      },
      "execution_count": 53,
      "outputs": [
        {
          "output_type": "execute_result",
          "data": {
            "text/plain": [
              "908"
            ]
          },
          "metadata": {},
          "execution_count": 53
        }
      ]
    }
  ]
}